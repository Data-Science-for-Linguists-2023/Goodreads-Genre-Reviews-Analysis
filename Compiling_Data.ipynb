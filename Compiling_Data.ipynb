{
 "cells": [
  {
   "cell_type": "markdown",
   "id": "7f13db33",
   "metadata": {},
   "source": [
    "# Data Analysis\n",
    "Ashley Feiler, aef56@pitt.edu"
   ]
  },
  {
   "cell_type": "markdown",
   "id": "7257ce72",
   "metadata": {},
   "source": [
    "## Imports "
   ]
  },
  {
   "cell_type": "code",
   "execution_count": 1,
   "id": "a291f254",
   "metadata": {},
   "outputs": [],
   "source": [
    "import pickle\n",
    "import glob\n",
    "import nltk\n",
    "import numpy as np\n",
    "import pandas as pd\n",
    "import matplotlib.pyplot as plt\n",
    "import seaborn as sns      "
   ]
  },
  {
   "cell_type": "markdown",
   "id": "7853563f",
   "metadata": {},
   "source": [
    "## Sharable Data Samples"
   ]
  },
  {
   "cell_type": "markdown",
   "id": "f4288a9b",
   "metadata": {},
   "source": [
    "### Original Data"
   ]
  },
  {
   "cell_type": "code",
   "execution_count": 3,
   "id": "77832869",
   "metadata": {},
   "outputs": [
    {
     "data": {
      "text/plain": [
       "8"
      ]
     },
     "execution_count": 3,
     "metadata": {},
     "output_type": "execute_result"
    }
   ],
   "source": [
    "directory = '/Users/ashleyfeiler/Documents/data_science/Goodreads-Genre-Reviews-Analysis/data/'\n",
    "\n",
    "share_files = glob.glob(directory + 'genre_share/*.pkl')\n",
    "print(len(share_files))\n",
    "share_files"
   ]
  },
  {
   "cell_type": "code",
   "execution_count": 12,
   "id": "db42eecd",
   "metadata": {},
   "outputs": [],
   "source": [
    "share_df = pd.DataFrame()\n",
    "\n",
    "for pkl in share_files:\n",
    "    f = open(pkl, 'rb')  \n",
    "    df = pickle.load(f)     \n",
    "    f.close()  \n",
    "    share_df = pd.concat([share_df, df])\n",
    "    \n",
    "share_df.info()"
   ]
  },
  {
   "cell_type": "code",
   "execution_count": 24,
   "id": "a6bae7b1",
   "metadata": {},
   "outputs": [
    {
     "data": {
      "text/html": [
       "<div>\n",
       "<style scoped>\n",
       "    .dataframe tbody tr th:only-of-type {\n",
       "        vertical-align: middle;\n",
       "    }\n",
       "\n",
       "    .dataframe tbody tr th {\n",
       "        vertical-align: top;\n",
       "    }\n",
       "\n",
       "    .dataframe thead th {\n",
       "        text-align: right;\n",
       "    }\n",
       "</style>\n",
       "<table border=\"1\" class=\"dataframe\">\n",
       "  <thead>\n",
       "    <tr style=\"text-align: right;\">\n",
       "      <th></th>\n",
       "      <th>user_id</th>\n",
       "      <th>book_id</th>\n",
       "      <th>review_id</th>\n",
       "      <th>rating</th>\n",
       "      <th>review_text</th>\n",
       "      <th>date_added</th>\n",
       "      <th>date_updated</th>\n",
       "      <th>read_at</th>\n",
       "      <th>started_at</th>\n",
       "      <th>n_votes</th>\n",
       "      <th>n_comments</th>\n",
       "    </tr>\n",
       "  </thead>\n",
       "  <tbody>\n",
       "    <tr>\n",
       "      <th>3</th>\n",
       "      <td>254f6270f43e504826a2cbac6ea93791</td>\n",
       "      <td>17835181</td>\n",
       "      <td>0dfb68d65a67d55e3377641d6cdc1027</td>\n",
       "      <td>3</td>\n",
       "      <td>3.5 stars \\n I enjoyed this book.. Fun read.</td>\n",
       "      <td>Thu Dec 26 15:05:48 -0800 2013</td>\n",
       "      <td>Tue Jan 14 16:01:05 -0800 2014</td>\n",
       "      <td>Sat Dec 28 00:00:00 -0800 2013</td>\n",
       "      <td>Fri Dec 27 00:00:00 -0800 2013</td>\n",
       "      <td>0</td>\n",
       "      <td>0</td>\n",
       "    </tr>\n",
       "    <tr>\n",
       "      <th>4</th>\n",
       "      <td>dd9785b14664103617304996541ed77a</td>\n",
       "      <td>30174220</td>\n",
       "      <td>e6b777d2c3e4d9422d47e62c6cd4d0b4</td>\n",
       "      <td>4</td>\n",
       "      <td>The White Rose (The Chronicle of the Black Com...</td>\n",
       "      <td>Thu May 12 01:12:58 -0700 2016</td>\n",
       "      <td>Thu May 12 02:17:26 -0700 2016</td>\n",
       "      <td>Thu May 12 07:03:52 -0700 2016</td>\n",
       "      <td></td>\n",
       "      <td>8</td>\n",
       "      <td>0</td>\n",
       "    </tr>\n",
       "    <tr>\n",
       "      <th>4</th>\n",
       "      <td>aa4f9e89eb620f856ad3b5e7460f2513</td>\n",
       "      <td>22489107</td>\n",
       "      <td>43cbf07734b4452555012d4b63ccaeaf</td>\n",
       "      <td>4</td>\n",
       "      <td>Levana be cray! \\n 4 stars!</td>\n",
       "      <td>Sun Feb 01 11:51:30 -0800 2015</td>\n",
       "      <td>Tue Feb 10 22:05:13 -0800 2015</td>\n",
       "      <td>Sun Feb 01 00:00:00 -0800 2015</td>\n",
       "      <td>Sun Feb 01 00:00:00 -0800 2015</td>\n",
       "      <td>1</td>\n",
       "      <td>0</td>\n",
       "    </tr>\n",
       "    <tr>\n",
       "      <th>3</th>\n",
       "      <td>4ea9e5a75b08baca598243e151044a9b</td>\n",
       "      <td>26194630</td>\n",
       "      <td>7030014a96828e095eb7a34fb583067b</td>\n",
       "      <td>5</td>\n",
       "      <td>4.5 stars!</td>\n",
       "      <td>Tue Oct 27 11:46:15 -0700 2015</td>\n",
       "      <td>Sat Oct 31 22:42:23 -0700 2015</td>\n",
       "      <td>Sun Nov 01 06:08:01 -0800 2015</td>\n",
       "      <td>Tue Oct 27 00:00:00 -0700 2015</td>\n",
       "      <td>2</td>\n",
       "      <td>0</td>\n",
       "    </tr>\n",
       "    <tr>\n",
       "      <th>1</th>\n",
       "      <td>b9106e7a3b27ede55ea0fec6c9fab739</td>\n",
       "      <td>10836585</td>\n",
       "      <td>005ebd3d0e38d3ceb5acd96b8ad94258</td>\n",
       "      <td>4</td>\n",
       "      <td>I wanted to give this book 5 stars before I ev...</td>\n",
       "      <td>Tue Nov 22 11:16:11 -0800 2011</td>\n",
       "      <td>Tue Nov 22 11:41:27 -0800 2011</td>\n",
       "      <td>Tue Nov 22 00:00:00 -0800 2011</td>\n",
       "      <td></td>\n",
       "      <td>2</td>\n",
       "      <td>1</td>\n",
       "    </tr>\n",
       "  </tbody>\n",
       "</table>\n",
       "</div>"
      ],
      "text/plain": [
       "                            user_id   book_id  \\\n",
       "3  254f6270f43e504826a2cbac6ea93791  17835181   \n",
       "4  dd9785b14664103617304996541ed77a  30174220   \n",
       "4  aa4f9e89eb620f856ad3b5e7460f2513  22489107   \n",
       "3  4ea9e5a75b08baca598243e151044a9b  26194630   \n",
       "1  b9106e7a3b27ede55ea0fec6c9fab739  10836585   \n",
       "\n",
       "                          review_id  rating  \\\n",
       "3  0dfb68d65a67d55e3377641d6cdc1027       3   \n",
       "4  e6b777d2c3e4d9422d47e62c6cd4d0b4       4   \n",
       "4  43cbf07734b4452555012d4b63ccaeaf       4   \n",
       "3  7030014a96828e095eb7a34fb583067b       5   \n",
       "1  005ebd3d0e38d3ceb5acd96b8ad94258       4   \n",
       "\n",
       "                                         review_text  \\\n",
       "3       3.5 stars \\n I enjoyed this book.. Fun read.   \n",
       "4  The White Rose (The Chronicle of the Black Com...   \n",
       "4                        Levana be cray! \\n 4 stars!   \n",
       "3                                         4.5 stars!   \n",
       "1  I wanted to give this book 5 stars before I ev...   \n",
       "\n",
       "                       date_added                    date_updated  \\\n",
       "3  Thu Dec 26 15:05:48 -0800 2013  Tue Jan 14 16:01:05 -0800 2014   \n",
       "4  Thu May 12 01:12:58 -0700 2016  Thu May 12 02:17:26 -0700 2016   \n",
       "4  Sun Feb 01 11:51:30 -0800 2015  Tue Feb 10 22:05:13 -0800 2015   \n",
       "3  Tue Oct 27 11:46:15 -0700 2015  Sat Oct 31 22:42:23 -0700 2015   \n",
       "1  Tue Nov 22 11:16:11 -0800 2011  Tue Nov 22 11:41:27 -0800 2011   \n",
       "\n",
       "                          read_at                      started_at  n_votes  \\\n",
       "3  Sat Dec 28 00:00:00 -0800 2013  Fri Dec 27 00:00:00 -0800 2013        0   \n",
       "4  Thu May 12 07:03:52 -0700 2016                                        8   \n",
       "4  Sun Feb 01 00:00:00 -0800 2015  Sun Feb 01 00:00:00 -0800 2015        1   \n",
       "3  Sun Nov 01 06:08:01 -0800 2015  Tue Oct 27 00:00:00 -0700 2015        2   \n",
       "1  Tue Nov 22 00:00:00 -0800 2011                                        2   \n",
       "\n",
       "   n_comments  \n",
       "3           0  \n",
       "4           0  \n",
       "4           0  \n",
       "3           0  \n",
       "1           1  "
      ]
     },
     "execution_count": 24,
     "metadata": {},
     "output_type": "execute_result"
    }
   ],
   "source": [
    "genre_samples = share_df.sample(5)\n",
    "genre_samples"
   ]
  },
  {
   "cell_type": "markdown",
   "id": "4253e2aa",
   "metadata": {},
   "source": [
    "Save as CSV to data_samples folder"
   ]
  },
  {
   "cell_type": "code",
   "execution_count": null,
   "id": "c5f539c8",
   "metadata": {},
   "outputs": [],
   "source": [
    "genre_samples.to_csv('data_samples/Genre_Samples.csv')\n",
    "#Overwriting old CSV file by using same name"
   ]
  },
  {
   "cell_type": "markdown",
   "id": "a607d3a0",
   "metadata": {},
   "source": [
    "### Condensed Data"
   ]
  },
  {
   "cell_type": "code",
   "execution_count": 26,
   "id": "01acbbf0",
   "metadata": {},
   "outputs": [
    {
     "name": "stdout",
     "output_type": "stream",
     "text": [
      "8\n"
     ]
    },
    {
     "data": {
      "text/plain": [
       "['/Users/ashleyfeiler/Documents/data_science/Goodreads-Genre-Reviews-Analysis/data/genre_pkls/children_short.pkl',\n",
       " '/Users/ashleyfeiler/Documents/data_science/Goodreads-Genre-Reviews-Analysis/data/genre_pkls/history_short.pkl',\n",
       " '/Users/ashleyfeiler/Documents/data_science/Goodreads-Genre-Reviews-Analysis/data/genre_pkls/comics_short.pkl',\n",
       " '/Users/ashleyfeiler/Documents/data_science/Goodreads-Genre-Reviews-Analysis/data/genre_pkls/mystery_short.pkl',\n",
       " '/Users/ashleyfeiler/Documents/data_science/Goodreads-Genre-Reviews-Analysis/data/genre_pkls/fantasy_short.pkl',\n",
       " '/Users/ashleyfeiler/Documents/data_science/Goodreads-Genre-Reviews-Analysis/data/genre_pkls/romance_short.pkl',\n",
       " '/Users/ashleyfeiler/Documents/data_science/Goodreads-Genre-Reviews-Analysis/data/genre_pkls/ya_short.pkl',\n",
       " '/Users/ashleyfeiler/Documents/data_science/Goodreads-Genre-Reviews-Analysis/data/genre_pkls/poetry_short.pkl']"
      ]
     },
     "execution_count": 26,
     "metadata": {},
     "output_type": "execute_result"
    }
   ],
   "source": [
    "genre_files = glob.glob(directory + 'genre_pkls/*.pkl')\n",
    "print(len(genre_files))\n",
    "genre_files"
   ]
  },
  {
   "cell_type": "code",
   "execution_count": 27,
   "id": "06c0397f",
   "metadata": {},
   "outputs": [],
   "source": [
    "total_df = pd.DataFrame()\n",
    "\n",
    "for pkl in genre_files:\n",
    "    f = open(pkl, 'rb')  \n",
    "    df = pickle.load(f)     \n",
    "    f.close()  \n",
    "    total_df = pd.concat([total_df, df])\n",
    "    \n",
    "total_df.info()"
   ]
  },
  {
   "cell_type": "code",
   "execution_count": 32,
   "id": "1471d1c0",
   "metadata": {},
   "outputs": [
    {
     "data": {
      "text/html": [
       "<div>\n",
       "<style scoped>\n",
       "    .dataframe tbody tr th:only-of-type {\n",
       "        vertical-align: middle;\n",
       "    }\n",
       "\n",
       "    .dataframe tbody tr th {\n",
       "        vertical-align: top;\n",
       "    }\n",
       "\n",
       "    .dataframe thead th {\n",
       "        text-align: right;\n",
       "    }\n",
       "</style>\n",
       "<table border=\"1\" class=\"dataframe\">\n",
       "  <thead>\n",
       "    <tr style=\"text-align: right;\">\n",
       "      <th></th>\n",
       "      <th>Text</th>\n",
       "      <th>Rating</th>\n",
       "      <th>Title</th>\n",
       "      <th>Author</th>\n",
       "      <th>Category</th>\n",
       "      <th>Genres</th>\n",
       "      <th>Language</th>\n",
       "      <th>Pages</th>\n",
       "      <th>Pub_Year</th>\n",
       "      <th>Avg_Rating</th>\n",
       "      <th>Ratings_Count</th>\n",
       "      <th>User_ID</th>\n",
       "    </tr>\n",
       "  </thead>\n",
       "  <tbody>\n",
       "    <tr>\n",
       "      <th>14</th>\n",
       "      <td>This is an expertly written account of Alison ...</td>\n",
       "      <td>4</td>\n",
       "      <td>Fun Home: A Family Tragicomic</td>\n",
       "      <td>Alison Bechdel</td>\n",
       "      <td>comics_graphic</td>\n",
       "      <td>{'comics, graphic': 9610, 'non-fiction': 2185,...</td>\n",
       "      <td>en-US</td>\n",
       "      <td>232</td>\n",
       "      <td>2007</td>\n",
       "      <td>4.11</td>\n",
       "      <td>31965</td>\n",
       "      <td>13f4923fe7bd4101afd0560afe08ef85</td>\n",
       "    </tr>\n",
       "    <tr>\n",
       "      <th>2821</th>\n",
       "      <td>Absolute stinker. \\n Page 38 of Kindle, first ...</td>\n",
       "      <td>1</td>\n",
       "      <td>Conspiracy (Ptorix Empire, #1; The Iron Admira...</td>\n",
       "      <td>Greta van der Rol</td>\n",
       "      <td>romance</td>\n",
       "      <td>{'romance': 31, 'fiction': 18, 'fantasy, paran...</td>\n",
       "      <td>eng</td>\n",
       "      <td></td>\n",
       "      <td>2011</td>\n",
       "      <td>3.64</td>\n",
       "      <td>109</td>\n",
       "      <td>c3ebe8271c11f3c5445775514471cb00</td>\n",
       "    </tr>\n",
       "    <tr>\n",
       "      <th>3983</th>\n",
       "      <td>4 stars for Talking to the Moon by Jeannine Co...</td>\n",
       "      <td>4</td>\n",
       "      <td>Because Beards</td>\n",
       "      <td>Alexis Alvarez</td>\n",
       "      <td>romance</td>\n",
       "      <td>{'romance': 14, 'mystery, thriller, crime': 1}</td>\n",
       "      <td>eng</td>\n",
       "      <td>401</td>\n",
       "      <td>2016</td>\n",
       "      <td>4.55</td>\n",
       "      <td>290</td>\n",
       "      <td>957f3016315509075b8fff7dd7e3602f</td>\n",
       "    </tr>\n",
       "    <tr>\n",
       "      <th>1650</th>\n",
       "      <td>Is there anyone who doesn't love all things Wi...</td>\n",
       "      <td>5</td>\n",
       "      <td>Winnie: The True Story of the Bear Who Inspire...</td>\n",
       "      <td>Sally M. Walker</td>\n",
       "      <td>children</td>\n",
       "      <td>{'non-fiction': 348, 'history, historical fict...</td>\n",
       "      <td>eng</td>\n",
       "      <td>40</td>\n",
       "      <td>2015</td>\n",
       "      <td>4.30</td>\n",
       "      <td>1991</td>\n",
       "      <td>28c69b71bb90938d34f068af74250882</td>\n",
       "    </tr>\n",
       "    <tr>\n",
       "      <th>3499</th>\n",
       "      <td>Jack and Lucy... such a pair. The pair are fro...</td>\n",
       "      <td>4</td>\n",
       "      <td>The White Fox (The Seven Stars, #1)</td>\n",
       "      <td>James Bartholomeusz</td>\n",
       "      <td>ya</td>\n",
       "      <td>{'fantasy, paranormal': 15, 'young-adult': 10,...</td>\n",
       "      <td>en-GB</td>\n",
       "      <td>472</td>\n",
       "      <td>2011</td>\n",
       "      <td>3.12</td>\n",
       "      <td>80</td>\n",
       "      <td>1d0f921d2883ac8390e279b64576542c</td>\n",
       "    </tr>\n",
       "  </tbody>\n",
       "</table>\n",
       "</div>"
      ],
      "text/plain": [
       "                                                   Text  Rating  \\\n",
       "14    This is an expertly written account of Alison ...       4   \n",
       "2821  Absolute stinker. \\n Page 38 of Kindle, first ...       1   \n",
       "3983  4 stars for Talking to the Moon by Jeannine Co...       4   \n",
       "1650  Is there anyone who doesn't love all things Wi...       5   \n",
       "3499  Jack and Lucy... such a pair. The pair are fro...       4   \n",
       "\n",
       "                                                  Title               Author  \\\n",
       "14                        Fun Home: A Family Tragicomic       Alison Bechdel   \n",
       "2821  Conspiracy (Ptorix Empire, #1; The Iron Admira...    Greta van der Rol   \n",
       "3983                                     Because Beards       Alexis Alvarez   \n",
       "1650  Winnie: The True Story of the Bear Who Inspire...      Sally M. Walker   \n",
       "3499                The White Fox (The Seven Stars, #1)  James Bartholomeusz   \n",
       "\n",
       "            Category                                             Genres  \\\n",
       "14    comics_graphic  {'comics, graphic': 9610, 'non-fiction': 2185,...   \n",
       "2821         romance  {'romance': 31, 'fiction': 18, 'fantasy, paran...   \n",
       "3983         romance     {'romance': 14, 'mystery, thriller, crime': 1}   \n",
       "1650        children  {'non-fiction': 348, 'history, historical fict...   \n",
       "3499              ya  {'fantasy, paranormal': 15, 'young-adult': 10,...   \n",
       "\n",
       "     Language Pages Pub_Year  Avg_Rating  Ratings_Count  \\\n",
       "14      en-US   232     2007        4.11          31965   \n",
       "2821      eng           2011        3.64            109   \n",
       "3983      eng   401     2016        4.55            290   \n",
       "1650      eng    40     2015        4.30           1991   \n",
       "3499    en-GB   472     2011        3.12             80   \n",
       "\n",
       "                               User_ID  \n",
       "14    13f4923fe7bd4101afd0560afe08ef85  \n",
       "2821  c3ebe8271c11f3c5445775514471cb00  \n",
       "3983  957f3016315509075b8fff7dd7e3602f  \n",
       "1650  28c69b71bb90938d34f068af74250882  \n",
       "3499  1d0f921d2883ac8390e279b64576542c  "
      ]
     },
     "execution_count": 32,
     "metadata": {},
     "output_type": "execute_result"
    }
   ],
   "source": [
    "total_sample = total_df.sample(5)\n",
    "total_sample"
   ]
  },
  {
   "cell_type": "markdown",
   "id": "83a01fc3",
   "metadata": {},
   "source": [
    "Save as CSV to data_samples folder"
   ]
  },
  {
   "cell_type": "code",
   "execution_count": null,
   "id": "5a6fbc32",
   "metadata": {},
   "outputs": [],
   "source": [
    "total_sample.to_csv('data_samples/FinalDF_Sample.csv')"
   ]
  },
  {
   "cell_type": "markdown",
   "id": "b9d72b7d",
   "metadata": {},
   "source": [
    "## Final Data Exploration"
   ]
  },
  {
   "cell_type": "code",
   "execution_count": 67,
   "id": "53bf46c8",
   "metadata": {},
   "outputs": [],
   "source": [
    "total_df = total_df[['Text', 'Rating', 'Title', 'Author', 'Category', 'Genres', 'Language', 'Pages', 'Pub_Year', 'Avg_Rating', 'Ratings_Count']]"
   ]
  },
  {
   "cell_type": "code",
   "execution_count": 68,
   "id": "d5fb362c",
   "metadata": {},
   "outputs": [
    {
     "data": {
      "text/html": [
       "<div>\n",
       "<style scoped>\n",
       "    .dataframe tbody tr th:only-of-type {\n",
       "        vertical-align: middle;\n",
       "    }\n",
       "\n",
       "    .dataframe tbody tr th {\n",
       "        vertical-align: top;\n",
       "    }\n",
       "\n",
       "    .dataframe thead th {\n",
       "        text-align: right;\n",
       "    }\n",
       "</style>\n",
       "<table border=\"1\" class=\"dataframe\">\n",
       "  <thead>\n",
       "    <tr style=\"text-align: right;\">\n",
       "      <th></th>\n",
       "      <th>Text</th>\n",
       "      <th>Rating</th>\n",
       "      <th>Title</th>\n",
       "      <th>Author</th>\n",
       "      <th>Category</th>\n",
       "      <th>Genres</th>\n",
       "      <th>Language</th>\n",
       "      <th>Pages</th>\n",
       "      <th>Pub_Year</th>\n",
       "      <th>Avg_Rating</th>\n",
       "      <th>Ratings_Count</th>\n",
       "    </tr>\n",
       "  </thead>\n",
       "  <tbody>\n",
       "    <tr>\n",
       "      <th>0</th>\n",
       "      <td>O</td>\n",
       "      <td>0</td>\n",
       "      <td>Xander's Panda Party</td>\n",
       "      <td>Linda Sue Park</td>\n",
       "      <td>children</td>\n",
       "      <td>{'children': 143, 'fiction': 15, 'poetry': 9, ...</td>\n",
       "      <td>eng</td>\n",
       "      <td>40</td>\n",
       "      <td>2013</td>\n",
       "      <td>4.05</td>\n",
       "      <td>1163</td>\n",
       "    </tr>\n",
       "    <tr>\n",
       "      <th>1</th>\n",
       "      <td>my pick for the caldecott so far...</td>\n",
       "      <td>5</td>\n",
       "      <td>Xander's Panda Party</td>\n",
       "      <td>Linda Sue Park</td>\n",
       "      <td>children</td>\n",
       "      <td>{'children': 143, 'fiction': 15, 'poetry': 9, ...</td>\n",
       "      <td>eng</td>\n",
       "      <td>40</td>\n",
       "      <td>2013</td>\n",
       "      <td>4.05</td>\n",
       "      <td>1163</td>\n",
       "    </tr>\n",
       "    <tr>\n",
       "      <th>3</th>\n",
       "      <td>This time Dan and Amy go to the Bahamas and Ja...</td>\n",
       "      <td>4</td>\n",
       "      <td>Storm Warning (The 39 Clues, #9)</td>\n",
       "      <td>Linda Sue Park</td>\n",
       "      <td>children</td>\n",
       "      <td>{'mystery, thriller, crime': 188, 'young-adult...</td>\n",
       "      <td>eng</td>\n",
       "      <td>190</td>\n",
       "      <td>2010</td>\n",
       "      <td>3.98</td>\n",
       "      <td>39904</td>\n",
       "    </tr>\n",
       "    <tr>\n",
       "      <th>4</th>\n",
       "      <td>Loved the excerpts where Julia, the main chara...</td>\n",
       "      <td>5</td>\n",
       "      <td>Project Mulberry</td>\n",
       "      <td>Linda Sue Park</td>\n",
       "      <td>children</td>\n",
       "      <td>{'fiction': 122, 'children': 111, 'young-adult...</td>\n",
       "      <td>eng</td>\n",
       "      <td>240</td>\n",
       "      <td>2007</td>\n",
       "      <td>3.67</td>\n",
       "      <td>2929</td>\n",
       "    </tr>\n",
       "    <tr>\n",
       "      <th>5</th>\n",
       "      <td>I liked the illustrations, which are are - wel...</td>\n",
       "      <td>4</td>\n",
       "      <td>A Moon of My Own</td>\n",
       "      <td>Jennifer Rustgi</td>\n",
       "      <td>children</td>\n",
       "      <td>{'children': 13, 'young-adult': 2, 'non-fictio...</td>\n",
       "      <td>eng</td>\n",
       "      <td>32</td>\n",
       "      <td>2016</td>\n",
       "      <td>3.78</td>\n",
       "      <td>84</td>\n",
       "    </tr>\n",
       "    <tr>\n",
       "      <th>...</th>\n",
       "      <td>...</td>\n",
       "      <td>...</td>\n",
       "      <td>...</td>\n",
       "      <td>...</td>\n",
       "      <td>...</td>\n",
       "      <td>...</td>\n",
       "      <td>...</td>\n",
       "      <td>...</td>\n",
       "      <td>...</td>\n",
       "      <td>...</td>\n",
       "      <td>...</td>\n",
       "    </tr>\n",
       "    <tr>\n",
       "      <th>4984</th>\n",
       "      <td>i'm a bit overwhelmed because did i write thes...</td>\n",
       "      <td>4</td>\n",
       "      <td>;</td>\n",
       "      <td>x q</td>\n",
       "      <td>poetry</td>\n",
       "      <td>{'poetry': 174, 'fiction': 3, 'young-adult': 1...</td>\n",
       "      <td>eng</td>\n",
       "      <td>133</td>\n",
       "      <td>2013</td>\n",
       "      <td>3.89</td>\n",
       "      <td>460</td>\n",
       "    </tr>\n",
       "    <tr>\n",
       "      <th>4987</th>\n",
       "      <td>Terry's cycle of poems about childhood memorie...</td>\n",
       "      <td>4</td>\n",
       "      <td>Waxwings</td>\n",
       "      <td>Daniel Nathan Terry</td>\n",
       "      <td>poetry</td>\n",
       "      <td>{'poetry': 5}</td>\n",
       "      <td>en-US</td>\n",
       "      <td>68</td>\n",
       "      <td>2012</td>\n",
       "      <td>4.61</td>\n",
       "      <td>15</td>\n",
       "    </tr>\n",
       "    <tr>\n",
       "      <th>4989</th>\n",
       "      <td>Moving and rich. Contains none of the stodgy, ...</td>\n",
       "      <td>4</td>\n",
       "      <td>Horses Where the Answers Should Have Been: New...</td>\n",
       "      <td>Chase Twichell</td>\n",
       "      <td>poetry</td>\n",
       "      <td>{'poetry': 21}</td>\n",
       "      <td>eng</td>\n",
       "      <td>200</td>\n",
       "      <td>2010</td>\n",
       "      <td>4.09</td>\n",
       "      <td>56</td>\n",
       "    </tr>\n",
       "    <tr>\n",
       "      <th>4994</th>\n",
       "      <td>Loved it! THe man Mandela is so inspiring. I w...</td>\n",
       "      <td>5</td>\n",
       "      <td>Invictus</td>\n",
       "      <td>William Ernest Henley</td>\n",
       "      <td>poetry</td>\n",
       "      <td>{'poetry': 59, 'history, historical fiction, b...</td>\n",
       "      <td>eng</td>\n",
       "      <td>199</td>\n",
       "      <td>2010</td>\n",
       "      <td>4.57</td>\n",
       "      <td>416</td>\n",
       "    </tr>\n",
       "    <tr>\n",
       "      <th>4998</th>\n",
       "      <td>I have reviewed this book for Rain Taxi and wi...</td>\n",
       "      <td>4</td>\n",
       "      <td>Odd Beauty, Strange Fruit: Poems</td>\n",
       "      <td>Susan Swartwout</td>\n",
       "      <td>poetry</td>\n",
       "      <td>{'poetry': 6}</td>\n",
       "      <td>eng</td>\n",
       "      <td>95</td>\n",
       "      <td>2015</td>\n",
       "      <td>4.22</td>\n",
       "      <td>5</td>\n",
       "    </tr>\n",
       "  </tbody>\n",
       "</table>\n",
       "<p>28274 rows × 11 columns</p>\n",
       "</div>"
      ],
      "text/plain": [
       "                                                   Text  Rating  \\\n",
       "0                                                     O       0   \n",
       "1                   my pick for the caldecott so far...       5   \n",
       "3     This time Dan and Amy go to the Bahamas and Ja...       4   \n",
       "4     Loved the excerpts where Julia, the main chara...       5   \n",
       "5     I liked the illustrations, which are are - wel...       4   \n",
       "...                                                 ...     ...   \n",
       "4984  i'm a bit overwhelmed because did i write thes...       4   \n",
       "4987  Terry's cycle of poems about childhood memorie...       4   \n",
       "4989  Moving and rich. Contains none of the stodgy, ...       4   \n",
       "4994  Loved it! THe man Mandela is so inspiring. I w...       5   \n",
       "4998  I have reviewed this book for Rain Taxi and wi...       4   \n",
       "\n",
       "                                                  Title  \\\n",
       "0                                  Xander's Panda Party   \n",
       "1                                  Xander's Panda Party   \n",
       "3                      Storm Warning (The 39 Clues, #9)   \n",
       "4                                      Project Mulberry   \n",
       "5                                      A Moon of My Own   \n",
       "...                                                 ...   \n",
       "4984                                                  ;   \n",
       "4987                                           Waxwings   \n",
       "4989  Horses Where the Answers Should Have Been: New...   \n",
       "4994                                           Invictus   \n",
       "4998                   Odd Beauty, Strange Fruit: Poems   \n",
       "\n",
       "                     Author  Category  \\\n",
       "0            Linda Sue Park  children   \n",
       "1            Linda Sue Park  children   \n",
       "3            Linda Sue Park  children   \n",
       "4            Linda Sue Park  children   \n",
       "5           Jennifer Rustgi  children   \n",
       "...                     ...       ...   \n",
       "4984                    x q    poetry   \n",
       "4987    Daniel Nathan Terry    poetry   \n",
       "4989         Chase Twichell    poetry   \n",
       "4994  William Ernest Henley    poetry   \n",
       "4998        Susan Swartwout    poetry   \n",
       "\n",
       "                                                 Genres Language Pages  \\\n",
       "0     {'children': 143, 'fiction': 15, 'poetry': 9, ...      eng    40   \n",
       "1     {'children': 143, 'fiction': 15, 'poetry': 9, ...      eng    40   \n",
       "3     {'mystery, thriller, crime': 188, 'young-adult...      eng   190   \n",
       "4     {'fiction': 122, 'children': 111, 'young-adult...      eng   240   \n",
       "5     {'children': 13, 'young-adult': 2, 'non-fictio...      eng    32   \n",
       "...                                                 ...      ...   ...   \n",
       "4984  {'poetry': 174, 'fiction': 3, 'young-adult': 1...      eng   133   \n",
       "4987                                      {'poetry': 5}    en-US    68   \n",
       "4989                                     {'poetry': 21}      eng   200   \n",
       "4994  {'poetry': 59, 'history, historical fiction, b...      eng   199   \n",
       "4998                                      {'poetry': 6}      eng    95   \n",
       "\n",
       "     Pub_Year  Avg_Rating  Ratings_Count  \n",
       "0        2013        4.05           1163  \n",
       "1        2013        4.05           1163  \n",
       "3        2010        3.98          39904  \n",
       "4        2007        3.67           2929  \n",
       "5        2016        3.78             84  \n",
       "...       ...         ...            ...  \n",
       "4984     2013        3.89            460  \n",
       "4987     2012        4.61             15  \n",
       "4989     2010        4.09             56  \n",
       "4994     2010        4.57            416  \n",
       "4998     2015        4.22              5  \n",
       "\n",
       "[28274 rows x 11 columns]"
      ]
     },
     "execution_count": 68,
     "metadata": {},
     "output_type": "execute_result"
    }
   ],
   "source": [
    "total_df"
   ]
  },
  {
   "cell_type": "code",
   "execution_count": 69,
   "id": "fd44e76c",
   "metadata": {
    "scrolled": false
   },
   "outputs": [
    {
     "data": {
      "text/plain": [
       "ya                        4334\n",
       "fantasy_paranormal        4323\n",
       "romance                   3918\n",
       "mystery_thriller_crime    3789\n",
       "comics_graphic            3505\n",
       "history_bio               3362\n",
       "children                  2858\n",
       "poetry                    2185\n",
       "Name: Category, dtype: int64"
      ]
     },
     "execution_count": 69,
     "metadata": {},
     "output_type": "execute_result"
    }
   ],
   "source": [
    "total_df.Category.value_counts()"
   ]
  },
  {
   "cell_type": "code",
   "execution_count": 70,
   "id": "5a0775a9",
   "metadata": {},
   "outputs": [
    {
     "data": {
      "text/plain": [
       "5    9941\n",
       "4    9593\n",
       "3    5356\n",
       "2    1807\n",
       "0     894\n",
       "1     683\n",
       "Name: Rating, dtype: int64"
      ]
     },
     "execution_count": 70,
     "metadata": {},
     "output_type": "execute_result"
    }
   ],
   "source": [
    "total_df.Rating.value_counts()"
   ]
  },
  {
   "cell_type": "code",
   "execution_count": 71,
   "id": "195a8e33",
   "metadata": {
    "scrolled": true
   },
   "outputs": [
    {
     "data": {
      "text/plain": [
       "17774"
      ]
     },
     "execution_count": 71,
     "metadata": {},
     "output_type": "execute_result"
    }
   ],
   "source": [
    "len(total_df.Title.unique())"
   ]
  },
  {
   "cell_type": "code",
   "execution_count": 72,
   "id": "4198b71c",
   "metadata": {},
   "outputs": [
    {
     "data": {
      "text/plain": [
       "Milk and Honey                                                                          113\n",
       "Hamlet                                                                                   50\n",
       "The Giver (The Giver, #1)                                                                50\n",
       "The Hunger Games (The Hunger Games, #1)                                                  49\n",
       "Cinder (The Lunar Chronicles, #1)                                                        49\n",
       "The Girl on the Train                                                                    47\n",
       "Brown Girl Dreaming                                                                      44\n",
       "Wonder (Wonder #1)                                                                       43\n",
       "Miss Peregrine’s Home for Peculiar Children (Miss Peregrine’s Peculiar Children, #1)     42\n",
       "Divergent (Divergent, #1)                                                                40\n",
       "Name: Title, dtype: int64"
      ]
     },
     "execution_count": 72,
     "metadata": {},
     "output_type": "execute_result"
    }
   ],
   "source": [
    "total_df.Title.value_counts()[:10]"
   ]
  },
  {
   "cell_type": "code",
   "execution_count": 73,
   "id": "078f8bf3",
   "metadata": {},
   "outputs": [
    {
     "data": {
      "text/plain": [
       "9688"
      ]
     },
     "execution_count": 73,
     "metadata": {},
     "output_type": "execute_result"
    }
   ],
   "source": [
    "len(total_df.Author.unique())"
   ]
  },
  {
   "cell_type": "code",
   "execution_count": 74,
   "id": "6c2d1852",
   "metadata": {},
   "outputs": [
    {
     "data": {
      "text/plain": [
       "Cassandra Clare     250\n",
       "Brian K. Vaughan    157\n",
       "Neil Gaiman         148\n",
       "Marissa Meyer       137\n",
       "Stephenie Meyer     130\n",
       "Rupi Kaur           127\n",
       "Sarah J. Maas       123\n",
       "Stephen King        123\n",
       "Rick Riordan        115\n",
       "Suzanne Collins     106\n",
       "Name: Author, dtype: int64"
      ]
     },
     "execution_count": 74,
     "metadata": {},
     "output_type": "execute_result"
    }
   ],
   "source": [
    "total_df.Author.value_counts()[:10]"
   ]
  },
  {
   "cell_type": "markdown",
   "id": "36ab2ccf",
   "metadata": {},
   "source": [
    "## Analysis\n",
    "Now that I've FINALLY got my final data set and a sense of its size and makeup, it's time to start analysis! Since I'm looking at overall linguistic differences between reviews for different genres, I want to include as many different linguistic features as I can think of. In this next secion, I will be adding those features as additional columns to the DataFrame so I can then analayze their differences between genre categories."
   ]
  },
  {
   "cell_type": "markdown",
   "id": "38bc14c3",
   "metadata": {},
   "source": [
    "### Tokens"
   ]
  },
  {
   "cell_type": "markdown",
   "id": "05764d35",
   "metadata": {},
   "source": [
    "### Token Count"
   ]
  },
  {
   "cell_type": "markdown",
   "id": "066d4f62",
   "metadata": {},
   "source": [
    "### Word Length"
   ]
  },
  {
   "cell_type": "markdown",
   "id": "2b49e2cd",
   "metadata": {},
   "source": [
    "### Sentence Count"
   ]
  },
  {
   "cell_type": "markdown",
   "id": "639d8a77",
   "metadata": {},
   "source": [
    "### Sentence Length"
   ]
  },
  {
   "cell_type": "markdown",
   "id": "99e68f75",
   "metadata": {},
   "source": [
    "### TTR (Modified)"
   ]
  },
  {
   "cell_type": "markdown",
   "id": "70bb4ebe",
   "metadata": {},
   "source": [
    "### K-Bands"
   ]
  },
  {
   "cell_type": "markdown",
   "id": "ea958f37",
   "metadata": {},
   "source": [
    "### Sentiment"
   ]
  },
  {
   "cell_type": "markdown",
   "id": "00dc00b0",
   "metadata": {},
   "source": [
    "### Punctuation"
   ]
  },
  {
   "cell_type": "markdown",
   "id": "51609d04",
   "metadata": {},
   "source": [
    "Question marks, exclamation points, commas, semicolons"
   ]
  },
  {
   "cell_type": "code",
   "execution_count": null,
   "id": "0be2faff",
   "metadata": {},
   "outputs": [],
   "source": []
  }
 ],
 "metadata": {
  "kernelspec": {
   "display_name": "Python 3 (ipykernel)",
   "language": "python",
   "name": "python3"
  },
  "language_info": {
   "codemirror_mode": {
    "name": "ipython",
    "version": 3
   },
   "file_extension": ".py",
   "mimetype": "text/x-python",
   "name": "python",
   "nbconvert_exporter": "python",
   "pygments_lexer": "ipython3",
   "version": "3.9.13"
  }
 },
 "nbformat": 4,
 "nbformat_minor": 5
}
