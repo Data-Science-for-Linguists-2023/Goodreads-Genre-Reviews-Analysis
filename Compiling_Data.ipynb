{
 "cells": [
  {
   "cell_type": "markdown",
   "id": "69233e18",
   "metadata": {},
   "source": [
    "# Data Analysis\n",
    "Ashley Feiler, aef56@pitt.edu"
   ]
  },
  {
   "cell_type": "markdown",
   "id": "cb5ee665",
   "metadata": {},
   "source": [
    "## Imports "
   ]
  },
  {
   "cell_type": "code",
   "execution_count": 1,
   "id": "a291f254",
   "metadata": {},
   "outputs": [],
   "source": [
    "import pickle\n",
    "import glob\n",
    "import nltk\n",
    "import numpy as np\n",
    "import pandas as pd\n",
    "import matplotlib.pyplot as plt\n",
    "import seaborn as sns      "
   ]
  },
  {
   "cell_type": "markdown",
   "id": "7853563f",
   "metadata": {},
   "source": [
    "## Sharable Data Samples"
   ]
  },
  {
   "cell_type": "markdown",
   "id": "f4288a9b",
   "metadata": {},
   "source": [
    "### Original Data"
   ]
  },
  {
   "cell_type": "code",
   "execution_count": 2,
   "id": "77832869",
   "metadata": {},
   "outputs": [
    {
     "name": "stdout",
     "output_type": "stream",
     "text": [
      "8\n"
     ]
    },
    {
     "data": {
      "text/plain": [
       "'/Users/ashleyfeiler/Documents/data_science/Goodreads-Genre-Reviews-Analysis/data/genre_share/fantasy_share.pkl'"
      ]
     },
     "execution_count": 2,
     "metadata": {},
     "output_type": "execute_result"
    }
   ],
   "source": [
    "directory = '/Users/ashleyfeiler/Documents/data_science/Goodreads-Genre-Reviews-Analysis/data/'\n",
    "\n",
    "share_files = glob.glob(directory + 'genre_share/*.pkl')\n",
    "print(len(share_files))\n",
    "share_files[0]"
   ]
  },
  {
   "cell_type": "code",
   "execution_count": 3,
   "id": "db42eecd",
   "metadata": {},
   "outputs": [
    {
     "name": "stdout",
     "output_type": "stream",
     "text": [
      "<class 'pandas.core.frame.DataFrame'>\n",
      "Int64Index: 40 entries, 0 to 4\n",
      "Data columns (total 11 columns):\n",
      " #   Column        Non-Null Count  Dtype \n",
      "---  ------        --------------  ----- \n",
      " 0   user_id       40 non-null     object\n",
      " 1   book_id       40 non-null     int64 \n",
      " 2   review_id     40 non-null     object\n",
      " 3   rating        40 non-null     int64 \n",
      " 4   review_text   40 non-null     object\n",
      " 5   date_added    40 non-null     object\n",
      " 6   date_updated  40 non-null     object\n",
      " 7   read_at       40 non-null     object\n",
      " 8   started_at    40 non-null     object\n",
      " 9   n_votes       40 non-null     int64 \n",
      " 10  n_comments    40 non-null     int64 \n",
      "dtypes: int64(4), object(7)\n",
      "memory usage: 3.8+ KB\n"
     ]
    }
   ],
   "source": [
    "share_df = pd.DataFrame()\n",
    "\n",
    "for pkl in share_files:\n",
    "    f = open(pkl, 'rb')  \n",
    "    df = pickle.load(f)     \n",
    "    f.close()  \n",
    "    share_df = pd.concat([share_df, df])\n",
    "    \n",
    "share_df.info()"
   ]
  },
  {
   "cell_type": "code",
   "execution_count": 4,
   "id": "a6bae7b1",
   "metadata": {},
   "outputs": [
    {
     "data": {
      "text/html": [
       "<div>\n",
       "<style scoped>\n",
       "    .dataframe tbody tr th:only-of-type {\n",
       "        vertical-align: middle;\n",
       "    }\n",
       "\n",
       "    .dataframe tbody tr th {\n",
       "        vertical-align: top;\n",
       "    }\n",
       "\n",
       "    .dataframe thead th {\n",
       "        text-align: right;\n",
       "    }\n",
       "</style>\n",
       "<table border=\"1\" class=\"dataframe\">\n",
       "  <thead>\n",
       "    <tr style=\"text-align: right;\">\n",
       "      <th></th>\n",
       "      <th>user_id</th>\n",
       "      <th>book_id</th>\n",
       "      <th>review_id</th>\n",
       "      <th>rating</th>\n",
       "      <th>review_text</th>\n",
       "      <th>date_added</th>\n",
       "      <th>date_updated</th>\n",
       "      <th>read_at</th>\n",
       "      <th>started_at</th>\n",
       "      <th>n_votes</th>\n",
       "      <th>n_comments</th>\n",
       "    </tr>\n",
       "  </thead>\n",
       "  <tbody>\n",
       "    <tr>\n",
       "      <th>4</th>\n",
       "      <td>e2cf04ac7b40875f48871ad97df16c30</td>\n",
       "      <td>18516208</td>\n",
       "      <td>92ebb47d21495aaf87153aa75f2f3666</td>\n",
       "      <td>5</td>\n",
       "      <td>Sidqan mn 'jml rwyt wSf lHb lflsTyny ldhy qr't ..</td>\n",
       "      <td>Sat Apr 19 14:57:09 -0700 2014</td>\n",
       "      <td>Tue Jun 17 09:27:01 -0700 2014</td>\n",
       "      <td>Tue Jun 17 09:27:01 -0700 2014</td>\n",
       "      <td></td>\n",
       "      <td>0</td>\n",
       "      <td>1</td>\n",
       "    </tr>\n",
       "    <tr>\n",
       "      <th>3</th>\n",
       "      <td>cec77035cef250b558adb6cc3a46c6e9</td>\n",
       "      <td>26031154</td>\n",
       "      <td>671e2f680a1fa778017e9b2783fa4a88</td>\n",
       "      <td>4</td>\n",
       "      <td>So delightful! I loved the incorporation of al...</td>\n",
       "      <td>Wed Sep 07 09:21:19 -0700 2016</td>\n",
       "      <td>Wed Sep 07 09:22:26 -0700 2016</td>\n",
       "      <td>Wed Sep 07 09:22:26 -0700 2016</td>\n",
       "      <td>Wed Sep 07 00:00:00 -0700 2016</td>\n",
       "      <td>2</td>\n",
       "      <td>0</td>\n",
       "    </tr>\n",
       "    <tr>\n",
       "      <th>3</th>\n",
       "      <td>7bb769950fc2439d1dfc383bc802d4d0</td>\n",
       "      <td>19394829</td>\n",
       "      <td>f2ff04f84434339284bf763a7f5d7b82</td>\n",
       "      <td>3</td>\n",
       "      <td>Fascinating story. An easy to follow account o...</td>\n",
       "      <td>Tue Aug 01 10:00:20 -0700 2017</td>\n",
       "      <td>Tue Aug 01 10:01:28 -0700 2017</td>\n",
       "      <td>Tue Aug 01 10:01:29 -0700 2017</td>\n",
       "      <td></td>\n",
       "      <td>0</td>\n",
       "      <td>0</td>\n",
       "    </tr>\n",
       "    <tr>\n",
       "      <th>0</th>\n",
       "      <td>b023db7e236ce7b1c72c9fa6a6a5f715</td>\n",
       "      <td>25434370</td>\n",
       "      <td>19a4d683e94c33eccf72dd4bd5d77edc</td>\n",
       "      <td>2</td>\n",
       "      <td>Surprisingly okay. Recipes look bomb and I got...</td>\n",
       "      <td>Tue Jul 25 21:30:36 -0700 2017</td>\n",
       "      <td>Tue Jul 25 21:33:02 -0700 2017</td>\n",
       "      <td>Tue Jul 25 00:00:00 -0700 2017</td>\n",
       "      <td>Tue Jul 25 00:00:00 -0700 2017</td>\n",
       "      <td>1</td>\n",
       "      <td>0</td>\n",
       "    </tr>\n",
       "    <tr>\n",
       "      <th>1</th>\n",
       "      <td>b9106e7a3b27ede55ea0fec6c9fab739</td>\n",
       "      <td>10836585</td>\n",
       "      <td>005ebd3d0e38d3ceb5acd96b8ad94258</td>\n",
       "      <td>4</td>\n",
       "      <td>I wanted to give this book 5 stars before I ev...</td>\n",
       "      <td>Tue Nov 22 11:16:11 -0800 2011</td>\n",
       "      <td>Tue Nov 22 11:41:27 -0800 2011</td>\n",
       "      <td>Tue Nov 22 00:00:00 -0800 2011</td>\n",
       "      <td></td>\n",
       "      <td>2</td>\n",
       "      <td>1</td>\n",
       "    </tr>\n",
       "  </tbody>\n",
       "</table>\n",
       "</div>"
      ],
      "text/plain": [
       "                            user_id   book_id  \\\n",
       "4  e2cf04ac7b40875f48871ad97df16c30  18516208   \n",
       "3  cec77035cef250b558adb6cc3a46c6e9  26031154   \n",
       "3  7bb769950fc2439d1dfc383bc802d4d0  19394829   \n",
       "0  b023db7e236ce7b1c72c9fa6a6a5f715  25434370   \n",
       "1  b9106e7a3b27ede55ea0fec6c9fab739  10836585   \n",
       "\n",
       "                          review_id  rating  \\\n",
       "4  92ebb47d21495aaf87153aa75f2f3666       5   \n",
       "3  671e2f680a1fa778017e9b2783fa4a88       4   \n",
       "3  f2ff04f84434339284bf763a7f5d7b82       3   \n",
       "0  19a4d683e94c33eccf72dd4bd5d77edc       2   \n",
       "1  005ebd3d0e38d3ceb5acd96b8ad94258       4   \n",
       "\n",
       "                                         review_text  \\\n",
       "4  Sidqan mn 'jml rwyt wSf lHb lflsTyny ldhy qr't ..   \n",
       "3  So delightful! I loved the incorporation of al...   \n",
       "3  Fascinating story. An easy to follow account o...   \n",
       "0  Surprisingly okay. Recipes look bomb and I got...   \n",
       "1  I wanted to give this book 5 stars before I ev...   \n",
       "\n",
       "                       date_added                    date_updated  \\\n",
       "4  Sat Apr 19 14:57:09 -0700 2014  Tue Jun 17 09:27:01 -0700 2014   \n",
       "3  Wed Sep 07 09:21:19 -0700 2016  Wed Sep 07 09:22:26 -0700 2016   \n",
       "3  Tue Aug 01 10:00:20 -0700 2017  Tue Aug 01 10:01:28 -0700 2017   \n",
       "0  Tue Jul 25 21:30:36 -0700 2017  Tue Jul 25 21:33:02 -0700 2017   \n",
       "1  Tue Nov 22 11:16:11 -0800 2011  Tue Nov 22 11:41:27 -0800 2011   \n",
       "\n",
       "                          read_at                      started_at  n_votes  \\\n",
       "4  Tue Jun 17 09:27:01 -0700 2014                                        0   \n",
       "3  Wed Sep 07 09:22:26 -0700 2016  Wed Sep 07 00:00:00 -0700 2016        2   \n",
       "3  Tue Aug 01 10:01:29 -0700 2017                                        0   \n",
       "0  Tue Jul 25 00:00:00 -0700 2017  Tue Jul 25 00:00:00 -0700 2017        1   \n",
       "1  Tue Nov 22 00:00:00 -0800 2011                                        2   \n",
       "\n",
       "   n_comments  \n",
       "4           1  \n",
       "3           0  \n",
       "3           0  \n",
       "0           0  \n",
       "1           1  "
      ]
     },
     "execution_count": 4,
     "metadata": {},
     "output_type": "execute_result"
    }
   ],
   "source": [
    "genre_samples = share_df.sample(5)\n",
    "genre_samples"
   ]
  },
  {
   "cell_type": "markdown",
   "id": "4253e2aa",
   "metadata": {},
   "source": [
    "Save as CSV to data_samples folder"
   ]
  },
  {
   "cell_type": "code",
   "execution_count": 5,
   "id": "c5f539c8",
   "metadata": {},
   "outputs": [],
   "source": [
    "#genre_samples.to_csv('data_samples/Genre_Samples.csv')\n",
    "#Overwriting old CSV file by using same name"
   ]
  },
  {
   "cell_type": "markdown",
   "id": "a607d3a0",
   "metadata": {},
   "source": [
    "### Condensed Data"
   ]
  },
  {
   "cell_type": "code",
   "execution_count": 6,
   "id": "01acbbf0",
   "metadata": {},
   "outputs": [
    {
     "name": "stdout",
     "output_type": "stream",
     "text": [
      "8\n"
     ]
    },
    {
     "data": {
      "text/plain": [
       "'/Users/ashleyfeiler/Documents/data_science/Goodreads-Genre-Reviews-Analysis/data/genre_pkls/children_short.pkl'"
      ]
     },
     "execution_count": 6,
     "metadata": {},
     "output_type": "execute_result"
    }
   ],
   "source": [
    "genre_files = glob.glob(directory + 'genre_pkls/*.pkl')\n",
    "print(len(genre_files))\n",
    "genre_files[0]"
   ]
  },
  {
   "cell_type": "code",
   "execution_count": 7,
   "id": "06c0397f",
   "metadata": {},
   "outputs": [
    {
     "name": "stdout",
     "output_type": "stream",
     "text": [
      "<class 'pandas.core.frame.DataFrame'>\n",
      "Int64Index: 28274 entries, 0 to 4998\n",
      "Data columns (total 12 columns):\n",
      " #   Column         Non-Null Count  Dtype  \n",
      "---  ------         --------------  -----  \n",
      " 0   Text           28274 non-null  object \n",
      " 1   Rating         28274 non-null  int64  \n",
      " 2   Title          28274 non-null  object \n",
      " 3   Author         28274 non-null  object \n",
      " 4   Category       28274 non-null  object \n",
      " 5   Genres         28274 non-null  object \n",
      " 6   Language       28274 non-null  object \n",
      " 7   Pages          28274 non-null  object \n",
      " 8   Pub_Year       28274 non-null  object \n",
      " 9   Avg_Rating     28274 non-null  float64\n",
      " 10  Ratings_Count  28274 non-null  int64  \n",
      " 11  User_ID        28274 non-null  object \n",
      "dtypes: float64(1), int64(2), object(9)\n",
      "memory usage: 2.8+ MB\n"
     ]
    }
   ],
   "source": [
    "total_df = pd.DataFrame()\n",
    "\n",
    "for pkl in genre_files:\n",
    "    f = open(pkl, 'rb')  \n",
    "    df = pickle.load(f)     \n",
    "    f.close()  \n",
    "    total_df = pd.concat([total_df, df])\n",
    "    \n",
    "total_df.info()"
   ]
  },
  {
   "cell_type": "code",
   "execution_count": 8,
   "id": "1471d1c0",
   "metadata": {},
   "outputs": [
    {
     "data": {
      "text/html": [
       "<div>\n",
       "<style scoped>\n",
       "    .dataframe tbody tr th:only-of-type {\n",
       "        vertical-align: middle;\n",
       "    }\n",
       "\n",
       "    .dataframe tbody tr th {\n",
       "        vertical-align: top;\n",
       "    }\n",
       "\n",
       "    .dataframe thead th {\n",
       "        text-align: right;\n",
       "    }\n",
       "</style>\n",
       "<table border=\"1\" class=\"dataframe\">\n",
       "  <thead>\n",
       "    <tr style=\"text-align: right;\">\n",
       "      <th></th>\n",
       "      <th>Text</th>\n",
       "      <th>Rating</th>\n",
       "      <th>Title</th>\n",
       "      <th>Author</th>\n",
       "      <th>Category</th>\n",
       "      <th>Genres</th>\n",
       "      <th>Language</th>\n",
       "      <th>Pages</th>\n",
       "      <th>Pub_Year</th>\n",
       "      <th>Avg_Rating</th>\n",
       "      <th>Ratings_Count</th>\n",
       "      <th>User_ID</th>\n",
       "    </tr>\n",
       "  </thead>\n",
       "  <tbody>\n",
       "    <tr>\n",
       "      <th>2718</th>\n",
       "      <td>I've enjoyed the Mark Waid Daredevil series, b...</td>\n",
       "      <td>2</td>\n",
       "      <td>Daredevil, Volume 7</td>\n",
       "      <td>Mark Waid</td>\n",
       "      <td>comics_graphic</td>\n",
       "      <td>{'comics, graphic': 311, 'fiction': 12, 'fanta...</td>\n",
       "      <td>eng</td>\n",
       "      <td>136</td>\n",
       "      <td>2014</td>\n",
       "      <td>3.97</td>\n",
       "      <td>801</td>\n",
       "      <td>bcdc2c010dd5a9788f4d7c96b04c69cc</td>\n",
       "    </tr>\n",
       "    <tr>\n",
       "      <th>3481</th>\n",
       "      <td>DNF. Uh...no.</td>\n",
       "      <td>0</td>\n",
       "      <td>Awakening (A Dangerous Man, #1)</td>\n",
       "      <td>Serena Grey</td>\n",
       "      <td>romance</td>\n",
       "      <td>{'romance': 64, 'fiction': 3}</td>\n",
       "      <td>eng</td>\n",
       "      <td>43</td>\n",
       "      <td>2013</td>\n",
       "      <td>3.44</td>\n",
       "      <td>199</td>\n",
       "      <td>874507ab349b2258eaecd967f4573c00</td>\n",
       "    </tr>\n",
       "    <tr>\n",
       "      <th>1029</th>\n",
       "      <td>another good book in this series. I like that ...</td>\n",
       "      <td>4</td>\n",
       "      <td>Burned (House of Night, #7)</td>\n",
       "      <td>P.C. Cast</td>\n",
       "      <td>fantasy_paranormal</td>\n",
       "      <td>{'young-adult': 1718, 'fantasy, paranormal': 2...</td>\n",
       "      <td>eng</td>\n",
       "      <td>323</td>\n",
       "      <td>2010</td>\n",
       "      <td>3.98</td>\n",
       "      <td>121609</td>\n",
       "      <td>2c82394ff98dab4394170aae9bf26799</td>\n",
       "    </tr>\n",
       "    <tr>\n",
       "      <th>2819</th>\n",
       "      <td>A fun story time filled with laughs. Great for...</td>\n",
       "      <td>4</td>\n",
       "      <td>Diary of a Fly</td>\n",
       "      <td>Doreen Cronin</td>\n",
       "      <td>children</td>\n",
       "      <td>{'children': 252, 'fiction': 31, 'fantasy, par...</td>\n",
       "      <td>en-US</td>\n",
       "      <td>40</td>\n",
       "      <td>2007</td>\n",
       "      <td>4.20</td>\n",
       "      <td>5450</td>\n",
       "      <td>2ce0fc8d508ec975e5ff96966e7b1a1d</td>\n",
       "    </tr>\n",
       "    <tr>\n",
       "      <th>4202</th>\n",
       "      <td>Lovely book. I think (I hope) this could reall...</td>\n",
       "      <td>5</td>\n",
       "      <td>House Held Up by Trees</td>\n",
       "      <td>Ted Kooser</td>\n",
       "      <td>children</td>\n",
       "      <td>{'children': 162, 'fiction': 12, 'poetry': 8, ...</td>\n",
       "      <td>en-CA</td>\n",
       "      <td>32</td>\n",
       "      <td>2012</td>\n",
       "      <td>3.91</td>\n",
       "      <td>1254</td>\n",
       "      <td>efd63dfecd5d2e2a75edf8e50b82d4a7</td>\n",
       "    </tr>\n",
       "  </tbody>\n",
       "</table>\n",
       "</div>"
      ],
      "text/plain": [
       "                                                   Text  Rating  \\\n",
       "2718  I've enjoyed the Mark Waid Daredevil series, b...       2   \n",
       "3481                                      DNF. Uh...no.       0   \n",
       "1029  another good book in this series. I like that ...       4   \n",
       "2819  A fun story time filled with laughs. Great for...       4   \n",
       "4202  Lovely book. I think (I hope) this could reall...       5   \n",
       "\n",
       "                                Title         Author            Category  \\\n",
       "2718              Daredevil, Volume 7      Mark Waid      comics_graphic   \n",
       "3481  Awakening (A Dangerous Man, #1)    Serena Grey             romance   \n",
       "1029      Burned (House of Night, #7)      P.C. Cast  fantasy_paranormal   \n",
       "2819                   Diary of a Fly  Doreen Cronin            children   \n",
       "4202           House Held Up by Trees     Ted Kooser            children   \n",
       "\n",
       "                                                 Genres Language Pages  \\\n",
       "2718  {'comics, graphic': 311, 'fiction': 12, 'fanta...      eng   136   \n",
       "3481                      {'romance': 64, 'fiction': 3}      eng    43   \n",
       "1029  {'young-adult': 1718, 'fantasy, paranormal': 2...      eng   323   \n",
       "2819  {'children': 252, 'fiction': 31, 'fantasy, par...    en-US    40   \n",
       "4202  {'children': 162, 'fiction': 12, 'poetry': 8, ...    en-CA    32   \n",
       "\n",
       "     Pub_Year  Avg_Rating  Ratings_Count                           User_ID  \n",
       "2718     2014        3.97            801  bcdc2c010dd5a9788f4d7c96b04c69cc  \n",
       "3481     2013        3.44            199  874507ab349b2258eaecd967f4573c00  \n",
       "1029     2010        3.98         121609  2c82394ff98dab4394170aae9bf26799  \n",
       "2819     2007        4.20           5450  2ce0fc8d508ec975e5ff96966e7b1a1d  \n",
       "4202     2012        3.91           1254  efd63dfecd5d2e2a75edf8e50b82d4a7  "
      ]
     },
     "execution_count": 8,
     "metadata": {},
     "output_type": "execute_result"
    }
   ],
   "source": [
    "total_sample = total_df.sample(5)\n",
    "total_sample"
   ]
  },
  {
   "cell_type": "markdown",
   "id": "89580095",
   "metadata": {},
   "source": [
    "Save as CSV to data_samples folder"
   ]
  },
  {
   "cell_type": "code",
   "execution_count": 9,
   "id": "d7df35eb",
   "metadata": {},
   "outputs": [],
   "source": [
    "#total_sample.to_csv('data_samples/FinalDF_Sample.csv')"
   ]
  },
  {
   "cell_type": "markdown",
   "id": "b670ea36",
   "metadata": {},
   "source": [
    "## Final Data Exploration"
   ]
  },
  {
   "cell_type": "code",
   "execution_count": 10,
   "id": "53bf46c8",
   "metadata": {},
   "outputs": [],
   "source": [
    "total_df = total_df[['Text', 'Rating', 'Title', 'Author', 'Category', 'Genres', 'Language', 'Pages', 'Pub_Year', 'Avg_Rating', 'Ratings_Count']]"
   ]
  },
  {
   "cell_type": "code",
   "execution_count": 11,
   "id": "d5fb362c",
   "metadata": {},
   "outputs": [
    {
     "data": {
      "text/plain": [
       "Index(['Text', 'Rating', 'Title', 'Author', 'Category', 'Genres', 'Language',\n",
       "       'Pages', 'Pub_Year', 'Avg_Rating', 'Ratings_Count'],\n",
       "      dtype='object')"
      ]
     },
     "execution_count": 11,
     "metadata": {},
     "output_type": "execute_result"
    }
   ],
   "source": [
    "total_df.columns"
   ]
  },
  {
   "cell_type": "code",
   "execution_count": 12,
   "id": "fd44e76c",
   "metadata": {
    "scrolled": false
   },
   "outputs": [
    {
     "data": {
      "text/plain": [
       "ya                        4334\n",
       "fantasy_paranormal        4323\n",
       "romance                   3918\n",
       "mystery_thriller_crime    3789\n",
       "comics_graphic            3505\n",
       "history_bio               3362\n",
       "children                  2858\n",
       "poetry                    2185\n",
       "Name: Category, dtype: int64"
      ]
     },
     "execution_count": 12,
     "metadata": {},
     "output_type": "execute_result"
    }
   ],
   "source": [
    "total_df.Category.value_counts()"
   ]
  },
  {
   "cell_type": "code",
   "execution_count": 13,
   "id": "5a0775a9",
   "metadata": {},
   "outputs": [
    {
     "data": {
      "text/plain": [
       "5    9941\n",
       "4    9593\n",
       "3    5356\n",
       "2    1807\n",
       "0     894\n",
       "1     683\n",
       "Name: Rating, dtype: int64"
      ]
     },
     "execution_count": 13,
     "metadata": {},
     "output_type": "execute_result"
    }
   ],
   "source": [
    "total_df.Rating.value_counts()"
   ]
  },
  {
   "cell_type": "code",
   "execution_count": 14,
   "id": "195a8e33",
   "metadata": {
    "scrolled": true
   },
   "outputs": [
    {
     "data": {
      "text/plain": [
       "17774"
      ]
     },
     "execution_count": 14,
     "metadata": {},
     "output_type": "execute_result"
    }
   ],
   "source": [
    "len(total_df.Title.unique())"
   ]
  },
  {
   "cell_type": "code",
   "execution_count": 15,
   "id": "4198b71c",
   "metadata": {},
   "outputs": [
    {
     "data": {
      "text/plain": [
       "Milk and Honey                                                                          113\n",
       "Hamlet                                                                                   50\n",
       "The Giver (The Giver, #1)                                                                50\n",
       "The Hunger Games (The Hunger Games, #1)                                                  49\n",
       "Cinder (The Lunar Chronicles, #1)                                                        49\n",
       "The Girl on the Train                                                                    47\n",
       "Brown Girl Dreaming                                                                      44\n",
       "Wonder (Wonder #1)                                                                       43\n",
       "Miss Peregrine’s Home for Peculiar Children (Miss Peregrine’s Peculiar Children, #1)     42\n",
       "Divergent (Divergent, #1)                                                                40\n",
       "Name: Title, dtype: int64"
      ]
     },
     "execution_count": 15,
     "metadata": {},
     "output_type": "execute_result"
    }
   ],
   "source": [
    "total_df.Title.value_counts()[:10]"
   ]
  },
  {
   "cell_type": "code",
   "execution_count": 16,
   "id": "078f8bf3",
   "metadata": {},
   "outputs": [
    {
     "data": {
      "text/plain": [
       "9688"
      ]
     },
     "execution_count": 16,
     "metadata": {},
     "output_type": "execute_result"
    }
   ],
   "source": [
    "len(total_df.Author.unique())"
   ]
  },
  {
   "cell_type": "code",
   "execution_count": 17,
   "id": "6c2d1852",
   "metadata": {},
   "outputs": [
    {
     "data": {
      "text/plain": [
       "Cassandra Clare     250\n",
       "Brian K. Vaughan    157\n",
       "Neil Gaiman         148\n",
       "Marissa Meyer       137\n",
       "Stephenie Meyer     130\n",
       "Rupi Kaur           127\n",
       "Sarah J. Maas       123\n",
       "Stephen King        123\n",
       "Rick Riordan        115\n",
       "Suzanne Collins     106\n",
       "Name: Author, dtype: int64"
      ]
     },
     "execution_count": 17,
     "metadata": {},
     "output_type": "execute_result"
    }
   ],
   "source": [
    "total_df.Author.value_counts()[:10]"
   ]
  },
  {
   "cell_type": "markdown",
   "id": "0afba00e",
   "metadata": {},
   "source": [
    "## Analysis\n",
    "Now that I've FINALLY got my final data set and a sense of its size and makeup, it's time to start analysis! Since I'm looking at overall linguistic differences between reviews for different genres, I want to include as many different linguistic features as I can think of. In this next secion, I will be adding those features as additional columns to the DataFrame so I can then analayze their differences between genre categories."
   ]
  },
  {
   "cell_type": "markdown",
   "id": "b4853d09",
   "metadata": {},
   "source": [
    "### Tokens"
   ]
  },
  {
   "cell_type": "markdown",
   "id": "78af50e1",
   "metadata": {},
   "source": [
    "### Token Count"
   ]
  },
  {
   "cell_type": "markdown",
   "id": "cc072d5b",
   "metadata": {},
   "source": [
    "### Word Length"
   ]
  },
  {
   "cell_type": "markdown",
   "id": "735e3e22",
   "metadata": {},
   "source": [
    "### Sentence Count"
   ]
  },
  {
   "cell_type": "markdown",
   "id": "2f60a351",
   "metadata": {},
   "source": [
    "### Sentence Length"
   ]
  },
  {
   "cell_type": "markdown",
   "id": "cc2b31e4",
   "metadata": {},
   "source": [
    "### TTR (Modified)"
   ]
  },
  {
   "cell_type": "markdown",
   "id": "a512fa00",
   "metadata": {},
   "source": [
    "### K-Bands"
   ]
  },
  {
   "cell_type": "markdown",
   "id": "498cdfd6",
   "metadata": {},
   "source": [
    "### Punctuation"
   ]
  },
  {
   "cell_type": "markdown",
   "id": "c40b793b",
   "metadata": {},
   "source": [
    "Question marks, exclamation points, commas, semicolons"
   ]
  }
 ],
 "metadata": {
  "kernelspec": {
   "display_name": "Python 3 (ipykernel)",
   "language": "python",
   "name": "python3"
  },
  "language_info": {
   "codemirror_mode": {
    "name": "ipython",
    "version": 3
   },
   "file_extension": ".py",
   "mimetype": "text/x-python",
   "name": "python",
   "nbconvert_exporter": "python",
   "pygments_lexer": "ipython3",
   "version": "3.9.13"
  }
 },
 "nbformat": 4,
 "nbformat_minor": 5
}
