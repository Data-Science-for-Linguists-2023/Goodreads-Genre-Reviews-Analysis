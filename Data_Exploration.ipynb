{
 "cells": [
  {
   "cell_type": "markdown",
   "id": "3ab003ec",
   "metadata": {},
   "source": [
    "# Data Processing (First 3 Genres)\n",
    "Ashley Feiler, aef56@pitt.edu\n",
    "\n",
    "### Table of Contents\n",
    "- [Children's Literature](#Children's-Literature-Data) - Processes the data for the Children's Literature Reviews\n",
    "    - [Loading Data](#Children's-Literature-Reviews) - Loads review, book, genre, and author info and merges into one dataframe \n",
    "    - [Language Filtering](#Language-Filtering) - Subsets data to just English language data\n",
    "    - [Formatting](#Formatting) - Cuts down dataframe columns and removes rows with empty review data\n",
    "- [Poetry](#Poetry-Data)  - Processes the data for the Poetry Reviews following the same format as above\n",
    "- [Comics/Graphic Novels](#Comics/Graphic-Novels-Data) - Processes the data for the Comics/Graphic Novels Reviews following the same format as above\n",
    "- [Data Processing Continued](#Data-Processing-Continued) - Provides additional info on processing remaining genres"
   ]
  },
  {
   "cell_type": "markdown",
   "id": "580d61c4",
   "metadata": {},
   "source": [
    "## Imports"
   ]
  },
  {
   "cell_type": "code",
   "execution_count": 1,
   "id": "b521edaa",
   "metadata": {},
   "outputs": [
    {
     "name": "stdout",
     "output_type": "stream",
     "text": [
      "Pretty printing has been turned OFF\n"
     ]
    }
   ],
   "source": [
    "#Turn off pretty printing\n",
    "%pprint\n",
    "\n",
    "#Import packages\n",
    "import pandas as pd\n",
    "import os\n",
    "import pickle"
   ]
  },
  {
   "cell_type": "markdown",
   "id": "04121751",
   "metadata": {},
   "source": [
    "# Children's Literature Data"
   ]
  },
  {
   "cell_type": "markdown",
   "id": "9e133307",
   "metadata": {},
   "source": [
    "## Children's Literature Reviews\n",
    "I began by reading in the JSON file with review data and converting to DataFrame to prep for analysis. By focusing on only one genre (Children's Literature), I can explore the content and structure of the data at a more manageable scale, and then apply the successful methods to the other genre data sets."
   ]
  },
  {
   "cell_type": "code",
   "execution_count": 2,
   "id": "cab2852a",
   "metadata": {},
   "outputs": [],
   "source": [
    "df = pd.read_json('/Users/ashleyfeiler/Documents/data_science/Goodreads-Genre-Reviews-Analysis/data/Reviews/excerpts_shuf/goodreads_reviews_children_shuf.json', lines=True)"
   ]
  },
  {
   "cell_type": "code",
   "execution_count": 3,
   "id": "b001d926",
   "metadata": {
    "scrolled": true
   },
   "outputs": [
    {
     "data": {
      "text/html": [
       "<div>\n",
       "<style scoped>\n",
       "    .dataframe tbody tr th:only-of-type {\n",
       "        vertical-align: middle;\n",
       "    }\n",
       "\n",
       "    .dataframe tbody tr th {\n",
       "        vertical-align: top;\n",
       "    }\n",
       "\n",
       "    .dataframe thead th {\n",
       "        text-align: right;\n",
       "    }\n",
       "</style>\n",
       "<table border=\"1\" class=\"dataframe\">\n",
       "  <thead>\n",
       "    <tr style=\"text-align: right;\">\n",
       "      <th></th>\n",
       "      <th>user_id</th>\n",
       "      <th>book_id</th>\n",
       "      <th>review_id</th>\n",
       "      <th>rating</th>\n",
       "      <th>review_text</th>\n",
       "      <th>date_added</th>\n",
       "      <th>date_updated</th>\n",
       "      <th>read_at</th>\n",
       "      <th>started_at</th>\n",
       "      <th>n_votes</th>\n",
       "      <th>n_comments</th>\n",
       "    </tr>\n",
       "  </thead>\n",
       "  <tbody>\n",
       "    <tr>\n",
       "      <th>0</th>\n",
       "      <td>a2d6dd1685e5aa0a72c9410f8f55e056</td>\n",
       "      <td>17165891</td>\n",
       "      <td>dd6c3698b614b747d6fbd01e65186e34</td>\n",
       "      <td>0</td>\n",
       "      <td>O</td>\n",
       "      <td>Fri Oct 11 07:22:22 -0700 2013</td>\n",
       "      <td>Fri Oct 11 07:22:49 -0700 2013</td>\n",
       "      <td></td>\n",
       "      <td></td>\n",
       "      <td>0</td>\n",
       "      <td>0</td>\n",
       "    </tr>\n",
       "    <tr>\n",
       "      <th>1</th>\n",
       "      <td>686b174e58665fe35cd89c64c0607992</td>\n",
       "      <td>29064279</td>\n",
       "      <td>c1c06eeb894e4307875165f4fe8d2f98</td>\n",
       "      <td>4</td>\n",
       "      <td>I liked the illustrations, which are are - wel...</td>\n",
       "      <td>Wed Jan 25 18:06:11 -0800 2017</td>\n",
       "      <td>Wed Jan 25 18:15:49 -0800 2017</td>\n",
       "      <td>Sun Jan 01 00:00:00 -0800 2017</td>\n",
       "      <td></td>\n",
       "      <td>0</td>\n",
       "      <td>0</td>\n",
       "    </tr>\n",
       "    <tr>\n",
       "      <th>2</th>\n",
       "      <td>e5b6484501d2667dddf7df4d588311de</td>\n",
       "      <td>3636</td>\n",
       "      <td>31a18e28070f4b2cb2139ea92c16c9c5</td>\n",
       "      <td>5</td>\n",
       "      <td>The best book I've read so far.</td>\n",
       "      <td>Tue Oct 06 16:06:04 -0700 2009</td>\n",
       "      <td>Fri Oct 09 14:07:44 -0700 2009</td>\n",
       "      <td>Fri Oct 09 00:00:00 -0700 2009</td>\n",
       "      <td></td>\n",
       "      <td>0</td>\n",
       "      <td>0</td>\n",
       "    </tr>\n",
       "    <tr>\n",
       "      <th>3</th>\n",
       "      <td>254f6270f43e504826a2cbac6ea93791</td>\n",
       "      <td>17835181</td>\n",
       "      <td>0dfb68d65a67d55e3377641d6cdc1027</td>\n",
       "      <td>3</td>\n",
       "      <td>3.5 stars \\n I enjoyed this book.. Fun read.</td>\n",
       "      <td>Thu Dec 26 15:05:48 -0800 2013</td>\n",
       "      <td>Tue Jan 14 16:01:05 -0800 2014</td>\n",
       "      <td>Sat Dec 28 00:00:00 -0800 2013</td>\n",
       "      <td>Fri Dec 27 00:00:00 -0800 2013</td>\n",
       "      <td>0</td>\n",
       "      <td>0</td>\n",
       "    </tr>\n",
       "    <tr>\n",
       "      <th>4</th>\n",
       "      <td>fd831e16ac0af21a5557a6e1ce156edf</td>\n",
       "      <td>93531</td>\n",
       "      <td>00a7c13cbe5775e7fb5a40fba5d5a64b</td>\n",
       "      <td>4</td>\n",
       "      <td>Pearl S. Buck tells a touching and memorable s...</td>\n",
       "      <td>Wed Jan 09 11:05:20 -0800 2013</td>\n",
       "      <td>Wed Jan 09 11:57:47 -0800 2013</td>\n",
       "      <td>Sat Dec 01 00:00:00 -0800 2012</td>\n",
       "      <td></td>\n",
       "      <td>0</td>\n",
       "      <td>0</td>\n",
       "    </tr>\n",
       "  </tbody>\n",
       "</table>\n",
       "</div>"
      ],
      "text/plain": [
       "                            user_id   book_id  \\\n",
       "0  a2d6dd1685e5aa0a72c9410f8f55e056  17165891   \n",
       "1  686b174e58665fe35cd89c64c0607992  29064279   \n",
       "2  e5b6484501d2667dddf7df4d588311de      3636   \n",
       "3  254f6270f43e504826a2cbac6ea93791  17835181   \n",
       "4  fd831e16ac0af21a5557a6e1ce156edf     93531   \n",
       "\n",
       "                          review_id  rating  \\\n",
       "0  dd6c3698b614b747d6fbd01e65186e34       0   \n",
       "1  c1c06eeb894e4307875165f4fe8d2f98       4   \n",
       "2  31a18e28070f4b2cb2139ea92c16c9c5       5   \n",
       "3  0dfb68d65a67d55e3377641d6cdc1027       3   \n",
       "4  00a7c13cbe5775e7fb5a40fba5d5a64b       4   \n",
       "\n",
       "                                         review_text  \\\n",
       "0                                                  O   \n",
       "1  I liked the illustrations, which are are - wel...   \n",
       "2                    The best book I've read so far.   \n",
       "3       3.5 stars \\n I enjoyed this book.. Fun read.   \n",
       "4  Pearl S. Buck tells a touching and memorable s...   \n",
       "\n",
       "                       date_added                    date_updated  \\\n",
       "0  Fri Oct 11 07:22:22 -0700 2013  Fri Oct 11 07:22:49 -0700 2013   \n",
       "1  Wed Jan 25 18:06:11 -0800 2017  Wed Jan 25 18:15:49 -0800 2017   \n",
       "2  Tue Oct 06 16:06:04 -0700 2009  Fri Oct 09 14:07:44 -0700 2009   \n",
       "3  Thu Dec 26 15:05:48 -0800 2013  Tue Jan 14 16:01:05 -0800 2014   \n",
       "4  Wed Jan 09 11:05:20 -0800 2013  Wed Jan 09 11:57:47 -0800 2013   \n",
       "\n",
       "                          read_at                      started_at  n_votes  \\\n",
       "0                                                                        0   \n",
       "1  Sun Jan 01 00:00:00 -0800 2017                                        0   \n",
       "2  Fri Oct 09 00:00:00 -0700 2009                                        0   \n",
       "3  Sat Dec 28 00:00:00 -0800 2013  Fri Dec 27 00:00:00 -0800 2013        0   \n",
       "4  Sat Dec 01 00:00:00 -0800 2012                                        0   \n",
       "\n",
       "   n_comments  \n",
       "0           0  \n",
       "1           0  \n",
       "2           0  \n",
       "3           0  \n",
       "4           0  "
      ]
     },
     "execution_count": 3,
     "metadata": {},
     "output_type": "execute_result"
    }
   ],
   "source": [
    "df.head()"
   ]
  },
  {
   "cell_type": "code",
   "execution_count": 4,
   "id": "bdaba38c",
   "metadata": {},
   "outputs": [],
   "source": [
    "#Saves a small portion of the original Children's Literature data to share as a sample\n",
    "#children_share = df.head()\n",
    "\n",
    "#f = open('data/genre_share/children_share.pkl', 'wb')\n",
    "#pickle.dump(children_share, f)\n",
    "#f.close() "
   ]
  },
  {
   "cell_type": "code",
   "execution_count": 5,
   "id": "df2c15c3",
   "metadata": {},
   "outputs": [
    {
     "data": {
      "text/plain": [
       "(5000, 11)"
      ]
     },
     "execution_count": 5,
     "metadata": {},
     "output_type": "execute_result"
    }
   ],
   "source": [
    "df.shape"
   ]
  },
  {
   "cell_type": "code",
   "execution_count": 6,
   "id": "740fd9c0",
   "metadata": {
    "scrolled": false
   },
   "outputs": [
    {
     "name": "stdout",
     "output_type": "stream",
     "text": [
      "<class 'pandas.core.frame.DataFrame'>\n",
      "RangeIndex: 5000 entries, 0 to 4999\n",
      "Data columns (total 11 columns):\n",
      " #   Column        Non-Null Count  Dtype \n",
      "---  ------        --------------  ----- \n",
      " 0   user_id       5000 non-null   object\n",
      " 1   book_id       5000 non-null   int64 \n",
      " 2   review_id     5000 non-null   object\n",
      " 3   rating        5000 non-null   int64 \n",
      " 4   review_text   5000 non-null   object\n",
      " 5   date_added    5000 non-null   object\n",
      " 6   date_updated  5000 non-null   object\n",
      " 7   read_at       5000 non-null   object\n",
      " 8   started_at    5000 non-null   object\n",
      " 9   n_votes       5000 non-null   int64 \n",
      " 10  n_comments    5000 non-null   int64 \n",
      "dtypes: int64(4), object(7)\n",
      "memory usage: 429.8+ KB\n"
     ]
    }
   ],
   "source": [
    "df.info()"
   ]
  },
  {
   "cell_type": "markdown",
   "id": "2def37b8",
   "metadata": {},
   "source": [
    "Due to the overwhelmingly large size of these files, I took samples of 5000 entries from each genre file (8) through the command line in order to avoid loading a file larger than my computer could handle. This shows that there all 5000 rows are accounted for! I will keep an eye on this number as I add to the DataFrame to make sure I'm not accidentally adding/removing anything. There are no NaN values, which is great, but there are lot of columns whose data is unecessary for this product, so let's trim that down to the essentials. "
   ]
  },
  {
   "cell_type": "code",
   "execution_count": 7,
   "id": "83c34a8d",
   "metadata": {},
   "outputs": [],
   "source": [
    "reviews_df = df[['user_id', 'book_id', 'review_id', 'rating', 'review_text']]"
   ]
  },
  {
   "cell_type": "code",
   "execution_count": 8,
   "id": "f43e27a5",
   "metadata": {
    "scrolled": true
   },
   "outputs": [
    {
     "data": {
      "text/html": [
       "<div>\n",
       "<style scoped>\n",
       "    .dataframe tbody tr th:only-of-type {\n",
       "        vertical-align: middle;\n",
       "    }\n",
       "\n",
       "    .dataframe tbody tr th {\n",
       "        vertical-align: top;\n",
       "    }\n",
       "\n",
       "    .dataframe thead th {\n",
       "        text-align: right;\n",
       "    }\n",
       "</style>\n",
       "<table border=\"1\" class=\"dataframe\">\n",
       "  <thead>\n",
       "    <tr style=\"text-align: right;\">\n",
       "      <th></th>\n",
       "      <th>user_id</th>\n",
       "      <th>book_id</th>\n",
       "      <th>review_id</th>\n",
       "      <th>rating</th>\n",
       "      <th>review_text</th>\n",
       "    </tr>\n",
       "  </thead>\n",
       "  <tbody>\n",
       "    <tr>\n",
       "      <th>0</th>\n",
       "      <td>a2d6dd1685e5aa0a72c9410f8f55e056</td>\n",
       "      <td>17165891</td>\n",
       "      <td>dd6c3698b614b747d6fbd01e65186e34</td>\n",
       "      <td>0</td>\n",
       "      <td>O</td>\n",
       "    </tr>\n",
       "    <tr>\n",
       "      <th>1</th>\n",
       "      <td>686b174e58665fe35cd89c64c0607992</td>\n",
       "      <td>29064279</td>\n",
       "      <td>c1c06eeb894e4307875165f4fe8d2f98</td>\n",
       "      <td>4</td>\n",
       "      <td>I liked the illustrations, which are are - wel...</td>\n",
       "    </tr>\n",
       "    <tr>\n",
       "      <th>2</th>\n",
       "      <td>e5b6484501d2667dddf7df4d588311de</td>\n",
       "      <td>3636</td>\n",
       "      <td>31a18e28070f4b2cb2139ea92c16c9c5</td>\n",
       "      <td>5</td>\n",
       "      <td>The best book I've read so far.</td>\n",
       "    </tr>\n",
       "    <tr>\n",
       "      <th>3</th>\n",
       "      <td>254f6270f43e504826a2cbac6ea93791</td>\n",
       "      <td>17835181</td>\n",
       "      <td>0dfb68d65a67d55e3377641d6cdc1027</td>\n",
       "      <td>3</td>\n",
       "      <td>3.5 stars \\n I enjoyed this book.. Fun read.</td>\n",
       "    </tr>\n",
       "    <tr>\n",
       "      <th>4</th>\n",
       "      <td>fd831e16ac0af21a5557a6e1ce156edf</td>\n",
       "      <td>93531</td>\n",
       "      <td>00a7c13cbe5775e7fb5a40fba5d5a64b</td>\n",
       "      <td>4</td>\n",
       "      <td>Pearl S. Buck tells a touching and memorable s...</td>\n",
       "    </tr>\n",
       "  </tbody>\n",
       "</table>\n",
       "</div>"
      ],
      "text/plain": [
       "                            user_id   book_id  \\\n",
       "0  a2d6dd1685e5aa0a72c9410f8f55e056  17165891   \n",
       "1  686b174e58665fe35cd89c64c0607992  29064279   \n",
       "2  e5b6484501d2667dddf7df4d588311de      3636   \n",
       "3  254f6270f43e504826a2cbac6ea93791  17835181   \n",
       "4  fd831e16ac0af21a5557a6e1ce156edf     93531   \n",
       "\n",
       "                          review_id  rating  \\\n",
       "0  dd6c3698b614b747d6fbd01e65186e34       0   \n",
       "1  c1c06eeb894e4307875165f4fe8d2f98       4   \n",
       "2  31a18e28070f4b2cb2139ea92c16c9c5       5   \n",
       "3  0dfb68d65a67d55e3377641d6cdc1027       3   \n",
       "4  00a7c13cbe5775e7fb5a40fba5d5a64b       4   \n",
       "\n",
       "                                         review_text  \n",
       "0                                                  O  \n",
       "1  I liked the illustrations, which are are - wel...  \n",
       "2                    The best book I've read so far.  \n",
       "3       3.5 stars \\n I enjoyed this book.. Fun read.  \n",
       "4  Pearl S. Buck tells a touching and memorable s...  "
      ]
     },
     "execution_count": 8,
     "metadata": {},
     "output_type": "execute_result"
    }
   ],
   "source": [
    "reviews_df.head()"
   ]
  },
  {
   "cell_type": "markdown",
   "id": "6fbcac41",
   "metadata": {},
   "source": [
    "Much better! Now this data contains the book IDs, but I'd like to be able to identify the books by title/author and have some basic information such as page count. This book-specific data is in another JSON file, so let's load that into another DataFrame."
   ]
  },
  {
   "cell_type": "markdown",
   "id": "f142e0a3",
   "metadata": {},
   "source": [
    "## Children's Literature Book Info"
   ]
  },
  {
   "cell_type": "code",
   "execution_count": 9,
   "id": "238c2a39",
   "metadata": {},
   "outputs": [],
   "source": [
    "books = pd.read_json('/Users/ashleyfeiler/Documents/data_science/Goodreads-Genre-Reviews-Analysis/data/Books/goodreads_books_children.json', lines=True)"
   ]
  },
  {
   "cell_type": "code",
   "execution_count": 10,
   "id": "f9e8fd1e",
   "metadata": {
    "scrolled": true
   },
   "outputs": [
    {
     "data": {
      "text/html": [
       "<div>\n",
       "<style scoped>\n",
       "    .dataframe tbody tr th:only-of-type {\n",
       "        vertical-align: middle;\n",
       "    }\n",
       "\n",
       "    .dataframe tbody tr th {\n",
       "        vertical-align: top;\n",
       "    }\n",
       "\n",
       "    .dataframe thead th {\n",
       "        text-align: right;\n",
       "    }\n",
       "</style>\n",
       "<table border=\"1\" class=\"dataframe\">\n",
       "  <thead>\n",
       "    <tr style=\"text-align: right;\">\n",
       "      <th></th>\n",
       "      <th>isbn</th>\n",
       "      <th>text_reviews_count</th>\n",
       "      <th>series</th>\n",
       "      <th>country_code</th>\n",
       "      <th>language_code</th>\n",
       "      <th>popular_shelves</th>\n",
       "      <th>asin</th>\n",
       "      <th>is_ebook</th>\n",
       "      <th>average_rating</th>\n",
       "      <th>kindle_asin</th>\n",
       "      <th>...</th>\n",
       "      <th>publication_month</th>\n",
       "      <th>edition_information</th>\n",
       "      <th>publication_year</th>\n",
       "      <th>url</th>\n",
       "      <th>image_url</th>\n",
       "      <th>book_id</th>\n",
       "      <th>ratings_count</th>\n",
       "      <th>work_id</th>\n",
       "      <th>title</th>\n",
       "      <th>title_without_series</th>\n",
       "    </tr>\n",
       "  </thead>\n",
       "  <tbody>\n",
       "    <tr>\n",
       "      <th>0</th>\n",
       "      <td>1599150603</td>\n",
       "      <td>7</td>\n",
       "      <td>[]</td>\n",
       "      <td>US</td>\n",
       "      <td></td>\n",
       "      <td>[{'count': '56', 'name': 'to-read'}, {'count':...</td>\n",
       "      <td></td>\n",
       "      <td>false</td>\n",
       "      <td>4.13</td>\n",
       "      <td>B00DU10PUG</td>\n",
       "      <td>...</td>\n",
       "      <td>9</td>\n",
       "      <td></td>\n",
       "      <td>2006</td>\n",
       "      <td>https://www.goodreads.com/book/show/287141.The...</td>\n",
       "      <td>https://s.gr-assets.com/assets/nophoto/book/11...</td>\n",
       "      <td>287141</td>\n",
       "      <td>46</td>\n",
       "      <td>278578</td>\n",
       "      <td>The Aeneid for Boys and Girls</td>\n",
       "      <td>The Aeneid for Boys and Girls</td>\n",
       "    </tr>\n",
       "    <tr>\n",
       "      <th>1</th>\n",
       "      <td>1934876569</td>\n",
       "      <td>6</td>\n",
       "      <td>[151854]</td>\n",
       "      <td>US</td>\n",
       "      <td></td>\n",
       "      <td>[{'count': '515', 'name': 'to-read'}, {'count'...</td>\n",
       "      <td></td>\n",
       "      <td>false</td>\n",
       "      <td>4.22</td>\n",
       "      <td></td>\n",
       "      <td>...</td>\n",
       "      <td>3</td>\n",
       "      <td></td>\n",
       "      <td>2009</td>\n",
       "      <td>https://www.goodreads.com/book/show/6066812-al...</td>\n",
       "      <td>https://images.gr-assets.com/books/1316637798m...</td>\n",
       "      <td>6066812</td>\n",
       "      <td>98</td>\n",
       "      <td>701117</td>\n",
       "      <td>All's Fairy in Love and War (Avalon: Web of Ma...</td>\n",
       "      <td>All's Fairy in Love and War (Avalon: Web of Ma...</td>\n",
       "    </tr>\n",
       "    <tr>\n",
       "      <th>2</th>\n",
       "      <td>0590417010</td>\n",
       "      <td>193</td>\n",
       "      <td>[]</td>\n",
       "      <td>US</td>\n",
       "      <td>eng</td>\n",
       "      <td>[{'count': '450', 'name': 'to-read'}, {'count'...</td>\n",
       "      <td></td>\n",
       "      <td>false</td>\n",
       "      <td>4.43</td>\n",
       "      <td>B017RORXNI</td>\n",
       "      <td>...</td>\n",
       "      <td>9</td>\n",
       "      <td></td>\n",
       "      <td>1995</td>\n",
       "      <td>https://www.goodreads.com/book/show/89378.Dog_...</td>\n",
       "      <td>https://images.gr-assets.com/books/1360057676m...</td>\n",
       "      <td>89378</td>\n",
       "      <td>1331</td>\n",
       "      <td>86259</td>\n",
       "      <td>Dog Heaven</td>\n",
       "      <td>Dog Heaven</td>\n",
       "    </tr>\n",
       "    <tr>\n",
       "      <th>3</th>\n",
       "      <td>0915190575</td>\n",
       "      <td>4</td>\n",
       "      <td>[]</td>\n",
       "      <td>US</td>\n",
       "      <td></td>\n",
       "      <td>[{'count': '8', 'name': 'to-read'}, {'count': ...</td>\n",
       "      <td></td>\n",
       "      <td>false</td>\n",
       "      <td>4.29</td>\n",
       "      <td></td>\n",
       "      <td>...</td>\n",
       "      <td></td>\n",
       "      <td></td>\n",
       "      <td></td>\n",
       "      <td>https://www.goodreads.com/book/show/3209312-mo...</td>\n",
       "      <td>https://s.gr-assets.com/assets/nophoto/book/11...</td>\n",
       "      <td>3209312</td>\n",
       "      <td>11</td>\n",
       "      <td>3242879</td>\n",
       "      <td>Moths and Mothers, Feathers and Fathers: A Sto...</td>\n",
       "      <td>Moths and Mothers, Feathers and Fathers: A Sto...</td>\n",
       "    </tr>\n",
       "    <tr>\n",
       "      <th>4</th>\n",
       "      <td>1416904999</td>\n",
       "      <td>4</td>\n",
       "      <td>[]</td>\n",
       "      <td>US</td>\n",
       "      <td></td>\n",
       "      <td>[{'count': '8', 'name': 'to-read'}, {'count': ...</td>\n",
       "      <td></td>\n",
       "      <td>false</td>\n",
       "      <td>3.57</td>\n",
       "      <td></td>\n",
       "      <td>...</td>\n",
       "      <td>6</td>\n",
       "      <td></td>\n",
       "      <td>2005</td>\n",
       "      <td>https://www.goodreads.com/book/show/1698376.Wh...</td>\n",
       "      <td>https://s.gr-assets.com/assets/nophoto/book/11...</td>\n",
       "      <td>1698376</td>\n",
       "      <td>23</td>\n",
       "      <td>1695373</td>\n",
       "      <td>What Do You Do?</td>\n",
       "      <td>What Do You Do?</td>\n",
       "    </tr>\n",
       "  </tbody>\n",
       "</table>\n",
       "<p>5 rows × 29 columns</p>\n",
       "</div>"
      ],
      "text/plain": [
       "         isbn  text_reviews_count    series country_code language_code  \\\n",
       "0  1599150603                   7        []           US                 \n",
       "1  1934876569                   6  [151854]           US                 \n",
       "2  0590417010                 193        []           US           eng   \n",
       "3  0915190575                   4        []           US                 \n",
       "4  1416904999                   4        []           US                 \n",
       "\n",
       "                                     popular_shelves asin is_ebook  \\\n",
       "0  [{'count': '56', 'name': 'to-read'}, {'count':...         false   \n",
       "1  [{'count': '515', 'name': 'to-read'}, {'count'...         false   \n",
       "2  [{'count': '450', 'name': 'to-read'}, {'count'...         false   \n",
       "3  [{'count': '8', 'name': 'to-read'}, {'count': ...         false   \n",
       "4  [{'count': '8', 'name': 'to-read'}, {'count': ...         false   \n",
       "\n",
       "   average_rating kindle_asin  ... publication_month edition_information  \\\n",
       "0            4.13  B00DU10PUG  ...                 9                       \n",
       "1            4.22              ...                 3                       \n",
       "2            4.43  B017RORXNI  ...                 9                       \n",
       "3            4.29              ...                                         \n",
       "4            3.57              ...                 6                       \n",
       "\n",
       "  publication_year                                                url  \\\n",
       "0             2006  https://www.goodreads.com/book/show/287141.The...   \n",
       "1             2009  https://www.goodreads.com/book/show/6066812-al...   \n",
       "2             1995  https://www.goodreads.com/book/show/89378.Dog_...   \n",
       "3                   https://www.goodreads.com/book/show/3209312-mo...   \n",
       "4             2005  https://www.goodreads.com/book/show/1698376.Wh...   \n",
       "\n",
       "                                           image_url  book_id ratings_count  \\\n",
       "0  https://s.gr-assets.com/assets/nophoto/book/11...   287141            46   \n",
       "1  https://images.gr-assets.com/books/1316637798m...  6066812            98   \n",
       "2  https://images.gr-assets.com/books/1360057676m...    89378          1331   \n",
       "3  https://s.gr-assets.com/assets/nophoto/book/11...  3209312            11   \n",
       "4  https://s.gr-assets.com/assets/nophoto/book/11...  1698376            23   \n",
       "\n",
       "   work_id                                              title  \\\n",
       "0   278578                      The Aeneid for Boys and Girls   \n",
       "1   701117  All's Fairy in Love and War (Avalon: Web of Ma...   \n",
       "2    86259                                         Dog Heaven   \n",
       "3  3242879  Moths and Mothers, Feathers and Fathers: A Sto...   \n",
       "4  1695373                                    What Do You Do?   \n",
       "\n",
       "                                title_without_series  \n",
       "0                      The Aeneid for Boys and Girls  \n",
       "1  All's Fairy in Love and War (Avalon: Web of Ma...  \n",
       "2                                         Dog Heaven  \n",
       "3  Moths and Mothers, Feathers and Fathers: A Sto...  \n",
       "4                                    What Do You Do?  \n",
       "\n",
       "[5 rows x 29 columns]"
      ]
     },
     "execution_count": 10,
     "metadata": {},
     "output_type": "execute_result"
    }
   ],
   "source": [
    "books.head()"
   ]
  },
  {
   "cell_type": "code",
   "execution_count": 11,
   "id": "b46b16db",
   "metadata": {
    "scrolled": true
   },
   "outputs": [
    {
     "name": "stdout",
     "output_type": "stream",
     "text": [
      "<class 'pandas.core.frame.DataFrame'>\n",
      "RangeIndex: 124082 entries, 0 to 124081\n",
      "Data columns (total 29 columns):\n",
      " #   Column                Non-Null Count   Dtype  \n",
      "---  ------                --------------   -----  \n",
      " 0   isbn                  124082 non-null  object \n",
      " 1   text_reviews_count    124082 non-null  int64  \n",
      " 2   series                124082 non-null  object \n",
      " 3   country_code          124082 non-null  object \n",
      " 4   language_code         124082 non-null  object \n",
      " 5   popular_shelves       124082 non-null  object \n",
      " 6   asin                  124082 non-null  object \n",
      " 7   is_ebook              124082 non-null  object \n",
      " 8   average_rating        124082 non-null  float64\n",
      " 9   kindle_asin           124082 non-null  object \n",
      " 10  similar_books         124082 non-null  object \n",
      " 11  description           124082 non-null  object \n",
      " 12  format                124082 non-null  object \n",
      " 13  link                  124082 non-null  object \n",
      " 14  authors               124082 non-null  object \n",
      " 15  publisher             124082 non-null  object \n",
      " 16  num_pages             124082 non-null  object \n",
      " 17  publication_day       124082 non-null  object \n",
      " 18  isbn13                124082 non-null  object \n",
      " 19  publication_month     124082 non-null  object \n",
      " 20  edition_information   124082 non-null  object \n",
      " 21  publication_year      124082 non-null  object \n",
      " 22  url                   124082 non-null  object \n",
      " 23  image_url             124082 non-null  object \n",
      " 24  book_id               124082 non-null  int64  \n",
      " 25  ratings_count         124082 non-null  int64  \n",
      " 26  work_id               124082 non-null  int64  \n",
      " 27  title                 124082 non-null  object \n",
      " 28  title_without_series  124082 non-null  object \n",
      "dtypes: float64(1), int64(4), object(24)\n",
      "memory usage: 27.5+ MB\n"
     ]
    }
   ],
   "source": [
    "books.info()"
   ]
  },
  {
   "cell_type": "markdown",
   "id": "dde1e1d1",
   "metadata": {},
   "source": [
    "This DataFrame once again has no NaN values (nice!), and while it does have a much higher number of samples (124082) than the reviews DataFrame, this makes sense because I loaded the entire file instead of a sample. This is because in order to merget the data from each DataFrame, I will need matching book IDs, and it's impossible to know which book IDs I might need for my sample of reviews. \n",
    "\n",
    "This is yet again a ton of info, so let's trim it down again to data I might need."
   ]
  },
  {
   "cell_type": "code",
   "execution_count": 12,
   "id": "ddaafda8",
   "metadata": {},
   "outputs": [],
   "source": [
    "books_df = books[['text_reviews_count', 'series', 'country_code', 'language_code', 'is_ebook', 'average_rating', 'description', 'format', 'authors', 'publisher', 'num_pages', 'edition_information', 'publication_year', 'book_id', 'ratings_count', 'title', 'title_without_series']]"
   ]
  },
  {
   "cell_type": "code",
   "execution_count": 13,
   "id": "72643282",
   "metadata": {
    "scrolled": true
   },
   "outputs": [
    {
     "data": {
      "text/html": [
       "<div>\n",
       "<style scoped>\n",
       "    .dataframe tbody tr th:only-of-type {\n",
       "        vertical-align: middle;\n",
       "    }\n",
       "\n",
       "    .dataframe tbody tr th {\n",
       "        vertical-align: top;\n",
       "    }\n",
       "\n",
       "    .dataframe thead th {\n",
       "        text-align: right;\n",
       "    }\n",
       "</style>\n",
       "<table border=\"1\" class=\"dataframe\">\n",
       "  <thead>\n",
       "    <tr style=\"text-align: right;\">\n",
       "      <th></th>\n",
       "      <th>text_reviews_count</th>\n",
       "      <th>series</th>\n",
       "      <th>country_code</th>\n",
       "      <th>language_code</th>\n",
       "      <th>is_ebook</th>\n",
       "      <th>average_rating</th>\n",
       "      <th>description</th>\n",
       "      <th>format</th>\n",
       "      <th>authors</th>\n",
       "      <th>publisher</th>\n",
       "      <th>num_pages</th>\n",
       "      <th>edition_information</th>\n",
       "      <th>publication_year</th>\n",
       "      <th>book_id</th>\n",
       "      <th>ratings_count</th>\n",
       "      <th>title</th>\n",
       "      <th>title_without_series</th>\n",
       "    </tr>\n",
       "  </thead>\n",
       "  <tbody>\n",
       "    <tr>\n",
       "      <th>0</th>\n",
       "      <td>7</td>\n",
       "      <td>[]</td>\n",
       "      <td>US</td>\n",
       "      <td></td>\n",
       "      <td>false</td>\n",
       "      <td>4.13</td>\n",
       "      <td>Relates in vigorous prose the tale of Aeneas, ...</td>\n",
       "      <td>Paperback</td>\n",
       "      <td>[{'author_id': '3041852', 'role': ''}]</td>\n",
       "      <td>Yesterday's Classics</td>\n",
       "      <td>162</td>\n",
       "      <td></td>\n",
       "      <td>2006</td>\n",
       "      <td>287141</td>\n",
       "      <td>46</td>\n",
       "      <td>The Aeneid for Boys and Girls</td>\n",
       "      <td>The Aeneid for Boys and Girls</td>\n",
       "    </tr>\n",
       "    <tr>\n",
       "      <th>1</th>\n",
       "      <td>6</td>\n",
       "      <td>[151854]</td>\n",
       "      <td>US</td>\n",
       "      <td></td>\n",
       "      <td>false</td>\n",
       "      <td>4.22</td>\n",
       "      <td>To Kara's astonishment, she discovers that a p...</td>\n",
       "      <td>Paperback</td>\n",
       "      <td>[{'author_id': '19158', 'role': ''}]</td>\n",
       "      <td>Seven Seas</td>\n",
       "      <td>216</td>\n",
       "      <td></td>\n",
       "      <td>2009</td>\n",
       "      <td>6066812</td>\n",
       "      <td>98</td>\n",
       "      <td>All's Fairy in Love and War (Avalon: Web of Ma...</td>\n",
       "      <td>All's Fairy in Love and War (Avalon: Web of Ma...</td>\n",
       "    </tr>\n",
       "    <tr>\n",
       "      <th>2</th>\n",
       "      <td>193</td>\n",
       "      <td>[]</td>\n",
       "      <td>US</td>\n",
       "      <td>eng</td>\n",
       "      <td>false</td>\n",
       "      <td>4.43</td>\n",
       "      <td>In Newbery Medalist Cynthia Rylant's classic b...</td>\n",
       "      <td>Hardcover</td>\n",
       "      <td>[{'author_id': '5411', 'role': ''}]</td>\n",
       "      <td>Blue Sky Press</td>\n",
       "      <td>40</td>\n",
       "      <td></td>\n",
       "      <td>1995</td>\n",
       "      <td>89378</td>\n",
       "      <td>1331</td>\n",
       "      <td>Dog Heaven</td>\n",
       "      <td>Dog Heaven</td>\n",
       "    </tr>\n",
       "    <tr>\n",
       "      <th>3</th>\n",
       "      <td>4</td>\n",
       "      <td>[]</td>\n",
       "      <td>US</td>\n",
       "      <td></td>\n",
       "      <td>false</td>\n",
       "      <td>4.29</td>\n",
       "      <td></td>\n",
       "      <td></td>\n",
       "      <td>[{'author_id': '589328', 'role': ''}, {'author...</td>\n",
       "      <td></td>\n",
       "      <td></td>\n",
       "      <td></td>\n",
       "      <td></td>\n",
       "      <td>3209312</td>\n",
       "      <td>11</td>\n",
       "      <td>Moths and Mothers, Feathers and Fathers: A Sto...</td>\n",
       "      <td>Moths and Mothers, Feathers and Fathers: A Sto...</td>\n",
       "    </tr>\n",
       "    <tr>\n",
       "      <th>4</th>\n",
       "      <td>4</td>\n",
       "      <td>[]</td>\n",
       "      <td>US</td>\n",
       "      <td></td>\n",
       "      <td>false</td>\n",
       "      <td>3.57</td>\n",
       "      <td>WHAT DO YOU DO?\\nA hen lays eggs...\\nA cow giv...</td>\n",
       "      <td>Board Book</td>\n",
       "      <td>[{'author_id': '169159', 'role': ''}]</td>\n",
       "      <td>Little Simon</td>\n",
       "      <td>24</td>\n",
       "      <td></td>\n",
       "      <td>2005</td>\n",
       "      <td>1698376</td>\n",
       "      <td>23</td>\n",
       "      <td>What Do You Do?</td>\n",
       "      <td>What Do You Do?</td>\n",
       "    </tr>\n",
       "  </tbody>\n",
       "</table>\n",
       "</div>"
      ],
      "text/plain": [
       "   text_reviews_count    series country_code language_code is_ebook  \\\n",
       "0                   7        []           US                  false   \n",
       "1                   6  [151854]           US                  false   \n",
       "2                 193        []           US           eng    false   \n",
       "3                   4        []           US                  false   \n",
       "4                   4        []           US                  false   \n",
       "\n",
       "   average_rating                                        description  \\\n",
       "0            4.13  Relates in vigorous prose the tale of Aeneas, ...   \n",
       "1            4.22  To Kara's astonishment, she discovers that a p...   \n",
       "2            4.43  In Newbery Medalist Cynthia Rylant's classic b...   \n",
       "3            4.29                                                      \n",
       "4            3.57  WHAT DO YOU DO?\\nA hen lays eggs...\\nA cow giv...   \n",
       "\n",
       "       format                                            authors  \\\n",
       "0   Paperback             [{'author_id': '3041852', 'role': ''}]   \n",
       "1   Paperback               [{'author_id': '19158', 'role': ''}]   \n",
       "2   Hardcover                [{'author_id': '5411', 'role': ''}]   \n",
       "3              [{'author_id': '589328', 'role': ''}, {'author...   \n",
       "4  Board Book              [{'author_id': '169159', 'role': ''}]   \n",
       "\n",
       "              publisher num_pages edition_information publication_year  \\\n",
       "0  Yesterday's Classics       162                                 2006   \n",
       "1            Seven Seas       216                                 2009   \n",
       "2        Blue Sky Press        40                                 1995   \n",
       "3                                                                        \n",
       "4          Little Simon        24                                 2005   \n",
       "\n",
       "   book_id  ratings_count                                              title  \\\n",
       "0   287141             46                      The Aeneid for Boys and Girls   \n",
       "1  6066812             98  All's Fairy in Love and War (Avalon: Web of Ma...   \n",
       "2    89378           1331                                         Dog Heaven   \n",
       "3  3209312             11  Moths and Mothers, Feathers and Fathers: A Sto...   \n",
       "4  1698376             23                                    What Do You Do?   \n",
       "\n",
       "                                title_without_series  \n",
       "0                      The Aeneid for Boys and Girls  \n",
       "1  All's Fairy in Love and War (Avalon: Web of Ma...  \n",
       "2                                         Dog Heaven  \n",
       "3  Moths and Mothers, Feathers and Fathers: A Sto...  \n",
       "4                                    What Do You Do?  "
      ]
     },
     "execution_count": 13,
     "metadata": {},
     "output_type": "execute_result"
    }
   ],
   "source": [
    "books_df.head()"
   ]
  },
  {
   "cell_type": "markdown",
   "id": "6fe4dd35",
   "metadata": {},
   "source": [
    "Let's explore some of these columns."
   ]
  },
  {
   "cell_type": "code",
   "execution_count": 14,
   "id": "0995aa52",
   "metadata": {
    "scrolled": false
   },
   "outputs": [
    {
     "data": {
      "text/plain": [
       "US    124082\n",
       "Name: country_code, dtype: int64"
      ]
     },
     "execution_count": 14,
     "metadata": {},
     "output_type": "execute_result"
    }
   ],
   "source": [
    "books_df.country_code.value_counts()"
   ]
  },
  {
   "cell_type": "markdown",
   "id": "aed60f91",
   "metadata": {},
   "source": [
    "Looks like every book has the same country code - I can probably leave that column out."
   ]
  },
  {
   "cell_type": "code",
   "execution_count": 15,
   "id": "c0854043",
   "metadata": {
    "scrolled": false
   },
   "outputs": [
    {
     "data": {
      "text/plain": [
       "         72496\n",
       "eng      30253\n",
       "en-US     6197\n",
       "en-GB     2071\n",
       "spa       1501\n",
       "         ...  \n",
       "egy          1\n",
       "aze          1\n",
       "mon          1\n",
       "vls          1\n",
       "nub          1\n",
       "Name: language_code, Length: 90, dtype: int64"
      ]
     },
     "execution_count": 15,
     "metadata": {},
     "output_type": "execute_result"
    }
   ],
   "source": [
    "books_df.language_code.value_counts()"
   ]
  },
  {
   "cell_type": "markdown",
   "id": "d0317212",
   "metadata": {},
   "source": [
    "This will be important to consider - to scale down the data, I will likely restrict the data to only reviews of books written in English (more on this later!)"
   ]
  },
  {
   "cell_type": "code",
   "execution_count": 16,
   "id": "9a7a6f76",
   "metadata": {
    "scrolled": true
   },
   "outputs": [
    {
     "data": {
      "text/plain": [
       "Hardcover                   51159\n",
       "Paperback                   38880\n",
       "                            21039\n",
       "Board Book                   3214\n",
       "ebook                        2423\n",
       "                            ...  \n",
       "pop up book                     1\n",
       "miekka (paperback)              1\n",
       "Klappenbroschur                 1\n",
       "three books in boxed set        1\n",
       "Board Book Periodical           1\n",
       "Name: format, Length: 209, dtype: int64"
      ]
     },
     "execution_count": 16,
     "metadata": {},
     "output_type": "execute_result"
    }
   ],
   "source": [
    "books_df.format.value_counts()"
   ]
  },
  {
   "cell_type": "markdown",
   "id": "cae8b96e",
   "metadata": {},
   "source": [
    "209 different formats of books? I have no idea what those could be, and the book format likely doesn't influence the reviews that significantly, so I can probably leave out this column as well."
   ]
  },
  {
   "cell_type": "code",
   "execution_count": 17,
   "id": "76913daf",
   "metadata": {
    "scrolled": true
   },
   "outputs": [
    {
     "data": {
      "text/plain": [
       "false    114606\n",
       "true       9476\n",
       "Name: is_ebook, dtype: int64"
      ]
     },
     "execution_count": 17,
     "metadata": {},
     "output_type": "execute_result"
    }
   ],
   "source": [
    "books_df.is_ebook.value_counts()"
   ]
  },
  {
   "cell_type": "markdown",
   "id": "5dae96e3",
   "metadata": {},
   "source": [
    "There are significantly more physical books represented in this data than ebooks."
   ]
  },
  {
   "cell_type": "code",
   "execution_count": 18,
   "id": "8c7e3ab0",
   "metadata": {},
   "outputs": [
    {
     "data": {
      "text/html": [
       "<div>\n",
       "<style scoped>\n",
       "    .dataframe tbody tr th:only-of-type {\n",
       "        vertical-align: middle;\n",
       "    }\n",
       "\n",
       "    .dataframe tbody tr th {\n",
       "        vertical-align: top;\n",
       "    }\n",
       "\n",
       "    .dataframe thead th {\n",
       "        text-align: right;\n",
       "    }\n",
       "</style>\n",
       "<table border=\"1\" class=\"dataframe\">\n",
       "  <thead>\n",
       "    <tr style=\"text-align: right;\">\n",
       "      <th></th>\n",
       "      <th>text_reviews_count</th>\n",
       "      <th>series</th>\n",
       "      <th>country_code</th>\n",
       "      <th>language_code</th>\n",
       "      <th>is_ebook</th>\n",
       "      <th>average_rating</th>\n",
       "      <th>description</th>\n",
       "      <th>format</th>\n",
       "      <th>authors</th>\n",
       "      <th>publisher</th>\n",
       "      <th>num_pages</th>\n",
       "      <th>edition_information</th>\n",
       "      <th>publication_year</th>\n",
       "      <th>book_id</th>\n",
       "      <th>ratings_count</th>\n",
       "      <th>title</th>\n",
       "      <th>title_without_series</th>\n",
       "    </tr>\n",
       "  </thead>\n",
       "  <tbody>\n",
       "    <tr>\n",
       "      <th>17550</th>\n",
       "      <td>1231</td>\n",
       "      <td>[751058]</td>\n",
       "      <td>US</td>\n",
       "      <td>eng</td>\n",
       "      <td>false</td>\n",
       "      <td>4.43</td>\n",
       "      <td>The companion to the #1 blockbuster bestseller...</td>\n",
       "      <td>Hardcover</td>\n",
       "      <td>[{'author_id': '6561846', 'role': ''}, {'autho...</td>\n",
       "      <td>Philomel Books</td>\n",
       "      <td>36</td>\n",
       "      <td></td>\n",
       "      <td>2015</td>\n",
       "      <td>23310161</td>\n",
       "      <td>8924</td>\n",
       "      <td>The Day the Crayons Came Home</td>\n",
       "      <td>The Day the Crayons Came Home</td>\n",
       "    </tr>\n",
       "  </tbody>\n",
       "</table>\n",
       "</div>"
      ],
      "text/plain": [
       "       text_reviews_count    series country_code language_code is_ebook  \\\n",
       "17550                1231  [751058]           US           eng    false   \n",
       "\n",
       "       average_rating                                        description  \\\n",
       "17550            4.43  The companion to the #1 blockbuster bestseller...   \n",
       "\n",
       "          format                                            authors  \\\n",
       "17550  Hardcover  [{'author_id': '6561846', 'role': ''}, {'autho...   \n",
       "\n",
       "            publisher num_pages edition_information publication_year  \\\n",
       "17550  Philomel Books        36                                 2015   \n",
       "\n",
       "        book_id  ratings_count                          title  \\\n",
       "17550  23310161           8924  The Day the Crayons Came Home   \n",
       "\n",
       "                title_without_series  \n",
       "17550  The Day the Crayons Came Home  "
      ]
     },
     "execution_count": 18,
     "metadata": {},
     "output_type": "execute_result"
    }
   ],
   "source": [
    "books_df.loc[books_df['book_id'] == 23310161]"
   ]
  },
  {
   "cell_type": "markdown",
   "id": "41a1d855",
   "metadata": {},
   "source": [
    "Indexing seems to work!\n",
    "Now that I've explored the data a bit more, I'm going to remove a few more columns."
   ]
  },
  {
   "cell_type": "code",
   "execution_count": 19,
   "id": "e9f850d1",
   "metadata": {},
   "outputs": [],
   "source": [
    "books_df = books[['text_reviews_count', 'series', 'language_code', 'is_ebook', 'average_rating', 'description', 'authors', 'publisher', 'num_pages', 'edition_information', 'publication_year', 'book_id', 'ratings_count', 'title', 'title_without_series']]"
   ]
  },
  {
   "cell_type": "code",
   "execution_count": 20,
   "id": "6dec2508",
   "metadata": {
    "scrolled": true
   },
   "outputs": [
    {
     "data": {
      "text/html": [
       "<div>\n",
       "<style scoped>\n",
       "    .dataframe tbody tr th:only-of-type {\n",
       "        vertical-align: middle;\n",
       "    }\n",
       "\n",
       "    .dataframe tbody tr th {\n",
       "        vertical-align: top;\n",
       "    }\n",
       "\n",
       "    .dataframe thead th {\n",
       "        text-align: right;\n",
       "    }\n",
       "</style>\n",
       "<table border=\"1\" class=\"dataframe\">\n",
       "  <thead>\n",
       "    <tr style=\"text-align: right;\">\n",
       "      <th></th>\n",
       "      <th>text_reviews_count</th>\n",
       "      <th>series</th>\n",
       "      <th>language_code</th>\n",
       "      <th>is_ebook</th>\n",
       "      <th>average_rating</th>\n",
       "      <th>description</th>\n",
       "      <th>authors</th>\n",
       "      <th>publisher</th>\n",
       "      <th>num_pages</th>\n",
       "      <th>edition_information</th>\n",
       "      <th>publication_year</th>\n",
       "      <th>book_id</th>\n",
       "      <th>ratings_count</th>\n",
       "      <th>title</th>\n",
       "      <th>title_without_series</th>\n",
       "    </tr>\n",
       "  </thead>\n",
       "  <tbody>\n",
       "    <tr>\n",
       "      <th>0</th>\n",
       "      <td>7</td>\n",
       "      <td>[]</td>\n",
       "      <td></td>\n",
       "      <td>false</td>\n",
       "      <td>4.13</td>\n",
       "      <td>Relates in vigorous prose the tale of Aeneas, ...</td>\n",
       "      <td>[{'author_id': '3041852', 'role': ''}]</td>\n",
       "      <td>Yesterday's Classics</td>\n",
       "      <td>162</td>\n",
       "      <td></td>\n",
       "      <td>2006</td>\n",
       "      <td>287141</td>\n",
       "      <td>46</td>\n",
       "      <td>The Aeneid for Boys and Girls</td>\n",
       "      <td>The Aeneid for Boys and Girls</td>\n",
       "    </tr>\n",
       "    <tr>\n",
       "      <th>1</th>\n",
       "      <td>6</td>\n",
       "      <td>[151854]</td>\n",
       "      <td></td>\n",
       "      <td>false</td>\n",
       "      <td>4.22</td>\n",
       "      <td>To Kara's astonishment, she discovers that a p...</td>\n",
       "      <td>[{'author_id': '19158', 'role': ''}]</td>\n",
       "      <td>Seven Seas</td>\n",
       "      <td>216</td>\n",
       "      <td></td>\n",
       "      <td>2009</td>\n",
       "      <td>6066812</td>\n",
       "      <td>98</td>\n",
       "      <td>All's Fairy in Love and War (Avalon: Web of Ma...</td>\n",
       "      <td>All's Fairy in Love and War (Avalon: Web of Ma...</td>\n",
       "    </tr>\n",
       "    <tr>\n",
       "      <th>2</th>\n",
       "      <td>193</td>\n",
       "      <td>[]</td>\n",
       "      <td>eng</td>\n",
       "      <td>false</td>\n",
       "      <td>4.43</td>\n",
       "      <td>In Newbery Medalist Cynthia Rylant's classic b...</td>\n",
       "      <td>[{'author_id': '5411', 'role': ''}]</td>\n",
       "      <td>Blue Sky Press</td>\n",
       "      <td>40</td>\n",
       "      <td></td>\n",
       "      <td>1995</td>\n",
       "      <td>89378</td>\n",
       "      <td>1331</td>\n",
       "      <td>Dog Heaven</td>\n",
       "      <td>Dog Heaven</td>\n",
       "    </tr>\n",
       "    <tr>\n",
       "      <th>3</th>\n",
       "      <td>4</td>\n",
       "      <td>[]</td>\n",
       "      <td></td>\n",
       "      <td>false</td>\n",
       "      <td>4.29</td>\n",
       "      <td></td>\n",
       "      <td>[{'author_id': '589328', 'role': ''}, {'author...</td>\n",
       "      <td></td>\n",
       "      <td></td>\n",
       "      <td></td>\n",
       "      <td></td>\n",
       "      <td>3209312</td>\n",
       "      <td>11</td>\n",
       "      <td>Moths and Mothers, Feathers and Fathers: A Sto...</td>\n",
       "      <td>Moths and Mothers, Feathers and Fathers: A Sto...</td>\n",
       "    </tr>\n",
       "    <tr>\n",
       "      <th>4</th>\n",
       "      <td>4</td>\n",
       "      <td>[]</td>\n",
       "      <td></td>\n",
       "      <td>false</td>\n",
       "      <td>3.57</td>\n",
       "      <td>WHAT DO YOU DO?\\nA hen lays eggs...\\nA cow giv...</td>\n",
       "      <td>[{'author_id': '169159', 'role': ''}]</td>\n",
       "      <td>Little Simon</td>\n",
       "      <td>24</td>\n",
       "      <td></td>\n",
       "      <td>2005</td>\n",
       "      <td>1698376</td>\n",
       "      <td>23</td>\n",
       "      <td>What Do You Do?</td>\n",
       "      <td>What Do You Do?</td>\n",
       "    </tr>\n",
       "  </tbody>\n",
       "</table>\n",
       "</div>"
      ],
      "text/plain": [
       "   text_reviews_count    series language_code is_ebook  average_rating  \\\n",
       "0                   7        []                  false            4.13   \n",
       "1                   6  [151854]                  false            4.22   \n",
       "2                 193        []           eng    false            4.43   \n",
       "3                   4        []                  false            4.29   \n",
       "4                   4        []                  false            3.57   \n",
       "\n",
       "                                         description  \\\n",
       "0  Relates in vigorous prose the tale of Aeneas, ...   \n",
       "1  To Kara's astonishment, she discovers that a p...   \n",
       "2  In Newbery Medalist Cynthia Rylant's classic b...   \n",
       "3                                                      \n",
       "4  WHAT DO YOU DO?\\nA hen lays eggs...\\nA cow giv...   \n",
       "\n",
       "                                             authors             publisher  \\\n",
       "0             [{'author_id': '3041852', 'role': ''}]  Yesterday's Classics   \n",
       "1               [{'author_id': '19158', 'role': ''}]            Seven Seas   \n",
       "2                [{'author_id': '5411', 'role': ''}]        Blue Sky Press   \n",
       "3  [{'author_id': '589328', 'role': ''}, {'author...                         \n",
       "4              [{'author_id': '169159', 'role': ''}]          Little Simon   \n",
       "\n",
       "  num_pages edition_information publication_year  book_id  ratings_count  \\\n",
       "0       162                                 2006   287141             46   \n",
       "1       216                                 2009  6066812             98   \n",
       "2        40                                 1995    89378           1331   \n",
       "3                                                 3209312             11   \n",
       "4        24                                 2005  1698376             23   \n",
       "\n",
       "                                               title  \\\n",
       "0                      The Aeneid for Boys and Girls   \n",
       "1  All's Fairy in Love and War (Avalon: Web of Ma...   \n",
       "2                                         Dog Heaven   \n",
       "3  Moths and Mothers, Feathers and Fathers: A Sto...   \n",
       "4                                    What Do You Do?   \n",
       "\n",
       "                                title_without_series  \n",
       "0                      The Aeneid for Boys and Girls  \n",
       "1  All's Fairy in Love and War (Avalon: Web of Ma...  \n",
       "2                                         Dog Heaven  \n",
       "3  Moths and Mothers, Feathers and Fathers: A Sto...  \n",
       "4                                    What Do You Do?  "
      ]
     },
     "execution_count": 20,
     "metadata": {},
     "output_type": "execute_result"
    }
   ],
   "source": [
    "books_df.head()"
   ]
  },
  {
   "cell_type": "markdown",
   "id": "5bd54168",
   "metadata": {},
   "source": [
    "Now that I have the preliminary information I want, I'll use pandas' `.merge()` function to combine the review and book data, which will automatically align based off of their shared book_id values."
   ]
  },
  {
   "cell_type": "code",
   "execution_count": 21,
   "id": "b5ac873e",
   "metadata": {},
   "outputs": [],
   "source": [
    "children_df = pd.merge(reviews_df, books_df)"
   ]
  },
  {
   "cell_type": "code",
   "execution_count": 22,
   "id": "ce73aa46",
   "metadata": {},
   "outputs": [
    {
     "data": {
      "text/html": [
       "<div>\n",
       "<style scoped>\n",
       "    .dataframe tbody tr th:only-of-type {\n",
       "        vertical-align: middle;\n",
       "    }\n",
       "\n",
       "    .dataframe tbody tr th {\n",
       "        vertical-align: top;\n",
       "    }\n",
       "\n",
       "    .dataframe thead th {\n",
       "        text-align: right;\n",
       "    }\n",
       "</style>\n",
       "<table border=\"1\" class=\"dataframe\">\n",
       "  <thead>\n",
       "    <tr style=\"text-align: right;\">\n",
       "      <th></th>\n",
       "      <th>user_id</th>\n",
       "      <th>book_id</th>\n",
       "      <th>review_id</th>\n",
       "      <th>rating</th>\n",
       "      <th>review_text</th>\n",
       "      <th>text_reviews_count</th>\n",
       "      <th>series</th>\n",
       "      <th>language_code</th>\n",
       "      <th>is_ebook</th>\n",
       "      <th>average_rating</th>\n",
       "      <th>description</th>\n",
       "      <th>authors</th>\n",
       "      <th>publisher</th>\n",
       "      <th>num_pages</th>\n",
       "      <th>edition_information</th>\n",
       "      <th>publication_year</th>\n",
       "      <th>ratings_count</th>\n",
       "      <th>title</th>\n",
       "      <th>title_without_series</th>\n",
       "    </tr>\n",
       "  </thead>\n",
       "  <tbody>\n",
       "    <tr>\n",
       "      <th>0</th>\n",
       "      <td>a2d6dd1685e5aa0a72c9410f8f55e056</td>\n",
       "      <td>17165891</td>\n",
       "      <td>dd6c3698b614b747d6fbd01e65186e34</td>\n",
       "      <td>0</td>\n",
       "      <td>O</td>\n",
       "      <td>210</td>\n",
       "      <td>[]</td>\n",
       "      <td>eng</td>\n",
       "      <td>false</td>\n",
       "      <td>4.05</td>\n",
       "      <td>Xander planned a panda party. Yes, a dandy who...</td>\n",
       "      <td>[{'author_id': '61707', 'role': ''}, {'author_...</td>\n",
       "      <td>Clarion Books</td>\n",
       "      <td>40</td>\n",
       "      <td></td>\n",
       "      <td>2013</td>\n",
       "      <td>1163</td>\n",
       "      <td>Xander's Panda Party</td>\n",
       "      <td>Xander's Panda Party</td>\n",
       "    </tr>\n",
       "    <tr>\n",
       "      <th>1</th>\n",
       "      <td>6adb9b5f52e7a89b820d8afcb6329b0e</td>\n",
       "      <td>17165891</td>\n",
       "      <td>0e2ba452097b55739c564e1fabcd361e</td>\n",
       "      <td>5</td>\n",
       "      <td>my pick for the caldecott so far...</td>\n",
       "      <td>210</td>\n",
       "      <td>[]</td>\n",
       "      <td>eng</td>\n",
       "      <td>false</td>\n",
       "      <td>4.05</td>\n",
       "      <td>Xander planned a panda party. Yes, a dandy who...</td>\n",
       "      <td>[{'author_id': '61707', 'role': ''}, {'author_...</td>\n",
       "      <td>Clarion Books</td>\n",
       "      <td>40</td>\n",
       "      <td></td>\n",
       "      <td>2013</td>\n",
       "      <td>1163</td>\n",
       "      <td>Xander's Panda Party</td>\n",
       "      <td>Xander's Panda Party</td>\n",
       "    </tr>\n",
       "    <tr>\n",
       "      <th>2</th>\n",
       "      <td>686b174e58665fe35cd89c64c0607992</td>\n",
       "      <td>29064279</td>\n",
       "      <td>c1c06eeb894e4307875165f4fe8d2f98</td>\n",
       "      <td>4</td>\n",
       "      <td>I liked the illustrations, which are are - wel...</td>\n",
       "      <td>22</td>\n",
       "      <td>[]</td>\n",
       "      <td>eng</td>\n",
       "      <td>false</td>\n",
       "      <td>3.78</td>\n",
       "      <td>Now a Storytime from Space Official Selection!...</td>\n",
       "      <td>[{'author_id': '9860291', 'role': ''}, {'autho...</td>\n",
       "      <td>Dawn Publications (CA)</td>\n",
       "      <td>32</td>\n",
       "      <td></td>\n",
       "      <td>2016</td>\n",
       "      <td>84</td>\n",
       "      <td>A Moon of My Own</td>\n",
       "      <td>A Moon of My Own</td>\n",
       "    </tr>\n",
       "    <tr>\n",
       "      <th>3</th>\n",
       "      <td>e5b6484501d2667dddf7df4d588311de</td>\n",
       "      <td>3636</td>\n",
       "      <td>31a18e28070f4b2cb2139ea92c16c9c5</td>\n",
       "      <td>5</td>\n",
       "      <td>The best book I've read so far.</td>\n",
       "      <td>49850</td>\n",
       "      <td>[162712]</td>\n",
       "      <td>eng</td>\n",
       "      <td>false</td>\n",
       "      <td>4.12</td>\n",
       "      <td>Twelve-year-old Jonas lives in a seemingly ide...</td>\n",
       "      <td>[{'author_id': '2493', 'role': ''}]</td>\n",
       "      <td>Ember</td>\n",
       "      <td>208</td>\n",
       "      <td></td>\n",
       "      <td>2006</td>\n",
       "      <td>1311422</td>\n",
       "      <td>The Giver (The Giver, #1)</td>\n",
       "      <td>The Giver (The Giver, #1)</td>\n",
       "    </tr>\n",
       "    <tr>\n",
       "      <th>4</th>\n",
       "      <td>f59779e96853e5d7e21024bd0e0e8597</td>\n",
       "      <td>3636</td>\n",
       "      <td>0143ae5b6964035e5b7929b6b27ef92b</td>\n",
       "      <td>5</td>\n",
       "      <td>This book is absolutely enjoyable! I loved the...</td>\n",
       "      <td>49850</td>\n",
       "      <td>[162712]</td>\n",
       "      <td>eng</td>\n",
       "      <td>false</td>\n",
       "      <td>4.12</td>\n",
       "      <td>Twelve-year-old Jonas lives in a seemingly ide...</td>\n",
       "      <td>[{'author_id': '2493', 'role': ''}]</td>\n",
       "      <td>Ember</td>\n",
       "      <td>208</td>\n",
       "      <td></td>\n",
       "      <td>2006</td>\n",
       "      <td>1311422</td>\n",
       "      <td>The Giver (The Giver, #1)</td>\n",
       "      <td>The Giver (The Giver, #1)</td>\n",
       "    </tr>\n",
       "  </tbody>\n",
       "</table>\n",
       "</div>"
      ],
      "text/plain": [
       "                            user_id   book_id  \\\n",
       "0  a2d6dd1685e5aa0a72c9410f8f55e056  17165891   \n",
       "1  6adb9b5f52e7a89b820d8afcb6329b0e  17165891   \n",
       "2  686b174e58665fe35cd89c64c0607992  29064279   \n",
       "3  e5b6484501d2667dddf7df4d588311de      3636   \n",
       "4  f59779e96853e5d7e21024bd0e0e8597      3636   \n",
       "\n",
       "                          review_id  rating  \\\n",
       "0  dd6c3698b614b747d6fbd01e65186e34       0   \n",
       "1  0e2ba452097b55739c564e1fabcd361e       5   \n",
       "2  c1c06eeb894e4307875165f4fe8d2f98       4   \n",
       "3  31a18e28070f4b2cb2139ea92c16c9c5       5   \n",
       "4  0143ae5b6964035e5b7929b6b27ef92b       5   \n",
       "\n",
       "                                         review_text  text_reviews_count  \\\n",
       "0                                                  O                 210   \n",
       "1                my pick for the caldecott so far...                 210   \n",
       "2  I liked the illustrations, which are are - wel...                  22   \n",
       "3                    The best book I've read so far.               49850   \n",
       "4  This book is absolutely enjoyable! I loved the...               49850   \n",
       "\n",
       "     series language_code is_ebook  average_rating  \\\n",
       "0        []           eng    false            4.05   \n",
       "1        []           eng    false            4.05   \n",
       "2        []           eng    false            3.78   \n",
       "3  [162712]           eng    false            4.12   \n",
       "4  [162712]           eng    false            4.12   \n",
       "\n",
       "                                         description  \\\n",
       "0  Xander planned a panda party. Yes, a dandy who...   \n",
       "1  Xander planned a panda party. Yes, a dandy who...   \n",
       "2  Now a Storytime from Space Official Selection!...   \n",
       "3  Twelve-year-old Jonas lives in a seemingly ide...   \n",
       "4  Twelve-year-old Jonas lives in a seemingly ide...   \n",
       "\n",
       "                                             authors               publisher  \\\n",
       "0  [{'author_id': '61707', 'role': ''}, {'author_...           Clarion Books   \n",
       "1  [{'author_id': '61707', 'role': ''}, {'author_...           Clarion Books   \n",
       "2  [{'author_id': '9860291', 'role': ''}, {'autho...  Dawn Publications (CA)   \n",
       "3                [{'author_id': '2493', 'role': ''}]                   Ember   \n",
       "4                [{'author_id': '2493', 'role': ''}]                   Ember   \n",
       "\n",
       "  num_pages edition_information publication_year  ratings_count  \\\n",
       "0        40                                 2013           1163   \n",
       "1        40                                 2013           1163   \n",
       "2        32                                 2016             84   \n",
       "3       208                                 2006        1311422   \n",
       "4       208                                 2006        1311422   \n",
       "\n",
       "                       title       title_without_series  \n",
       "0       Xander's Panda Party       Xander's Panda Party  \n",
       "1       Xander's Panda Party       Xander's Panda Party  \n",
       "2           A Moon of My Own           A Moon of My Own  \n",
       "3  The Giver (The Giver, #1)  The Giver (The Giver, #1)  \n",
       "4  The Giver (The Giver, #1)  The Giver (The Giver, #1)  "
      ]
     },
     "execution_count": 22,
     "metadata": {},
     "output_type": "execute_result"
    }
   ],
   "source": [
    "children_df.head()"
   ]
  },
  {
   "cell_type": "code",
   "execution_count": 23,
   "id": "353c5062",
   "metadata": {},
   "outputs": [
    {
     "data": {
      "text/plain": [
       "(5000, 19)"
      ]
     },
     "execution_count": 23,
     "metadata": {},
     "output_type": "execute_result"
    }
   ],
   "source": [
    "children_df.shape"
   ]
  },
  {
   "cell_type": "markdown",
   "id": "f0c30832",
   "metadata": {},
   "source": [
    "I still have 5000 rows, meaning all the review samples are accounted for, and the columns have increased given that I've combined the information from both DataFrames. Now I'm going to take a closer look at some of the text just to make sure it's there in full (I'll dive into analysis of how the text is represented later on). "
   ]
  },
  {
   "cell_type": "code",
   "execution_count": 24,
   "id": "efcd8ce4",
   "metadata": {},
   "outputs": [
    {
     "data": {
      "text/plain": [
       "'my pick for the caldecott so far...'"
      ]
     },
     "execution_count": 24,
     "metadata": {},
     "output_type": "execute_result"
    }
   ],
   "source": [
    "children_df.review_text[1]"
   ]
  },
  {
   "cell_type": "code",
   "execution_count": 25,
   "id": "4b779cc1",
   "metadata": {
    "scrolled": true
   },
   "outputs": [
    {
     "data": {
      "text/plain": [
       "'Crenshaw was good, but not the best. Crenshaw was a weird, but funny cat. I thought that the ending was a little cheesy.'"
      ]
     },
     "execution_count": 25,
     "metadata": {},
     "output_type": "execute_result"
    }
   ],
   "source": [
    "children_df.review_text[1000]"
   ]
  },
  {
   "cell_type": "markdown",
   "id": "2ae3dd36",
   "metadata": {},
   "source": [
    "## Children's Literature Genre Info\n",
    "This is the children's genre subset of data, but the data provided offers multiple possible genre tags for each book, which could be useful looking at potential overlap between categories. Once again, genre info is in a different JSON file, so I'll load that here and follow the same process as with the other DataFrames so far, merging based on shared book IDs."
   ]
  },
  {
   "cell_type": "code",
   "execution_count": 26,
   "id": "2e7c3441",
   "metadata": {},
   "outputs": [],
   "source": [
    "genres_df = pd.read_json('/Users/ashleyfeiler/Documents/data_science/Goodreads-Genre-Reviews-Analysis/data/goodreads_book_genres_initial.json', lines=True)"
   ]
  },
  {
   "cell_type": "code",
   "execution_count": 27,
   "id": "8a50f58d",
   "metadata": {
    "scrolled": true
   },
   "outputs": [
    {
     "data": {
      "text/html": [
       "<div>\n",
       "<style scoped>\n",
       "    .dataframe tbody tr th:only-of-type {\n",
       "        vertical-align: middle;\n",
       "    }\n",
       "\n",
       "    .dataframe tbody tr th {\n",
       "        vertical-align: top;\n",
       "    }\n",
       "\n",
       "    .dataframe thead th {\n",
       "        text-align: right;\n",
       "    }\n",
       "</style>\n",
       "<table border=\"1\" class=\"dataframe\">\n",
       "  <thead>\n",
       "    <tr style=\"text-align: right;\">\n",
       "      <th></th>\n",
       "      <th>book_id</th>\n",
       "      <th>genres</th>\n",
       "    </tr>\n",
       "  </thead>\n",
       "  <tbody>\n",
       "    <tr>\n",
       "      <th>0</th>\n",
       "      <td>5333265</td>\n",
       "      <td>{'history, historical fiction, biography': 1}</td>\n",
       "    </tr>\n",
       "    <tr>\n",
       "      <th>1</th>\n",
       "      <td>1333909</td>\n",
       "      <td>{'fiction': 219, 'history, historical fiction,...</td>\n",
       "    </tr>\n",
       "    <tr>\n",
       "      <th>2</th>\n",
       "      <td>7327624</td>\n",
       "      <td>{'fantasy, paranormal': 31, 'fiction': 8, 'mys...</td>\n",
       "    </tr>\n",
       "    <tr>\n",
       "      <th>3</th>\n",
       "      <td>6066819</td>\n",
       "      <td>{'fiction': 555, 'romance': 23, 'mystery, thri...</td>\n",
       "    </tr>\n",
       "    <tr>\n",
       "      <th>4</th>\n",
       "      <td>287140</td>\n",
       "      <td>{'non-fiction': 3}</td>\n",
       "    </tr>\n",
       "  </tbody>\n",
       "</table>\n",
       "</div>"
      ],
      "text/plain": [
       "   book_id                                             genres\n",
       "0  5333265      {'history, historical fiction, biography': 1}\n",
       "1  1333909  {'fiction': 219, 'history, historical fiction,...\n",
       "2  7327624  {'fantasy, paranormal': 31, 'fiction': 8, 'mys...\n",
       "3  6066819  {'fiction': 555, 'romance': 23, 'mystery, thri...\n",
       "4   287140                                 {'non-fiction': 3}"
      ]
     },
     "execution_count": 27,
     "metadata": {},
     "output_type": "execute_result"
    }
   ],
   "source": [
    "genres_df.head()"
   ]
  },
  {
   "cell_type": "code",
   "execution_count": 28,
   "id": "38870ca7",
   "metadata": {
    "scrolled": true
   },
   "outputs": [
    {
     "data": {
      "text/html": [
       "<div>\n",
       "<style scoped>\n",
       "    .dataframe tbody tr th:only-of-type {\n",
       "        vertical-align: middle;\n",
       "    }\n",
       "\n",
       "    .dataframe tbody tr th {\n",
       "        vertical-align: top;\n",
       "    }\n",
       "\n",
       "    .dataframe thead th {\n",
       "        text-align: right;\n",
       "    }\n",
       "</style>\n",
       "<table border=\"1\" class=\"dataframe\">\n",
       "  <thead>\n",
       "    <tr style=\"text-align: right;\">\n",
       "      <th></th>\n",
       "      <th>book_id</th>\n",
       "      <th>genres</th>\n",
       "    </tr>\n",
       "  </thead>\n",
       "  <tbody>\n",
       "    <tr>\n",
       "      <th>2094711</th>\n",
       "      <td>3636</td>\n",
       "      <td>{'children': 2091, 'fiction': 1571, 'young-adu...</td>\n",
       "    </tr>\n",
       "  </tbody>\n",
       "</table>\n",
       "</div>"
      ],
      "text/plain": [
       "         book_id                                             genres\n",
       "2094711     3636  {'children': 2091, 'fiction': 1571, 'young-adu..."
      ]
     },
     "execution_count": 28,
     "metadata": {},
     "output_type": "execute_result"
    }
   ],
   "source": [
    "genres_df.loc[genres_df['book_id'] == 3636]"
   ]
  },
  {
   "cell_type": "code",
   "execution_count": 29,
   "id": "07cfdef3",
   "metadata": {},
   "outputs": [],
   "source": [
    "children_df = pd.merge(children_df, genres_df)\n",
    "children_df['Genre_Tag'] = 'children'"
   ]
  },
  {
   "cell_type": "markdown",
   "id": "ea208b5f",
   "metadata": {},
   "source": [
    "Here I've merged the list of genres associated with each book, but have also broadcast the genre tag 'children' to every entry in this category to represent that it is part of the children's literature genre subset. This will be helpful for making a DataFrame with all the different genres combined to keep different genres differentiated."
   ]
  },
  {
   "cell_type": "code",
   "execution_count": 30,
   "id": "1866cf87",
   "metadata": {
    "scrolled": true
   },
   "outputs": [
    {
     "data": {
      "text/html": [
       "<div>\n",
       "<style scoped>\n",
       "    .dataframe tbody tr th:only-of-type {\n",
       "        vertical-align: middle;\n",
       "    }\n",
       "\n",
       "    .dataframe tbody tr th {\n",
       "        vertical-align: top;\n",
       "    }\n",
       "\n",
       "    .dataframe thead th {\n",
       "        text-align: right;\n",
       "    }\n",
       "</style>\n",
       "<table border=\"1\" class=\"dataframe\">\n",
       "  <thead>\n",
       "    <tr style=\"text-align: right;\">\n",
       "      <th></th>\n",
       "      <th>user_id</th>\n",
       "      <th>book_id</th>\n",
       "      <th>review_id</th>\n",
       "      <th>rating</th>\n",
       "      <th>review_text</th>\n",
       "      <th>text_reviews_count</th>\n",
       "      <th>series</th>\n",
       "      <th>language_code</th>\n",
       "      <th>is_ebook</th>\n",
       "      <th>average_rating</th>\n",
       "      <th>...</th>\n",
       "      <th>authors</th>\n",
       "      <th>publisher</th>\n",
       "      <th>num_pages</th>\n",
       "      <th>edition_information</th>\n",
       "      <th>publication_year</th>\n",
       "      <th>ratings_count</th>\n",
       "      <th>title</th>\n",
       "      <th>title_without_series</th>\n",
       "      <th>genres</th>\n",
       "      <th>Genre_Tag</th>\n",
       "    </tr>\n",
       "  </thead>\n",
       "  <tbody>\n",
       "    <tr>\n",
       "      <th>0</th>\n",
       "      <td>a2d6dd1685e5aa0a72c9410f8f55e056</td>\n",
       "      <td>17165891</td>\n",
       "      <td>dd6c3698b614b747d6fbd01e65186e34</td>\n",
       "      <td>0</td>\n",
       "      <td>O</td>\n",
       "      <td>210</td>\n",
       "      <td>[]</td>\n",
       "      <td>eng</td>\n",
       "      <td>false</td>\n",
       "      <td>4.05</td>\n",
       "      <td>...</td>\n",
       "      <td>[{'author_id': '61707', 'role': ''}, {'author_...</td>\n",
       "      <td>Clarion Books</td>\n",
       "      <td>40</td>\n",
       "      <td></td>\n",
       "      <td>2013</td>\n",
       "      <td>1163</td>\n",
       "      <td>Xander's Panda Party</td>\n",
       "      <td>Xander's Panda Party</td>\n",
       "      <td>{'children': 143, 'fiction': 15, 'poetry': 9, ...</td>\n",
       "      <td>children</td>\n",
       "    </tr>\n",
       "    <tr>\n",
       "      <th>1</th>\n",
       "      <td>6adb9b5f52e7a89b820d8afcb6329b0e</td>\n",
       "      <td>17165891</td>\n",
       "      <td>0e2ba452097b55739c564e1fabcd361e</td>\n",
       "      <td>5</td>\n",
       "      <td>my pick for the caldecott so far...</td>\n",
       "      <td>210</td>\n",
       "      <td>[]</td>\n",
       "      <td>eng</td>\n",
       "      <td>false</td>\n",
       "      <td>4.05</td>\n",
       "      <td>...</td>\n",
       "      <td>[{'author_id': '61707', 'role': ''}, {'author_...</td>\n",
       "      <td>Clarion Books</td>\n",
       "      <td>40</td>\n",
       "      <td></td>\n",
       "      <td>2013</td>\n",
       "      <td>1163</td>\n",
       "      <td>Xander's Panda Party</td>\n",
       "      <td>Xander's Panda Party</td>\n",
       "      <td>{'children': 143, 'fiction': 15, 'poetry': 9, ...</td>\n",
       "      <td>children</td>\n",
       "    </tr>\n",
       "    <tr>\n",
       "      <th>2</th>\n",
       "      <td>686b174e58665fe35cd89c64c0607992</td>\n",
       "      <td>29064279</td>\n",
       "      <td>c1c06eeb894e4307875165f4fe8d2f98</td>\n",
       "      <td>4</td>\n",
       "      <td>I liked the illustrations, which are are - wel...</td>\n",
       "      <td>22</td>\n",
       "      <td>[]</td>\n",
       "      <td>eng</td>\n",
       "      <td>false</td>\n",
       "      <td>3.78</td>\n",
       "      <td>...</td>\n",
       "      <td>[{'author_id': '9860291', 'role': ''}, {'autho...</td>\n",
       "      <td>Dawn Publications (CA)</td>\n",
       "      <td>32</td>\n",
       "      <td></td>\n",
       "      <td>2016</td>\n",
       "      <td>84</td>\n",
       "      <td>A Moon of My Own</td>\n",
       "      <td>A Moon of My Own</td>\n",
       "      <td>{'children': 13, 'young-adult': 2, 'non-fictio...</td>\n",
       "      <td>children</td>\n",
       "    </tr>\n",
       "    <tr>\n",
       "      <th>3</th>\n",
       "      <td>e5b6484501d2667dddf7df4d588311de</td>\n",
       "      <td>3636</td>\n",
       "      <td>31a18e28070f4b2cb2139ea92c16c9c5</td>\n",
       "      <td>5</td>\n",
       "      <td>The best book I've read so far.</td>\n",
       "      <td>49850</td>\n",
       "      <td>[162712]</td>\n",
       "      <td>eng</td>\n",
       "      <td>false</td>\n",
       "      <td>4.12</td>\n",
       "      <td>...</td>\n",
       "      <td>[{'author_id': '2493', 'role': ''}]</td>\n",
       "      <td>Ember</td>\n",
       "      <td>208</td>\n",
       "      <td></td>\n",
       "      <td>2006</td>\n",
       "      <td>1311422</td>\n",
       "      <td>The Giver (The Giver, #1)</td>\n",
       "      <td>The Giver (The Giver, #1)</td>\n",
       "      <td>{'children': 2091, 'fiction': 1571, 'young-adu...</td>\n",
       "      <td>children</td>\n",
       "    </tr>\n",
       "    <tr>\n",
       "      <th>4</th>\n",
       "      <td>f59779e96853e5d7e21024bd0e0e8597</td>\n",
       "      <td>3636</td>\n",
       "      <td>0143ae5b6964035e5b7929b6b27ef92b</td>\n",
       "      <td>5</td>\n",
       "      <td>This book is absolutely enjoyable! I loved the...</td>\n",
       "      <td>49850</td>\n",
       "      <td>[162712]</td>\n",
       "      <td>eng</td>\n",
       "      <td>false</td>\n",
       "      <td>4.12</td>\n",
       "      <td>...</td>\n",
       "      <td>[{'author_id': '2493', 'role': ''}]</td>\n",
       "      <td>Ember</td>\n",
       "      <td>208</td>\n",
       "      <td></td>\n",
       "      <td>2006</td>\n",
       "      <td>1311422</td>\n",
       "      <td>The Giver (The Giver, #1)</td>\n",
       "      <td>The Giver (The Giver, #1)</td>\n",
       "      <td>{'children': 2091, 'fiction': 1571, 'young-adu...</td>\n",
       "      <td>children</td>\n",
       "    </tr>\n",
       "  </tbody>\n",
       "</table>\n",
       "<p>5 rows × 21 columns</p>\n",
       "</div>"
      ],
      "text/plain": [
       "                            user_id   book_id  \\\n",
       "0  a2d6dd1685e5aa0a72c9410f8f55e056  17165891   \n",
       "1  6adb9b5f52e7a89b820d8afcb6329b0e  17165891   \n",
       "2  686b174e58665fe35cd89c64c0607992  29064279   \n",
       "3  e5b6484501d2667dddf7df4d588311de      3636   \n",
       "4  f59779e96853e5d7e21024bd0e0e8597      3636   \n",
       "\n",
       "                          review_id  rating  \\\n",
       "0  dd6c3698b614b747d6fbd01e65186e34       0   \n",
       "1  0e2ba452097b55739c564e1fabcd361e       5   \n",
       "2  c1c06eeb894e4307875165f4fe8d2f98       4   \n",
       "3  31a18e28070f4b2cb2139ea92c16c9c5       5   \n",
       "4  0143ae5b6964035e5b7929b6b27ef92b       5   \n",
       "\n",
       "                                         review_text  text_reviews_count  \\\n",
       "0                                                  O                 210   \n",
       "1                my pick for the caldecott so far...                 210   \n",
       "2  I liked the illustrations, which are are - wel...                  22   \n",
       "3                    The best book I've read so far.               49850   \n",
       "4  This book is absolutely enjoyable! I loved the...               49850   \n",
       "\n",
       "     series language_code is_ebook  average_rating  ...  \\\n",
       "0        []           eng    false            4.05  ...   \n",
       "1        []           eng    false            4.05  ...   \n",
       "2        []           eng    false            3.78  ...   \n",
       "3  [162712]           eng    false            4.12  ...   \n",
       "4  [162712]           eng    false            4.12  ...   \n",
       "\n",
       "                                             authors               publisher  \\\n",
       "0  [{'author_id': '61707', 'role': ''}, {'author_...           Clarion Books   \n",
       "1  [{'author_id': '61707', 'role': ''}, {'author_...           Clarion Books   \n",
       "2  [{'author_id': '9860291', 'role': ''}, {'autho...  Dawn Publications (CA)   \n",
       "3                [{'author_id': '2493', 'role': ''}]                   Ember   \n",
       "4                [{'author_id': '2493', 'role': ''}]                   Ember   \n",
       "\n",
       "  num_pages edition_information publication_year ratings_count  \\\n",
       "0        40                                 2013          1163   \n",
       "1        40                                 2013          1163   \n",
       "2        32                                 2016            84   \n",
       "3       208                                 2006       1311422   \n",
       "4       208                                 2006       1311422   \n",
       "\n",
       "                       title       title_without_series  \\\n",
       "0       Xander's Panda Party       Xander's Panda Party   \n",
       "1       Xander's Panda Party       Xander's Panda Party   \n",
       "2           A Moon of My Own           A Moon of My Own   \n",
       "3  The Giver (The Giver, #1)  The Giver (The Giver, #1)   \n",
       "4  The Giver (The Giver, #1)  The Giver (The Giver, #1)   \n",
       "\n",
       "                                              genres Genre_Tag  \n",
       "0  {'children': 143, 'fiction': 15, 'poetry': 9, ...  children  \n",
       "1  {'children': 143, 'fiction': 15, 'poetry': 9, ...  children  \n",
       "2  {'children': 13, 'young-adult': 2, 'non-fictio...  children  \n",
       "3  {'children': 2091, 'fiction': 1571, 'young-adu...  children  \n",
       "4  {'children': 2091, 'fiction': 1571, 'young-adu...  children  \n",
       "\n",
       "[5 rows x 21 columns]"
      ]
     },
     "execution_count": 30,
     "metadata": {},
     "output_type": "execute_result"
    }
   ],
   "source": [
    "children_df.head()"
   ]
  },
  {
   "cell_type": "markdown",
   "id": "e443c761",
   "metadata": {},
   "source": [
    "## Children's Literature Author Info\n",
    "So far the children_df DataFrame has everything except author names, which is represented by an author_id deeply embedded in the 'authors' column. The format of the 'authors' column is formatted strangely, so let's take a closer look at the first row's entry."
   ]
  },
  {
   "cell_type": "code",
   "execution_count": 31,
   "id": "3e5275da",
   "metadata": {
    "scrolled": true
   },
   "outputs": [
    {
     "data": {
      "text/plain": [
       "[{'author_id': '61707', 'role': ''}, {'author_id': '387985', 'role': 'Illustrations'}]"
      ]
     },
     "execution_count": 31,
     "metadata": {},
     "output_type": "execute_result"
    }
   ],
   "source": [
    "children_df.authors[0]"
   ]
  },
  {
   "cell_type": "markdown",
   "id": "9310d075",
   "metadata": {},
   "source": [
    "The information in the 'authors' column is a list of two dictionaries, each with two key:value pairs for the author and illustrator. I only want the first key:value pair of the first dictionary for the author's ID, but it will probably take some digging to get to it. For now, I'm going to load the JSON file with author-specific info."
   ]
  },
  {
   "cell_type": "code",
   "execution_count": 32,
   "id": "689b5879",
   "metadata": {},
   "outputs": [],
   "source": [
    "authors_df = pd.read_json('/Users/ashleyfeiler/Documents/data_science/Goodreads-Genre-Reviews-Analysis/data/goodreads_book_authors.json', lines=True)"
   ]
  },
  {
   "cell_type": "code",
   "execution_count": 33,
   "id": "b4253eb7",
   "metadata": {
    "scrolled": true
   },
   "outputs": [
    {
     "data": {
      "text/html": [
       "<div>\n",
       "<style scoped>\n",
       "    .dataframe tbody tr th:only-of-type {\n",
       "        vertical-align: middle;\n",
       "    }\n",
       "\n",
       "    .dataframe tbody tr th {\n",
       "        vertical-align: top;\n",
       "    }\n",
       "\n",
       "    .dataframe thead th {\n",
       "        text-align: right;\n",
       "    }\n",
       "</style>\n",
       "<table border=\"1\" class=\"dataframe\">\n",
       "  <thead>\n",
       "    <tr style=\"text-align: right;\">\n",
       "      <th></th>\n",
       "      <th>average_rating</th>\n",
       "      <th>author_id</th>\n",
       "      <th>text_reviews_count</th>\n",
       "      <th>name</th>\n",
       "      <th>ratings_count</th>\n",
       "    </tr>\n",
       "  </thead>\n",
       "  <tbody>\n",
       "    <tr>\n",
       "      <th>0</th>\n",
       "      <td>3.98</td>\n",
       "      <td>604031</td>\n",
       "      <td>7</td>\n",
       "      <td>Ronald J. Fields</td>\n",
       "      <td>49</td>\n",
       "    </tr>\n",
       "    <tr>\n",
       "      <th>1</th>\n",
       "      <td>4.08</td>\n",
       "      <td>626222</td>\n",
       "      <td>28716</td>\n",
       "      <td>Anita Diamant</td>\n",
       "      <td>546796</td>\n",
       "    </tr>\n",
       "    <tr>\n",
       "      <th>2</th>\n",
       "      <td>3.92</td>\n",
       "      <td>10333</td>\n",
       "      <td>5075</td>\n",
       "      <td>Barbara Hambly</td>\n",
       "      <td>122118</td>\n",
       "    </tr>\n",
       "    <tr>\n",
       "      <th>3</th>\n",
       "      <td>3.68</td>\n",
       "      <td>9212</td>\n",
       "      <td>36262</td>\n",
       "      <td>Jennifer Weiner</td>\n",
       "      <td>888522</td>\n",
       "    </tr>\n",
       "    <tr>\n",
       "      <th>4</th>\n",
       "      <td>3.82</td>\n",
       "      <td>149918</td>\n",
       "      <td>96</td>\n",
       "      <td>Nigel Pennick</td>\n",
       "      <td>1740</td>\n",
       "    </tr>\n",
       "  </tbody>\n",
       "</table>\n",
       "</div>"
      ],
      "text/plain": [
       "   average_rating  author_id  text_reviews_count              name  \\\n",
       "0            3.98     604031                   7  Ronald J. Fields   \n",
       "1            4.08     626222               28716     Anita Diamant   \n",
       "2            3.92      10333                5075    Barbara Hambly   \n",
       "3            3.68       9212               36262   Jennifer Weiner   \n",
       "4            3.82     149918                  96     Nigel Pennick   \n",
       "\n",
       "   ratings_count  \n",
       "0             49  \n",
       "1         546796  \n",
       "2         122118  \n",
       "3         888522  \n",
       "4           1740  "
      ]
     },
     "execution_count": 33,
     "metadata": {},
     "output_type": "execute_result"
    }
   ],
   "source": [
    "authors_df.head()"
   ]
  },
  {
   "cell_type": "markdown",
   "id": "481abbb3",
   "metadata": {},
   "source": [
    "Now that I've got the author DataFrame, I know I will need to merge based on the author_id, so let's try to extract the author_id from the main DataFrame. I'm not sure how this is going to work, so I'm going to try it on a small sample first."
   ]
  },
  {
   "cell_type": "code",
   "execution_count": 34,
   "id": "c1e43100",
   "metadata": {},
   "outputs": [
    {
     "data": {
      "text/plain": [
       "{'author_id': '9860291', 'role': ''}"
      ]
     },
     "execution_count": 34,
     "metadata": {},
     "output_type": "execute_result"
    }
   ],
   "source": [
    "test_authors = children_df.head()\n",
    "test_authors.authors.iloc[2][0] \n",
    "#First indexes 'authors' entry from  3rd row, then indexes first dicitionary in list"
   ]
  },
  {
   "cell_type": "code",
   "execution_count": 35,
   "id": "94749751",
   "metadata": {},
   "outputs": [
    {
     "data": {
      "text/plain": [
       "'61707'"
      ]
     },
     "execution_count": 35,
     "metadata": {},
     "output_type": "execute_result"
    }
   ],
   "source": [
    "#For each index in the DataFrame, map the list shown above to one large list\n",
    "#Extract author id by using .values() to get only the values, cast as a list, and take first value for the author \n",
    "test_list = list(test_authors.index.map(lambda x: test_authors.authors.iloc[x][0])) \n",
    "list(test_list[0].values())[0]"
   ]
  },
  {
   "cell_type": "code",
   "execution_count": 36,
   "id": "2308ce8d",
   "metadata": {
    "scrolled": true
   },
   "outputs": [
    {
     "name": "stderr",
     "output_type": "stream",
     "text": [
      "/var/folders/h1/bwktpx2129db0qmxbv4w_shw0000gn/T/ipykernel_88529/3428634348.py:2: SettingWithCopyWarning: \n",
      "A value is trying to be set on a copy of a slice from a DataFrame.\n",
      "Try using .loc[row_indexer,col_indexer] = value instead\n",
      "\n",
      "See the caveats in the documentation: https://pandas.pydata.org/pandas-docs/stable/user_guide/indexing.html#returning-a-view-versus-a-copy\n",
      "  test_authors['author_id'] = test_authors.index.map(lambda x: list(test_list[x].values())[0])\n"
     ]
    }
   ],
   "source": [
    "#Apply the forumula above to create a new column with the author_id\n",
    "test_authors['author_id'] = test_authors.index.map(lambda x: list(test_list[x].values())[0])"
   ]
  },
  {
   "cell_type": "code",
   "execution_count": 37,
   "id": "b89ad571",
   "metadata": {
    "scrolled": true
   },
   "outputs": [
    {
     "data": {
      "text/html": [
       "<div>\n",
       "<style scoped>\n",
       "    .dataframe tbody tr th:only-of-type {\n",
       "        vertical-align: middle;\n",
       "    }\n",
       "\n",
       "    .dataframe tbody tr th {\n",
       "        vertical-align: top;\n",
       "    }\n",
       "\n",
       "    .dataframe thead th {\n",
       "        text-align: right;\n",
       "    }\n",
       "</style>\n",
       "<table border=\"1\" class=\"dataframe\">\n",
       "  <thead>\n",
       "    <tr style=\"text-align: right;\">\n",
       "      <th></th>\n",
       "      <th>user_id</th>\n",
       "      <th>book_id</th>\n",
       "      <th>review_id</th>\n",
       "      <th>rating</th>\n",
       "      <th>review_text</th>\n",
       "      <th>text_reviews_count</th>\n",
       "      <th>series</th>\n",
       "      <th>language_code</th>\n",
       "      <th>is_ebook</th>\n",
       "      <th>average_rating</th>\n",
       "      <th>...</th>\n",
       "      <th>publisher</th>\n",
       "      <th>num_pages</th>\n",
       "      <th>edition_information</th>\n",
       "      <th>publication_year</th>\n",
       "      <th>ratings_count</th>\n",
       "      <th>title</th>\n",
       "      <th>title_without_series</th>\n",
       "      <th>genres</th>\n",
       "      <th>Genre_Tag</th>\n",
       "      <th>author_id</th>\n",
       "    </tr>\n",
       "  </thead>\n",
       "  <tbody>\n",
       "    <tr>\n",
       "      <th>0</th>\n",
       "      <td>a2d6dd1685e5aa0a72c9410f8f55e056</td>\n",
       "      <td>17165891</td>\n",
       "      <td>dd6c3698b614b747d6fbd01e65186e34</td>\n",
       "      <td>0</td>\n",
       "      <td>O</td>\n",
       "      <td>210</td>\n",
       "      <td>[]</td>\n",
       "      <td>eng</td>\n",
       "      <td>false</td>\n",
       "      <td>4.05</td>\n",
       "      <td>...</td>\n",
       "      <td>Clarion Books</td>\n",
       "      <td>40</td>\n",
       "      <td></td>\n",
       "      <td>2013</td>\n",
       "      <td>1163</td>\n",
       "      <td>Xander's Panda Party</td>\n",
       "      <td>Xander's Panda Party</td>\n",
       "      <td>{'children': 143, 'fiction': 15, 'poetry': 9, ...</td>\n",
       "      <td>children</td>\n",
       "      <td>61707</td>\n",
       "    </tr>\n",
       "    <tr>\n",
       "      <th>1</th>\n",
       "      <td>6adb9b5f52e7a89b820d8afcb6329b0e</td>\n",
       "      <td>17165891</td>\n",
       "      <td>0e2ba452097b55739c564e1fabcd361e</td>\n",
       "      <td>5</td>\n",
       "      <td>my pick for the caldecott so far...</td>\n",
       "      <td>210</td>\n",
       "      <td>[]</td>\n",
       "      <td>eng</td>\n",
       "      <td>false</td>\n",
       "      <td>4.05</td>\n",
       "      <td>...</td>\n",
       "      <td>Clarion Books</td>\n",
       "      <td>40</td>\n",
       "      <td></td>\n",
       "      <td>2013</td>\n",
       "      <td>1163</td>\n",
       "      <td>Xander's Panda Party</td>\n",
       "      <td>Xander's Panda Party</td>\n",
       "      <td>{'children': 143, 'fiction': 15, 'poetry': 9, ...</td>\n",
       "      <td>children</td>\n",
       "      <td>61707</td>\n",
       "    </tr>\n",
       "    <tr>\n",
       "      <th>2</th>\n",
       "      <td>686b174e58665fe35cd89c64c0607992</td>\n",
       "      <td>29064279</td>\n",
       "      <td>c1c06eeb894e4307875165f4fe8d2f98</td>\n",
       "      <td>4</td>\n",
       "      <td>I liked the illustrations, which are are - wel...</td>\n",
       "      <td>22</td>\n",
       "      <td>[]</td>\n",
       "      <td>eng</td>\n",
       "      <td>false</td>\n",
       "      <td>3.78</td>\n",
       "      <td>...</td>\n",
       "      <td>Dawn Publications (CA)</td>\n",
       "      <td>32</td>\n",
       "      <td></td>\n",
       "      <td>2016</td>\n",
       "      <td>84</td>\n",
       "      <td>A Moon of My Own</td>\n",
       "      <td>A Moon of My Own</td>\n",
       "      <td>{'children': 13, 'young-adult': 2, 'non-fictio...</td>\n",
       "      <td>children</td>\n",
       "      <td>9860291</td>\n",
       "    </tr>\n",
       "    <tr>\n",
       "      <th>3</th>\n",
       "      <td>e5b6484501d2667dddf7df4d588311de</td>\n",
       "      <td>3636</td>\n",
       "      <td>31a18e28070f4b2cb2139ea92c16c9c5</td>\n",
       "      <td>5</td>\n",
       "      <td>The best book I've read so far.</td>\n",
       "      <td>49850</td>\n",
       "      <td>[162712]</td>\n",
       "      <td>eng</td>\n",
       "      <td>false</td>\n",
       "      <td>4.12</td>\n",
       "      <td>...</td>\n",
       "      <td>Ember</td>\n",
       "      <td>208</td>\n",
       "      <td></td>\n",
       "      <td>2006</td>\n",
       "      <td>1311422</td>\n",
       "      <td>The Giver (The Giver, #1)</td>\n",
       "      <td>The Giver (The Giver, #1)</td>\n",
       "      <td>{'children': 2091, 'fiction': 1571, 'young-adu...</td>\n",
       "      <td>children</td>\n",
       "      <td>2493</td>\n",
       "    </tr>\n",
       "    <tr>\n",
       "      <th>4</th>\n",
       "      <td>f59779e96853e5d7e21024bd0e0e8597</td>\n",
       "      <td>3636</td>\n",
       "      <td>0143ae5b6964035e5b7929b6b27ef92b</td>\n",
       "      <td>5</td>\n",
       "      <td>This book is absolutely enjoyable! I loved the...</td>\n",
       "      <td>49850</td>\n",
       "      <td>[162712]</td>\n",
       "      <td>eng</td>\n",
       "      <td>false</td>\n",
       "      <td>4.12</td>\n",
       "      <td>...</td>\n",
       "      <td>Ember</td>\n",
       "      <td>208</td>\n",
       "      <td></td>\n",
       "      <td>2006</td>\n",
       "      <td>1311422</td>\n",
       "      <td>The Giver (The Giver, #1)</td>\n",
       "      <td>The Giver (The Giver, #1)</td>\n",
       "      <td>{'children': 2091, 'fiction': 1571, 'young-adu...</td>\n",
       "      <td>children</td>\n",
       "      <td>2493</td>\n",
       "    </tr>\n",
       "  </tbody>\n",
       "</table>\n",
       "<p>5 rows × 22 columns</p>\n",
       "</div>"
      ],
      "text/plain": [
       "                            user_id   book_id  \\\n",
       "0  a2d6dd1685e5aa0a72c9410f8f55e056  17165891   \n",
       "1  6adb9b5f52e7a89b820d8afcb6329b0e  17165891   \n",
       "2  686b174e58665fe35cd89c64c0607992  29064279   \n",
       "3  e5b6484501d2667dddf7df4d588311de      3636   \n",
       "4  f59779e96853e5d7e21024bd0e0e8597      3636   \n",
       "\n",
       "                          review_id  rating  \\\n",
       "0  dd6c3698b614b747d6fbd01e65186e34       0   \n",
       "1  0e2ba452097b55739c564e1fabcd361e       5   \n",
       "2  c1c06eeb894e4307875165f4fe8d2f98       4   \n",
       "3  31a18e28070f4b2cb2139ea92c16c9c5       5   \n",
       "4  0143ae5b6964035e5b7929b6b27ef92b       5   \n",
       "\n",
       "                                         review_text  text_reviews_count  \\\n",
       "0                                                  O                 210   \n",
       "1                my pick for the caldecott so far...                 210   \n",
       "2  I liked the illustrations, which are are - wel...                  22   \n",
       "3                    The best book I've read so far.               49850   \n",
       "4  This book is absolutely enjoyable! I loved the...               49850   \n",
       "\n",
       "     series language_code is_ebook  average_rating  ...  \\\n",
       "0        []           eng    false            4.05  ...   \n",
       "1        []           eng    false            4.05  ...   \n",
       "2        []           eng    false            3.78  ...   \n",
       "3  [162712]           eng    false            4.12  ...   \n",
       "4  [162712]           eng    false            4.12  ...   \n",
       "\n",
       "                publisher num_pages edition_information publication_year  \\\n",
       "0           Clarion Books        40                                 2013   \n",
       "1           Clarion Books        40                                 2013   \n",
       "2  Dawn Publications (CA)        32                                 2016   \n",
       "3                   Ember       208                                 2006   \n",
       "4                   Ember       208                                 2006   \n",
       "\n",
       "  ratings_count                      title       title_without_series  \\\n",
       "0          1163       Xander's Panda Party       Xander's Panda Party   \n",
       "1          1163       Xander's Panda Party       Xander's Panda Party   \n",
       "2            84           A Moon of My Own           A Moon of My Own   \n",
       "3       1311422  The Giver (The Giver, #1)  The Giver (The Giver, #1)   \n",
       "4       1311422  The Giver (The Giver, #1)  The Giver (The Giver, #1)   \n",
       "\n",
       "                                              genres Genre_Tag author_id  \n",
       "0  {'children': 143, 'fiction': 15, 'poetry': 9, ...  children     61707  \n",
       "1  {'children': 143, 'fiction': 15, 'poetry': 9, ...  children     61707  \n",
       "2  {'children': 13, 'young-adult': 2, 'non-fictio...  children   9860291  \n",
       "3  {'children': 2091, 'fiction': 1571, 'young-adu...  children      2493  \n",
       "4  {'children': 2091, 'fiction': 1571, 'young-adu...  children      2493  \n",
       "\n",
       "[5 rows x 22 columns]"
      ]
     },
     "execution_count": 37,
     "metadata": {},
     "output_type": "execute_result"
    }
   ],
   "source": [
    "test_authors"
   ]
  },
  {
   "cell_type": "markdown",
   "id": "a9c90a3d",
   "metadata": {},
   "source": [
    "This seems to work, time to do it to all the data!"
   ]
  },
  {
   "cell_type": "code",
   "execution_count": 38,
   "id": "1a6d293d",
   "metadata": {},
   "outputs": [
    {
     "data": {
      "text/plain": [
       "'61707'"
      ]
     },
     "execution_count": 38,
     "metadata": {},
     "output_type": "execute_result"
    }
   ],
   "source": [
    "author_list = list(children_df.index.map(lambda x: children_df.authors.iloc[x][0]))\n",
    "list(author_list[0].values())[0]"
   ]
  },
  {
   "cell_type": "code",
   "execution_count": 39,
   "id": "352b5168",
   "metadata": {
    "scrolled": true
   },
   "outputs": [
    {
     "data": {
      "text/plain": [
       "(5000, 22)"
      ]
     },
     "execution_count": 39,
     "metadata": {},
     "output_type": "execute_result"
    }
   ],
   "source": [
    "children_df['author_id'] = children_df.index.map(lambda x: int(list(author_list[x].values())[0]))\n",
    "children_df.shape"
   ]
  },
  {
   "cell_type": "code",
   "execution_count": 40,
   "id": "47fb9a5b",
   "metadata": {
    "scrolled": true
   },
   "outputs": [
    {
     "data": {
      "text/html": [
       "<div>\n",
       "<style scoped>\n",
       "    .dataframe tbody tr th:only-of-type {\n",
       "        vertical-align: middle;\n",
       "    }\n",
       "\n",
       "    .dataframe tbody tr th {\n",
       "        vertical-align: top;\n",
       "    }\n",
       "\n",
       "    .dataframe thead th {\n",
       "        text-align: right;\n",
       "    }\n",
       "</style>\n",
       "<table border=\"1\" class=\"dataframe\">\n",
       "  <thead>\n",
       "    <tr style=\"text-align: right;\">\n",
       "      <th></th>\n",
       "      <th>author_id</th>\n",
       "      <th>name</th>\n",
       "    </tr>\n",
       "  </thead>\n",
       "  <tbody>\n",
       "    <tr>\n",
       "      <th>0</th>\n",
       "      <td>604031</td>\n",
       "      <td>Ronald J. Fields</td>\n",
       "    </tr>\n",
       "    <tr>\n",
       "      <th>1</th>\n",
       "      <td>626222</td>\n",
       "      <td>Anita Diamant</td>\n",
       "    </tr>\n",
       "    <tr>\n",
       "      <th>2</th>\n",
       "      <td>10333</td>\n",
       "      <td>Barbara Hambly</td>\n",
       "    </tr>\n",
       "    <tr>\n",
       "      <th>3</th>\n",
       "      <td>9212</td>\n",
       "      <td>Jennifer Weiner</td>\n",
       "    </tr>\n",
       "    <tr>\n",
       "      <th>4</th>\n",
       "      <td>149918</td>\n",
       "      <td>Nigel Pennick</td>\n",
       "    </tr>\n",
       "  </tbody>\n",
       "</table>\n",
       "</div>"
      ],
      "text/plain": [
       "   author_id              name\n",
       "0     604031  Ronald J. Fields\n",
       "1     626222     Anita Diamant\n",
       "2      10333    Barbara Hambly\n",
       "3       9212   Jennifer Weiner\n",
       "4     149918     Nigel Pennick"
      ]
     },
     "execution_count": 40,
     "metadata": {},
     "output_type": "execute_result"
    }
   ],
   "source": [
    "authors_df = authors_df[['author_id', 'name']]\n",
    "authors_df.head()"
   ]
  },
  {
   "cell_type": "code",
   "execution_count": 41,
   "id": "0db72753",
   "metadata": {},
   "outputs": [
    {
     "data": {
      "text/plain": [
       "(5000, 23)"
      ]
     },
     "execution_count": 41,
     "metadata": {},
     "output_type": "execute_result"
    }
   ],
   "source": [
    "children_df = pd.merge(children_df, authors_df)\n",
    "children_df.shape"
   ]
  },
  {
   "cell_type": "markdown",
   "id": "aaa56e6c",
   "metadata": {},
   "source": [
    "The author data has been merged, the number of rows is still the same, the number of columns has increased to account for the new author data, and the author's name is now included!"
   ]
  },
  {
   "cell_type": "markdown",
   "id": "1181c07a",
   "metadata": {},
   "source": [
    "## Language Filtering\n",
    "Given the information about all the different language codes before, I want to filter out only those books written in Enlglish. First lets look at a list of all the different language codes."
   ]
  },
  {
   "cell_type": "code",
   "execution_count": 42,
   "id": "637aeffe",
   "metadata": {},
   "outputs": [
    {
     "data": {
      "text/plain": [
       "['eng', '', 'cze', 'en-US', 'spa', 'en-GB', 'ita', 'ind', 'est', 'ara', 'bul', 'fre', 'rus', 'per', 'vie', 'ger', 'gre', 'swe', 'lav', 'slo', 'por', 'dan', 'rum', 'ukr', 'nl', 'fin', 'mul', 'fil', 'en-CA', 'nor', 'lit', 'hun', 'ben', 'afr']"
      ]
     },
     "execution_count": 42,
     "metadata": {},
     "output_type": "execute_result"
    }
   ],
   "source": [
    "list(children_df.language_code.unique())"
   ]
  },
  {
   "cell_type": "markdown",
   "id": "27ae0525",
   "metadata": {},
   "source": [
    "Most of these are 3-letter standardized language codes, but some are unrecognized. I'm going to take a look at the titles of books with codes I'm unsure of to make sure I'm not missing anything."
   ]
  },
  {
   "cell_type": "code",
   "execution_count": 43,
   "id": "240e73cc",
   "metadata": {
    "scrolled": true
   },
   "outputs": [
    {
     "data": {
      "text/plain": [
       "1665    Viva Frida\n",
       "Name: title, dtype: object"
      ]
     },
     "execution_count": 43,
     "metadata": {},
     "output_type": "execute_result"
    }
   ],
   "source": [
    "children_df.loc[children_df['language_code'] == 'mul'].title.iloc[:10] #Unknown?"
   ]
  },
  {
   "cell_type": "code",
   "execution_count": 44,
   "id": "0ba9686e",
   "metadata": {},
   "outputs": [
    {
     "data": {
      "text/plain": [
       "4983                         Catching a Storyfish\n",
       "4985                        Bear and Bee Too Busy\n",
       "4987    Petal and Poppy and the Mystery Valentine\n",
       "4990                      My Grandparents Love Me\n",
       "4991                             Boss of the Pool\n",
       "4994      Star Wars: The Original Trilogy Stories\n",
       "4995             You Read to Me, I'll Read to You\n",
       "4996                                         Boo!\n",
       "4997                         Mouse Noses on Toast\n",
       "4998                                 Hello, Snow!\n",
       "Name: title, dtype: object"
      ]
     },
     "execution_count": 44,
     "metadata": {},
     "output_type": "execute_result"
    }
   ],
   "source": [
    "children_df.loc[children_df['language_code'] == ''].title.iloc[-10:] #Unknown?"
   ]
  },
  {
   "cell_type": "markdown",
   "id": "32b561ca",
   "metadata": {},
   "source": [
    "And for the languages that are recognized, let's just look at what some non-English languages look like."
   ]
  },
  {
   "cell_type": "code",
   "execution_count": 45,
   "id": "e93b25b9",
   "metadata": {},
   "outputs": [
    {
     "data": {
      "text/plain": [
       "65                                      Dárce (Dárce, #1)\n",
       "307                                            Malý princ\n",
       "308                                            Malý princ\n",
       "365                             Jen jestli si nevymejšlíš\n",
       "2632                                          Železný muž\n",
       "4114    Všechna moje strašidla - Tajemství strašidelné...\n",
       "4668                                                  Noc\n",
       "Name: title, dtype: object"
      ]
     },
     "execution_count": 45,
     "metadata": {},
     "output_type": "execute_result"
    }
   ],
   "source": [
    "children_df.loc[children_df['language_code'] == 'cze'].title.iloc[:10] #Czech"
   ]
  },
  {
   "cell_type": "code",
   "execution_count": 46,
   "id": "86478c7d",
   "metadata": {},
   "outputs": [
    {
     "data": {
      "text/plain": [
       "1498                         Kalmankita : Legenda alkaa\n",
       "2061                      Viirun ja Pesosen joulupuuhat\n",
       "2327    Lohikäärmerouvan kosto (Lohikäärmeakatemia, #2)\n",
       "3724                        Mörkövahti (Mörkövahti, #1)\n",
       "3904                       Mitä sain tietää meduusoista\n",
       "4023                          Lätkä-Lauri ja ihmeräpylä\n",
       "4795    Koiramäen Martta ja tiernapojat (Koiramäki, #5)\n",
       "4989           Tatu ja Patu etsivinä: Tapaus Puolittaja\n",
       "Name: title, dtype: object"
      ]
     },
     "execution_count": 46,
     "metadata": {},
     "output_type": "execute_result"
    }
   ],
   "source": [
    "children_df.loc[children_df['language_code'] == 'fin'].title.iloc[:10] #Finnish"
   ]
  },
  {
   "cell_type": "markdown",
   "id": "3433025b",
   "metadata": {},
   "source": [
    "While some of these language codes seem to include English titles, especially the empty string instead of a language code, to keep things consistent, I am going to filter only those books with some form of English as an assigned language code."
   ]
  },
  {
   "cell_type": "code",
   "execution_count": 47,
   "id": "04235fe4",
   "metadata": {},
   "outputs": [
    {
     "data": {
      "text/html": [
       "<div>\n",
       "<style scoped>\n",
       "    .dataframe tbody tr th:only-of-type {\n",
       "        vertical-align: middle;\n",
       "    }\n",
       "\n",
       "    .dataframe tbody tr th {\n",
       "        vertical-align: top;\n",
       "    }\n",
       "\n",
       "    .dataframe thead th {\n",
       "        text-align: right;\n",
       "    }\n",
       "</style>\n",
       "<table border=\"1\" class=\"dataframe\">\n",
       "  <thead>\n",
       "    <tr style=\"text-align: right;\">\n",
       "      <th></th>\n",
       "      <th>user_id</th>\n",
       "      <th>book_id</th>\n",
       "      <th>review_id</th>\n",
       "      <th>rating</th>\n",
       "      <th>review_text</th>\n",
       "      <th>text_reviews_count</th>\n",
       "      <th>series</th>\n",
       "      <th>language_code</th>\n",
       "      <th>is_ebook</th>\n",
       "      <th>average_rating</th>\n",
       "      <th>...</th>\n",
       "      <th>num_pages</th>\n",
       "      <th>edition_information</th>\n",
       "      <th>publication_year</th>\n",
       "      <th>ratings_count</th>\n",
       "      <th>title</th>\n",
       "      <th>title_without_series</th>\n",
       "      <th>genres</th>\n",
       "      <th>Genre_Tag</th>\n",
       "      <th>author_id</th>\n",
       "      <th>name</th>\n",
       "    </tr>\n",
       "  </thead>\n",
       "  <tbody>\n",
       "    <tr>\n",
       "      <th>0</th>\n",
       "      <td>a2d6dd1685e5aa0a72c9410f8f55e056</td>\n",
       "      <td>17165891</td>\n",
       "      <td>dd6c3698b614b747d6fbd01e65186e34</td>\n",
       "      <td>0</td>\n",
       "      <td>O</td>\n",
       "      <td>210</td>\n",
       "      <td>[]</td>\n",
       "      <td>eng</td>\n",
       "      <td>false</td>\n",
       "      <td>4.05</td>\n",
       "      <td>...</td>\n",
       "      <td>40</td>\n",
       "      <td></td>\n",
       "      <td>2013</td>\n",
       "      <td>1163</td>\n",
       "      <td>Xander's Panda Party</td>\n",
       "      <td>Xander's Panda Party</td>\n",
       "      <td>{'children': 143, 'fiction': 15, 'poetry': 9, ...</td>\n",
       "      <td>children</td>\n",
       "      <td>61707</td>\n",
       "      <td>Linda Sue Park</td>\n",
       "    </tr>\n",
       "    <tr>\n",
       "      <th>1</th>\n",
       "      <td>6adb9b5f52e7a89b820d8afcb6329b0e</td>\n",
       "      <td>17165891</td>\n",
       "      <td>0e2ba452097b55739c564e1fabcd361e</td>\n",
       "      <td>5</td>\n",
       "      <td>my pick for the caldecott so far...</td>\n",
       "      <td>210</td>\n",
       "      <td>[]</td>\n",
       "      <td>eng</td>\n",
       "      <td>false</td>\n",
       "      <td>4.05</td>\n",
       "      <td>...</td>\n",
       "      <td>40</td>\n",
       "      <td></td>\n",
       "      <td>2013</td>\n",
       "      <td>1163</td>\n",
       "      <td>Xander's Panda Party</td>\n",
       "      <td>Xander's Panda Party</td>\n",
       "      <td>{'children': 143, 'fiction': 15, 'poetry': 9, ...</td>\n",
       "      <td>children</td>\n",
       "      <td>61707</td>\n",
       "      <td>Linda Sue Park</td>\n",
       "    </tr>\n",
       "    <tr>\n",
       "      <th>3</th>\n",
       "      <td>e68c221b98d5561680dd6838f059b55f</td>\n",
       "      <td>6697305</td>\n",
       "      <td>85b39c5ef18ea1612abe327778594bc1</td>\n",
       "      <td>4</td>\n",
       "      <td>This time Dan and Amy go to the Bahamas and Ja...</td>\n",
       "      <td>554</td>\n",
       "      <td>[172406]</td>\n",
       "      <td>eng</td>\n",
       "      <td>false</td>\n",
       "      <td>3.98</td>\n",
       "      <td>...</td>\n",
       "      <td>190</td>\n",
       "      <td></td>\n",
       "      <td>2010</td>\n",
       "      <td>39904</td>\n",
       "      <td>Storm Warning (The 39 Clues, #9)</td>\n",
       "      <td>Storm Warning (The 39 Clues, #9)</td>\n",
       "      <td>{'mystery, thriller, crime': 188, 'young-adult...</td>\n",
       "      <td>children</td>\n",
       "      <td>61707</td>\n",
       "      <td>Linda Sue Park</td>\n",
       "    </tr>\n",
       "  </tbody>\n",
       "</table>\n",
       "<p>3 rows × 23 columns</p>\n",
       "</div>"
      ],
      "text/plain": [
       "                            user_id   book_id  \\\n",
       "0  a2d6dd1685e5aa0a72c9410f8f55e056  17165891   \n",
       "1  6adb9b5f52e7a89b820d8afcb6329b0e  17165891   \n",
       "3  e68c221b98d5561680dd6838f059b55f   6697305   \n",
       "\n",
       "                          review_id  rating  \\\n",
       "0  dd6c3698b614b747d6fbd01e65186e34       0   \n",
       "1  0e2ba452097b55739c564e1fabcd361e       5   \n",
       "3  85b39c5ef18ea1612abe327778594bc1       4   \n",
       "\n",
       "                                         review_text  text_reviews_count  \\\n",
       "0                                                  O                 210   \n",
       "1                my pick for the caldecott so far...                 210   \n",
       "3  This time Dan and Amy go to the Bahamas and Ja...                 554   \n",
       "\n",
       "     series language_code is_ebook  average_rating  ... num_pages  \\\n",
       "0        []           eng    false            4.05  ...        40   \n",
       "1        []           eng    false            4.05  ...        40   \n",
       "3  [172406]           eng    false            3.98  ...       190   \n",
       "\n",
       "  edition_information publication_year ratings_count  \\\n",
       "0                                 2013          1163   \n",
       "1                                 2013          1163   \n",
       "3                                 2010         39904   \n",
       "\n",
       "                              title              title_without_series  \\\n",
       "0              Xander's Panda Party              Xander's Panda Party   \n",
       "1              Xander's Panda Party              Xander's Panda Party   \n",
       "3  Storm Warning (The 39 Clues, #9)  Storm Warning (The 39 Clues, #9)   \n",
       "\n",
       "                                              genres Genre_Tag author_id  \\\n",
       "0  {'children': 143, 'fiction': 15, 'poetry': 9, ...  children     61707   \n",
       "1  {'children': 143, 'fiction': 15, 'poetry': 9, ...  children     61707   \n",
       "3  {'mystery, thriller, crime': 188, 'young-adult...  children     61707   \n",
       "\n",
       "             name  \n",
       "0  Linda Sue Park  \n",
       "1  Linda Sue Park  \n",
       "3  Linda Sue Park  \n",
       "\n",
       "[3 rows x 23 columns]"
      ]
     },
     "execution_count": 47,
     "metadata": {},
     "output_type": "execute_result"
    }
   ],
   "source": [
    "english = (children_df.language_code == 'eng') | (children_df.language_code == 'en-GB') | (children_df.language_code == 'en-US') | (children_df.language_code == 'en-CA')\n",
    "children_df[english].head(3)"
   ]
  },
  {
   "cell_type": "code",
   "execution_count": 48,
   "id": "da6502f6",
   "metadata": {},
   "outputs": [
    {
     "data": {
      "text/html": [
       "<div>\n",
       "<style scoped>\n",
       "    .dataframe tbody tr th:only-of-type {\n",
       "        vertical-align: middle;\n",
       "    }\n",
       "\n",
       "    .dataframe tbody tr th {\n",
       "        vertical-align: top;\n",
       "    }\n",
       "\n",
       "    .dataframe thead th {\n",
       "        text-align: right;\n",
       "    }\n",
       "</style>\n",
       "<table border=\"1\" class=\"dataframe\">\n",
       "  <thead>\n",
       "    <tr style=\"text-align: right;\">\n",
       "      <th></th>\n",
       "      <th>user_id</th>\n",
       "      <th>book_id</th>\n",
       "      <th>review_id</th>\n",
       "      <th>rating</th>\n",
       "      <th>review_text</th>\n",
       "      <th>text_reviews_count</th>\n",
       "      <th>series</th>\n",
       "      <th>language_code</th>\n",
       "      <th>is_ebook</th>\n",
       "      <th>average_rating</th>\n",
       "      <th>...</th>\n",
       "      <th>num_pages</th>\n",
       "      <th>edition_information</th>\n",
       "      <th>publication_year</th>\n",
       "      <th>ratings_count</th>\n",
       "      <th>title</th>\n",
       "      <th>title_without_series</th>\n",
       "      <th>genres</th>\n",
       "      <th>Genre_Tag</th>\n",
       "      <th>author_id</th>\n",
       "      <th>name</th>\n",
       "    </tr>\n",
       "  </thead>\n",
       "  <tbody>\n",
       "    <tr>\n",
       "      <th>0</th>\n",
       "      <td>a2d6dd1685e5aa0a72c9410f8f55e056</td>\n",
       "      <td>17165891</td>\n",
       "      <td>dd6c3698b614b747d6fbd01e65186e34</td>\n",
       "      <td>0</td>\n",
       "      <td>O</td>\n",
       "      <td>210</td>\n",
       "      <td>[]</td>\n",
       "      <td>eng</td>\n",
       "      <td>false</td>\n",
       "      <td>4.05</td>\n",
       "      <td>...</td>\n",
       "      <td>40</td>\n",
       "      <td></td>\n",
       "      <td>2013</td>\n",
       "      <td>1163</td>\n",
       "      <td>Xander's Panda Party</td>\n",
       "      <td>Xander's Panda Party</td>\n",
       "      <td>{'children': 143, 'fiction': 15, 'poetry': 9, ...</td>\n",
       "      <td>children</td>\n",
       "      <td>61707</td>\n",
       "      <td>Linda Sue Park</td>\n",
       "    </tr>\n",
       "    <tr>\n",
       "      <th>1</th>\n",
       "      <td>6adb9b5f52e7a89b820d8afcb6329b0e</td>\n",
       "      <td>17165891</td>\n",
       "      <td>0e2ba452097b55739c564e1fabcd361e</td>\n",
       "      <td>5</td>\n",
       "      <td>my pick for the caldecott so far...</td>\n",
       "      <td>210</td>\n",
       "      <td>[]</td>\n",
       "      <td>eng</td>\n",
       "      <td>false</td>\n",
       "      <td>4.05</td>\n",
       "      <td>...</td>\n",
       "      <td>40</td>\n",
       "      <td></td>\n",
       "      <td>2013</td>\n",
       "      <td>1163</td>\n",
       "      <td>Xander's Panda Party</td>\n",
       "      <td>Xander's Panda Party</td>\n",
       "      <td>{'children': 143, 'fiction': 15, 'poetry': 9, ...</td>\n",
       "      <td>children</td>\n",
       "      <td>61707</td>\n",
       "      <td>Linda Sue Park</td>\n",
       "    </tr>\n",
       "    <tr>\n",
       "      <th>3</th>\n",
       "      <td>e68c221b98d5561680dd6838f059b55f</td>\n",
       "      <td>6697305</td>\n",
       "      <td>85b39c5ef18ea1612abe327778594bc1</td>\n",
       "      <td>4</td>\n",
       "      <td>This time Dan and Amy go to the Bahamas and Ja...</td>\n",
       "      <td>554</td>\n",
       "      <td>[172406]</td>\n",
       "      <td>eng</td>\n",
       "      <td>false</td>\n",
       "      <td>3.98</td>\n",
       "      <td>...</td>\n",
       "      <td>190</td>\n",
       "      <td></td>\n",
       "      <td>2010</td>\n",
       "      <td>39904</td>\n",
       "      <td>Storm Warning (The 39 Clues, #9)</td>\n",
       "      <td>Storm Warning (The 39 Clues, #9)</td>\n",
       "      <td>{'mystery, thriller, crime': 188, 'young-adult...</td>\n",
       "      <td>children</td>\n",
       "      <td>61707</td>\n",
       "      <td>Linda Sue Park</td>\n",
       "    </tr>\n",
       "  </tbody>\n",
       "</table>\n",
       "<p>3 rows × 23 columns</p>\n",
       "</div>"
      ],
      "text/plain": [
       "                            user_id   book_id  \\\n",
       "0  a2d6dd1685e5aa0a72c9410f8f55e056  17165891   \n",
       "1  6adb9b5f52e7a89b820d8afcb6329b0e  17165891   \n",
       "3  e68c221b98d5561680dd6838f059b55f   6697305   \n",
       "\n",
       "                          review_id  rating  \\\n",
       "0  dd6c3698b614b747d6fbd01e65186e34       0   \n",
       "1  0e2ba452097b55739c564e1fabcd361e       5   \n",
       "3  85b39c5ef18ea1612abe327778594bc1       4   \n",
       "\n",
       "                                         review_text  text_reviews_count  \\\n",
       "0                                                  O                 210   \n",
       "1                my pick for the caldecott so far...                 210   \n",
       "3  This time Dan and Amy go to the Bahamas and Ja...                 554   \n",
       "\n",
       "     series language_code is_ebook  average_rating  ... num_pages  \\\n",
       "0        []           eng    false            4.05  ...        40   \n",
       "1        []           eng    false            4.05  ...        40   \n",
       "3  [172406]           eng    false            3.98  ...       190   \n",
       "\n",
       "  edition_information publication_year ratings_count  \\\n",
       "0                                 2013          1163   \n",
       "1                                 2013          1163   \n",
       "3                                 2010         39904   \n",
       "\n",
       "                              title              title_without_series  \\\n",
       "0              Xander's Panda Party              Xander's Panda Party   \n",
       "1              Xander's Panda Party              Xander's Panda Party   \n",
       "3  Storm Warning (The 39 Clues, #9)  Storm Warning (The 39 Clues, #9)   \n",
       "\n",
       "                                              genres Genre_Tag author_id  \\\n",
       "0  {'children': 143, 'fiction': 15, 'poetry': 9, ...  children     61707   \n",
       "1  {'children': 143, 'fiction': 15, 'poetry': 9, ...  children     61707   \n",
       "3  {'mystery, thriller, crime': 188, 'young-adult...  children     61707   \n",
       "\n",
       "             name  \n",
       "0  Linda Sue Park  \n",
       "1  Linda Sue Park  \n",
       "3  Linda Sue Park  \n",
       "\n",
       "[3 rows x 23 columns]"
      ]
     },
     "execution_count": 48,
     "metadata": {},
     "output_type": "execute_result"
    }
   ],
   "source": [
    "children_df = children_df[english]\n",
    "children_df.head(3)"
   ]
  },
  {
   "cell_type": "code",
   "execution_count": 49,
   "id": "0875694b",
   "metadata": {},
   "outputs": [
    {
     "data": {
      "text/plain": [
       "eng      2181\n",
       "en-US     568\n",
       "en-GB      98\n",
       "en-CA      11\n",
       "Name: language_code, dtype: int64"
      ]
     },
     "execution_count": 49,
     "metadata": {},
     "output_type": "execute_result"
    }
   ],
   "source": [
    "children_df.language_code.value_counts()"
   ]
  },
  {
   "cell_type": "code",
   "execution_count": 50,
   "id": "9b0cd646",
   "metadata": {},
   "outputs": [
    {
     "data": {
      "text/plain": [
       "(2858, 23)"
      ]
     },
     "execution_count": 50,
     "metadata": {},
     "output_type": "execute_result"
    }
   ],
   "source": [
    "children_df.shape"
   ]
  },
  {
   "cell_type": "markdown",
   "id": "dbdf57d2",
   "metadata": {},
   "source": [
    "The shape and value_counts confirm that there are now only English-coded books and that the total number of reviews has now been reduced to 2858 - that's still a decent number of reviews, but the number remaining might vary wildly across genres, so we'll see what kind of sampling may be necessary."
   ]
  },
  {
   "cell_type": "markdown",
   "id": "169512c2",
   "metadata": {},
   "source": [
    "## Formatting\n",
    "There are still a lot of columns in my working DataFrame, so I want to break it down into only the most essential pieces of data."
   ]
  },
  {
   "cell_type": "code",
   "execution_count": 51,
   "id": "3f8f0198",
   "metadata": {},
   "outputs": [
    {
     "data": {
      "text/plain": [
       "Index(['user_id', 'book_id', 'review_id', 'rating', 'review_text',\n",
       "       'text_reviews_count', 'series', 'language_code', 'is_ebook',\n",
       "       'average_rating', 'description', 'authors', 'publisher', 'num_pages',\n",
       "       'edition_information', 'publication_year', 'ratings_count', 'title',\n",
       "       'title_without_series', 'genres', 'Genre_Tag', 'author_id', 'name'],\n",
       "      dtype='object')"
      ]
     },
     "execution_count": 51,
     "metadata": {},
     "output_type": "execute_result"
    }
   ],
   "source": [
    "children_df.columns"
   ]
  },
  {
   "cell_type": "code",
   "execution_count": 52,
   "id": "4b67ebe1",
   "metadata": {},
   "outputs": [],
   "source": [
    "children_short = children_df[['user_id', 'rating', 'review_text', 'language_code', 'average_rating', 'num_pages', 'publication_year', 'ratings_count', 'title', 'genres', 'Genre_Tag', 'name']]\n",
    "children_short.columns = ['User_ID', 'Rating', 'Text', 'Language', 'Avg_Rating', 'Pages', 'Pub_Year', 'Ratings_Count', 'Title', 'Genres', 'Category', 'Author']"
   ]
  },
  {
   "cell_type": "code",
   "execution_count": 53,
   "id": "658fc3b9",
   "metadata": {
    "scrolled": true
   },
   "outputs": [
    {
     "data": {
      "text/html": [
       "<div>\n",
       "<style scoped>\n",
       "    .dataframe tbody tr th:only-of-type {\n",
       "        vertical-align: middle;\n",
       "    }\n",
       "\n",
       "    .dataframe tbody tr th {\n",
       "        vertical-align: top;\n",
       "    }\n",
       "\n",
       "    .dataframe thead th {\n",
       "        text-align: right;\n",
       "    }\n",
       "</style>\n",
       "<table border=\"1\" class=\"dataframe\">\n",
       "  <thead>\n",
       "    <tr style=\"text-align: right;\">\n",
       "      <th></th>\n",
       "      <th>User_ID</th>\n",
       "      <th>Rating</th>\n",
       "      <th>Text</th>\n",
       "      <th>Language</th>\n",
       "      <th>Avg_Rating</th>\n",
       "      <th>Pages</th>\n",
       "      <th>Pub_Year</th>\n",
       "      <th>Ratings_Count</th>\n",
       "      <th>Title</th>\n",
       "      <th>Genres</th>\n",
       "      <th>Category</th>\n",
       "      <th>Author</th>\n",
       "    </tr>\n",
       "  </thead>\n",
       "  <tbody>\n",
       "    <tr>\n",
       "      <th>0</th>\n",
       "      <td>a2d6dd1685e5aa0a72c9410f8f55e056</td>\n",
       "      <td>0</td>\n",
       "      <td>O</td>\n",
       "      <td>eng</td>\n",
       "      <td>4.05</td>\n",
       "      <td>40</td>\n",
       "      <td>2013</td>\n",
       "      <td>1163</td>\n",
       "      <td>Xander's Panda Party</td>\n",
       "      <td>{'children': 143, 'fiction': 15, 'poetry': 9, ...</td>\n",
       "      <td>children</td>\n",
       "      <td>Linda Sue Park</td>\n",
       "    </tr>\n",
       "    <tr>\n",
       "      <th>1</th>\n",
       "      <td>6adb9b5f52e7a89b820d8afcb6329b0e</td>\n",
       "      <td>5</td>\n",
       "      <td>my pick for the caldecott so far...</td>\n",
       "      <td>eng</td>\n",
       "      <td>4.05</td>\n",
       "      <td>40</td>\n",
       "      <td>2013</td>\n",
       "      <td>1163</td>\n",
       "      <td>Xander's Panda Party</td>\n",
       "      <td>{'children': 143, 'fiction': 15, 'poetry': 9, ...</td>\n",
       "      <td>children</td>\n",
       "      <td>Linda Sue Park</td>\n",
       "    </tr>\n",
       "    <tr>\n",
       "      <th>3</th>\n",
       "      <td>e68c221b98d5561680dd6838f059b55f</td>\n",
       "      <td>4</td>\n",
       "      <td>This time Dan and Amy go to the Bahamas and Ja...</td>\n",
       "      <td>eng</td>\n",
       "      <td>3.98</td>\n",
       "      <td>190</td>\n",
       "      <td>2010</td>\n",
       "      <td>39904</td>\n",
       "      <td>Storm Warning (The 39 Clues, #9)</td>\n",
       "      <td>{'mystery, thriller, crime': 188, 'young-adult...</td>\n",
       "      <td>children</td>\n",
       "      <td>Linda Sue Park</td>\n",
       "    </tr>\n",
       "    <tr>\n",
       "      <th>4</th>\n",
       "      <td>2f0831cbee2d9e5a02761989b8e9f491</td>\n",
       "      <td>5</td>\n",
       "      <td>Loved the excerpts where Julia, the main chara...</td>\n",
       "      <td>eng</td>\n",
       "      <td>3.67</td>\n",
       "      <td>240</td>\n",
       "      <td>2007</td>\n",
       "      <td>2929</td>\n",
       "      <td>Project Mulberry</td>\n",
       "      <td>{'fiction': 122, 'children': 111, 'young-adult...</td>\n",
       "      <td>children</td>\n",
       "      <td>Linda Sue Park</td>\n",
       "    </tr>\n",
       "    <tr>\n",
       "      <th>5</th>\n",
       "      <td>686b174e58665fe35cd89c64c0607992</td>\n",
       "      <td>4</td>\n",
       "      <td>I liked the illustrations, which are are - wel...</td>\n",
       "      <td>eng</td>\n",
       "      <td>3.78</td>\n",
       "      <td>32</td>\n",
       "      <td>2016</td>\n",
       "      <td>84</td>\n",
       "      <td>A Moon of My Own</td>\n",
       "      <td>{'children': 13, 'young-adult': 2, 'non-fictio...</td>\n",
       "      <td>children</td>\n",
       "      <td>Jennifer Rustgi</td>\n",
       "    </tr>\n",
       "  </tbody>\n",
       "</table>\n",
       "</div>"
      ],
      "text/plain": [
       "                            User_ID  Rating  \\\n",
       "0  a2d6dd1685e5aa0a72c9410f8f55e056       0   \n",
       "1  6adb9b5f52e7a89b820d8afcb6329b0e       5   \n",
       "3  e68c221b98d5561680dd6838f059b55f       4   \n",
       "4  2f0831cbee2d9e5a02761989b8e9f491       5   \n",
       "5  686b174e58665fe35cd89c64c0607992       4   \n",
       "\n",
       "                                                Text Language  Avg_Rating  \\\n",
       "0                                                  O      eng        4.05   \n",
       "1                my pick for the caldecott so far...      eng        4.05   \n",
       "3  This time Dan and Amy go to the Bahamas and Ja...      eng        3.98   \n",
       "4  Loved the excerpts where Julia, the main chara...      eng        3.67   \n",
       "5  I liked the illustrations, which are are - wel...      eng        3.78   \n",
       "\n",
       "  Pages Pub_Year  Ratings_Count                             Title  \\\n",
       "0    40     2013           1163              Xander's Panda Party   \n",
       "1    40     2013           1163              Xander's Panda Party   \n",
       "3   190     2010          39904  Storm Warning (The 39 Clues, #9)   \n",
       "4   240     2007           2929                  Project Mulberry   \n",
       "5    32     2016             84                  A Moon of My Own   \n",
       "\n",
       "                                              Genres  Category  \\\n",
       "0  {'children': 143, 'fiction': 15, 'poetry': 9, ...  children   \n",
       "1  {'children': 143, 'fiction': 15, 'poetry': 9, ...  children   \n",
       "3  {'mystery, thriller, crime': 188, 'young-adult...  children   \n",
       "4  {'fiction': 122, 'children': 111, 'young-adult...  children   \n",
       "5  {'children': 13, 'young-adult': 2, 'non-fictio...  children   \n",
       "\n",
       "            Author  \n",
       "0   Linda Sue Park  \n",
       "1   Linda Sue Park  \n",
       "3   Linda Sue Park  \n",
       "4   Linda Sue Park  \n",
       "5  Jennifer Rustgi  "
      ]
     },
     "execution_count": 53,
     "metadata": {},
     "output_type": "execute_result"
    }
   ],
   "source": [
    "children_short.head()"
   ]
  },
  {
   "cell_type": "markdown",
   "id": "9bb87e5f",
   "metadata": {},
   "source": [
    "Let's rearrange these columns!"
   ]
  },
  {
   "cell_type": "code",
   "execution_count": 54,
   "id": "594eab5c",
   "metadata": {},
   "outputs": [],
   "source": [
    "children_short = children_short[[ 'Text', 'Rating', 'Title', 'Author', 'Category', 'Genres', 'Language', 'Pages', 'Pub_Year', 'Avg_Rating', 'Ratings_Count', 'User_ID']]"
   ]
  },
  {
   "cell_type": "code",
   "execution_count": 55,
   "id": "d3c49d74",
   "metadata": {},
   "outputs": [
    {
     "data": {
      "text/plain": [
       "(2858, 12)"
      ]
     },
     "execution_count": 55,
     "metadata": {},
     "output_type": "execute_result"
    }
   ],
   "source": [
    "children_short.shape"
   ]
  },
  {
   "cell_type": "markdown",
   "id": "b7e7fadb",
   "metadata": {},
   "source": [
    "As seen with the language codes, even though there are no NaN values, some language codes were replaced with empty strings, meaning more elements of the DataFrame could be missing without showing up as a null value. While it's not a big deal if a book is missing its number of pages or year of publication, I do want to make sure I'm not missing any review or rating entries. Since the `.info()` shows that there are no null values in the DataFrame, but there are empty spaces, these are likely filled with empty strings. I created a filter to test if any rows had empty strings or strings with one space in the Text or Rating columns."
   ]
  },
  {
   "cell_type": "code",
   "execution_count": 56,
   "id": "7feab1c1",
   "metadata": {},
   "outputs": [
    {
     "name": "stdout",
     "output_type": "stream",
     "text": [
      "(2858, 12)\n"
     ]
    }
   ],
   "source": [
    "empty = (children_short.Text != '') & (children_short.Text != ' ') & (children_short.Rating != '') & (children_short.Rating != ' ')\n",
    "print(children_short[empty].shape)"
   ]
  },
  {
   "cell_type": "code",
   "execution_count": 57,
   "id": "e57347a2",
   "metadata": {},
   "outputs": [
    {
     "data": {
      "text/plain": [
       "5    1064\n",
       "4     992\n",
       "3     514\n",
       "2     143\n",
       "0     101\n",
       "1      44\n",
       "Name: Rating, dtype: int64"
      ]
     },
     "execution_count": 57,
     "metadata": {},
     "output_type": "execute_result"
    }
   ],
   "source": [
    "children_short.Rating.value_counts()"
   ]
  },
  {
   "cell_type": "markdown",
   "id": "33e31d6b",
   "metadata": {},
   "source": [
    "Seems like this DataFrame was already ok! But it's good practice just to double check."
   ]
  },
  {
   "cell_type": "code",
   "execution_count": 58,
   "id": "41e3a5e9",
   "metadata": {},
   "outputs": [
    {
     "name": "stdout",
     "output_type": "stream",
     "text": [
      "(2858, 12)\n"
     ]
    }
   ],
   "source": [
    "children_short = children_short[empty]\n",
    "print(children_short.shape)"
   ]
  },
  {
   "cell_type": "markdown",
   "id": "050f53af",
   "metadata": {},
   "source": [
    "Now that entries without a review text or rating have been excluded, it's finally time to save the remaining data. I'm going to pickle each genre's processed DataFrame that I will then be able to combine together in a separate notebook since they will then be a manageable size."
   ]
  },
  {
   "cell_type": "code",
   "execution_count": 59,
   "id": "43be47ef",
   "metadata": {},
   "outputs": [],
   "source": [
    "#f2 = open('data/genre_pkls/children_short.pkl', 'wb')\n",
    "#pickle.dump(children_short, f2)\n",
    "#f2.close() "
   ]
  },
  {
   "cell_type": "markdown",
   "id": "e064b061",
   "metadata": {},
   "source": [
    "### Plan for Remaining Genres\n",
    "I will now repeat the process above for the remaining 7 genre files. I will be following all the same steps as with the Children's Literature data, so I will only flash the head of each DataFrame immediately after reading it in to check that it is correct. Following that, I will only double check the shape of the DataFrame rather than flashing the head of the DataFrame every time to condense the notebook since the process is shown to work.\n",
    "\n",
    "To see the data processing for the rest of the genres, please see the [data_prep](https://github.com/Data-Science-for-Linguists-2023/Goodreads-Genre-Reviews-Analysis/tree/main/data_prep) folder. Splitting the process into multiple notebooks allowed me to save memory, and each notebook follows the exact same process as demonstrated here."
   ]
  },
  {
   "cell_type": "markdown",
   "id": "a22d3981",
   "metadata": {},
   "source": [
    "# Poetry Data\n",
    "## Reviews"
   ]
  },
  {
   "cell_type": "code",
   "execution_count": 60,
   "id": "a059c59f",
   "metadata": {},
   "outputs": [
    {
     "data": {
      "text/html": [
       "<div>\n",
       "<style scoped>\n",
       "    .dataframe tbody tr th:only-of-type {\n",
       "        vertical-align: middle;\n",
       "    }\n",
       "\n",
       "    .dataframe tbody tr th {\n",
       "        vertical-align: top;\n",
       "    }\n",
       "\n",
       "    .dataframe thead th {\n",
       "        text-align: right;\n",
       "    }\n",
       "</style>\n",
       "<table border=\"1\" class=\"dataframe\">\n",
       "  <thead>\n",
       "    <tr style=\"text-align: right;\">\n",
       "      <th></th>\n",
       "      <th>user_id</th>\n",
       "      <th>book_id</th>\n",
       "      <th>review_id</th>\n",
       "      <th>rating</th>\n",
       "      <th>review_text</th>\n",
       "      <th>date_added</th>\n",
       "      <th>date_updated</th>\n",
       "      <th>read_at</th>\n",
       "      <th>started_at</th>\n",
       "      <th>n_votes</th>\n",
       "      <th>n_comments</th>\n",
       "    </tr>\n",
       "  </thead>\n",
       "  <tbody>\n",
       "    <tr>\n",
       "      <th>0</th>\n",
       "      <td>d1fb4ab5f06f53929af8ba4e2057bdab</td>\n",
       "      <td>23337735</td>\n",
       "      <td>30ff5f6e3ee4a24d5a543534a4546fa9</td>\n",
       "      <td>4</td>\n",
       "      <td>Recently, poetry has fallen victim to a slew o...</td>\n",
       "      <td>Mon Feb 22 17:22:38 -0800 2016</td>\n",
       "      <td>Thu Feb 25 21:04:39 -0800 2016</td>\n",
       "      <td>Thu Feb 25 00:00:00 -0800 2016</td>\n",
       "      <td>Mon Feb 22 00:00:00 -0800 2016</td>\n",
       "      <td>0</td>\n",
       "      <td>0</td>\n",
       "    </tr>\n",
       "    <tr>\n",
       "      <th>1</th>\n",
       "      <td>fe48e05eee1b40da8cb8c981faf023fb</td>\n",
       "      <td>1856017</td>\n",
       "      <td>ec22e02a40898e14e5d418134030d840</td>\n",
       "      <td>5</td>\n",
       "      <td>beautifully organic</td>\n",
       "      <td>Tue Mar 11 17:38:22 -0700 2008</td>\n",
       "      <td>Tue Mar 11 17:39:26 -0700 2008</td>\n",
       "      <td></td>\n",
       "      <td></td>\n",
       "      <td>0</td>\n",
       "      <td>0</td>\n",
       "    </tr>\n",
       "    <tr>\n",
       "      <th>2</th>\n",
       "      <td>5aeec2fe761a7fd9be461c38fb78af2f</td>\n",
       "      <td>138371</td>\n",
       "      <td>fcaa30ac5b28fd833a7522f779d3cb09</td>\n",
       "      <td>4</td>\n",
       "      <td>A beautiful version of this classic.</td>\n",
       "      <td>Tue Jan 03 21:41:28 -0800 2012</td>\n",
       "      <td>Mon Dec 28 02:39:50 -0800 2015</td>\n",
       "      <td>Thu Jan 05 00:00:00 -0800 2012</td>\n",
       "      <td>Tue Jan 03 00:00:00 -0800 2012</td>\n",
       "      <td>0</td>\n",
       "      <td>0</td>\n",
       "    </tr>\n",
       "    <tr>\n",
       "      <th>3</th>\n",
       "      <td>ca5c77ab48421011ba033eb6b0462a7d</td>\n",
       "      <td>3167946</td>\n",
       "      <td>85fdefee905149a382688c7a8327e89d</td>\n",
       "      <td>5</td>\n",
       "      <td>One of the things that can be specified when m...</td>\n",
       "      <td>Sat Apr 05 15:24:43 -0700 2008</td>\n",
       "      <td>Sat Apr 05 15:35:05 -0700 2008</td>\n",
       "      <td></td>\n",
       "      <td></td>\n",
       "      <td>2</td>\n",
       "      <td>0</td>\n",
       "    </tr>\n",
       "    <tr>\n",
       "      <th>4</th>\n",
       "      <td>e2cf04ac7b40875f48871ad97df16c30</td>\n",
       "      <td>18516208</td>\n",
       "      <td>92ebb47d21495aaf87153aa75f2f3666</td>\n",
       "      <td>5</td>\n",
       "      <td>Sidqan mn 'jml rwyt wSf lHb lflsTyny ldhy qr't ..</td>\n",
       "      <td>Sat Apr 19 14:57:09 -0700 2014</td>\n",
       "      <td>Tue Jun 17 09:27:01 -0700 2014</td>\n",
       "      <td>Tue Jun 17 09:27:01 -0700 2014</td>\n",
       "      <td></td>\n",
       "      <td>0</td>\n",
       "      <td>1</td>\n",
       "    </tr>\n",
       "  </tbody>\n",
       "</table>\n",
       "</div>"
      ],
      "text/plain": [
       "                            user_id   book_id  \\\n",
       "0  d1fb4ab5f06f53929af8ba4e2057bdab  23337735   \n",
       "1  fe48e05eee1b40da8cb8c981faf023fb   1856017   \n",
       "2  5aeec2fe761a7fd9be461c38fb78af2f    138371   \n",
       "3  ca5c77ab48421011ba033eb6b0462a7d   3167946   \n",
       "4  e2cf04ac7b40875f48871ad97df16c30  18516208   \n",
       "\n",
       "                          review_id  rating  \\\n",
       "0  30ff5f6e3ee4a24d5a543534a4546fa9       4   \n",
       "1  ec22e02a40898e14e5d418134030d840       5   \n",
       "2  fcaa30ac5b28fd833a7522f779d3cb09       4   \n",
       "3  85fdefee905149a382688c7a8327e89d       5   \n",
       "4  92ebb47d21495aaf87153aa75f2f3666       5   \n",
       "\n",
       "                                         review_text  \\\n",
       "0  Recently, poetry has fallen victim to a slew o...   \n",
       "1                                beautifully organic   \n",
       "2               A beautiful version of this classic.   \n",
       "3  One of the things that can be specified when m...   \n",
       "4  Sidqan mn 'jml rwyt wSf lHb lflsTyny ldhy qr't ..   \n",
       "\n",
       "                       date_added                    date_updated  \\\n",
       "0  Mon Feb 22 17:22:38 -0800 2016  Thu Feb 25 21:04:39 -0800 2016   \n",
       "1  Tue Mar 11 17:38:22 -0700 2008  Tue Mar 11 17:39:26 -0700 2008   \n",
       "2  Tue Jan 03 21:41:28 -0800 2012  Mon Dec 28 02:39:50 -0800 2015   \n",
       "3  Sat Apr 05 15:24:43 -0700 2008  Sat Apr 05 15:35:05 -0700 2008   \n",
       "4  Sat Apr 19 14:57:09 -0700 2014  Tue Jun 17 09:27:01 -0700 2014   \n",
       "\n",
       "                          read_at                      started_at  n_votes  \\\n",
       "0  Thu Feb 25 00:00:00 -0800 2016  Mon Feb 22 00:00:00 -0800 2016        0   \n",
       "1                                                                        0   \n",
       "2  Thu Jan 05 00:00:00 -0800 2012  Tue Jan 03 00:00:00 -0800 2012        0   \n",
       "3                                                                        2   \n",
       "4  Tue Jun 17 09:27:01 -0700 2014                                        0   \n",
       "\n",
       "   n_comments  \n",
       "0           0  \n",
       "1           0  \n",
       "2           0  \n",
       "3           0  \n",
       "4           1  "
      ]
     },
     "execution_count": 60,
     "metadata": {},
     "output_type": "execute_result"
    }
   ],
   "source": [
    "#Load poetry review data\n",
    "poetry_reviews = pd.read_json('/Users/ashleyfeiler/Documents/data_science/Goodreads-Genre-Reviews-Analysis/data/Reviews/excerpts_shuf/goodreads_reviews_poetry_shuf.json', lines=True)\n",
    "poetry_reviews.head()"
   ]
  },
  {
   "cell_type": "code",
   "execution_count": 61,
   "id": "5e701660",
   "metadata": {},
   "outputs": [],
   "source": [
    "#Save data sample to share\n",
    "#poetry_share = poetry_reviews.head()\n",
    "\n",
    "#f3 = open('data/genre_share/poetry_share.pkl', 'wb')\n",
    "#pickle.dump(poetry_share, f3)\n",
    "#f3.close() "
   ]
  },
  {
   "cell_type": "code",
   "execution_count": 62,
   "id": "5ff3e911",
   "metadata": {},
   "outputs": [
    {
     "data": {
      "text/plain": [
       "(5000, 11)"
      ]
     },
     "execution_count": 62,
     "metadata": {},
     "output_type": "execute_result"
    }
   ],
   "source": [
    "poetry_reviews.shape"
   ]
  },
  {
   "cell_type": "code",
   "execution_count": 63,
   "id": "b909bab1",
   "metadata": {},
   "outputs": [
    {
     "name": "stdout",
     "output_type": "stream",
     "text": [
      "<class 'pandas.core.frame.DataFrame'>\n",
      "RangeIndex: 5000 entries, 0 to 4999\n",
      "Data columns (total 11 columns):\n",
      " #   Column        Non-Null Count  Dtype \n",
      "---  ------        --------------  ----- \n",
      " 0   user_id       5000 non-null   object\n",
      " 1   book_id       5000 non-null   int64 \n",
      " 2   review_id     5000 non-null   object\n",
      " 3   rating        5000 non-null   int64 \n",
      " 4   review_text   5000 non-null   object\n",
      " 5   date_added    5000 non-null   object\n",
      " 6   date_updated  5000 non-null   object\n",
      " 7   read_at       5000 non-null   object\n",
      " 8   started_at    5000 non-null   object\n",
      " 9   n_votes       5000 non-null   int64 \n",
      " 10  n_comments    5000 non-null   int64 \n",
      "dtypes: int64(4), object(7)\n",
      "memory usage: 429.8+ KB\n"
     ]
    }
   ],
   "source": [
    "poetry_reviews.info()"
   ]
  },
  {
   "cell_type": "markdown",
   "id": "dca0298a",
   "metadata": {},
   "source": [
    "## Book Info"
   ]
  },
  {
   "cell_type": "code",
   "execution_count": 64,
   "id": "b8d638ee",
   "metadata": {},
   "outputs": [
    {
     "data": {
      "text/html": [
       "<div>\n",
       "<style scoped>\n",
       "    .dataframe tbody tr th:only-of-type {\n",
       "        vertical-align: middle;\n",
       "    }\n",
       "\n",
       "    .dataframe tbody tr th {\n",
       "        vertical-align: top;\n",
       "    }\n",
       "\n",
       "    .dataframe thead th {\n",
       "        text-align: right;\n",
       "    }\n",
       "</style>\n",
       "<table border=\"1\" class=\"dataframe\">\n",
       "  <thead>\n",
       "    <tr style=\"text-align: right;\">\n",
       "      <th></th>\n",
       "      <th>isbn</th>\n",
       "      <th>text_reviews_count</th>\n",
       "      <th>series</th>\n",
       "      <th>country_code</th>\n",
       "      <th>language_code</th>\n",
       "      <th>popular_shelves</th>\n",
       "      <th>asin</th>\n",
       "      <th>is_ebook</th>\n",
       "      <th>average_rating</th>\n",
       "      <th>kindle_asin</th>\n",
       "      <th>...</th>\n",
       "      <th>publication_month</th>\n",
       "      <th>edition_information</th>\n",
       "      <th>publication_year</th>\n",
       "      <th>url</th>\n",
       "      <th>image_url</th>\n",
       "      <th>book_id</th>\n",
       "      <th>ratings_count</th>\n",
       "      <th>work_id</th>\n",
       "      <th>title</th>\n",
       "      <th>title_without_series</th>\n",
       "    </tr>\n",
       "  </thead>\n",
       "  <tbody>\n",
       "    <tr>\n",
       "      <th>0</th>\n",
       "      <td></td>\n",
       "      <td>1</td>\n",
       "      <td>[]</td>\n",
       "      <td>US</td>\n",
       "      <td>eng</td>\n",
       "      <td>[{'count': '8', 'name': 'to-read'}, {'count': ...</td>\n",
       "      <td></td>\n",
       "      <td>false</td>\n",
       "      <td>3.83</td>\n",
       "      <td></td>\n",
       "      <td>...</td>\n",
       "      <td>11</td>\n",
       "      <td></td>\n",
       "      <td>1887</td>\n",
       "      <td>https://www.goodreads.com/book/show/16037549-v...</td>\n",
       "      <td>https://images.gr-assets.com/books/1348176637m...</td>\n",
       "      <td>16037549</td>\n",
       "      <td>3</td>\n",
       "      <td>5212748</td>\n",
       "      <td>Vision of Sir Launfal and Other Poems</td>\n",
       "      <td>Vision of Sir Launfal and Other Poems</td>\n",
       "    </tr>\n",
       "    <tr>\n",
       "      <th>1</th>\n",
       "      <td>0811223981</td>\n",
       "      <td>2</td>\n",
       "      <td>[]</td>\n",
       "      <td>US</td>\n",
       "      <td></td>\n",
       "      <td>[{'count': '100', 'name': 'to-read'}, {'count'...</td>\n",
       "      <td></td>\n",
       "      <td>false</td>\n",
       "      <td>3.83</td>\n",
       "      <td>B00U2WY9U8</td>\n",
       "      <td>...</td>\n",
       "      <td>4</td>\n",
       "      <td></td>\n",
       "      <td>2015</td>\n",
       "      <td>https://www.goodreads.com/book/show/22466716-f...</td>\n",
       "      <td>https://images.gr-assets.com/books/1404958407m...</td>\n",
       "      <td>22466716</td>\n",
       "      <td>37</td>\n",
       "      <td>41905435</td>\n",
       "      <td>Fairy Tales: Dramolettes</td>\n",
       "      <td>Fairy Tales: Dramolettes</td>\n",
       "    </tr>\n",
       "    <tr>\n",
       "      <th>2</th>\n",
       "      <td>0374428115</td>\n",
       "      <td>7</td>\n",
       "      <td>[]</td>\n",
       "      <td>US</td>\n",
       "      <td></td>\n",
       "      <td>[{'count': '32', 'name': 'to-read'}, {'count':...</td>\n",
       "      <td></td>\n",
       "      <td>false</td>\n",
       "      <td>4.38</td>\n",
       "      <td></td>\n",
       "      <td>...</td>\n",
       "      <td>7</td>\n",
       "      <td></td>\n",
       "      <td>2008</td>\n",
       "      <td>https://www.goodreads.com/book/show/926662.Gro...</td>\n",
       "      <td>https://s.gr-assets.com/assets/nophoto/book/11...</td>\n",
       "      <td>926662</td>\n",
       "      <td>45</td>\n",
       "      <td>911665</td>\n",
       "      <td>Growltiger's Last Stand and Other Poems</td>\n",
       "      <td>Growltiger's Last Stand and Other Poems</td>\n",
       "    </tr>\n",
       "    <tr>\n",
       "      <th>3</th>\n",
       "      <td>0156182890</td>\n",
       "      <td>12</td>\n",
       "      <td>[]</td>\n",
       "      <td>US</td>\n",
       "      <td></td>\n",
       "      <td>[{'count': '554', 'name': 'to-read'}, {'count'...</td>\n",
       "      <td></td>\n",
       "      <td>false</td>\n",
       "      <td>3.71</td>\n",
       "      <td>B00IWTRB1W</td>\n",
       "      <td>...</td>\n",
       "      <td>3</td>\n",
       "      <td></td>\n",
       "      <td>1964</td>\n",
       "      <td>https://www.goodreads.com/book/show/926667.The...</td>\n",
       "      <td>https://images.gr-assets.com/books/1382939971m...</td>\n",
       "      <td>926667</td>\n",
       "      <td>115</td>\n",
       "      <td>995066</td>\n",
       "      <td>The Cocktail Party</td>\n",
       "      <td>The Cocktail Party</td>\n",
       "    </tr>\n",
       "    <tr>\n",
       "      <th>4</th>\n",
       "      <td>1942004192</td>\n",
       "      <td>4</td>\n",
       "      <td>[]</td>\n",
       "      <td>US</td>\n",
       "      <td>eng</td>\n",
       "      <td>[{'count': '228', 'name': 'to-read'}, {'count'...</td>\n",
       "      <td></td>\n",
       "      <td>false</td>\n",
       "      <td>5.00</td>\n",
       "      <td></td>\n",
       "      <td>...</td>\n",
       "      <td>12</td>\n",
       "      <td>First</td>\n",
       "      <td>2015</td>\n",
       "      <td>https://www.goodreads.com/book/show/29065952-l...</td>\n",
       "      <td>https://images.gr-assets.com/books/1455198396m...</td>\n",
       "      <td>29065952</td>\n",
       "      <td>9</td>\n",
       "      <td>49294781</td>\n",
       "      <td>Louder Than Everything You Love</td>\n",
       "      <td>Louder Than Everything You Love</td>\n",
       "    </tr>\n",
       "  </tbody>\n",
       "</table>\n",
       "<p>5 rows × 29 columns</p>\n",
       "</div>"
      ],
      "text/plain": [
       "         isbn  text_reviews_count series country_code language_code  \\\n",
       "0                               1     []           US           eng   \n",
       "1  0811223981                   2     []           US                 \n",
       "2  0374428115                   7     []           US                 \n",
       "3  0156182890                  12     []           US                 \n",
       "4  1942004192                   4     []           US           eng   \n",
       "\n",
       "                                     popular_shelves asin is_ebook  \\\n",
       "0  [{'count': '8', 'name': 'to-read'}, {'count': ...         false   \n",
       "1  [{'count': '100', 'name': 'to-read'}, {'count'...         false   \n",
       "2  [{'count': '32', 'name': 'to-read'}, {'count':...         false   \n",
       "3  [{'count': '554', 'name': 'to-read'}, {'count'...         false   \n",
       "4  [{'count': '228', 'name': 'to-read'}, {'count'...         false   \n",
       "\n",
       "   average_rating kindle_asin  ... publication_month edition_information  \\\n",
       "0            3.83              ...                11                       \n",
       "1            3.83  B00U2WY9U8  ...                 4                       \n",
       "2            4.38              ...                 7                       \n",
       "3            3.71  B00IWTRB1W  ...                 3                       \n",
       "4            5.00              ...                12               First   \n",
       "\n",
       "  publication_year                                                url  \\\n",
       "0             1887  https://www.goodreads.com/book/show/16037549-v...   \n",
       "1             2015  https://www.goodreads.com/book/show/22466716-f...   \n",
       "2             2008  https://www.goodreads.com/book/show/926662.Gro...   \n",
       "3             1964  https://www.goodreads.com/book/show/926667.The...   \n",
       "4             2015  https://www.goodreads.com/book/show/29065952-l...   \n",
       "\n",
       "                                           image_url   book_id ratings_count  \\\n",
       "0  https://images.gr-assets.com/books/1348176637m...  16037549             3   \n",
       "1  https://images.gr-assets.com/books/1404958407m...  22466716            37   \n",
       "2  https://s.gr-assets.com/assets/nophoto/book/11...    926662            45   \n",
       "3  https://images.gr-assets.com/books/1382939971m...    926667           115   \n",
       "4  https://images.gr-assets.com/books/1455198396m...  29065952             9   \n",
       "\n",
       "    work_id                                    title  \\\n",
       "0   5212748    Vision of Sir Launfal and Other Poems   \n",
       "1  41905435                 Fairy Tales: Dramolettes   \n",
       "2    911665  Growltiger's Last Stand and Other Poems   \n",
       "3    995066                       The Cocktail Party   \n",
       "4  49294781          Louder Than Everything You Love   \n",
       "\n",
       "                      title_without_series  \n",
       "0    Vision of Sir Launfal and Other Poems  \n",
       "1                 Fairy Tales: Dramolettes  \n",
       "2  Growltiger's Last Stand and Other Poems  \n",
       "3                       The Cocktail Party  \n",
       "4          Louder Than Everything You Love  \n",
       "\n",
       "[5 rows x 29 columns]"
      ]
     },
     "execution_count": 64,
     "metadata": {},
     "output_type": "execute_result"
    }
   ],
   "source": [
    "#Load poetry book data\n",
    "poetry_books = pd.read_json('/Users/ashleyfeiler/Documents/data_science/Goodreads-Genre-Reviews-Analysis/data/Books/goodreads_books_poetry.json', lines=True)\n",
    "poetry_books.head()"
   ]
  },
  {
   "cell_type": "code",
   "execution_count": 65,
   "id": "4ea6c0d9",
   "metadata": {},
   "outputs": [
    {
     "data": {
      "text/plain": [
       "US    36514\n",
       "Name: country_code, dtype: int64"
      ]
     },
     "execution_count": 65,
     "metadata": {},
     "output_type": "execute_result"
    }
   ],
   "source": [
    "poetry_books.country_code.value_counts()"
   ]
  },
  {
   "cell_type": "code",
   "execution_count": 66,
   "id": "607692c8",
   "metadata": {},
   "outputs": [
    {
     "name": "stdout",
     "output_type": "stream",
     "text": [
      "['eng' '' 'tur' 'per' 'ara' 'en-US' 'fre' 'cze' 'nl' 'gre' 'ger' 'ben'\n",
      " 'spa' 'ukr' 'mul' 'rum' 'dan' 'nno' 'ind' 'por' 'enm' 'fin' 'ita' 'rus'\n",
      " 'bul' 'scr' 'lit' 'msa' 'swe' 'slv' 'srp' 'pol' 'en-CA' 'nor' 'hin'\n",
      " 'en-GB' 'slo' 'kat' 'jpn' 'pes' 'lav' 'cat' 'urd' 'vie' 'tlh' 'est' 'fil'\n",
      " 'heb' 'tam' 'mar' 'zho' 'grc' 'fao' 'mal' 'hun' 'bos' 'arw' 'lat' 'isl'\n",
      " 'ang' 'glg' 'pan' 'tgl' 'gmh' 'ira' 'hye' '--' 'tha' 'mon' 'dum' 'sin'\n",
      " 'kur' 'san' 'peo' 'nob' 'amh' 'aze' 'frm' 'sco' 'kor' 'afr' 'bel' 'nep'\n",
      " 'dut' 'gla' 'tel' 'dgr' 'ota' 'fro' 'aus' 'sqi' 'mkd' 'snd']\n"
     ]
    }
   ],
   "source": [
    "print(poetry_books.language_code.unique())"
   ]
  },
  {
   "cell_type": "code",
   "execution_count": 67,
   "id": "cb91331f",
   "metadata": {},
   "outputs": [],
   "source": [
    "#Merge review and book data on book ID\n",
    "poetry_df = pd.merge(poetry_reviews, poetry_books, on='book_id')"
   ]
  },
  {
   "cell_type": "code",
   "execution_count": 68,
   "id": "04a7c652",
   "metadata": {},
   "outputs": [
    {
     "data": {
      "text/plain": [
       "(5000, 39)"
      ]
     },
     "execution_count": 68,
     "metadata": {},
     "output_type": "execute_result"
    }
   ],
   "source": [
    "poetry_df.shape"
   ]
  },
  {
   "cell_type": "code",
   "execution_count": 69,
   "id": "754b9fe0",
   "metadata": {},
   "outputs": [
    {
     "data": {
      "text/plain": [
       "Index(['user_id', 'book_id', 'review_id', 'rating', 'review_text',\n",
       "       'date_added', 'date_updated', 'read_at', 'started_at', 'n_votes',\n",
       "       'n_comments', 'isbn', 'text_reviews_count', 'series', 'country_code',\n",
       "       'language_code', 'popular_shelves', 'asin', 'is_ebook',\n",
       "       'average_rating', 'kindle_asin', 'similar_books', 'description',\n",
       "       'format', 'link', 'authors', 'publisher', 'num_pages',\n",
       "       'publication_day', 'isbn13', 'publication_month', 'edition_information',\n",
       "       'publication_year', 'url', 'image_url', 'ratings_count', 'work_id',\n",
       "       'title', 'title_without_series'],\n",
       "      dtype='object')"
      ]
     },
     "execution_count": 69,
     "metadata": {},
     "output_type": "execute_result"
    }
   ],
   "source": [
    "poetry_df.columns"
   ]
  },
  {
   "cell_type": "markdown",
   "id": "9e821bc4",
   "metadata": {},
   "source": [
    "## Genre Info"
   ]
  },
  {
   "cell_type": "code",
   "execution_count": 70,
   "id": "55433295",
   "metadata": {
    "scrolled": false
   },
   "outputs": [],
   "source": [
    "#Merge poetry genre info\n",
    "poetry_df = pd.merge(poetry_df, genres_df)\n",
    "poetry_df['Genre_Tag'] = 'poetry'"
   ]
  },
  {
   "cell_type": "code",
   "execution_count": 71,
   "id": "adc532e9",
   "metadata": {},
   "outputs": [
    {
     "data": {
      "text/plain": [
       "(5000, 41)"
      ]
     },
     "execution_count": 71,
     "metadata": {},
     "output_type": "execute_result"
    }
   ],
   "source": [
    "poetry_df.shape"
   ]
  },
  {
   "cell_type": "markdown",
   "id": "a073a42c",
   "metadata": {},
   "source": [
    "## Author Info"
   ]
  },
  {
   "cell_type": "code",
   "execution_count": 72,
   "id": "23cbdbc1",
   "metadata": {},
   "outputs": [
    {
     "data": {
      "text/plain": [
       "'7238734'"
      ]
     },
     "execution_count": 72,
     "metadata": {},
     "output_type": "execute_result"
    }
   ],
   "source": [
    "#Isolate author ID\n",
    "poetry_authors = list(poetry_df.index.map(lambda x: poetry_df.authors.iloc[x][0]))\n",
    "list(poetry_authors[0].values())[0]"
   ]
  },
  {
   "cell_type": "code",
   "execution_count": 73,
   "id": "f3295253",
   "metadata": {},
   "outputs": [],
   "source": [
    "poetry_df['author_id'] = poetry_df.index.map(lambda x: int(list(poetry_authors[x].values())[0]))"
   ]
  },
  {
   "cell_type": "code",
   "execution_count": 74,
   "id": "5cee64b2",
   "metadata": {
    "scrolled": true
   },
   "outputs": [
    {
     "data": {
      "text/plain": [
       "[{'author_id': '7238734', 'role': ''}]"
      ]
     },
     "execution_count": 74,
     "metadata": {},
     "output_type": "execute_result"
    }
   ],
   "source": [
    "poetry_df.authors.iloc[0]"
   ]
  },
  {
   "cell_type": "code",
   "execution_count": 75,
   "id": "80eb0295",
   "metadata": {},
   "outputs": [],
   "source": [
    "#Merge poetry author info\n",
    "poetry_df = pd.merge(poetry_df, authors_df)"
   ]
  },
  {
   "cell_type": "code",
   "execution_count": 76,
   "id": "dfcdf86e",
   "metadata": {
    "scrolled": true
   },
   "outputs": [
    {
     "data": {
      "text/plain": [
       "(5000, 43)"
      ]
     },
     "execution_count": 76,
     "metadata": {},
     "output_type": "execute_result"
    }
   ],
   "source": [
    "poetry_df.shape"
   ]
  },
  {
   "cell_type": "markdown",
   "id": "a49a7ec7",
   "metadata": {},
   "source": [
    "## Language Filtering"
   ]
  },
  {
   "cell_type": "code",
   "execution_count": 77,
   "id": "7db0db7e",
   "metadata": {
    "scrolled": false
   },
   "outputs": [],
   "source": [
    "#Limit data to only English\n",
    "english = (poetry_df.language_code == 'eng') | (poetry_df.language_code == 'en-GB') | (poetry_df.language_code == 'en-US') | (poetry_df.language_code == 'en-CA')\n",
    "poetry_df = poetry_df[english]"
   ]
  },
  {
   "cell_type": "code",
   "execution_count": 78,
   "id": "3bea488b",
   "metadata": {},
   "outputs": [
    {
     "data": {
      "text/plain": [
       "(2186, 43)"
      ]
     },
     "execution_count": 78,
     "metadata": {},
     "output_type": "execute_result"
    }
   ],
   "source": [
    "poetry_df.shape"
   ]
  },
  {
   "cell_type": "markdown",
   "id": "bcc1c0db",
   "metadata": {},
   "source": [
    "## Formatting"
   ]
  },
  {
   "cell_type": "code",
   "execution_count": 79,
   "id": "c10b5b9e",
   "metadata": {},
   "outputs": [],
   "source": [
    "#Cut/rearrange columns\n",
    "poetry_short = poetry_df[['user_id', 'rating', 'review_text', 'language_code', 'average_rating', 'num_pages', 'publication_year', 'ratings_count', 'title', 'genres', 'Genre_Tag', 'name']]\n",
    "poetry_short.columns = ['User_ID', 'Rating', 'Text', 'Language', 'Avg_Rating', 'Pages', 'Pub_Year', 'Ratings_Count', 'Title', 'Genres', 'Category', 'Author']\n",
    "poetry_short = poetry_short[[ 'Text', 'Rating', 'Title', 'Author', 'Category', 'Genres', 'Language', 'Pages', 'Pub_Year', 'Avg_Rating', 'Ratings_Count', 'User_ID']]"
   ]
  },
  {
   "cell_type": "code",
   "execution_count": 80,
   "id": "303d623a",
   "metadata": {},
   "outputs": [
    {
     "data": {
      "text/plain": [
       "(2186, 12)"
      ]
     },
     "execution_count": 80,
     "metadata": {},
     "output_type": "execute_result"
    }
   ],
   "source": [
    "poetry_short.shape"
   ]
  },
  {
   "cell_type": "code",
   "execution_count": 81,
   "id": "c4f5d6c7",
   "metadata": {},
   "outputs": [
    {
     "name": "stdout",
     "output_type": "stream",
     "text": [
      "(2186, 12)\n",
      "(2185, 12)\n"
     ]
    }
   ],
   "source": [
    "#Eliminate empty review data\n",
    "empty = (poetry_short.Text != '') & (poetry_short.Text != ' ') & (poetry_short.Rating != '') & (poetry_short.Rating != ' ')\n",
    "print(poetry_short.shape)\n",
    "print(poetry_short[empty].shape)\n",
    "poetry_short = poetry_short[empty]"
   ]
  },
  {
   "cell_type": "code",
   "execution_count": 82,
   "id": "d1aa3a11",
   "metadata": {},
   "outputs": [],
   "source": [
    "#Pickle processed data\n",
    "#f4 = open('data/genre_pkls/poetry_short.pkl', 'wb')\n",
    "#pickle.dump(poetry_short, f4)\n",
    "#f4.close() "
   ]
  },
  {
   "cell_type": "markdown",
   "id": "813b665d",
   "metadata": {},
   "source": [
    "# Comics/Graphic Novel Data\n",
    "## Reviews"
   ]
  },
  {
   "cell_type": "code",
   "execution_count": 83,
   "id": "f09cbbe4",
   "metadata": {},
   "outputs": [
    {
     "data": {
      "text/html": [
       "<div>\n",
       "<style scoped>\n",
       "    .dataframe tbody tr th:only-of-type {\n",
       "        vertical-align: middle;\n",
       "    }\n",
       "\n",
       "    .dataframe tbody tr th {\n",
       "        vertical-align: top;\n",
       "    }\n",
       "\n",
       "    .dataframe thead th {\n",
       "        text-align: right;\n",
       "    }\n",
       "</style>\n",
       "<table border=\"1\" class=\"dataframe\">\n",
       "  <thead>\n",
       "    <tr style=\"text-align: right;\">\n",
       "      <th></th>\n",
       "      <th>user_id</th>\n",
       "      <th>book_id</th>\n",
       "      <th>review_id</th>\n",
       "      <th>rating</th>\n",
       "      <th>review_text</th>\n",
       "      <th>date_added</th>\n",
       "      <th>date_updated</th>\n",
       "      <th>read_at</th>\n",
       "      <th>started_at</th>\n",
       "      <th>n_votes</th>\n",
       "      <th>n_comments</th>\n",
       "    </tr>\n",
       "  </thead>\n",
       "  <tbody>\n",
       "    <tr>\n",
       "      <th>0</th>\n",
       "      <td>81949d8bcf2b4a1fa26e6a9ac23cc9fd</td>\n",
       "      <td>38990</td>\n",
       "      <td>e5fa35c4eb3bba7d442d95ac7e56a248</td>\n",
       "      <td>5</td>\n",
       "      <td>Honestly one of the best books I've ever read....</td>\n",
       "      <td>Sun Feb 10 10:02:20 -0800 2008</td>\n",
       "      <td>Thu Feb 14 09:33:52 -0800 2008</td>\n",
       "      <td>Thu Jun 01 00:00:00 -0700 2006</td>\n",
       "      <td></td>\n",
       "      <td>0</td>\n",
       "      <td>0</td>\n",
       "    </tr>\n",
       "    <tr>\n",
       "      <th>1</th>\n",
       "      <td>4a4bc340fffb6d2c93bf4c00db771a09</td>\n",
       "      <td>194479</td>\n",
       "      <td>517ad8a9f1747449daa6809e78379bef</td>\n",
       "      <td>4</td>\n",
       "      <td>I actually really liked this collection! I rea...</td>\n",
       "      <td>Wed Oct 26 15:31:01 -0700 2016</td>\n",
       "      <td>Sun Nov 06 10:58:54 -0800 2016</td>\n",
       "      <td>Fri Nov 04 00:00:00 -0700 2016</td>\n",
       "      <td>Wed Oct 26 00:00:00 -0700 2016</td>\n",
       "      <td>0</td>\n",
       "      <td>0</td>\n",
       "    </tr>\n",
       "    <tr>\n",
       "      <th>2</th>\n",
       "      <td>2042876ead7b889de0d9eebd2109e517</td>\n",
       "      <td>79840</td>\n",
       "      <td>6136806213e3b38d416d3f70a7ec6b17</td>\n",
       "      <td>1</td>\n",
       "      <td>A bit more than 200 hundred pages detailing a ...</td>\n",
       "      <td>Tue Mar 03 05:42:35 -0800 2015</td>\n",
       "      <td>Tue Mar 03 06:15:59 -0800 2015</td>\n",
       "      <td>Tue Mar 03 06:15:59 -0800 2015</td>\n",
       "      <td>Tue Mar 03 00:00:00 -0800 2015</td>\n",
       "      <td>2</td>\n",
       "      <td>0</td>\n",
       "    </tr>\n",
       "    <tr>\n",
       "      <th>3</th>\n",
       "      <td>cec77035cef250b558adb6cc3a46c6e9</td>\n",
       "      <td>26031154</td>\n",
       "      <td>671e2f680a1fa778017e9b2783fa4a88</td>\n",
       "      <td>4</td>\n",
       "      <td>So delightful! I loved the incorporation of al...</td>\n",
       "      <td>Wed Sep 07 09:21:19 -0700 2016</td>\n",
       "      <td>Wed Sep 07 09:22:26 -0700 2016</td>\n",
       "      <td>Wed Sep 07 09:22:26 -0700 2016</td>\n",
       "      <td>Wed Sep 07 00:00:00 -0700 2016</td>\n",
       "      <td>2</td>\n",
       "      <td>0</td>\n",
       "    </tr>\n",
       "    <tr>\n",
       "      <th>4</th>\n",
       "      <td>2423e998cabf65c03837928bf907d996</td>\n",
       "      <td>476909</td>\n",
       "      <td>423869621de2b793c873e0c98f8a6cba</td>\n",
       "      <td>3</td>\n",
       "      <td>Fun! Great for my 4 and 6 year old--they love ...</td>\n",
       "      <td>Mon Nov 02 13:30:33 -0800 2009</td>\n",
       "      <td>Mon Nov 02 13:31:57 -0800 2009</td>\n",
       "      <td>Thu Oct 01 00:00:00 -0700 2009</td>\n",
       "      <td></td>\n",
       "      <td>0</td>\n",
       "      <td>0</td>\n",
       "    </tr>\n",
       "  </tbody>\n",
       "</table>\n",
       "</div>"
      ],
      "text/plain": [
       "                            user_id   book_id  \\\n",
       "0  81949d8bcf2b4a1fa26e6a9ac23cc9fd     38990   \n",
       "1  4a4bc340fffb6d2c93bf4c00db771a09    194479   \n",
       "2  2042876ead7b889de0d9eebd2109e517     79840   \n",
       "3  cec77035cef250b558adb6cc3a46c6e9  26031154   \n",
       "4  2423e998cabf65c03837928bf907d996    476909   \n",
       "\n",
       "                          review_id  rating  \\\n",
       "0  e5fa35c4eb3bba7d442d95ac7e56a248       5   \n",
       "1  517ad8a9f1747449daa6809e78379bef       4   \n",
       "2  6136806213e3b38d416d3f70a7ec6b17       1   \n",
       "3  671e2f680a1fa778017e9b2783fa4a88       4   \n",
       "4  423869621de2b793c873e0c98f8a6cba       3   \n",
       "\n",
       "                                         review_text  \\\n",
       "0  Honestly one of the best books I've ever read....   \n",
       "1  I actually really liked this collection! I rea...   \n",
       "2  A bit more than 200 hundred pages detailing a ...   \n",
       "3  So delightful! I loved the incorporation of al...   \n",
       "4  Fun! Great for my 4 and 6 year old--they love ...   \n",
       "\n",
       "                       date_added                    date_updated  \\\n",
       "0  Sun Feb 10 10:02:20 -0800 2008  Thu Feb 14 09:33:52 -0800 2008   \n",
       "1  Wed Oct 26 15:31:01 -0700 2016  Sun Nov 06 10:58:54 -0800 2016   \n",
       "2  Tue Mar 03 05:42:35 -0800 2015  Tue Mar 03 06:15:59 -0800 2015   \n",
       "3  Wed Sep 07 09:21:19 -0700 2016  Wed Sep 07 09:22:26 -0700 2016   \n",
       "4  Mon Nov 02 13:30:33 -0800 2009  Mon Nov 02 13:31:57 -0800 2009   \n",
       "\n",
       "                          read_at                      started_at  n_votes  \\\n",
       "0  Thu Jun 01 00:00:00 -0700 2006                                        0   \n",
       "1  Fri Nov 04 00:00:00 -0700 2016  Wed Oct 26 00:00:00 -0700 2016        0   \n",
       "2  Tue Mar 03 06:15:59 -0800 2015  Tue Mar 03 00:00:00 -0800 2015        2   \n",
       "3  Wed Sep 07 09:22:26 -0700 2016  Wed Sep 07 00:00:00 -0700 2016        2   \n",
       "4  Thu Oct 01 00:00:00 -0700 2009                                        0   \n",
       "\n",
       "   n_comments  \n",
       "0           0  \n",
       "1           0  \n",
       "2           0  \n",
       "3           0  \n",
       "4           0  "
      ]
     },
     "execution_count": 83,
     "metadata": {},
     "output_type": "execute_result"
    }
   ],
   "source": [
    "#Load comics review data\n",
    "comics_reviews = pd.read_json('/Users/ashleyfeiler/Documents/data_science/Goodreads-Genre-Reviews-Analysis/data/Reviews/excerpts_shuf/goodreads_reviews_comics_graphic_shuf.json', lines=True)\n",
    "comics_reviews.head()"
   ]
  },
  {
   "cell_type": "code",
   "execution_count": 84,
   "id": "5dfccb81",
   "metadata": {},
   "outputs": [],
   "source": [
    "#Save data sample to share\n",
    "#comics_share = comics_reviews.head()\n",
    "\n",
    "#f5 = open('data/genre_share/comics_share.pkl', 'wb')\n",
    "#pickle.dump(comics_share, f5)\n",
    "#f5.close() "
   ]
  },
  {
   "cell_type": "code",
   "execution_count": 85,
   "id": "7c2e064d",
   "metadata": {},
   "outputs": [
    {
     "name": "stdout",
     "output_type": "stream",
     "text": [
      "(5000, 11)\n",
      "<class 'pandas.core.frame.DataFrame'>\n",
      "RangeIndex: 5000 entries, 0 to 4999\n",
      "Data columns (total 11 columns):\n",
      " #   Column        Non-Null Count  Dtype \n",
      "---  ------        --------------  ----- \n",
      " 0   user_id       5000 non-null   object\n",
      " 1   book_id       5000 non-null   int64 \n",
      " 2   review_id     5000 non-null   object\n",
      " 3   rating        5000 non-null   int64 \n",
      " 4   review_text   5000 non-null   object\n",
      " 5   date_added    5000 non-null   object\n",
      " 6   date_updated  5000 non-null   object\n",
      " 7   read_at       5000 non-null   object\n",
      " 8   started_at    5000 non-null   object\n",
      " 9   n_votes       5000 non-null   int64 \n",
      " 10  n_comments    5000 non-null   int64 \n",
      "dtypes: int64(4), object(7)\n",
      "memory usage: 429.8+ KB\n",
      "None\n"
     ]
    }
   ],
   "source": [
    "print(comics_reviews.shape)\n",
    "print(comics_reviews.info())"
   ]
  },
  {
   "cell_type": "markdown",
   "id": "02fa59ca",
   "metadata": {},
   "source": [
    "## Book Info"
   ]
  },
  {
   "cell_type": "code",
   "execution_count": 86,
   "id": "4063caab",
   "metadata": {},
   "outputs": [
    {
     "data": {
      "text/html": [
       "<div>\n",
       "<style scoped>\n",
       "    .dataframe tbody tr th:only-of-type {\n",
       "        vertical-align: middle;\n",
       "    }\n",
       "\n",
       "    .dataframe tbody tr th {\n",
       "        vertical-align: top;\n",
       "    }\n",
       "\n",
       "    .dataframe thead th {\n",
       "        text-align: right;\n",
       "    }\n",
       "</style>\n",
       "<table border=\"1\" class=\"dataframe\">\n",
       "  <thead>\n",
       "    <tr style=\"text-align: right;\">\n",
       "      <th></th>\n",
       "      <th>isbn</th>\n",
       "      <th>text_reviews_count</th>\n",
       "      <th>series</th>\n",
       "      <th>country_code</th>\n",
       "      <th>language_code</th>\n",
       "      <th>popular_shelves</th>\n",
       "      <th>asin</th>\n",
       "      <th>is_ebook</th>\n",
       "      <th>average_rating</th>\n",
       "      <th>kindle_asin</th>\n",
       "      <th>...</th>\n",
       "      <th>publication_month</th>\n",
       "      <th>edition_information</th>\n",
       "      <th>publication_year</th>\n",
       "      <th>url</th>\n",
       "      <th>image_url</th>\n",
       "      <th>book_id</th>\n",
       "      <th>ratings_count</th>\n",
       "      <th>work_id</th>\n",
       "      <th>title</th>\n",
       "      <th>title_without_series</th>\n",
       "    </tr>\n",
       "  </thead>\n",
       "  <tbody>\n",
       "    <tr>\n",
       "      <th>0</th>\n",
       "      <td></td>\n",
       "      <td>1</td>\n",
       "      <td>[]</td>\n",
       "      <td>US</td>\n",
       "      <td></td>\n",
       "      <td>[{'count': '228', 'name': 'to-read'}, {'count'...</td>\n",
       "      <td>B00NLXQ534</td>\n",
       "      <td>true</td>\n",
       "      <td>4.12</td>\n",
       "      <td></td>\n",
       "      <td>...</td>\n",
       "      <td></td>\n",
       "      <td></td>\n",
       "      <td></td>\n",
       "      <td>https://www.goodreads.com/book/show/25742454-t...</td>\n",
       "      <td>https://s.gr-assets.com/assets/nophoto/book/11...</td>\n",
       "      <td>25742454</td>\n",
       "      <td>1</td>\n",
       "      <td>42749946</td>\n",
       "      <td>The Switchblade Mamma</td>\n",
       "      <td>The Switchblade Mamma</td>\n",
       "    </tr>\n",
       "    <tr>\n",
       "      <th>1</th>\n",
       "      <td>2205073346</td>\n",
       "      <td>2</td>\n",
       "      <td>[]</td>\n",
       "      <td>US</td>\n",
       "      <td>fre</td>\n",
       "      <td>[{'count': '2', 'name': 'bd'}, {'count': '2', ...</td>\n",
       "      <td></td>\n",
       "      <td>false</td>\n",
       "      <td>3.94</td>\n",
       "      <td></td>\n",
       "      <td>...</td>\n",
       "      <td>1</td>\n",
       "      <td></td>\n",
       "      <td>2016</td>\n",
       "      <td>https://www.goodreads.com/book/show/30128855-c...</td>\n",
       "      <td>https://images.gr-assets.com/books/1462644346m...</td>\n",
       "      <td>30128855</td>\n",
       "      <td>16</td>\n",
       "      <td>50558228</td>\n",
       "      <td>Cruelle</td>\n",
       "      <td>Cruelle</td>\n",
       "    </tr>\n",
       "    <tr>\n",
       "      <th>2</th>\n",
       "      <td></td>\n",
       "      <td>5</td>\n",
       "      <td>[246830, 362583, 362581, 623032]</td>\n",
       "      <td>US</td>\n",
       "      <td>eng</td>\n",
       "      <td>[{'count': '493', 'name': 'to-read'}, {'count'...</td>\n",
       "      <td></td>\n",
       "      <td>false</td>\n",
       "      <td>4.28</td>\n",
       "      <td></td>\n",
       "      <td>...</td>\n",
       "      <td></td>\n",
       "      <td></td>\n",
       "      <td>2012</td>\n",
       "      <td>https://www.goodreads.com/book/show/13571772-c...</td>\n",
       "      <td>https://images.gr-assets.com/books/1333287305m...</td>\n",
       "      <td>13571772</td>\n",
       "      <td>51</td>\n",
       "      <td>102217</td>\n",
       "      <td>Captain America: Winter Soldier (The Ultimate ...</td>\n",
       "      <td>Captain America: Winter Soldier (The Ultimate ...</td>\n",
       "    </tr>\n",
       "    <tr>\n",
       "      <th>3</th>\n",
       "      <td></td>\n",
       "      <td>1</td>\n",
       "      <td>[]</td>\n",
       "      <td>US</td>\n",
       "      <td>eng</td>\n",
       "      <td>[{'count': '222', 'name': 'to-read'}, {'count'...</td>\n",
       "      <td>B06XKGGSB7</td>\n",
       "      <td>true</td>\n",
       "      <td>4.05</td>\n",
       "      <td>B06XKGGSB7</td>\n",
       "      <td>...</td>\n",
       "      <td></td>\n",
       "      <td></td>\n",
       "      <td></td>\n",
       "      <td>https://www.goodreads.com/book/show/35452242-b...</td>\n",
       "      <td>https://s.gr-assets.com/assets/nophoto/book/11...</td>\n",
       "      <td>35452242</td>\n",
       "      <td>6</td>\n",
       "      <td>54276229</td>\n",
       "      <td>Bounty Hunter 4/3: My Life in Combat from Mari...</td>\n",
       "      <td>Bounty Hunter 4/3: My Life in Combat from Mari...</td>\n",
       "    </tr>\n",
       "    <tr>\n",
       "      <th>4</th>\n",
       "      <td>0930289765</td>\n",
       "      <td>6</td>\n",
       "      <td>[266759, 1096220]</td>\n",
       "      <td>US</td>\n",
       "      <td>en-US</td>\n",
       "      <td>[{'count': '20', 'name': 'to-read'}, {'count':...</td>\n",
       "      <td></td>\n",
       "      <td>false</td>\n",
       "      <td>4.06</td>\n",
       "      <td></td>\n",
       "      <td>...</td>\n",
       "      <td>11</td>\n",
       "      <td></td>\n",
       "      <td>1997</td>\n",
       "      <td>https://www.goodreads.com/book/show/707611.Sup...</td>\n",
       "      <td>https://images.gr-assets.com/books/1307838888m...</td>\n",
       "      <td>707611</td>\n",
       "      <td>51</td>\n",
       "      <td>693886</td>\n",
       "      <td>Superman Archives, Vol. 2</td>\n",
       "      <td>Superman Archives, Vol. 2</td>\n",
       "    </tr>\n",
       "  </tbody>\n",
       "</table>\n",
       "<p>5 rows × 29 columns</p>\n",
       "</div>"
      ],
      "text/plain": [
       "         isbn  text_reviews_count                            series  \\\n",
       "0                               1                                []   \n",
       "1  2205073346                   2                                []   \n",
       "2                               5  [246830, 362583, 362581, 623032]   \n",
       "3                               1                                []   \n",
       "4  0930289765                   6                 [266759, 1096220]   \n",
       "\n",
       "  country_code language_code  \\\n",
       "0           US                 \n",
       "1           US           fre   \n",
       "2           US           eng   \n",
       "3           US           eng   \n",
       "4           US         en-US   \n",
       "\n",
       "                                     popular_shelves        asin is_ebook  \\\n",
       "0  [{'count': '228', 'name': 'to-read'}, {'count'...  B00NLXQ534     true   \n",
       "1  [{'count': '2', 'name': 'bd'}, {'count': '2', ...                false   \n",
       "2  [{'count': '493', 'name': 'to-read'}, {'count'...                false   \n",
       "3  [{'count': '222', 'name': 'to-read'}, {'count'...  B06XKGGSB7     true   \n",
       "4  [{'count': '20', 'name': 'to-read'}, {'count':...                false   \n",
       "\n",
       "   average_rating kindle_asin  ... publication_month edition_information  \\\n",
       "0            4.12              ...                                         \n",
       "1            3.94              ...                 1                       \n",
       "2            4.28              ...                                         \n",
       "3            4.05  B06XKGGSB7  ...                                         \n",
       "4            4.06              ...                11                       \n",
       "\n",
       "  publication_year                                                url  \\\n",
       "0                   https://www.goodreads.com/book/show/25742454-t...   \n",
       "1             2016  https://www.goodreads.com/book/show/30128855-c...   \n",
       "2             2012  https://www.goodreads.com/book/show/13571772-c...   \n",
       "3                   https://www.goodreads.com/book/show/35452242-b...   \n",
       "4             1997  https://www.goodreads.com/book/show/707611.Sup...   \n",
       "\n",
       "                                           image_url   book_id ratings_count  \\\n",
       "0  https://s.gr-assets.com/assets/nophoto/book/11...  25742454             1   \n",
       "1  https://images.gr-assets.com/books/1462644346m...  30128855            16   \n",
       "2  https://images.gr-assets.com/books/1333287305m...  13571772            51   \n",
       "3  https://s.gr-assets.com/assets/nophoto/book/11...  35452242             6   \n",
       "4  https://images.gr-assets.com/books/1307838888m...    707611            51   \n",
       "\n",
       "    work_id                                              title  \\\n",
       "0  42749946                              The Switchblade Mamma   \n",
       "1  50558228                                            Cruelle   \n",
       "2    102217  Captain America: Winter Soldier (The Ultimate ...   \n",
       "3  54276229  Bounty Hunter 4/3: My Life in Combat from Mari...   \n",
       "4    693886                          Superman Archives, Vol. 2   \n",
       "\n",
       "                                title_without_series  \n",
       "0                              The Switchblade Mamma  \n",
       "1                                            Cruelle  \n",
       "2  Captain America: Winter Soldier (The Ultimate ...  \n",
       "3  Bounty Hunter 4/3: My Life in Combat from Mari...  \n",
       "4                          Superman Archives, Vol. 2  \n",
       "\n",
       "[5 rows x 29 columns]"
      ]
     },
     "execution_count": 86,
     "metadata": {},
     "output_type": "execute_result"
    }
   ],
   "source": [
    "#Load comics book data\n",
    "comics_books = pd.read_json('/Users/ashleyfeiler/Documents/data_science/Goodreads-Genre-Reviews-Analysis/data/Books/goodreads_books_comics_graphic.json', lines=True)\n",
    "comics_books.head()"
   ]
  },
  {
   "cell_type": "code",
   "execution_count": 87,
   "id": "8a3ae5e7",
   "metadata": {},
   "outputs": [
    {
     "data": {
      "text/plain": [
       "US    89411\n",
       "Name: country_code, dtype: int64"
      ]
     },
     "execution_count": 87,
     "metadata": {},
     "output_type": "execute_result"
    }
   ],
   "source": [
    "comics_books.country_code.value_counts()"
   ]
  },
  {
   "cell_type": "code",
   "execution_count": 88,
   "id": "6d4d8dc9",
   "metadata": {},
   "outputs": [],
   "source": [
    "#Merge review and book data on book ID\n",
    "comics_df = pd.merge(comics_reviews, comics_books, on='book_id')"
   ]
  },
  {
   "cell_type": "code",
   "execution_count": 89,
   "id": "286fc306",
   "metadata": {},
   "outputs": [
    {
     "name": "stdout",
     "output_type": "stream",
     "text": [
      "(5000, 39)\n",
      "Index(['user_id', 'book_id', 'review_id', 'rating', 'review_text',\n",
      "       'date_added', 'date_updated', 'read_at', 'started_at', 'n_votes',\n",
      "       'n_comments', 'isbn', 'text_reviews_count', 'series', 'country_code',\n",
      "       'language_code', 'popular_shelves', 'asin', 'is_ebook',\n",
      "       'average_rating', 'kindle_asin', 'similar_books', 'description',\n",
      "       'format', 'link', 'authors', 'publisher', 'num_pages',\n",
      "       'publication_day', 'isbn13', 'publication_month', 'edition_information',\n",
      "       'publication_year', 'url', 'image_url', 'ratings_count', 'work_id',\n",
      "       'title', 'title_without_series'],\n",
      "      dtype='object')\n"
     ]
    }
   ],
   "source": [
    "print(comics_df.shape)\n",
    "print(comics_df.columns)"
   ]
  },
  {
   "cell_type": "markdown",
   "id": "a9e62b6f",
   "metadata": {},
   "source": [
    "## Genre Info"
   ]
  },
  {
   "cell_type": "code",
   "execution_count": 90,
   "id": "08c2f2c7",
   "metadata": {},
   "outputs": [],
   "source": [
    "#Merge comics genre info\n",
    "comics_df = pd.merge(comics_df, genres_df)\n",
    "comics_df['Genre_Tag'] = 'comics_graphic'"
   ]
  },
  {
   "cell_type": "code",
   "execution_count": 91,
   "id": "2a3e6138",
   "metadata": {},
   "outputs": [
    {
     "data": {
      "text/plain": [
       "(5000, 41)"
      ]
     },
     "execution_count": 91,
     "metadata": {},
     "output_type": "execute_result"
    }
   ],
   "source": [
    "comics_df.shape"
   ]
  },
  {
   "cell_type": "markdown",
   "id": "89eb7bfd",
   "metadata": {},
   "source": [
    "## Author Info"
   ]
  },
  {
   "cell_type": "code",
   "execution_count": 92,
   "id": "e4f47e04",
   "metadata": {},
   "outputs": [
    {
     "data": {
      "text/plain": [
       "'21982'"
      ]
     },
     "execution_count": 92,
     "metadata": {},
     "output_type": "execute_result"
    }
   ],
   "source": [
    "#Isolate author ID\n",
    "comics_authors = list(comics_df.index.map(lambda x: comics_df.authors.iloc[x][0]))\n",
    "list(comics_authors[0].values())[0]"
   ]
  },
  {
   "cell_type": "code",
   "execution_count": 93,
   "id": "f4e42595",
   "metadata": {},
   "outputs": [],
   "source": [
    "comics_df['author_id'] = comics_df.index.map(lambda x: int(list(comics_authors[x].values())[0]))"
   ]
  },
  {
   "cell_type": "code",
   "execution_count": 94,
   "id": "ce6df874",
   "metadata": {},
   "outputs": [
    {
     "name": "stdout",
     "output_type": "stream",
     "text": [
      "(5000, 43)\n"
     ]
    }
   ],
   "source": [
    "#Merge comics author info\n",
    "comics_df = pd.merge(comics_df, authors_df)\n",
    "print(comics_df.shape)"
   ]
  },
  {
   "cell_type": "markdown",
   "id": "a5929cf2",
   "metadata": {},
   "source": [
    "## Langauge Filtering"
   ]
  },
  {
   "cell_type": "code",
   "execution_count": 95,
   "id": "569a970e",
   "metadata": {},
   "outputs": [
    {
     "data": {
      "text/plain": [
       "(3509, 43)"
      ]
     },
     "execution_count": 95,
     "metadata": {},
     "output_type": "execute_result"
    }
   ],
   "source": [
    "#Limit data to only English\n",
    "english = (comics_df.language_code == 'eng') | (comics_df.language_code == 'en-GB') | (comics_df.language_code == 'en-US') | (comics_df.language_code == 'en-CA')\n",
    "comics_df = comics_df[english]\n",
    "comics_df.shape"
   ]
  },
  {
   "cell_type": "markdown",
   "id": "b2f03309",
   "metadata": {},
   "source": [
    "## Formatting"
   ]
  },
  {
   "cell_type": "code",
   "execution_count": 96,
   "id": "24ac0657",
   "metadata": {},
   "outputs": [],
   "source": [
    "#Cut/rearrange columns\n",
    "comics_short = comics_df[['user_id', 'rating', 'review_text', 'language_code', 'average_rating', 'num_pages', 'publication_year', 'ratings_count', 'title', 'genres', 'Genre_Tag', 'name']]\n",
    "comics_short.columns = ['User_ID', 'Rating', 'Text', 'Language', 'Avg_Rating', 'Pages', 'Pub_Year', 'Ratings_Count', 'Title', 'Genres', 'Category', 'Author']\n",
    "comics_short = comics_short[[ 'Text', 'Rating', 'Title', 'Author', 'Category', 'Genres', 'Language', 'Pages', 'Pub_Year', 'Avg_Rating', 'Ratings_Count', 'User_ID']]"
   ]
  },
  {
   "cell_type": "code",
   "execution_count": 97,
   "id": "53d3b23d",
   "metadata": {},
   "outputs": [
    {
     "data": {
      "text/plain": [
       "(3509, 12)"
      ]
     },
     "execution_count": 97,
     "metadata": {},
     "output_type": "execute_result"
    }
   ],
   "source": [
    "comics_short.shape"
   ]
  },
  {
   "cell_type": "code",
   "execution_count": 98,
   "id": "0f6ede9a",
   "metadata": {},
   "outputs": [
    {
     "name": "stdout",
     "output_type": "stream",
     "text": [
      "(3509, 12)\n",
      "(3505, 12)\n"
     ]
    }
   ],
   "source": [
    "#Eliminate empty review data\n",
    "empty = (comics_short.Text != '') & (comics_short.Text != ' ') & (comics_short.Rating != '') & (comics_short.Rating != ' ')\n",
    "print(comics_short.shape)\n",
    "print(comics_short[empty].shape)\n",
    "comics_short = comics_short[empty]"
   ]
  },
  {
   "cell_type": "code",
   "execution_count": 99,
   "id": "d7e668dd",
   "metadata": {},
   "outputs": [],
   "source": [
    "#Pickle processed data\n",
    "#f6 = open('data/genre_pkls/comics_short.pkl', 'wb')\n",
    "#pickle.dump(comics_short, f6)\n",
    "#f6.close() "
   ]
  },
  {
   "cell_type": "markdown",
   "id": "2279e1d5",
   "metadata": {},
   "source": [
    "# Data Processing Continued"
   ]
  },
  {
   "cell_type": "markdown",
   "id": "8e2242d1",
   "metadata": {},
   "source": [
    "This same format is followed to load the addition 5 genres in separate Jupyter Notebooks in order to manage the computer's available memory. Click here for links to the additional data processing notebooks:\n",
    "- [Young Adult and Mystery/Thriller/Crime Genres](https://github.com/Data-Science-for-Linguists-2023/Goodreads-Genre-Reviews-Analysis/blob/main/data_prep/YA_Mystery_Data_Prep.ipynb)\n",
    "- [Fantasy/Paranormal Genre](https://github.com/Data-Science-for-Linguists-2023/Goodreads-Genre-Reviews-Analysis/blob/main/data_prep/Fantasy_Data_Prep.ipynb)\n",
    "- [History/Biography Genre](https://github.com/Data-Science-for-Linguists-2023/Goodreads-Genre-Reviews-Analysis/blob/main/data_prep/History_Data_Prep.ipynb)\n",
    "- [Romance Genre](https://github.com/Data-Science-for-Linguists-2023/Goodreads-Genre-Reviews-Analysis/blob/main/data_prep/Romance_Data_Prep.ipynb)"
   ]
  }
 ],
 "metadata": {
  "kernelspec": {
   "display_name": "Python 3 (ipykernel)",
   "language": "python",
   "name": "python3"
  },
  "language_info": {
   "codemirror_mode": {
    "name": "ipython",
    "version": 3
   },
   "file_extension": ".py",
   "mimetype": "text/x-python",
   "name": "python",
   "nbconvert_exporter": "python",
   "pygments_lexer": "ipython3",
   "version": "3.10.9"
  }
 },
 "nbformat": 4,
 "nbformat_minor": 5
}
