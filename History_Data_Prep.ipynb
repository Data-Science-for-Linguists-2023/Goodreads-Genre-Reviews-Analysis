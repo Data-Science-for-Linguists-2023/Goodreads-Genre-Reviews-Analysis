{
 "cells": [
  {
   "cell_type": "code",
   "execution_count": 1,
   "id": "8c80908e",
   "metadata": {},
   "outputs": [
    {
     "name": "stdout",
     "output_type": "stream",
     "text": [
      "Pretty printing has been turned OFF\n"
     ]
    }
   ],
   "source": [
    "#Turn off pretty printing\n",
    "%pprint\n",
    "\n",
    "#Import packages\n",
    "import pandas as pd\n",
    "import os\n",
    "import pickle"
   ]
  },
  {
   "cell_type": "markdown",
   "id": "807b886c",
   "metadata": {},
   "source": [
    "# History\n",
    "## Reviews"
   ]
  },
  {
   "cell_type": "code",
   "execution_count": 2,
   "id": "25d1f9bb",
   "metadata": {},
   "outputs": [
    {
     "data": {
      "text/html": [
       "<div>\n",
       "<style scoped>\n",
       "    .dataframe tbody tr th:only-of-type {\n",
       "        vertical-align: middle;\n",
       "    }\n",
       "\n",
       "    .dataframe tbody tr th {\n",
       "        vertical-align: top;\n",
       "    }\n",
       "\n",
       "    .dataframe thead th {\n",
       "        text-align: right;\n",
       "    }\n",
       "</style>\n",
       "<table border=\"1\" class=\"dataframe\">\n",
       "  <thead>\n",
       "    <tr style=\"text-align: right;\">\n",
       "      <th></th>\n",
       "      <th>user_id</th>\n",
       "      <th>book_id</th>\n",
       "      <th>review_id</th>\n",
       "      <th>rating</th>\n",
       "      <th>review_text</th>\n",
       "      <th>date_added</th>\n",
       "      <th>date_updated</th>\n",
       "      <th>read_at</th>\n",
       "      <th>started_at</th>\n",
       "      <th>n_votes</th>\n",
       "      <th>n_comments</th>\n",
       "    </tr>\n",
       "  </thead>\n",
       "  <tbody>\n",
       "    <tr>\n",
       "      <th>0</th>\n",
       "      <td>b023db7e236ce7b1c72c9fa6a6a5f715</td>\n",
       "      <td>25434370</td>\n",
       "      <td>19a4d683e94c33eccf72dd4bd5d77edc</td>\n",
       "      <td>2</td>\n",
       "      <td>Surprisingly okay. Recipes look bomb and I got...</td>\n",
       "      <td>Tue Jul 25 21:30:36 -0700 2017</td>\n",
       "      <td>Tue Jul 25 21:33:02 -0700 2017</td>\n",
       "      <td>Tue Jul 25 00:00:00 -0700 2017</td>\n",
       "      <td>Tue Jul 25 00:00:00 -0700 2017</td>\n",
       "      <td>1</td>\n",
       "      <td>0</td>\n",
       "    </tr>\n",
       "    <tr>\n",
       "      <th>1</th>\n",
       "      <td>b9106e7a3b27ede55ea0fec6c9fab739</td>\n",
       "      <td>10836585</td>\n",
       "      <td>005ebd3d0e38d3ceb5acd96b8ad94258</td>\n",
       "      <td>4</td>\n",
       "      <td>I wanted to give this book 5 stars before I ev...</td>\n",
       "      <td>Tue Nov 22 11:16:11 -0800 2011</td>\n",
       "      <td>Tue Nov 22 11:41:27 -0800 2011</td>\n",
       "      <td>Tue Nov 22 00:00:00 -0800 2011</td>\n",
       "      <td></td>\n",
       "      <td>2</td>\n",
       "      <td>1</td>\n",
       "    </tr>\n",
       "    <tr>\n",
       "      <th>2</th>\n",
       "      <td>da52ccf89b0546bc6e32b06a0d88b1ce</td>\n",
       "      <td>29414792</td>\n",
       "      <td>9c3a8ed933a435b098a9f60ced934823</td>\n",
       "      <td>5</td>\n",
       "      <td>ylhmn rHl@ Hy@ wylh mn khtm@ \\n s'`wd lktb@ mr...</td>\n",
       "      <td>Fri Jan 20 22:02:57 -0800 2017</td>\n",
       "      <td>Wed Apr 19 06:04:15 -0700 2017</td>\n",
       "      <td>Wed Apr 19 16:22:30 -0700 2017</td>\n",
       "      <td>Tue Apr 04 00:00:00 -0700 2017</td>\n",
       "      <td>8</td>\n",
       "      <td>0</td>\n",
       "    </tr>\n",
       "    <tr>\n",
       "      <th>3</th>\n",
       "      <td>7bb769950fc2439d1dfc383bc802d4d0</td>\n",
       "      <td>19394829</td>\n",
       "      <td>f2ff04f84434339284bf763a7f5d7b82</td>\n",
       "      <td>3</td>\n",
       "      <td>Fascinating story. An easy to follow account o...</td>\n",
       "      <td>Tue Aug 01 10:00:20 -0700 2017</td>\n",
       "      <td>Tue Aug 01 10:01:28 -0700 2017</td>\n",
       "      <td>Tue Aug 01 10:01:29 -0700 2017</td>\n",
       "      <td></td>\n",
       "      <td>0</td>\n",
       "      <td>0</td>\n",
       "    </tr>\n",
       "    <tr>\n",
       "      <th>4</th>\n",
       "      <td>9871b3c77782eafe3447c07e57429c56</td>\n",
       "      <td>1374162</td>\n",
       "      <td>db9e08f47b91e7e7b5b91291cec7e9f0</td>\n",
       "      <td>3</td>\n",
       "      <td>Very YA, but sweet</td>\n",
       "      <td>Sun Jul 30 08:41:31 -0700 2017</td>\n",
       "      <td>Sun Jul 30 08:42:29 -0700 2017</td>\n",
       "      <td>Sun Jul 30 08:42:29 -0700 2017</td>\n",
       "      <td></td>\n",
       "      <td>0</td>\n",
       "      <td>0</td>\n",
       "    </tr>\n",
       "  </tbody>\n",
       "</table>\n",
       "</div>"
      ],
      "text/plain": [
       "                            user_id   book_id  \\\n",
       "0  b023db7e236ce7b1c72c9fa6a6a5f715  25434370   \n",
       "1  b9106e7a3b27ede55ea0fec6c9fab739  10836585   \n",
       "2  da52ccf89b0546bc6e32b06a0d88b1ce  29414792   \n",
       "3  7bb769950fc2439d1dfc383bc802d4d0  19394829   \n",
       "4  9871b3c77782eafe3447c07e57429c56   1374162   \n",
       "\n",
       "                          review_id  rating  \\\n",
       "0  19a4d683e94c33eccf72dd4bd5d77edc       2   \n",
       "1  005ebd3d0e38d3ceb5acd96b8ad94258       4   \n",
       "2  9c3a8ed933a435b098a9f60ced934823       5   \n",
       "3  f2ff04f84434339284bf763a7f5d7b82       3   \n",
       "4  db9e08f47b91e7e7b5b91291cec7e9f0       3   \n",
       "\n",
       "                                         review_text  \\\n",
       "0  Surprisingly okay. Recipes look bomb and I got...   \n",
       "1  I wanted to give this book 5 stars before I ev...   \n",
       "2  ylhmn rHl@ Hy@ wylh mn khtm@ \\n s'`wd lktb@ mr...   \n",
       "3  Fascinating story. An easy to follow account o...   \n",
       "4                                 Very YA, but sweet   \n",
       "\n",
       "                       date_added                    date_updated  \\\n",
       "0  Tue Jul 25 21:30:36 -0700 2017  Tue Jul 25 21:33:02 -0700 2017   \n",
       "1  Tue Nov 22 11:16:11 -0800 2011  Tue Nov 22 11:41:27 -0800 2011   \n",
       "2  Fri Jan 20 22:02:57 -0800 2017  Wed Apr 19 06:04:15 -0700 2017   \n",
       "3  Tue Aug 01 10:00:20 -0700 2017  Tue Aug 01 10:01:28 -0700 2017   \n",
       "4  Sun Jul 30 08:41:31 -0700 2017  Sun Jul 30 08:42:29 -0700 2017   \n",
       "\n",
       "                          read_at                      started_at  n_votes  \\\n",
       "0  Tue Jul 25 00:00:00 -0700 2017  Tue Jul 25 00:00:00 -0700 2017        1   \n",
       "1  Tue Nov 22 00:00:00 -0800 2011                                        2   \n",
       "2  Wed Apr 19 16:22:30 -0700 2017  Tue Apr 04 00:00:00 -0700 2017        8   \n",
       "3  Tue Aug 01 10:01:29 -0700 2017                                        0   \n",
       "4  Sun Jul 30 08:42:29 -0700 2017                                        0   \n",
       "\n",
       "   n_comments  \n",
       "0           0  \n",
       "1           1  \n",
       "2           0  \n",
       "3           0  \n",
       "4           0  "
      ]
     },
     "execution_count": 2,
     "metadata": {},
     "output_type": "execute_result"
    }
   ],
   "source": [
    "history_reviews = pd.read_json('data/Reviews/excerpts_shuf/goodreads_reviews_history_biography_shuf.json', lines=True)\n",
    "history_reviews.head()"
   ]
  },
  {
   "cell_type": "code",
   "execution_count": 3,
   "id": "11a9eb82",
   "metadata": {},
   "outputs": [],
   "source": [
    "history_share = history_reviews.head()"
   ]
  },
  {
   "cell_type": "code",
   "execution_count": 4,
   "id": "68fd850b",
   "metadata": {},
   "outputs": [],
   "source": [
    "f = open('data/genre_share/history_share.pkl', 'wb')\n",
    "pickle.dump(history_share, f)\n",
    "f.close() "
   ]
  },
  {
   "cell_type": "code",
   "execution_count": 5,
   "id": "6b6885bd",
   "metadata": {},
   "outputs": [
    {
     "name": "stdout",
     "output_type": "stream",
     "text": [
      "(5000, 11)\n",
      "<class 'pandas.core.frame.DataFrame'>\n",
      "RangeIndex: 5000 entries, 0 to 4999\n",
      "Data columns (total 11 columns):\n",
      " #   Column        Non-Null Count  Dtype \n",
      "---  ------        --------------  ----- \n",
      " 0   user_id       5000 non-null   object\n",
      " 1   book_id       5000 non-null   int64 \n",
      " 2   review_id     5000 non-null   object\n",
      " 3   rating        5000 non-null   int64 \n",
      " 4   review_text   5000 non-null   object\n",
      " 5   date_added    5000 non-null   object\n",
      " 6   date_updated  5000 non-null   object\n",
      " 7   read_at       5000 non-null   object\n",
      " 8   started_at    5000 non-null   object\n",
      " 9   n_votes       5000 non-null   int64 \n",
      " 10  n_comments    5000 non-null   int64 \n",
      "dtypes: int64(4), object(7)\n",
      "memory usage: 429.8+ KB\n",
      "None\n"
     ]
    }
   ],
   "source": [
    "print(history_reviews.shape)\n",
    "print(history_reviews.info())"
   ]
  },
  {
   "cell_type": "markdown",
   "id": "3e71330a",
   "metadata": {},
   "source": [
    "## Book Info"
   ]
  },
  {
   "cell_type": "code",
   "execution_count": 6,
   "id": "06866b73",
   "metadata": {},
   "outputs": [
    {
     "data": {
      "text/html": [
       "<div>\n",
       "<style scoped>\n",
       "    .dataframe tbody tr th:only-of-type {\n",
       "        vertical-align: middle;\n",
       "    }\n",
       "\n",
       "    .dataframe tbody tr th {\n",
       "        vertical-align: top;\n",
       "    }\n",
       "\n",
       "    .dataframe thead th {\n",
       "        text-align: right;\n",
       "    }\n",
       "</style>\n",
       "<table border=\"1\" class=\"dataframe\">\n",
       "  <thead>\n",
       "    <tr style=\"text-align: right;\">\n",
       "      <th></th>\n",
       "      <th>isbn</th>\n",
       "      <th>text_reviews_count</th>\n",
       "      <th>series</th>\n",
       "      <th>country_code</th>\n",
       "      <th>language_code</th>\n",
       "      <th>popular_shelves</th>\n",
       "      <th>asin</th>\n",
       "      <th>is_ebook</th>\n",
       "      <th>average_rating</th>\n",
       "      <th>kindle_asin</th>\n",
       "      <th>...</th>\n",
       "      <th>publication_month</th>\n",
       "      <th>edition_information</th>\n",
       "      <th>publication_year</th>\n",
       "      <th>url</th>\n",
       "      <th>image_url</th>\n",
       "      <th>book_id</th>\n",
       "      <th>ratings_count</th>\n",
       "      <th>work_id</th>\n",
       "      <th>title</th>\n",
       "      <th>title_without_series</th>\n",
       "    </tr>\n",
       "  </thead>\n",
       "  <tbody>\n",
       "    <tr>\n",
       "      <th>0</th>\n",
       "      <td>1599150603</td>\n",
       "      <td>7</td>\n",
       "      <td>[]</td>\n",
       "      <td>US</td>\n",
       "      <td></td>\n",
       "      <td>[{'count': '56', 'name': 'to-read'}, {'count':...</td>\n",
       "      <td></td>\n",
       "      <td>false</td>\n",
       "      <td>4.13</td>\n",
       "      <td>B00DU10PUG</td>\n",
       "      <td>...</td>\n",
       "      <td>9</td>\n",
       "      <td></td>\n",
       "      <td>2006</td>\n",
       "      <td>https://www.goodreads.com/book/show/287141.The...</td>\n",
       "      <td>https://s.gr-assets.com/assets/nophoto/book/11...</td>\n",
       "      <td>287141</td>\n",
       "      <td>46</td>\n",
       "      <td>278578</td>\n",
       "      <td>The Aeneid for Boys and Girls</td>\n",
       "      <td>The Aeneid for Boys and Girls</td>\n",
       "    </tr>\n",
       "    <tr>\n",
       "      <th>1</th>\n",
       "      <td>184737297X</td>\n",
       "      <td>15</td>\n",
       "      <td>[169353]</td>\n",
       "      <td>US</td>\n",
       "      <td></td>\n",
       "      <td>[{'count': '159', 'name': 'to-read'}, {'count'...</td>\n",
       "      <td></td>\n",
       "      <td>false</td>\n",
       "      <td>3.93</td>\n",
       "      <td>B007YLTG5I</td>\n",
       "      <td>...</td>\n",
       "      <td>4</td>\n",
       "      <td></td>\n",
       "      <td>2009</td>\n",
       "      <td>https://www.goodreads.com/book/show/6066814-cr...</td>\n",
       "      <td>https://images.gr-assets.com/books/1328724803m...</td>\n",
       "      <td>6066814</td>\n",
       "      <td>186</td>\n",
       "      <td>6243149</td>\n",
       "      <td>Crowner Royal (Crowner John Mystery, #13)</td>\n",
       "      <td>Crowner Royal (Crowner John Mystery, #13)</td>\n",
       "    </tr>\n",
       "    <tr>\n",
       "      <th>2</th>\n",
       "      <td>037583687X</td>\n",
       "      <td>615</td>\n",
       "      <td>[]</td>\n",
       "      <td>US</td>\n",
       "      <td></td>\n",
       "      <td>[{'count': '4248', 'name': 'to-read'}, {'count...</td>\n",
       "      <td></td>\n",
       "      <td>false</td>\n",
       "      <td>3.98</td>\n",
       "      <td>B0010SEMV4</td>\n",
       "      <td>...</td>\n",
       "      <td>7</td>\n",
       "      <td></td>\n",
       "      <td>2006</td>\n",
       "      <td>https://www.goodreads.com/book/show/89377.Penn...</td>\n",
       "      <td>https://images.gr-assets.com/books/1320470906m...</td>\n",
       "      <td>89377</td>\n",
       "      <td>6949</td>\n",
       "      <td>86258</td>\n",
       "      <td>Penny from Heaven</td>\n",
       "      <td>Penny from Heaven</td>\n",
       "    </tr>\n",
       "    <tr>\n",
       "      <th>3</th>\n",
       "      <td>1400041694</td>\n",
       "      <td>44</td>\n",
       "      <td>[]</td>\n",
       "      <td>US</td>\n",
       "      <td>en-US</td>\n",
       "      <td>[{'count': '362', 'name': 'to-read'}, {'count'...</td>\n",
       "      <td></td>\n",
       "      <td>false</td>\n",
       "      <td>3.75</td>\n",
       "      <td>B002OTKEP6</td>\n",
       "      <td>...</td>\n",
       "      <td></td>\n",
       "      <td></td>\n",
       "      <td></td>\n",
       "      <td>https://www.goodreads.com/book/show/6158967-cr...</td>\n",
       "      <td>https://images.gr-assets.com/books/1320556043m...</td>\n",
       "      <td>6158967</td>\n",
       "      <td>338</td>\n",
       "      <td>6338156</td>\n",
       "      <td>Crude World: The Violent Twilight of Oil</td>\n",
       "      <td>Crude World: The Violent Twilight of Oil</td>\n",
       "    </tr>\n",
       "    <tr>\n",
       "      <th>4</th>\n",
       "      <td>8864116435</td>\n",
       "      <td>19</td>\n",
       "      <td>[]</td>\n",
       "      <td>US</td>\n",
       "      <td>ita</td>\n",
       "      <td>[{'count': '6463', 'name': 'to-read'}, {'count...</td>\n",
       "      <td></td>\n",
       "      <td>true</td>\n",
       "      <td>4.28</td>\n",
       "      <td></td>\n",
       "      <td>...</td>\n",
       "      <td>5</td>\n",
       "      <td>Le Strade #202</td>\n",
       "      <td>2012</td>\n",
       "      <td>https://www.goodreads.com/book/show/18628480-s...</td>\n",
       "      <td>https://images.gr-assets.com/books/1380976410m...</td>\n",
       "      <td>18628480</td>\n",
       "      <td>116</td>\n",
       "      <td>1559207</td>\n",
       "      <td>Stoner</td>\n",
       "      <td>Stoner</td>\n",
       "    </tr>\n",
       "  </tbody>\n",
       "</table>\n",
       "<p>5 rows × 29 columns</p>\n",
       "</div>"
      ],
      "text/plain": [
       "         isbn  text_reviews_count    series country_code language_code  \\\n",
       "0  1599150603                   7        []           US                 \n",
       "1  184737297X                  15  [169353]           US                 \n",
       "2  037583687X                 615        []           US                 \n",
       "3  1400041694                  44        []           US         en-US   \n",
       "4  8864116435                  19        []           US           ita   \n",
       "\n",
       "                                     popular_shelves asin is_ebook  \\\n",
       "0  [{'count': '56', 'name': 'to-read'}, {'count':...         false   \n",
       "1  [{'count': '159', 'name': 'to-read'}, {'count'...         false   \n",
       "2  [{'count': '4248', 'name': 'to-read'}, {'count...         false   \n",
       "3  [{'count': '362', 'name': 'to-read'}, {'count'...         false   \n",
       "4  [{'count': '6463', 'name': 'to-read'}, {'count...          true   \n",
       "\n",
       "   average_rating kindle_asin  ... publication_month edition_information  \\\n",
       "0            4.13  B00DU10PUG  ...                 9                       \n",
       "1            3.93  B007YLTG5I  ...                 4                       \n",
       "2            3.98  B0010SEMV4  ...                 7                       \n",
       "3            3.75  B002OTKEP6  ...                                         \n",
       "4            4.28              ...                 5      Le Strade #202   \n",
       "\n",
       "  publication_year                                                url  \\\n",
       "0             2006  https://www.goodreads.com/book/show/287141.The...   \n",
       "1             2009  https://www.goodreads.com/book/show/6066814-cr...   \n",
       "2             2006  https://www.goodreads.com/book/show/89377.Penn...   \n",
       "3                   https://www.goodreads.com/book/show/6158967-cr...   \n",
       "4             2012  https://www.goodreads.com/book/show/18628480-s...   \n",
       "\n",
       "                                           image_url   book_id ratings_count  \\\n",
       "0  https://s.gr-assets.com/assets/nophoto/book/11...    287141            46   \n",
       "1  https://images.gr-assets.com/books/1328724803m...   6066814           186   \n",
       "2  https://images.gr-assets.com/books/1320470906m...     89377          6949   \n",
       "3  https://images.gr-assets.com/books/1320556043m...   6158967           338   \n",
       "4  https://images.gr-assets.com/books/1380976410m...  18628480           116   \n",
       "\n",
       "   work_id                                      title  \\\n",
       "0   278578              The Aeneid for Boys and Girls   \n",
       "1  6243149  Crowner Royal (Crowner John Mystery, #13)   \n",
       "2    86258                          Penny from Heaven   \n",
       "3  6338156   Crude World: The Violent Twilight of Oil   \n",
       "4  1559207                                     Stoner   \n",
       "\n",
       "                        title_without_series  \n",
       "0              The Aeneid for Boys and Girls  \n",
       "1  Crowner Royal (Crowner John Mystery, #13)  \n",
       "2                          Penny from Heaven  \n",
       "3   Crude World: The Violent Twilight of Oil  \n",
       "4                                     Stoner  \n",
       "\n",
       "[5 rows x 29 columns]"
      ]
     },
     "execution_count": 6,
     "metadata": {},
     "output_type": "execute_result"
    }
   ],
   "source": [
    "history_books = pd.read_json('data/Books/goodreads_books_history_biography.json', lines=True)\n",
    "history_books.head()"
   ]
  },
  {
   "cell_type": "code",
   "execution_count": 7,
   "id": "b1fe1c19",
   "metadata": {},
   "outputs": [
    {
     "data": {
      "text/plain": [
       "US    302935\n",
       "Name: country_code, dtype: int64"
      ]
     },
     "execution_count": 7,
     "metadata": {},
     "output_type": "execute_result"
    }
   ],
   "source": [
    "history_books.country_code.value_counts()"
   ]
  },
  {
   "cell_type": "code",
   "execution_count": 8,
   "id": "ffbc51e6",
   "metadata": {},
   "outputs": [
    {
     "name": "stdout",
     "output_type": "stream",
     "text": [
      "(5000, 39)\n",
      "Index(['user_id', 'book_id', 'review_id', 'rating', 'review_text',\n",
      "       'date_added', 'date_updated', 'read_at', 'started_at', 'n_votes',\n",
      "       'n_comments', 'isbn', 'text_reviews_count', 'series', 'country_code',\n",
      "       'language_code', 'popular_shelves', 'asin', 'is_ebook',\n",
      "       'average_rating', 'kindle_asin', 'similar_books', 'description',\n",
      "       'format', 'link', 'authors', 'publisher', 'num_pages',\n",
      "       'publication_day', 'isbn13', 'publication_month', 'edition_information',\n",
      "       'publication_year', 'url', 'image_url', 'ratings_count', 'work_id',\n",
      "       'title', 'title_without_series'],\n",
      "      dtype='object')\n"
     ]
    }
   ],
   "source": [
    "history_df = pd.merge(history_reviews, history_books, on='book_id')\n",
    "print(history_df.shape)\n",
    "print(history_df.columns)"
   ]
  },
  {
   "cell_type": "markdown",
   "id": "295995f8",
   "metadata": {},
   "source": [
    "## Genre Info"
   ]
  },
  {
   "cell_type": "code",
   "execution_count": 9,
   "id": "d48c74d4",
   "metadata": {},
   "outputs": [
    {
     "data": {
      "text/html": [
       "<div>\n",
       "<style scoped>\n",
       "    .dataframe tbody tr th:only-of-type {\n",
       "        vertical-align: middle;\n",
       "    }\n",
       "\n",
       "    .dataframe tbody tr th {\n",
       "        vertical-align: top;\n",
       "    }\n",
       "\n",
       "    .dataframe thead th {\n",
       "        text-align: right;\n",
       "    }\n",
       "</style>\n",
       "<table border=\"1\" class=\"dataframe\">\n",
       "  <thead>\n",
       "    <tr style=\"text-align: right;\">\n",
       "      <th></th>\n",
       "      <th>book_id</th>\n",
       "      <th>genres</th>\n",
       "    </tr>\n",
       "  </thead>\n",
       "  <tbody>\n",
       "    <tr>\n",
       "      <th>0</th>\n",
       "      <td>5333265</td>\n",
       "      <td>{'history, historical fiction, biography': 1}</td>\n",
       "    </tr>\n",
       "    <tr>\n",
       "      <th>1</th>\n",
       "      <td>1333909</td>\n",
       "      <td>{'fiction': 219, 'history, historical fiction,...</td>\n",
       "    </tr>\n",
       "    <tr>\n",
       "      <th>2</th>\n",
       "      <td>7327624</td>\n",
       "      <td>{'fantasy, paranormal': 31, 'fiction': 8, 'mys...</td>\n",
       "    </tr>\n",
       "    <tr>\n",
       "      <th>3</th>\n",
       "      <td>6066819</td>\n",
       "      <td>{'fiction': 555, 'romance': 23, 'mystery, thri...</td>\n",
       "    </tr>\n",
       "    <tr>\n",
       "      <th>4</th>\n",
       "      <td>287140</td>\n",
       "      <td>{'non-fiction': 3}</td>\n",
       "    </tr>\n",
       "  </tbody>\n",
       "</table>\n",
       "</div>"
      ],
      "text/plain": [
       "   book_id                                             genres\n",
       "0  5333265      {'history, historical fiction, biography': 1}\n",
       "1  1333909  {'fiction': 219, 'history, historical fiction,...\n",
       "2  7327624  {'fantasy, paranormal': 31, 'fiction': 8, 'mys...\n",
       "3  6066819  {'fiction': 555, 'romance': 23, 'mystery, thri...\n",
       "4   287140                                 {'non-fiction': 3}"
      ]
     },
     "execution_count": 9,
     "metadata": {},
     "output_type": "execute_result"
    }
   ],
   "source": [
    "genres_df = pd.read_json('data/goodreads_book_genres_initial.json', lines=True)\n",
    "genres_df.head()"
   ]
  },
  {
   "cell_type": "code",
   "execution_count": 10,
   "id": "1fb97aa4",
   "metadata": {},
   "outputs": [
    {
     "data": {
      "text/plain": [
       "(5000, 41)"
      ]
     },
     "execution_count": 10,
     "metadata": {},
     "output_type": "execute_result"
    }
   ],
   "source": [
    "history_df = pd.merge(history_df, genres_df)\n",
    "history_df['Genre_Tag'] = 'history_bio'\n",
    "history_df.shape"
   ]
  },
  {
   "cell_type": "markdown",
   "id": "d302b6c5",
   "metadata": {},
   "source": [
    "## Author Info"
   ]
  },
  {
   "cell_type": "code",
   "execution_count": 11,
   "id": "aff6528b",
   "metadata": {},
   "outputs": [
    {
     "data": {
      "text/html": [
       "<div>\n",
       "<style scoped>\n",
       "    .dataframe tbody tr th:only-of-type {\n",
       "        vertical-align: middle;\n",
       "    }\n",
       "\n",
       "    .dataframe tbody tr th {\n",
       "        vertical-align: top;\n",
       "    }\n",
       "\n",
       "    .dataframe thead th {\n",
       "        text-align: right;\n",
       "    }\n",
       "</style>\n",
       "<table border=\"1\" class=\"dataframe\">\n",
       "  <thead>\n",
       "    <tr style=\"text-align: right;\">\n",
       "      <th></th>\n",
       "      <th>average_rating</th>\n",
       "      <th>author_id</th>\n",
       "      <th>text_reviews_count</th>\n",
       "      <th>name</th>\n",
       "      <th>ratings_count</th>\n",
       "    </tr>\n",
       "  </thead>\n",
       "  <tbody>\n",
       "    <tr>\n",
       "      <th>0</th>\n",
       "      <td>3.98</td>\n",
       "      <td>604031</td>\n",
       "      <td>7</td>\n",
       "      <td>Ronald J. Fields</td>\n",
       "      <td>49</td>\n",
       "    </tr>\n",
       "    <tr>\n",
       "      <th>1</th>\n",
       "      <td>4.08</td>\n",
       "      <td>626222</td>\n",
       "      <td>28716</td>\n",
       "      <td>Anita Diamant</td>\n",
       "      <td>546796</td>\n",
       "    </tr>\n",
       "    <tr>\n",
       "      <th>2</th>\n",
       "      <td>3.92</td>\n",
       "      <td>10333</td>\n",
       "      <td>5075</td>\n",
       "      <td>Barbara Hambly</td>\n",
       "      <td>122118</td>\n",
       "    </tr>\n",
       "    <tr>\n",
       "      <th>3</th>\n",
       "      <td>3.68</td>\n",
       "      <td>9212</td>\n",
       "      <td>36262</td>\n",
       "      <td>Jennifer Weiner</td>\n",
       "      <td>888522</td>\n",
       "    </tr>\n",
       "    <tr>\n",
       "      <th>4</th>\n",
       "      <td>3.82</td>\n",
       "      <td>149918</td>\n",
       "      <td>96</td>\n",
       "      <td>Nigel Pennick</td>\n",
       "      <td>1740</td>\n",
       "    </tr>\n",
       "  </tbody>\n",
       "</table>\n",
       "</div>"
      ],
      "text/plain": [
       "   average_rating  author_id  text_reviews_count              name  \\\n",
       "0            3.98     604031                   7  Ronald J. Fields   \n",
       "1            4.08     626222               28716     Anita Diamant   \n",
       "2            3.92      10333                5075    Barbara Hambly   \n",
       "3            3.68       9212               36262   Jennifer Weiner   \n",
       "4            3.82     149918                  96     Nigel Pennick   \n",
       "\n",
       "   ratings_count  \n",
       "0             49  \n",
       "1         546796  \n",
       "2         122118  \n",
       "3         888522  \n",
       "4           1740  "
      ]
     },
     "execution_count": 11,
     "metadata": {},
     "output_type": "execute_result"
    }
   ],
   "source": [
    "authors_df = pd.read_json('data/goodreads_book_authors.json', lines=True)\n",
    "authors_df.head()"
   ]
  },
  {
   "cell_type": "code",
   "execution_count": 12,
   "id": "4873efb8",
   "metadata": {},
   "outputs": [
    {
     "data": {
      "text/plain": [
       "'4088993'"
      ]
     },
     "execution_count": 12,
     "metadata": {},
     "output_type": "execute_result"
    }
   ],
   "source": [
    "history_authors = list(history_df.index.map(lambda x: history_df.authors.iloc[x][0]))\n",
    "list(history_authors[0].values())[0]"
   ]
  },
  {
   "cell_type": "code",
   "execution_count": 13,
   "id": "ac251029",
   "metadata": {},
   "outputs": [],
   "source": [
    "history_df['author_id'] = history_df.index.map(lambda x: int(list(history_authors[x].values())[0]))"
   ]
  },
  {
   "cell_type": "code",
   "execution_count": 14,
   "id": "2a4d80c0",
   "metadata": {},
   "outputs": [],
   "source": [
    "authors_df = authors_df[['author_id', 'name']]"
   ]
  },
  {
   "cell_type": "code",
   "execution_count": 15,
   "id": "d4cd418a",
   "metadata": {},
   "outputs": [
    {
     "name": "stdout",
     "output_type": "stream",
     "text": [
      "(5000, 43)\n"
     ]
    }
   ],
   "source": [
    "history_df = pd.merge(history_df, authors_df, on ='author_id')\n",
    "print(history_df.shape)"
   ]
  },
  {
   "cell_type": "markdown",
   "id": "5acf9083",
   "metadata": {},
   "source": [
    "## Langauge Filtering"
   ]
  },
  {
   "cell_type": "code",
   "execution_count": 16,
   "id": "66b71376",
   "metadata": {},
   "outputs": [
    {
     "data": {
      "text/plain": [
       "(3362, 43)"
      ]
     },
     "execution_count": 16,
     "metadata": {},
     "output_type": "execute_result"
    }
   ],
   "source": [
    "english = (history_df.language_code == 'eng') | (history_df.language_code == 'en-GB') | (history_df.language_code == 'en-US') | (history_df.language_code == 'en-CA')\n",
    "history_df = history_df[english]\n",
    "history_df.shape"
   ]
  },
  {
   "cell_type": "markdown",
   "id": "930e4224",
   "metadata": {},
   "source": [
    "## Formatting"
   ]
  },
  {
   "cell_type": "code",
   "execution_count": 17,
   "id": "e8cc136e",
   "metadata": {},
   "outputs": [
    {
     "data": {
      "text/plain": [
       "(3362, 12)"
      ]
     },
     "execution_count": 17,
     "metadata": {},
     "output_type": "execute_result"
    }
   ],
   "source": [
    "history_short = history_df[['user_id', 'rating', 'review_text', 'language_code', 'average_rating', 'num_pages', 'publication_year', 'ratings_count', 'title', 'genres', 'Genre_Tag', 'name']]\n",
    "history_short.columns = ['User_ID', 'Rating', 'Text', 'Language', 'Avg_Rating', 'Pages', 'Pub_Year', 'Ratings_Count', 'Title', 'Genres', 'Category', 'Author']\n",
    "history_short = history_short[[ 'Text', 'Rating', 'Title', 'Author', 'Category', 'Genres', 'Language', 'Pages', 'Pub_Year', 'Avg_Rating', 'Ratings_Count', 'User_ID']]\n",
    "history_short.shape"
   ]
  },
  {
   "cell_type": "code",
   "execution_count": 18,
   "id": "a2e50a81",
   "metadata": {
    "scrolled": true
   },
   "outputs": [
    {
     "name": "stdout",
     "output_type": "stream",
     "text": [
      "(3362, 12)\n",
      "(3362, 12)\n",
      "<class 'pandas.core.frame.DataFrame'>\n",
      "Int64Index: 3362 entries, 0 to 4997\n",
      "Data columns (total 12 columns):\n",
      " #   Column         Non-Null Count  Dtype  \n",
      "---  ------         --------------  -----  \n",
      " 0   Text           3362 non-null   object \n",
      " 1   Rating         3362 non-null   int64  \n",
      " 2   Title          3362 non-null   object \n",
      " 3   Author         3362 non-null   object \n",
      " 4   Category       3362 non-null   object \n",
      " 5   Genres         3362 non-null   object \n",
      " 6   Language       3362 non-null   object \n",
      " 7   Pages          3362 non-null   object \n",
      " 8   Pub_Year       3362 non-null   object \n",
      " 9   Avg_Rating     3362 non-null   float64\n",
      " 10  Ratings_Count  3362 non-null   int64  \n",
      " 11  User_ID        3362 non-null   object \n",
      "dtypes: float64(1), int64(2), object(9)\n",
      "memory usage: 341.5+ KB\n",
      "None\n"
     ]
    }
   ],
   "source": [
    "empty = (history_short.Text != '') & (history_short.Text != ' ') & (history_short.Rating != '') & (history_short.Rating != ' ')\n",
    "print(history_short.shape)\n",
    "print(history_short[empty].shape)\n",
    "history_short = history_short[empty]\n",
    "print(history_short.info())"
   ]
  },
  {
   "cell_type": "markdown",
   "id": "06d1cd09",
   "metadata": {},
   "source": [
    "## Saving Info"
   ]
  },
  {
   "cell_type": "code",
   "execution_count": 19,
   "id": "7208e231",
   "metadata": {},
   "outputs": [],
   "source": [
    "f2 = open('data/genre_pkls/history_short.pkl', 'wb')\n",
    "pickle.dump(history_short, f2)\n",
    "f2.close() "
   ]
  }
 ],
 "metadata": {
  "kernelspec": {
   "display_name": "Python 3 (ipykernel)",
   "language": "python",
   "name": "python3"
  },
  "language_info": {
   "codemirror_mode": {
    "name": "ipython",
    "version": 3
   },
   "file_extension": ".py",
   "mimetype": "text/x-python",
   "name": "python",
   "nbconvert_exporter": "python",
   "pygments_lexer": "ipython3",
   "version": "3.9.13"
  }
 },
 "nbformat": 4,
 "nbformat_minor": 5
}
