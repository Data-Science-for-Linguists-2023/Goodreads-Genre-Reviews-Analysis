{
 "cells": [
  {
   "cell_type": "code",
   "execution_count": 1,
   "id": "8c80908e",
   "metadata": {},
   "outputs": [
    {
     "name": "stdout",
     "output_type": "stream",
     "text": [
      "Pretty printing has been turned OFF\n"
     ]
    }
   ],
   "source": [
    "#Turn off pretty printing\n",
    "%pprint\n",
    "\n",
    "#Import packages\n",
    "import pandas as pd\n",
    "import os\n",
    "import pickle"
   ]
  },
  {
   "cell_type": "markdown",
   "id": "807b886c",
   "metadata": {},
   "source": [
    "# Fantasy\n",
    "## Reviews"
   ]
  },
  {
   "cell_type": "code",
   "execution_count": 2,
   "id": "25d1f9bb",
   "metadata": {},
   "outputs": [
    {
     "data": {
      "text/html": [
       "<div>\n",
       "<style scoped>\n",
       "    .dataframe tbody tr th:only-of-type {\n",
       "        vertical-align: middle;\n",
       "    }\n",
       "\n",
       "    .dataframe tbody tr th {\n",
       "        vertical-align: top;\n",
       "    }\n",
       "\n",
       "    .dataframe thead th {\n",
       "        text-align: right;\n",
       "    }\n",
       "</style>\n",
       "<table border=\"1\" class=\"dataframe\">\n",
       "  <thead>\n",
       "    <tr style=\"text-align: right;\">\n",
       "      <th></th>\n",
       "      <th>user_id</th>\n",
       "      <th>book_id</th>\n",
       "      <th>review_id</th>\n",
       "      <th>rating</th>\n",
       "      <th>review_text</th>\n",
       "      <th>date_added</th>\n",
       "      <th>date_updated</th>\n",
       "      <th>read_at</th>\n",
       "      <th>started_at</th>\n",
       "      <th>n_votes</th>\n",
       "      <th>n_comments</th>\n",
       "    </tr>\n",
       "  </thead>\n",
       "  <tbody>\n",
       "    <tr>\n",
       "      <th>0</th>\n",
       "      <td>21801e86814719fad9fabda6079a9d19</td>\n",
       "      <td>7022166</td>\n",
       "      <td>152ed81c627a92f5bdf79594984bc5ba</td>\n",
       "      <td>4</td>\n",
       "      <td>This was interesting and irresistible!</td>\n",
       "      <td>Sat Jan 19 16:31:16 -0800 2013</td>\n",
       "      <td>Sat Jan 19 17:00:00 -0800 2013</td>\n",
       "      <td>Sat Apr 02 00:00:00 -0700 2011</td>\n",
       "      <td></td>\n",
       "      <td>0</td>\n",
       "      <td>0</td>\n",
       "    </tr>\n",
       "    <tr>\n",
       "      <th>1</th>\n",
       "      <td>84f7aa179a6fa65a6f2b37f32e8c011f</td>\n",
       "      <td>352262</td>\n",
       "      <td>252e1513d450d7fa83273100d572b074</td>\n",
       "      <td>4</td>\n",
       "      <td>Bi Kip Luyen Rong \"goc\" cua Cressida Cowell da...</td>\n",
       "      <td>Sat Mar 22 06:44:31 -0700 2014</td>\n",
       "      <td>Mon May 02 18:08:57 -0700 2016</td>\n",
       "      <td>Mon Feb 10 00:00:00 -0800 2014</td>\n",
       "      <td></td>\n",
       "      <td>0</td>\n",
       "      <td>0</td>\n",
       "    </tr>\n",
       "    <tr>\n",
       "      <th>2</th>\n",
       "      <td>d64da50d3af7fe0e48091ff2a7dfcccc</td>\n",
       "      <td>4690613</td>\n",
       "      <td>1a89c073061a61ef0e9353e2cb1835e4</td>\n",
       "      <td>5</td>\n",
       "      <td>Phelan likes to keep his teammates guessing, F...</td>\n",
       "      <td>Wed Dec 30 14:52:35 -0800 2015</td>\n",
       "      <td>Wed Dec 30 14:52:50 -0800 2015</td>\n",
       "      <td>Sat Dec 26 00:00:00 -0800 2015</td>\n",
       "      <td></td>\n",
       "      <td>0</td>\n",
       "      <td>0</td>\n",
       "    </tr>\n",
       "    <tr>\n",
       "      <th>3</th>\n",
       "      <td>c067850e80c03b16c6abf2fc10e3c284</td>\n",
       "      <td>833423</td>\n",
       "      <td>2720f92bf01db62da6c6be4cb894d483</td>\n",
       "      <td>5</td>\n",
       "      <td>The first Discworld novel to feature all three...</td>\n",
       "      <td>Sat Jul 30 12:32:16 -0700 2016</td>\n",
       "      <td>Fri Aug 26 13:06:18 -0700 2016</td>\n",
       "      <td>Fri Aug 26 13:06:18 -0700 2016</td>\n",
       "      <td>Sat Jul 30 00:00:00 -0700 2016</td>\n",
       "      <td>0</td>\n",
       "      <td>0</td>\n",
       "    </tr>\n",
       "    <tr>\n",
       "      <th>4</th>\n",
       "      <td>dd9785b14664103617304996541ed77a</td>\n",
       "      <td>30174220</td>\n",
       "      <td>e6b777d2c3e4d9422d47e62c6cd4d0b4</td>\n",
       "      <td>4</td>\n",
       "      <td>The White Rose (The Chronicle of the Black Com...</td>\n",
       "      <td>Thu May 12 01:12:58 -0700 2016</td>\n",
       "      <td>Thu May 12 02:17:26 -0700 2016</td>\n",
       "      <td>Thu May 12 07:03:52 -0700 2016</td>\n",
       "      <td></td>\n",
       "      <td>8</td>\n",
       "      <td>0</td>\n",
       "    </tr>\n",
       "  </tbody>\n",
       "</table>\n",
       "</div>"
      ],
      "text/plain": [
       "                            user_id   book_id  \\\n",
       "0  21801e86814719fad9fabda6079a9d19   7022166   \n",
       "1  84f7aa179a6fa65a6f2b37f32e8c011f    352262   \n",
       "2  d64da50d3af7fe0e48091ff2a7dfcccc   4690613   \n",
       "3  c067850e80c03b16c6abf2fc10e3c284    833423   \n",
       "4  dd9785b14664103617304996541ed77a  30174220   \n",
       "\n",
       "                          review_id  rating  \\\n",
       "0  152ed81c627a92f5bdf79594984bc5ba       4   \n",
       "1  252e1513d450d7fa83273100d572b074       4   \n",
       "2  1a89c073061a61ef0e9353e2cb1835e4       5   \n",
       "3  2720f92bf01db62da6c6be4cb894d483       5   \n",
       "4  e6b777d2c3e4d9422d47e62c6cd4d0b4       4   \n",
       "\n",
       "                                         review_text  \\\n",
       "0             This was interesting and irresistible!   \n",
       "1  Bi Kip Luyen Rong \"goc\" cua Cressida Cowell da...   \n",
       "2  Phelan likes to keep his teammates guessing, F...   \n",
       "3  The first Discworld novel to feature all three...   \n",
       "4  The White Rose (The Chronicle of the Black Com...   \n",
       "\n",
       "                       date_added                    date_updated  \\\n",
       "0  Sat Jan 19 16:31:16 -0800 2013  Sat Jan 19 17:00:00 -0800 2013   \n",
       "1  Sat Mar 22 06:44:31 -0700 2014  Mon May 02 18:08:57 -0700 2016   \n",
       "2  Wed Dec 30 14:52:35 -0800 2015  Wed Dec 30 14:52:50 -0800 2015   \n",
       "3  Sat Jul 30 12:32:16 -0700 2016  Fri Aug 26 13:06:18 -0700 2016   \n",
       "4  Thu May 12 01:12:58 -0700 2016  Thu May 12 02:17:26 -0700 2016   \n",
       "\n",
       "                          read_at                      started_at  n_votes  \\\n",
       "0  Sat Apr 02 00:00:00 -0700 2011                                        0   \n",
       "1  Mon Feb 10 00:00:00 -0800 2014                                        0   \n",
       "2  Sat Dec 26 00:00:00 -0800 2015                                        0   \n",
       "3  Fri Aug 26 13:06:18 -0700 2016  Sat Jul 30 00:00:00 -0700 2016        0   \n",
       "4  Thu May 12 07:03:52 -0700 2016                                        8   \n",
       "\n",
       "   n_comments  \n",
       "0           0  \n",
       "1           0  \n",
       "2           0  \n",
       "3           0  \n",
       "4           0  "
      ]
     },
     "execution_count": 2,
     "metadata": {},
     "output_type": "execute_result"
    }
   ],
   "source": [
    "fantasy_reviews = pd.read_json('data/Reviews/excerpts_shuf/goodreads_reviews_fantasy_paranormal_shuf.json', lines=True)\n",
    "fantasy_reviews.head()"
   ]
  },
  {
   "cell_type": "code",
   "execution_count": 3,
   "id": "11a9eb82",
   "metadata": {},
   "outputs": [],
   "source": [
    "fantasy_share = fantasy_reviews.head()"
   ]
  },
  {
   "cell_type": "code",
   "execution_count": 4,
   "id": "68fd850b",
   "metadata": {},
   "outputs": [],
   "source": [
    "f = open('data/genre_share/fantasy_share.pkl', 'wb')\n",
    "pickle.dump(fantasy_share, f)\n",
    "f.close() "
   ]
  },
  {
   "cell_type": "code",
   "execution_count": 5,
   "id": "6b6885bd",
   "metadata": {},
   "outputs": [
    {
     "name": "stdout",
     "output_type": "stream",
     "text": [
      "(5000, 11)\n",
      "<class 'pandas.core.frame.DataFrame'>\n",
      "RangeIndex: 5000 entries, 0 to 4999\n",
      "Data columns (total 11 columns):\n",
      " #   Column        Non-Null Count  Dtype \n",
      "---  ------        --------------  ----- \n",
      " 0   user_id       5000 non-null   object\n",
      " 1   book_id       5000 non-null   int64 \n",
      " 2   review_id     5000 non-null   object\n",
      " 3   rating        5000 non-null   int64 \n",
      " 4   review_text   5000 non-null   object\n",
      " 5   date_added    5000 non-null   object\n",
      " 6   date_updated  5000 non-null   object\n",
      " 7   read_at       5000 non-null   object\n",
      " 8   started_at    5000 non-null   object\n",
      " 9   n_votes       5000 non-null   int64 \n",
      " 10  n_comments    5000 non-null   int64 \n",
      "dtypes: int64(4), object(7)\n",
      "memory usage: 429.8+ KB\n",
      "None\n"
     ]
    }
   ],
   "source": [
    "print(fantasy_reviews.shape)\n",
    "print(fantasy_reviews.info())"
   ]
  },
  {
   "cell_type": "markdown",
   "id": "3e71330a",
   "metadata": {},
   "source": [
    "## Book Info"
   ]
  },
  {
   "cell_type": "code",
   "execution_count": 6,
   "id": "06866b73",
   "metadata": {},
   "outputs": [
    {
     "data": {
      "text/html": [
       "<div>\n",
       "<style scoped>\n",
       "    .dataframe tbody tr th:only-of-type {\n",
       "        vertical-align: middle;\n",
       "    }\n",
       "\n",
       "    .dataframe tbody tr th {\n",
       "        vertical-align: top;\n",
       "    }\n",
       "\n",
       "    .dataframe thead th {\n",
       "        text-align: right;\n",
       "    }\n",
       "</style>\n",
       "<table border=\"1\" class=\"dataframe\">\n",
       "  <thead>\n",
       "    <tr style=\"text-align: right;\">\n",
       "      <th></th>\n",
       "      <th>isbn</th>\n",
       "      <th>text_reviews_count</th>\n",
       "      <th>series</th>\n",
       "      <th>country_code</th>\n",
       "      <th>language_code</th>\n",
       "      <th>popular_shelves</th>\n",
       "      <th>asin</th>\n",
       "      <th>is_ebook</th>\n",
       "      <th>average_rating</th>\n",
       "      <th>kindle_asin</th>\n",
       "      <th>...</th>\n",
       "      <th>publication_month</th>\n",
       "      <th>edition_information</th>\n",
       "      <th>publication_year</th>\n",
       "      <th>url</th>\n",
       "      <th>image_url</th>\n",
       "      <th>book_id</th>\n",
       "      <th>ratings_count</th>\n",
       "      <th>work_id</th>\n",
       "      <th>title</th>\n",
       "      <th>title_without_series</th>\n",
       "    </tr>\n",
       "  </thead>\n",
       "  <tbody>\n",
       "    <tr>\n",
       "      <th>0</th>\n",
       "      <td></td>\n",
       "      <td>7</td>\n",
       "      <td>[189911]</td>\n",
       "      <td>US</td>\n",
       "      <td>eng</td>\n",
       "      <td>[{'count': '58', 'name': 'to-read'}, {'count':...</td>\n",
       "      <td>B00071IKUY</td>\n",
       "      <td>false</td>\n",
       "      <td>4.03</td>\n",
       "      <td></td>\n",
       "      <td>...</td>\n",
       "      <td></td>\n",
       "      <td>Book Club Edition</td>\n",
       "      <td>1987</td>\n",
       "      <td>https://www.goodreads.com/book/show/7327624-th...</td>\n",
       "      <td>https://images.gr-assets.com/books/1304100136m...</td>\n",
       "      <td>7327624</td>\n",
       "      <td>140</td>\n",
       "      <td>8948723</td>\n",
       "      <td>The Unschooled Wizard (Sun Wolf and Starhawk, ...</td>\n",
       "      <td>The Unschooled Wizard (Sun Wolf and Starhawk, ...</td>\n",
       "    </tr>\n",
       "    <tr>\n",
       "      <th>1</th>\n",
       "      <td>1934876569</td>\n",
       "      <td>6</td>\n",
       "      <td>[151854]</td>\n",
       "      <td>US</td>\n",
       "      <td></td>\n",
       "      <td>[{'count': '515', 'name': 'to-read'}, {'count'...</td>\n",
       "      <td></td>\n",
       "      <td>false</td>\n",
       "      <td>4.22</td>\n",
       "      <td></td>\n",
       "      <td>...</td>\n",
       "      <td>3</td>\n",
       "      <td></td>\n",
       "      <td>2009</td>\n",
       "      <td>https://www.goodreads.com/book/show/6066812-al...</td>\n",
       "      <td>https://images.gr-assets.com/books/1316637798m...</td>\n",
       "      <td>6066812</td>\n",
       "      <td>98</td>\n",
       "      <td>701117</td>\n",
       "      <td>All's Fairy in Love and War (Avalon: Web of Ma...</td>\n",
       "      <td>All's Fairy in Love and War (Avalon: Web of Ma...</td>\n",
       "    </tr>\n",
       "    <tr>\n",
       "      <th>2</th>\n",
       "      <td></td>\n",
       "      <td>60</td>\n",
       "      <td>[1052227]</td>\n",
       "      <td>US</td>\n",
       "      <td>eng</td>\n",
       "      <td>[{'count': '54', 'name': 'currently-reading'},...</td>\n",
       "      <td>B01NCIKAQX</td>\n",
       "      <td>true</td>\n",
       "      <td>4.33</td>\n",
       "      <td>B01NCIKAQX</td>\n",
       "      <td>...</td>\n",
       "      <td></td>\n",
       "      <td></td>\n",
       "      <td></td>\n",
       "      <td>https://www.goodreads.com/book/show/33394837-t...</td>\n",
       "      <td>https://images.gr-assets.com/books/1493114742m...</td>\n",
       "      <td>33394837</td>\n",
       "      <td>269</td>\n",
       "      <td>54143148</td>\n",
       "      <td>The House of Memory (Pluto's Snitch #2)</td>\n",
       "      <td>The House of Memory (Pluto's Snitch #2)</td>\n",
       "    </tr>\n",
       "    <tr>\n",
       "      <th>3</th>\n",
       "      <td></td>\n",
       "      <td>1</td>\n",
       "      <td>[147734]</td>\n",
       "      <td>US</td>\n",
       "      <td></td>\n",
       "      <td>[{'count': '1057', 'name': 'to-read'}, {'count...</td>\n",
       "      <td>B0056A00P4</td>\n",
       "      <td>true</td>\n",
       "      <td>4.04</td>\n",
       "      <td>B0056A00P4</td>\n",
       "      <td>...</td>\n",
       "      <td></td>\n",
       "      <td></td>\n",
       "      <td></td>\n",
       "      <td>https://www.goodreads.com/book/show/12182387-t...</td>\n",
       "      <td>https://s.gr-assets.com/assets/nophoto/book/11...</td>\n",
       "      <td>12182387</td>\n",
       "      <td>4</td>\n",
       "      <td>285263</td>\n",
       "      <td>The Passion (Dark Visions, #3)</td>\n",
       "      <td>The Passion (Dark Visions, #3)</td>\n",
       "    </tr>\n",
       "    <tr>\n",
       "      <th>4</th>\n",
       "      <td></td>\n",
       "      <td>21</td>\n",
       "      <td>[811663]</td>\n",
       "      <td>US</td>\n",
       "      <td>en-US</td>\n",
       "      <td>[{'count': '598', 'name': 'to-read'}, {'count'...</td>\n",
       "      <td>B01BLJGA9S</td>\n",
       "      <td>true</td>\n",
       "      <td>4.23</td>\n",
       "      <td>B01BLJGA9S</td>\n",
       "      <td>...</td>\n",
       "      <td></td>\n",
       "      <td></td>\n",
       "      <td></td>\n",
       "      <td>https://www.goodreads.com/book/show/29074693-p...</td>\n",
       "      <td>https://s.gr-assets.com/assets/nophoto/book/11...</td>\n",
       "      <td>29074693</td>\n",
       "      <td>149</td>\n",
       "      <td>46079519</td>\n",
       "      <td>Prowled Darkness (Dante's Circle, #7)</td>\n",
       "      <td>Prowled Darkness (Dante's Circle, #7)</td>\n",
       "    </tr>\n",
       "  </tbody>\n",
       "</table>\n",
       "<p>5 rows × 29 columns</p>\n",
       "</div>"
      ],
      "text/plain": [
       "         isbn  text_reviews_count     series country_code language_code  \\\n",
       "0                               7   [189911]           US           eng   \n",
       "1  1934876569                   6   [151854]           US                 \n",
       "2                              60  [1052227]           US           eng   \n",
       "3                               1   [147734]           US                 \n",
       "4                              21   [811663]           US         en-US   \n",
       "\n",
       "                                     popular_shelves        asin is_ebook  \\\n",
       "0  [{'count': '58', 'name': 'to-read'}, {'count':...  B00071IKUY    false   \n",
       "1  [{'count': '515', 'name': 'to-read'}, {'count'...                false   \n",
       "2  [{'count': '54', 'name': 'currently-reading'},...  B01NCIKAQX     true   \n",
       "3  [{'count': '1057', 'name': 'to-read'}, {'count...  B0056A00P4     true   \n",
       "4  [{'count': '598', 'name': 'to-read'}, {'count'...  B01BLJGA9S     true   \n",
       "\n",
       "   average_rating kindle_asin  ... publication_month edition_information  \\\n",
       "0            4.03              ...                     Book Club Edition   \n",
       "1            4.22              ...                 3                       \n",
       "2            4.33  B01NCIKAQX  ...                                         \n",
       "3            4.04  B0056A00P4  ...                                         \n",
       "4            4.23  B01BLJGA9S  ...                                         \n",
       "\n",
       "  publication_year                                                url  \\\n",
       "0             1987  https://www.goodreads.com/book/show/7327624-th...   \n",
       "1             2009  https://www.goodreads.com/book/show/6066812-al...   \n",
       "2                   https://www.goodreads.com/book/show/33394837-t...   \n",
       "3                   https://www.goodreads.com/book/show/12182387-t...   \n",
       "4                   https://www.goodreads.com/book/show/29074693-p...   \n",
       "\n",
       "                                           image_url   book_id ratings_count  \\\n",
       "0  https://images.gr-assets.com/books/1304100136m...   7327624           140   \n",
       "1  https://images.gr-assets.com/books/1316637798m...   6066812            98   \n",
       "2  https://images.gr-assets.com/books/1493114742m...  33394837           269   \n",
       "3  https://s.gr-assets.com/assets/nophoto/book/11...  12182387             4   \n",
       "4  https://s.gr-assets.com/assets/nophoto/book/11...  29074693           149   \n",
       "\n",
       "    work_id                                              title  \\\n",
       "0   8948723  The Unschooled Wizard (Sun Wolf and Starhawk, ...   \n",
       "1    701117  All's Fairy in Love and War (Avalon: Web of Ma...   \n",
       "2  54143148            The House of Memory (Pluto's Snitch #2)   \n",
       "3    285263                     The Passion (Dark Visions, #3)   \n",
       "4  46079519              Prowled Darkness (Dante's Circle, #7)   \n",
       "\n",
       "                                title_without_series  \n",
       "0  The Unschooled Wizard (Sun Wolf and Starhawk, ...  \n",
       "1  All's Fairy in Love and War (Avalon: Web of Ma...  \n",
       "2            The House of Memory (Pluto's Snitch #2)  \n",
       "3                     The Passion (Dark Visions, #3)  \n",
       "4              Prowled Darkness (Dante's Circle, #7)  \n",
       "\n",
       "[5 rows x 29 columns]"
      ]
     },
     "execution_count": 6,
     "metadata": {},
     "output_type": "execute_result"
    }
   ],
   "source": [
    "fantasy_books = pd.read_json('data/Books/goodreads_books_fantasy_paranormal.json', lines=True)\n",
    "fantasy_books.head()"
   ]
  },
  {
   "cell_type": "code",
   "execution_count": 7,
   "id": "b1fe1c19",
   "metadata": {},
   "outputs": [
    {
     "data": {
      "text/plain": [
       "US    258585\n",
       "Name: country_code, dtype: int64"
      ]
     },
     "execution_count": 7,
     "metadata": {},
     "output_type": "execute_result"
    }
   ],
   "source": [
    "fantasy_books.country_code.value_counts()"
   ]
  },
  {
   "cell_type": "code",
   "execution_count": 8,
   "id": "ffbc51e6",
   "metadata": {},
   "outputs": [
    {
     "name": "stdout",
     "output_type": "stream",
     "text": [
      "(5000, 39)\n",
      "Index(['user_id', 'book_id', 'review_id', 'rating', 'review_text',\n",
      "       'date_added', 'date_updated', 'read_at', 'started_at', 'n_votes',\n",
      "       'n_comments', 'isbn', 'text_reviews_count', 'series', 'country_code',\n",
      "       'language_code', 'popular_shelves', 'asin', 'is_ebook',\n",
      "       'average_rating', 'kindle_asin', 'similar_books', 'description',\n",
      "       'format', 'link', 'authors', 'publisher', 'num_pages',\n",
      "       'publication_day', 'isbn13', 'publication_month', 'edition_information',\n",
      "       'publication_year', 'url', 'image_url', 'ratings_count', 'work_id',\n",
      "       'title', 'title_without_series'],\n",
      "      dtype='object')\n"
     ]
    }
   ],
   "source": [
    "fantasy_df = pd.merge(fantasy_reviews, fantasy_books, on='book_id')\n",
    "print(fantasy_df.shape)\n",
    "print(fantasy_df.columns)"
   ]
  },
  {
   "cell_type": "markdown",
   "id": "295995f8",
   "metadata": {},
   "source": [
    "## Genre Info"
   ]
  },
  {
   "cell_type": "code",
   "execution_count": 9,
   "id": "d48c74d4",
   "metadata": {},
   "outputs": [
    {
     "data": {
      "text/html": [
       "<div>\n",
       "<style scoped>\n",
       "    .dataframe tbody tr th:only-of-type {\n",
       "        vertical-align: middle;\n",
       "    }\n",
       "\n",
       "    .dataframe tbody tr th {\n",
       "        vertical-align: top;\n",
       "    }\n",
       "\n",
       "    .dataframe thead th {\n",
       "        text-align: right;\n",
       "    }\n",
       "</style>\n",
       "<table border=\"1\" class=\"dataframe\">\n",
       "  <thead>\n",
       "    <tr style=\"text-align: right;\">\n",
       "      <th></th>\n",
       "      <th>book_id</th>\n",
       "      <th>genres</th>\n",
       "    </tr>\n",
       "  </thead>\n",
       "  <tbody>\n",
       "    <tr>\n",
       "      <th>0</th>\n",
       "      <td>5333265</td>\n",
       "      <td>{'history, historical fiction, biography': 1}</td>\n",
       "    </tr>\n",
       "    <tr>\n",
       "      <th>1</th>\n",
       "      <td>1333909</td>\n",
       "      <td>{'fiction': 219, 'history, historical fiction,...</td>\n",
       "    </tr>\n",
       "    <tr>\n",
       "      <th>2</th>\n",
       "      <td>7327624</td>\n",
       "      <td>{'fantasy, paranormal': 31, 'fiction': 8, 'mys...</td>\n",
       "    </tr>\n",
       "    <tr>\n",
       "      <th>3</th>\n",
       "      <td>6066819</td>\n",
       "      <td>{'fiction': 555, 'romance': 23, 'mystery, thri...</td>\n",
       "    </tr>\n",
       "    <tr>\n",
       "      <th>4</th>\n",
       "      <td>287140</td>\n",
       "      <td>{'non-fiction': 3}</td>\n",
       "    </tr>\n",
       "  </tbody>\n",
       "</table>\n",
       "</div>"
      ],
      "text/plain": [
       "   book_id                                             genres\n",
       "0  5333265      {'history, historical fiction, biography': 1}\n",
       "1  1333909  {'fiction': 219, 'history, historical fiction,...\n",
       "2  7327624  {'fantasy, paranormal': 31, 'fiction': 8, 'mys...\n",
       "3  6066819  {'fiction': 555, 'romance': 23, 'mystery, thri...\n",
       "4   287140                                 {'non-fiction': 3}"
      ]
     },
     "execution_count": 9,
     "metadata": {},
     "output_type": "execute_result"
    }
   ],
   "source": [
    "genres_df = pd.read_json('data/goodreads_book_genres_initial.json', lines=True)\n",
    "genres_df.head()"
   ]
  },
  {
   "cell_type": "code",
   "execution_count": 10,
   "id": "1fb97aa4",
   "metadata": {},
   "outputs": [
    {
     "data": {
      "text/plain": [
       "(5000, 41)"
      ]
     },
     "execution_count": 10,
     "metadata": {},
     "output_type": "execute_result"
    }
   ],
   "source": [
    "fantasy_df = pd.merge(fantasy_df, genres_df)\n",
    "fantasy_df['Genre_Tag'] = 'fantasy_paranormal'\n",
    "fantasy_df.shape"
   ]
  },
  {
   "cell_type": "markdown",
   "id": "d302b6c5",
   "metadata": {},
   "source": [
    "## Author Info"
   ]
  },
  {
   "cell_type": "code",
   "execution_count": 11,
   "id": "aff6528b",
   "metadata": {},
   "outputs": [
    {
     "data": {
      "text/html": [
       "<div>\n",
       "<style scoped>\n",
       "    .dataframe tbody tr th:only-of-type {\n",
       "        vertical-align: middle;\n",
       "    }\n",
       "\n",
       "    .dataframe tbody tr th {\n",
       "        vertical-align: top;\n",
       "    }\n",
       "\n",
       "    .dataframe thead th {\n",
       "        text-align: right;\n",
       "    }\n",
       "</style>\n",
       "<table border=\"1\" class=\"dataframe\">\n",
       "  <thead>\n",
       "    <tr style=\"text-align: right;\">\n",
       "      <th></th>\n",
       "      <th>average_rating</th>\n",
       "      <th>author_id</th>\n",
       "      <th>text_reviews_count</th>\n",
       "      <th>name</th>\n",
       "      <th>ratings_count</th>\n",
       "    </tr>\n",
       "  </thead>\n",
       "  <tbody>\n",
       "    <tr>\n",
       "      <th>0</th>\n",
       "      <td>3.98</td>\n",
       "      <td>604031</td>\n",
       "      <td>7</td>\n",
       "      <td>Ronald J. Fields</td>\n",
       "      <td>49</td>\n",
       "    </tr>\n",
       "    <tr>\n",
       "      <th>1</th>\n",
       "      <td>4.08</td>\n",
       "      <td>626222</td>\n",
       "      <td>28716</td>\n",
       "      <td>Anita Diamant</td>\n",
       "      <td>546796</td>\n",
       "    </tr>\n",
       "    <tr>\n",
       "      <th>2</th>\n",
       "      <td>3.92</td>\n",
       "      <td>10333</td>\n",
       "      <td>5075</td>\n",
       "      <td>Barbara Hambly</td>\n",
       "      <td>122118</td>\n",
       "    </tr>\n",
       "    <tr>\n",
       "      <th>3</th>\n",
       "      <td>3.68</td>\n",
       "      <td>9212</td>\n",
       "      <td>36262</td>\n",
       "      <td>Jennifer Weiner</td>\n",
       "      <td>888522</td>\n",
       "    </tr>\n",
       "    <tr>\n",
       "      <th>4</th>\n",
       "      <td>3.82</td>\n",
       "      <td>149918</td>\n",
       "      <td>96</td>\n",
       "      <td>Nigel Pennick</td>\n",
       "      <td>1740</td>\n",
       "    </tr>\n",
       "  </tbody>\n",
       "</table>\n",
       "</div>"
      ],
      "text/plain": [
       "   average_rating  author_id  text_reviews_count              name  \\\n",
       "0            3.98     604031                   7  Ronald J. Fields   \n",
       "1            4.08     626222               28716     Anita Diamant   \n",
       "2            3.92      10333                5075    Barbara Hambly   \n",
       "3            3.68       9212               36262   Jennifer Weiner   \n",
       "4            3.82     149918                  96     Nigel Pennick   \n",
       "\n",
       "   ratings_count  \n",
       "0             49  \n",
       "1         546796  \n",
       "2         122118  \n",
       "3         888522  \n",
       "4           1740  "
      ]
     },
     "execution_count": 11,
     "metadata": {},
     "output_type": "execute_result"
    }
   ],
   "source": [
    "authors_df = pd.read_json('data/goodreads_book_authors.json', lines=True)\n",
    "authors_df.head()"
   ]
  },
  {
   "cell_type": "code",
   "execution_count": 12,
   "id": "4873efb8",
   "metadata": {},
   "outputs": [
    {
     "data": {
      "text/plain": [
       "'225455'"
      ]
     },
     "execution_count": 12,
     "metadata": {},
     "output_type": "execute_result"
    }
   ],
   "source": [
    "fantasy_authors = list(fantasy_df.index.map(lambda x: fantasy_df.authors.iloc[x][0]))\n",
    "list(fantasy_authors[0].values())[0]"
   ]
  },
  {
   "cell_type": "code",
   "execution_count": 13,
   "id": "ac251029",
   "metadata": {},
   "outputs": [],
   "source": [
    "fantasy_df['author_id'] = fantasy_df.index.map(lambda x: int(list(fantasy_authors[x].values())[0]))"
   ]
  },
  {
   "cell_type": "code",
   "execution_count": 14,
   "id": "2a4d80c0",
   "metadata": {},
   "outputs": [],
   "source": [
    "authors_df = authors_df[['author_id', 'name']]"
   ]
  },
  {
   "cell_type": "code",
   "execution_count": 15,
   "id": "d4cd418a",
   "metadata": {},
   "outputs": [
    {
     "name": "stdout",
     "output_type": "stream",
     "text": [
      "(5000, 43)\n"
     ]
    }
   ],
   "source": [
    "fantasy_df = pd.merge(fantasy_df, authors_df, on ='author_id')\n",
    "print(fantasy_df.shape)"
   ]
  },
  {
   "cell_type": "markdown",
   "id": "5acf9083",
   "metadata": {},
   "source": [
    "## Langauge Filtering"
   ]
  },
  {
   "cell_type": "code",
   "execution_count": 16,
   "id": "66b71376",
   "metadata": {},
   "outputs": [
    {
     "data": {
      "text/plain": [
       "(4326, 43)"
      ]
     },
     "execution_count": 16,
     "metadata": {},
     "output_type": "execute_result"
    }
   ],
   "source": [
    "english = (fantasy_df.language_code == 'eng') | (fantasy_df.language_code == 'en-GB') | (fantasy_df.language_code == 'en-US') | (fantasy_df.language_code == 'en-CA')\n",
    "fantasy_df = fantasy_df[english]\n",
    "fantasy_df.shape"
   ]
  },
  {
   "cell_type": "markdown",
   "id": "930e4224",
   "metadata": {},
   "source": [
    "## Formatting"
   ]
  },
  {
   "cell_type": "code",
   "execution_count": 17,
   "id": "e8cc136e",
   "metadata": {},
   "outputs": [
    {
     "data": {
      "text/plain": [
       "(4326, 12)"
      ]
     },
     "execution_count": 17,
     "metadata": {},
     "output_type": "execute_result"
    }
   ],
   "source": [
    "fantasy_short = fantasy_df[['user_id', 'rating', 'review_text', 'language_code', 'average_rating', 'num_pages', 'publication_year', 'ratings_count', 'title', 'genres', 'Genre_Tag', 'name']]\n",
    "fantasy_short.columns = ['User_ID', 'Rating', 'Text', 'Language', 'Avg_Rating', 'Pages', 'Pub_Year', 'Ratings_Count', 'Title', 'Genres', 'Category', 'Author']\n",
    "fantasy_short = fantasy_short[[ 'Text', 'Rating', 'Title', 'Author', 'Category', 'Genres', 'Language', 'Pages', 'Pub_Year', 'Avg_Rating', 'Ratings_Count', 'User_ID']]\n",
    "fantasy_short.shape"
   ]
  },
  {
   "cell_type": "code",
   "execution_count": 18,
   "id": "a2e50a81",
   "metadata": {
    "scrolled": true
   },
   "outputs": [
    {
     "name": "stdout",
     "output_type": "stream",
     "text": [
      "(4326, 12)\n",
      "(4323, 12)\n",
      "<class 'pandas.core.frame.DataFrame'>\n",
      "Int64Index: 4323 entries, 0 to 4999\n",
      "Data columns (total 12 columns):\n",
      " #   Column         Non-Null Count  Dtype  \n",
      "---  ------         --------------  -----  \n",
      " 0   Text           4323 non-null   object \n",
      " 1   Rating         4323 non-null   int64  \n",
      " 2   Title          4323 non-null   object \n",
      " 3   Author         4323 non-null   object \n",
      " 4   Category       4323 non-null   object \n",
      " 5   Genres         4323 non-null   object \n",
      " 6   Language       4323 non-null   object \n",
      " 7   Pages          4323 non-null   object \n",
      " 8   Pub_Year       4323 non-null   object \n",
      " 9   Avg_Rating     4323 non-null   float64\n",
      " 10  Ratings_Count  4323 non-null   int64  \n",
      " 11  User_ID        4323 non-null   object \n",
      "dtypes: float64(1), int64(2), object(9)\n",
      "memory usage: 439.1+ KB\n",
      "None\n"
     ]
    }
   ],
   "source": [
    "empty = (fantasy_short.Text != '') & (fantasy_short.Text != ' ') & (fantasy_short.Rating != '') & (fantasy_short.Rating != ' ')\n",
    "print(fantasy_short.shape)\n",
    "print(fantasy_short[empty].shape)\n",
    "fantasy_short = fantasy_short[empty]\n",
    "print(fantasy_short.info())"
   ]
  },
  {
   "cell_type": "markdown",
   "id": "06d1cd09",
   "metadata": {},
   "source": [
    "## Saving Info"
   ]
  },
  {
   "cell_type": "code",
   "execution_count": 19,
   "id": "7208e231",
   "metadata": {},
   "outputs": [],
   "source": [
    "f2 = open('data/genre_pkls/fantasy_short.pkl', 'wb')\n",
    "pickle.dump(fantasy_short, f2)\n",
    "f2.close() "
   ]
  }
 ],
 "metadata": {
  "kernelspec": {
   "display_name": "Python 3 (ipykernel)",
   "language": "python",
   "name": "python3"
  },
  "language_info": {
   "codemirror_mode": {
    "name": "ipython",
    "version": 3
   },
   "file_extension": ".py",
   "mimetype": "text/x-python",
   "name": "python",
   "nbconvert_exporter": "python",
   "pygments_lexer": "ipython3",
   "version": "3.9.13"
  }
 },
 "nbformat": 4,
 "nbformat_minor": 5
}
