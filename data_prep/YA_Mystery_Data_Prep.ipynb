{
 "cells": [
  {
   "cell_type": "code",
   "execution_count": 1,
   "id": "8c80908e",
   "metadata": {},
   "outputs": [
    {
     "name": "stdout",
     "output_type": "stream",
     "text": [
      "Pretty printing has been turned OFF\n"
     ]
    }
   ],
   "source": [
    "#Turn off pretty printing\n",
    "%pprint\n",
    "\n",
    "#Import packages\n",
    "import pandas as pd\n",
    "import os\n",
    "import pickle"
   ]
  },
  {
   "cell_type": "markdown",
   "id": "807b886c",
   "metadata": {},
   "source": [
    "# Young Adult\n",
    "## Reviews"
   ]
  },
  {
   "cell_type": "code",
   "execution_count": 2,
   "id": "25d1f9bb",
   "metadata": {},
   "outputs": [
    {
     "data": {
      "text/html": [
       "<div>\n",
       "<style scoped>\n",
       "    .dataframe tbody tr th:only-of-type {\n",
       "        vertical-align: middle;\n",
       "    }\n",
       "\n",
       "    .dataframe tbody tr th {\n",
       "        vertical-align: top;\n",
       "    }\n",
       "\n",
       "    .dataframe thead th {\n",
       "        text-align: right;\n",
       "    }\n",
       "</style>\n",
       "<table border=\"1\" class=\"dataframe\">\n",
       "  <thead>\n",
       "    <tr style=\"text-align: right;\">\n",
       "      <th></th>\n",
       "      <th>user_id</th>\n",
       "      <th>book_id</th>\n",
       "      <th>review_id</th>\n",
       "      <th>rating</th>\n",
       "      <th>review_text</th>\n",
       "      <th>date_added</th>\n",
       "      <th>date_updated</th>\n",
       "      <th>read_at</th>\n",
       "      <th>started_at</th>\n",
       "      <th>n_votes</th>\n",
       "      <th>n_comments</th>\n",
       "    </tr>\n",
       "  </thead>\n",
       "  <tbody>\n",
       "    <tr>\n",
       "      <th>0</th>\n",
       "      <td>8a707cebc4bb349da13cc93d3a7120ef</td>\n",
       "      <td>18285437</td>\n",
       "      <td>a2b510e8be50f772785286edf170a6d3</td>\n",
       "      <td>5</td>\n",
       "      <td>I don't even know how to begin to describe how...</td>\n",
       "      <td>Thu Jul 09 11:33:37 -0700 2015</td>\n",
       "      <td>Sun Dec 20 12:31:17 -0800 2015</td>\n",
       "      <td>Sun Dec 20 12:33:30 -0800 2015</td>\n",
       "      <td>Sat Dec 19 00:00:00 -0800 2015</td>\n",
       "      <td>1</td>\n",
       "      <td>0</td>\n",
       "    </tr>\n",
       "    <tr>\n",
       "      <th>1</th>\n",
       "      <td>512d8ecf5cca2fb31ede425f6bdfe4a3</td>\n",
       "      <td>332812</td>\n",
       "      <td>aef6a53940090ddb3c4feb93a8a86dda</td>\n",
       "      <td>5</td>\n",
       "      <td>** spoiler alert ** \\n I thought this book had...</td>\n",
       "      <td>Wed Aug 04 20:13:59 -0700 2010</td>\n",
       "      <td>Wed Aug 04 20:15:55 -0700 2010</td>\n",
       "      <td>Thu Jul 15 00:00:00 -0700 2010</td>\n",
       "      <td></td>\n",
       "      <td>0</td>\n",
       "      <td>0</td>\n",
       "    </tr>\n",
       "    <tr>\n",
       "      <th>2</th>\n",
       "      <td>480564a6be18fc8d0046963a1b2f10dd</td>\n",
       "      <td>18304322</td>\n",
       "      <td>7cdca14c7507c7da3f67415b1324e310</td>\n",
       "      <td>5</td>\n",
       "      <td>I was having a hard time coming up with how to...</td>\n",
       "      <td>Sun Oct 11 18:09:53 -0700 2015</td>\n",
       "      <td>Sun Feb 19 21:17:58 -0800 2017</td>\n",
       "      <td>Sat Nov 21 14:12:08 -0800 2015</td>\n",
       "      <td>Wed Nov 18 00:00:00 -0800 2015</td>\n",
       "      <td>1</td>\n",
       "      <td>6</td>\n",
       "    </tr>\n",
       "    <tr>\n",
       "      <th>3</th>\n",
       "      <td>ef2ecfec2e1e644bd0f7fe73717ff6ee</td>\n",
       "      <td>17234659</td>\n",
       "      <td>e3464b4f1ff968bbfc449efd87bdd09c</td>\n",
       "      <td>5</td>\n",
       "      <td>4.5 stars. \\n HOLY MOTHER OF PLOT TWISTS. \\n T...</td>\n",
       "      <td>Tue Mar 29 15:11:05 -0700 2016</td>\n",
       "      <td>Thu Dec 29 17:13:39 -0800 2016</td>\n",
       "      <td>Thu Apr 07 00:00:00 -0700 2016</td>\n",
       "      <td></td>\n",
       "      <td>0</td>\n",
       "      <td>0</td>\n",
       "    </tr>\n",
       "    <tr>\n",
       "      <th>4</th>\n",
       "      <td>aa4f9e89eb620f856ad3b5e7460f2513</td>\n",
       "      <td>22489107</td>\n",
       "      <td>43cbf07734b4452555012d4b63ccaeaf</td>\n",
       "      <td>4</td>\n",
       "      <td>Levana be cray! \\n 4 stars!</td>\n",
       "      <td>Sun Feb 01 11:51:30 -0800 2015</td>\n",
       "      <td>Tue Feb 10 22:05:13 -0800 2015</td>\n",
       "      <td>Sun Feb 01 00:00:00 -0800 2015</td>\n",
       "      <td>Sun Feb 01 00:00:00 -0800 2015</td>\n",
       "      <td>1</td>\n",
       "      <td>0</td>\n",
       "    </tr>\n",
       "  </tbody>\n",
       "</table>\n",
       "</div>"
      ],
      "text/plain": [
       "                            user_id   book_id  \\\n",
       "0  8a707cebc4bb349da13cc93d3a7120ef  18285437   \n",
       "1  512d8ecf5cca2fb31ede425f6bdfe4a3    332812   \n",
       "2  480564a6be18fc8d0046963a1b2f10dd  18304322   \n",
       "3  ef2ecfec2e1e644bd0f7fe73717ff6ee  17234659   \n",
       "4  aa4f9e89eb620f856ad3b5e7460f2513  22489107   \n",
       "\n",
       "                          review_id  rating  \\\n",
       "0  a2b510e8be50f772785286edf170a6d3       5   \n",
       "1  aef6a53940090ddb3c4feb93a8a86dda       5   \n",
       "2  7cdca14c7507c7da3f67415b1324e310       5   \n",
       "3  e3464b4f1ff968bbfc449efd87bdd09c       5   \n",
       "4  43cbf07734b4452555012d4b63ccaeaf       4   \n",
       "\n",
       "                                         review_text  \\\n",
       "0  I don't even know how to begin to describe how...   \n",
       "1  ** spoiler alert ** \\n I thought this book had...   \n",
       "2  I was having a hard time coming up with how to...   \n",
       "3  4.5 stars. \\n HOLY MOTHER OF PLOT TWISTS. \\n T...   \n",
       "4                        Levana be cray! \\n 4 stars!   \n",
       "\n",
       "                       date_added                    date_updated  \\\n",
       "0  Thu Jul 09 11:33:37 -0700 2015  Sun Dec 20 12:31:17 -0800 2015   \n",
       "1  Wed Aug 04 20:13:59 -0700 2010  Wed Aug 04 20:15:55 -0700 2010   \n",
       "2  Sun Oct 11 18:09:53 -0700 2015  Sun Feb 19 21:17:58 -0800 2017   \n",
       "3  Tue Mar 29 15:11:05 -0700 2016  Thu Dec 29 17:13:39 -0800 2016   \n",
       "4  Sun Feb 01 11:51:30 -0800 2015  Tue Feb 10 22:05:13 -0800 2015   \n",
       "\n",
       "                          read_at                      started_at  n_votes  \\\n",
       "0  Sun Dec 20 12:33:30 -0800 2015  Sat Dec 19 00:00:00 -0800 2015        1   \n",
       "1  Thu Jul 15 00:00:00 -0700 2010                                        0   \n",
       "2  Sat Nov 21 14:12:08 -0800 2015  Wed Nov 18 00:00:00 -0800 2015        1   \n",
       "3  Thu Apr 07 00:00:00 -0700 2016                                        0   \n",
       "4  Sun Feb 01 00:00:00 -0800 2015  Sun Feb 01 00:00:00 -0800 2015        1   \n",
       "\n",
       "   n_comments  \n",
       "0           0  \n",
       "1           0  \n",
       "2           6  \n",
       "3           0  \n",
       "4           0  "
      ]
     },
     "execution_count": 2,
     "metadata": {},
     "output_type": "execute_result"
    }
   ],
   "source": [
    "ya_reviews = pd.read_json('data/Reviews/excerpts_shuf/goodreads_reviews_young_adult_shuf.json', lines=True)\n",
    "ya_reviews.head()"
   ]
  },
  {
   "cell_type": "code",
   "execution_count": 3,
   "id": "11a9eb82",
   "metadata": {},
   "outputs": [],
   "source": [
    "ya_share = ya_reviews.head()"
   ]
  },
  {
   "cell_type": "code",
   "execution_count": 4,
   "id": "68fd850b",
   "metadata": {},
   "outputs": [],
   "source": [
    "f = open('data/genre_share/ya_share.pkl', 'wb')\n",
    "pickle.dump(ya_share, f)\n",
    "f.close() "
   ]
  },
  {
   "cell_type": "code",
   "execution_count": 5,
   "id": "6b6885bd",
   "metadata": {},
   "outputs": [
    {
     "name": "stdout",
     "output_type": "stream",
     "text": [
      "(5000, 11)\n",
      "<class 'pandas.core.frame.DataFrame'>\n",
      "RangeIndex: 5000 entries, 0 to 4999\n",
      "Data columns (total 11 columns):\n",
      " #   Column        Non-Null Count  Dtype \n",
      "---  ------        --------------  ----- \n",
      " 0   user_id       5000 non-null   object\n",
      " 1   book_id       5000 non-null   int64 \n",
      " 2   review_id     5000 non-null   object\n",
      " 3   rating        5000 non-null   int64 \n",
      " 4   review_text   5000 non-null   object\n",
      " 5   date_added    5000 non-null   object\n",
      " 6   date_updated  5000 non-null   object\n",
      " 7   read_at       5000 non-null   object\n",
      " 8   started_at    5000 non-null   object\n",
      " 9   n_votes       5000 non-null   int64 \n",
      " 10  n_comments    5000 non-null   int64 \n",
      "dtypes: int64(4), object(7)\n",
      "memory usage: 429.8+ KB\n",
      "None\n"
     ]
    }
   ],
   "source": [
    "print(ya_reviews.shape)\n",
    "print(ya_reviews.info())"
   ]
  },
  {
   "cell_type": "markdown",
   "id": "3e71330a",
   "metadata": {},
   "source": [
    "## Book Info"
   ]
  },
  {
   "cell_type": "code",
   "execution_count": 6,
   "id": "06866b73",
   "metadata": {},
   "outputs": [
    {
     "data": {
      "text/html": [
       "<div>\n",
       "<style scoped>\n",
       "    .dataframe tbody tr th:only-of-type {\n",
       "        vertical-align: middle;\n",
       "    }\n",
       "\n",
       "    .dataframe tbody tr th {\n",
       "        vertical-align: top;\n",
       "    }\n",
       "\n",
       "    .dataframe thead th {\n",
       "        text-align: right;\n",
       "    }\n",
       "</style>\n",
       "<table border=\"1\" class=\"dataframe\">\n",
       "  <thead>\n",
       "    <tr style=\"text-align: right;\">\n",
       "      <th></th>\n",
       "      <th>isbn</th>\n",
       "      <th>text_reviews_count</th>\n",
       "      <th>series</th>\n",
       "      <th>country_code</th>\n",
       "      <th>language_code</th>\n",
       "      <th>popular_shelves</th>\n",
       "      <th>asin</th>\n",
       "      <th>is_ebook</th>\n",
       "      <th>average_rating</th>\n",
       "      <th>kindle_asin</th>\n",
       "      <th>...</th>\n",
       "      <th>publication_month</th>\n",
       "      <th>edition_information</th>\n",
       "      <th>publication_year</th>\n",
       "      <th>url</th>\n",
       "      <th>image_url</th>\n",
       "      <th>book_id</th>\n",
       "      <th>ratings_count</th>\n",
       "      <th>work_id</th>\n",
       "      <th>title</th>\n",
       "      <th>title_without_series</th>\n",
       "    </tr>\n",
       "  </thead>\n",
       "  <tbody>\n",
       "    <tr>\n",
       "      <th>0</th>\n",
       "      <td></td>\n",
       "      <td>1</td>\n",
       "      <td>[147734]</td>\n",
       "      <td>US</td>\n",
       "      <td></td>\n",
       "      <td>[{'count': '1057', 'name': 'to-read'}, {'count...</td>\n",
       "      <td>B0056A00P4</td>\n",
       "      <td>true</td>\n",
       "      <td>4.04</td>\n",
       "      <td>B0056A00P4</td>\n",
       "      <td>...</td>\n",
       "      <td></td>\n",
       "      <td></td>\n",
       "      <td></td>\n",
       "      <td>https://www.goodreads.com/book/show/12182387-t...</td>\n",
       "      <td>https://s.gr-assets.com/assets/nophoto/book/11...</td>\n",
       "      <td>12182387</td>\n",
       "      <td>4</td>\n",
       "      <td>285263</td>\n",
       "      <td>The Passion (Dark Visions, #3)</td>\n",
       "      <td>The Passion (Dark Visions, #3)</td>\n",
       "    </tr>\n",
       "    <tr>\n",
       "      <th>1</th>\n",
       "      <td></td>\n",
       "      <td>2</td>\n",
       "      <td>[425995]</td>\n",
       "      <td>US</td>\n",
       "      <td></td>\n",
       "      <td>[{'count': '1010', 'name': 'to-read'}, {'count...</td>\n",
       "      <td>B006KLYIAG</td>\n",
       "      <td>true</td>\n",
       "      <td>3.80</td>\n",
       "      <td>B006KLYIAG</td>\n",
       "      <td>...</td>\n",
       "      <td></td>\n",
       "      <td></td>\n",
       "      <td></td>\n",
       "      <td>https://www.goodreads.com/book/show/20135365-h...</td>\n",
       "      <td>https://s.gr-assets.com/assets/nophoto/book/11...</td>\n",
       "      <td>20135365</td>\n",
       "      <td>5</td>\n",
       "      <td>18450480</td>\n",
       "      <td>Hope's Daughter</td>\n",
       "      <td>Hope's Daughter</td>\n",
       "    </tr>\n",
       "    <tr>\n",
       "      <th>2</th>\n",
       "      <td>0698143760</td>\n",
       "      <td>17</td>\n",
       "      <td>[493993]</td>\n",
       "      <td>US</td>\n",
       "      <td></td>\n",
       "      <td>[{'count': '1799', 'name': 'fantasy'}, {'count...</td>\n",
       "      <td></td>\n",
       "      <td>true</td>\n",
       "      <td>3.80</td>\n",
       "      <td></td>\n",
       "      <td>...</td>\n",
       "      <td>3</td>\n",
       "      <td></td>\n",
       "      <td>2014</td>\n",
       "      <td>https://www.goodreads.com/book/show/21401181-h...</td>\n",
       "      <td>https://images.gr-assets.com/books/1394747643m...</td>\n",
       "      <td>21401181</td>\n",
       "      <td>33</td>\n",
       "      <td>24802827</td>\n",
       "      <td>Half Bad (Half Life, #1)</td>\n",
       "      <td>Half Bad (Half Life, #1)</td>\n",
       "    </tr>\n",
       "    <tr>\n",
       "      <th>3</th>\n",
       "      <td></td>\n",
       "      <td>9</td>\n",
       "      <td>[176160]</td>\n",
       "      <td>US</td>\n",
       "      <td>eng</td>\n",
       "      <td>[{'count': '7173', 'name': 'to-read'}, {'count...</td>\n",
       "      <td>B0042JSOQC</td>\n",
       "      <td>true</td>\n",
       "      <td>4.35</td>\n",
       "      <td>B004IYJDXY</td>\n",
       "      <td>...</td>\n",
       "      <td></td>\n",
       "      <td></td>\n",
       "      <td></td>\n",
       "      <td>https://www.goodreads.com/book/show/10099492-t...</td>\n",
       "      <td>https://s.gr-assets.com/assets/nophoto/book/11...</td>\n",
       "      <td>10099492</td>\n",
       "      <td>152</td>\n",
       "      <td>10800440</td>\n",
       "      <td>Twelfth Grade Kills (The Chronicles of Vladimi...</td>\n",
       "      <td>Twelfth Grade Kills (The Chronicles of Vladimi...</td>\n",
       "    </tr>\n",
       "    <tr>\n",
       "      <th>4</th>\n",
       "      <td>0990662616</td>\n",
       "      <td>428</td>\n",
       "      <td>[]</td>\n",
       "      <td>US</td>\n",
       "      <td>eng</td>\n",
       "      <td>[{'count': '9481', 'name': 'to-read'}, {'count...</td>\n",
       "      <td></td>\n",
       "      <td>false</td>\n",
       "      <td>3.71</td>\n",
       "      <td>B00MW0MTGE</td>\n",
       "      <td>...</td>\n",
       "      <td>10</td>\n",
       "      <td>Special Edition</td>\n",
       "      <td>2014</td>\n",
       "      <td>https://www.goodreads.com/book/show/22642971-t...</td>\n",
       "      <td>https://images.gr-assets.com/books/1406979059m...</td>\n",
       "      <td>22642971</td>\n",
       "      <td>1525</td>\n",
       "      <td>42144295</td>\n",
       "      <td>The Body Electric</td>\n",
       "      <td>The Body Electric</td>\n",
       "    </tr>\n",
       "  </tbody>\n",
       "</table>\n",
       "<p>5 rows × 29 columns</p>\n",
       "</div>"
      ],
      "text/plain": [
       "         isbn  text_reviews_count    series country_code language_code  \\\n",
       "0                               1  [147734]           US                 \n",
       "1                               2  [425995]           US                 \n",
       "2  0698143760                  17  [493993]           US                 \n",
       "3                               9  [176160]           US           eng   \n",
       "4  0990662616                 428        []           US           eng   \n",
       "\n",
       "                                     popular_shelves        asin is_ebook  \\\n",
       "0  [{'count': '1057', 'name': 'to-read'}, {'count...  B0056A00P4     true   \n",
       "1  [{'count': '1010', 'name': 'to-read'}, {'count...  B006KLYIAG     true   \n",
       "2  [{'count': '1799', 'name': 'fantasy'}, {'count...                 true   \n",
       "3  [{'count': '7173', 'name': 'to-read'}, {'count...  B0042JSOQC     true   \n",
       "4  [{'count': '9481', 'name': 'to-read'}, {'count...                false   \n",
       "\n",
       "   average_rating kindle_asin  ... publication_month edition_information  \\\n",
       "0            4.04  B0056A00P4  ...                                         \n",
       "1            3.80  B006KLYIAG  ...                                         \n",
       "2            3.80              ...                 3                       \n",
       "3            4.35  B004IYJDXY  ...                                         \n",
       "4            3.71  B00MW0MTGE  ...                10     Special Edition   \n",
       "\n",
       "  publication_year                                                url  \\\n",
       "0                   https://www.goodreads.com/book/show/12182387-t...   \n",
       "1                   https://www.goodreads.com/book/show/20135365-h...   \n",
       "2             2014  https://www.goodreads.com/book/show/21401181-h...   \n",
       "3                   https://www.goodreads.com/book/show/10099492-t...   \n",
       "4             2014  https://www.goodreads.com/book/show/22642971-t...   \n",
       "\n",
       "                                           image_url   book_id ratings_count  \\\n",
       "0  https://s.gr-assets.com/assets/nophoto/book/11...  12182387             4   \n",
       "1  https://s.gr-assets.com/assets/nophoto/book/11...  20135365             5   \n",
       "2  https://images.gr-assets.com/books/1394747643m...  21401181            33   \n",
       "3  https://s.gr-assets.com/assets/nophoto/book/11...  10099492           152   \n",
       "4  https://images.gr-assets.com/books/1406979059m...  22642971          1525   \n",
       "\n",
       "    work_id                                              title  \\\n",
       "0    285263                     The Passion (Dark Visions, #3)   \n",
       "1  18450480                                    Hope's Daughter   \n",
       "2  24802827                           Half Bad (Half Life, #1)   \n",
       "3  10800440  Twelfth Grade Kills (The Chronicles of Vladimi...   \n",
       "4  42144295                                  The Body Electric   \n",
       "\n",
       "                                title_without_series  \n",
       "0                     The Passion (Dark Visions, #3)  \n",
       "1                                    Hope's Daughter  \n",
       "2                           Half Bad (Half Life, #1)  \n",
       "3  Twelfth Grade Kills (The Chronicles of Vladimi...  \n",
       "4                                  The Body Electric  \n",
       "\n",
       "[5 rows x 29 columns]"
      ]
     },
     "execution_count": 6,
     "metadata": {},
     "output_type": "execute_result"
    }
   ],
   "source": [
    "ya_books = pd.read_json('data/Books/goodreads_books_young_adult.json', lines=True)\n",
    "ya_books.head()"
   ]
  },
  {
   "cell_type": "code",
   "execution_count": 7,
   "id": "b1fe1c19",
   "metadata": {},
   "outputs": [
    {
     "data": {
      "text/plain": [
       "US    93398\n",
       "Name: country_code, dtype: int64"
      ]
     },
     "execution_count": 7,
     "metadata": {},
     "output_type": "execute_result"
    }
   ],
   "source": [
    "ya_books.country_code.value_counts()"
   ]
  },
  {
   "cell_type": "code",
   "execution_count": 8,
   "id": "ffbc51e6",
   "metadata": {},
   "outputs": [
    {
     "name": "stdout",
     "output_type": "stream",
     "text": [
      "(5000, 39)\n",
      "Index(['user_id', 'book_id', 'review_id', 'rating', 'review_text',\n",
      "       'date_added', 'date_updated', 'read_at', 'started_at', 'n_votes',\n",
      "       'n_comments', 'isbn', 'text_reviews_count', 'series', 'country_code',\n",
      "       'language_code', 'popular_shelves', 'asin', 'is_ebook',\n",
      "       'average_rating', 'kindle_asin', 'similar_books', 'description',\n",
      "       'format', 'link', 'authors', 'publisher', 'num_pages',\n",
      "       'publication_day', 'isbn13', 'publication_month', 'edition_information',\n",
      "       'publication_year', 'url', 'image_url', 'ratings_count', 'work_id',\n",
      "       'title', 'title_without_series'],\n",
      "      dtype='object')\n"
     ]
    }
   ],
   "source": [
    "ya_df = pd.merge(ya_reviews, ya_books, on='book_id')\n",
    "print(ya_df.shape)\n",
    "print(ya_df.columns)"
   ]
  },
  {
   "cell_type": "markdown",
   "id": "295995f8",
   "metadata": {},
   "source": [
    "## Genre Info"
   ]
  },
  {
   "cell_type": "code",
   "execution_count": 9,
   "id": "d48c74d4",
   "metadata": {},
   "outputs": [
    {
     "data": {
      "text/html": [
       "<div>\n",
       "<style scoped>\n",
       "    .dataframe tbody tr th:only-of-type {\n",
       "        vertical-align: middle;\n",
       "    }\n",
       "\n",
       "    .dataframe tbody tr th {\n",
       "        vertical-align: top;\n",
       "    }\n",
       "\n",
       "    .dataframe thead th {\n",
       "        text-align: right;\n",
       "    }\n",
       "</style>\n",
       "<table border=\"1\" class=\"dataframe\">\n",
       "  <thead>\n",
       "    <tr style=\"text-align: right;\">\n",
       "      <th></th>\n",
       "      <th>book_id</th>\n",
       "      <th>genres</th>\n",
       "    </tr>\n",
       "  </thead>\n",
       "  <tbody>\n",
       "    <tr>\n",
       "      <th>0</th>\n",
       "      <td>5333265</td>\n",
       "      <td>{'history, historical fiction, biography': 1}</td>\n",
       "    </tr>\n",
       "    <tr>\n",
       "      <th>1</th>\n",
       "      <td>1333909</td>\n",
       "      <td>{'fiction': 219, 'history, historical fiction,...</td>\n",
       "    </tr>\n",
       "    <tr>\n",
       "      <th>2</th>\n",
       "      <td>7327624</td>\n",
       "      <td>{'fantasy, paranormal': 31, 'fiction': 8, 'mys...</td>\n",
       "    </tr>\n",
       "    <tr>\n",
       "      <th>3</th>\n",
       "      <td>6066819</td>\n",
       "      <td>{'fiction': 555, 'romance': 23, 'mystery, thri...</td>\n",
       "    </tr>\n",
       "    <tr>\n",
       "      <th>4</th>\n",
       "      <td>287140</td>\n",
       "      <td>{'non-fiction': 3}</td>\n",
       "    </tr>\n",
       "  </tbody>\n",
       "</table>\n",
       "</div>"
      ],
      "text/plain": [
       "   book_id                                             genres\n",
       "0  5333265      {'history, historical fiction, biography': 1}\n",
       "1  1333909  {'fiction': 219, 'history, historical fiction,...\n",
       "2  7327624  {'fantasy, paranormal': 31, 'fiction': 8, 'mys...\n",
       "3  6066819  {'fiction': 555, 'romance': 23, 'mystery, thri...\n",
       "4   287140                                 {'non-fiction': 3}"
      ]
     },
     "execution_count": 9,
     "metadata": {},
     "output_type": "execute_result"
    }
   ],
   "source": [
    "genres_df = pd.read_json('data/goodreads_book_genres_initial.json', lines=True)\n",
    "genres_df.head()"
   ]
  },
  {
   "cell_type": "code",
   "execution_count": 10,
   "id": "1fb97aa4",
   "metadata": {},
   "outputs": [
    {
     "data": {
      "text/plain": [
       "(5000, 41)"
      ]
     },
     "execution_count": 10,
     "metadata": {},
     "output_type": "execute_result"
    }
   ],
   "source": [
    "ya_df = pd.merge(ya_df, genres_df)\n",
    "ya_df['Genre_Tag'] = 'ya'\n",
    "ya_df.shape"
   ]
  },
  {
   "cell_type": "markdown",
   "id": "d302b6c5",
   "metadata": {},
   "source": [
    "## Author Info"
   ]
  },
  {
   "cell_type": "code",
   "execution_count": 11,
   "id": "aff6528b",
   "metadata": {},
   "outputs": [
    {
     "data": {
      "text/html": [
       "<div>\n",
       "<style scoped>\n",
       "    .dataframe tbody tr th:only-of-type {\n",
       "        vertical-align: middle;\n",
       "    }\n",
       "\n",
       "    .dataframe tbody tr th {\n",
       "        vertical-align: top;\n",
       "    }\n",
       "\n",
       "    .dataframe thead th {\n",
       "        text-align: right;\n",
       "    }\n",
       "</style>\n",
       "<table border=\"1\" class=\"dataframe\">\n",
       "  <thead>\n",
       "    <tr style=\"text-align: right;\">\n",
       "      <th></th>\n",
       "      <th>average_rating</th>\n",
       "      <th>author_id</th>\n",
       "      <th>text_reviews_count</th>\n",
       "      <th>name</th>\n",
       "      <th>ratings_count</th>\n",
       "    </tr>\n",
       "  </thead>\n",
       "  <tbody>\n",
       "    <tr>\n",
       "      <th>0</th>\n",
       "      <td>3.98</td>\n",
       "      <td>604031</td>\n",
       "      <td>7</td>\n",
       "      <td>Ronald J. Fields</td>\n",
       "      <td>49</td>\n",
       "    </tr>\n",
       "    <tr>\n",
       "      <th>1</th>\n",
       "      <td>4.08</td>\n",
       "      <td>626222</td>\n",
       "      <td>28716</td>\n",
       "      <td>Anita Diamant</td>\n",
       "      <td>546796</td>\n",
       "    </tr>\n",
       "    <tr>\n",
       "      <th>2</th>\n",
       "      <td>3.92</td>\n",
       "      <td>10333</td>\n",
       "      <td>5075</td>\n",
       "      <td>Barbara Hambly</td>\n",
       "      <td>122118</td>\n",
       "    </tr>\n",
       "    <tr>\n",
       "      <th>3</th>\n",
       "      <td>3.68</td>\n",
       "      <td>9212</td>\n",
       "      <td>36262</td>\n",
       "      <td>Jennifer Weiner</td>\n",
       "      <td>888522</td>\n",
       "    </tr>\n",
       "    <tr>\n",
       "      <th>4</th>\n",
       "      <td>3.82</td>\n",
       "      <td>149918</td>\n",
       "      <td>96</td>\n",
       "      <td>Nigel Pennick</td>\n",
       "      <td>1740</td>\n",
       "    </tr>\n",
       "  </tbody>\n",
       "</table>\n",
       "</div>"
      ],
      "text/plain": [
       "   average_rating  author_id  text_reviews_count              name  \\\n",
       "0            3.98     604031                   7  Ronald J. Fields   \n",
       "1            4.08     626222               28716     Anita Diamant   \n",
       "2            3.92      10333                5075    Barbara Hambly   \n",
       "3            3.68       9212               36262   Jennifer Weiner   \n",
       "4            3.82     149918                  96     Nigel Pennick   \n",
       "\n",
       "   ratings_count  \n",
       "0             49  \n",
       "1         546796  \n",
       "2         122118  \n",
       "3         888522  \n",
       "4           1740  "
      ]
     },
     "execution_count": 11,
     "metadata": {},
     "output_type": "execute_result"
    }
   ],
   "source": [
    "authors_df = pd.read_json('data/goodreads_book_authors.json', lines=True)\n",
    "authors_df.head()"
   ]
  },
  {
   "cell_type": "code",
   "execution_count": 12,
   "id": "4873efb8",
   "metadata": {},
   "outputs": [
    {
     "data": {
      "text/plain": [
       "'7536047'"
      ]
     },
     "execution_count": 12,
     "metadata": {},
     "output_type": "execute_result"
    }
   ],
   "source": [
    "ya_authors = list(ya_df.index.map(lambda x: ya_df.authors.iloc[x][0]))\n",
    "list(ya_authors[0].values())[0]"
   ]
  },
  {
   "cell_type": "code",
   "execution_count": 13,
   "id": "ac251029",
   "metadata": {},
   "outputs": [],
   "source": [
    "ya_df['author_id'] = ya_df.index.map(lambda x: int(list(ya_authors[x].values())[0]))"
   ]
  },
  {
   "cell_type": "code",
   "execution_count": 14,
   "id": "2a4d80c0",
   "metadata": {},
   "outputs": [],
   "source": [
    "authors_df = authors_df[['author_id', 'name']]"
   ]
  },
  {
   "cell_type": "code",
   "execution_count": 15,
   "id": "d4cd418a",
   "metadata": {},
   "outputs": [
    {
     "name": "stdout",
     "output_type": "stream",
     "text": [
      "(5000, 43)\n"
     ]
    }
   ],
   "source": [
    "ya_df = pd.merge(ya_df, authors_df, on ='author_id')\n",
    "print(ya_df.shape)"
   ]
  },
  {
   "cell_type": "markdown",
   "id": "5acf9083",
   "metadata": {},
   "source": [
    "## Langauge Filtering"
   ]
  },
  {
   "cell_type": "code",
   "execution_count": 16,
   "id": "66b71376",
   "metadata": {},
   "outputs": [
    {
     "data": {
      "text/plain": [
       "(4336, 43)"
      ]
     },
     "execution_count": 16,
     "metadata": {},
     "output_type": "execute_result"
    }
   ],
   "source": [
    "english = (ya_df.language_code == 'eng') | (ya_df.language_code == 'en-GB') | (ya_df.language_code == 'en-US') | (ya_df.language_code == 'en-CA')\n",
    "ya_df = ya_df[english]\n",
    "ya_df.shape"
   ]
  },
  {
   "cell_type": "code",
   "execution_count": 17,
   "id": "cf53d21d",
   "metadata": {},
   "outputs": [
    {
     "data": {
      "text/html": [
       "<div>\n",
       "<style scoped>\n",
       "    .dataframe tbody tr th:only-of-type {\n",
       "        vertical-align: middle;\n",
       "    }\n",
       "\n",
       "    .dataframe tbody tr th {\n",
       "        vertical-align: top;\n",
       "    }\n",
       "\n",
       "    .dataframe thead th {\n",
       "        text-align: right;\n",
       "    }\n",
       "</style>\n",
       "<table border=\"1\" class=\"dataframe\">\n",
       "  <thead>\n",
       "    <tr style=\"text-align: right;\">\n",
       "      <th></th>\n",
       "      <th>user_id</th>\n",
       "      <th>book_id</th>\n",
       "      <th>review_id</th>\n",
       "      <th>rating</th>\n",
       "      <th>review_text</th>\n",
       "      <th>date_added</th>\n",
       "      <th>date_updated</th>\n",
       "      <th>read_at</th>\n",
       "      <th>started_at</th>\n",
       "      <th>n_votes</th>\n",
       "      <th>...</th>\n",
       "      <th>url</th>\n",
       "      <th>image_url</th>\n",
       "      <th>ratings_count</th>\n",
       "      <th>work_id</th>\n",
       "      <th>title</th>\n",
       "      <th>title_without_series</th>\n",
       "      <th>genres</th>\n",
       "      <th>Genre_Tag</th>\n",
       "      <th>author_id</th>\n",
       "      <th>name</th>\n",
       "    </tr>\n",
       "  </thead>\n",
       "  <tbody>\n",
       "    <tr>\n",
       "      <th>0</th>\n",
       "      <td>8a707cebc4bb349da13cc93d3a7120ef</td>\n",
       "      <td>18285437</td>\n",
       "      <td>a2b510e8be50f772785286edf170a6d3</td>\n",
       "      <td>5</td>\n",
       "      <td>I don't even know how to begin to describe how...</td>\n",
       "      <td>Thu Jul 09 11:33:37 -0700 2015</td>\n",
       "      <td>Sun Dec 20 12:31:17 -0800 2015</td>\n",
       "      <td>Sun Dec 20 12:33:30 -0800 2015</td>\n",
       "      <td>Sat Dec 19 00:00:00 -0800 2015</td>\n",
       "      <td>1</td>\n",
       "      <td>...</td>\n",
       "      <td>https://www.goodreads.com/book/show/18285437-r...</td>\n",
       "      <td>https://images.gr-assets.com/books/1392856339m...</td>\n",
       "      <td>4423</td>\n",
       "      <td>25764412</td>\n",
       "      <td>Rites of Passage</td>\n",
       "      <td>Rites of Passage</td>\n",
       "      <td>{'young-adult': 332, 'romance': 108, 'fiction'...</td>\n",
       "      <td>ya</td>\n",
       "      <td>7536047</td>\n",
       "      <td>Joy N. Hensley</td>\n",
       "    </tr>\n",
       "    <tr>\n",
       "      <th>3</th>\n",
       "      <td>480564a6be18fc8d0046963a1b2f10dd</td>\n",
       "      <td>18304322</td>\n",
       "      <td>7cdca14c7507c7da3f67415b1324e310</td>\n",
       "      <td>5</td>\n",
       "      <td>I was having a hard time coming up with how to...</td>\n",
       "      <td>Sun Oct 11 18:09:53 -0700 2015</td>\n",
       "      <td>Sun Feb 19 21:17:58 -0800 2017</td>\n",
       "      <td>Sat Nov 21 14:12:08 -0800 2015</td>\n",
       "      <td>Wed Nov 18 00:00:00 -0800 2015</td>\n",
       "      <td>1</td>\n",
       "      <td>...</td>\n",
       "      <td>https://www.goodreads.com/book/show/18304322-d...</td>\n",
       "      <td>https://images.gr-assets.com/books/1424189465m...</td>\n",
       "      <td>23974</td>\n",
       "      <td>25795642</td>\n",
       "      <td>Dumplin' (Dumplin', #1)</td>\n",
       "      <td>Dumplin' (Dumplin', #1)</td>\n",
       "      <td>{'young-adult': 1763, 'romance': 438, 'fiction...</td>\n",
       "      <td>ya</td>\n",
       "      <td>6433278</td>\n",
       "      <td>Julie   Murphy</td>\n",
       "    </tr>\n",
       "    <tr>\n",
       "      <th>4</th>\n",
       "      <td>1d3c12ce945da5c32311673d55e79cad</td>\n",
       "      <td>18304322</td>\n",
       "      <td>6b3a195d88bf98ff02f3478a7ee33f76</td>\n",
       "      <td>2</td>\n",
       "      <td>I had a previous notion in my head that as a g...</td>\n",
       "      <td>Mon Oct 19 18:04:17 -0700 2015</td>\n",
       "      <td>Thu Dec 03 10:38:55 -0800 2015</td>\n",
       "      <td>Sat Oct 24 00:00:00 -0700 2015</td>\n",
       "      <td>Mon Oct 19 00:00:00 -0700 2015</td>\n",
       "      <td>0</td>\n",
       "      <td>...</td>\n",
       "      <td>https://www.goodreads.com/book/show/18304322-d...</td>\n",
       "      <td>https://images.gr-assets.com/books/1424189465m...</td>\n",
       "      <td>23974</td>\n",
       "      <td>25795642</td>\n",
       "      <td>Dumplin' (Dumplin', #1)</td>\n",
       "      <td>Dumplin' (Dumplin', #1)</td>\n",
       "      <td>{'young-adult': 1763, 'romance': 438, 'fiction...</td>\n",
       "      <td>ya</td>\n",
       "      <td>6433278</td>\n",
       "      <td>Julie   Murphy</td>\n",
       "    </tr>\n",
       "    <tr>\n",
       "      <th>5</th>\n",
       "      <td>38cd566a20de003104fa993af6f90f12</td>\n",
       "      <td>18304322</td>\n",
       "      <td>860c6ad4a8d09e902e1698641b1db6a8</td>\n",
       "      <td>5</td>\n",
       "      <td>Three cheers for Julie Murphy. I enjoyed this ...</td>\n",
       "      <td>Sat Sep 05 08:20:46 -0700 2015</td>\n",
       "      <td>Thu Dec 31 15:06:07 -0800 2015</td>\n",
       "      <td>Sun Sep 20 10:25:22 -0700 2015</td>\n",
       "      <td>Sat Sep 19 21:38:47 -0700 2015</td>\n",
       "      <td>0</td>\n",
       "      <td>...</td>\n",
       "      <td>https://www.goodreads.com/book/show/18304322-d...</td>\n",
       "      <td>https://images.gr-assets.com/books/1424189465m...</td>\n",
       "      <td>23974</td>\n",
       "      <td>25795642</td>\n",
       "      <td>Dumplin' (Dumplin', #1)</td>\n",
       "      <td>Dumplin' (Dumplin', #1)</td>\n",
       "      <td>{'young-adult': 1763, 'romance': 438, 'fiction...</td>\n",
       "      <td>ya</td>\n",
       "      <td>6433278</td>\n",
       "      <td>Julie   Murphy</td>\n",
       "    </tr>\n",
       "    <tr>\n",
       "      <th>6</th>\n",
       "      <td>207fc123d33d8e8c50e498352717254a</td>\n",
       "      <td>18304322</td>\n",
       "      <td>dedfdb558c4a735f68790afb0a6691cc</td>\n",
       "      <td>3</td>\n",
       "      <td>This was a great quick read.... \\n I felt a co...</td>\n",
       "      <td>Wed Nov 04 10:42:47 -0800 2015</td>\n",
       "      <td>Thu Jan 07 20:02:49 -0800 2016</td>\n",
       "      <td>Thu Jan 07 00:00:00 -0800 2016</td>\n",
       "      <td>Sat Dec 26 00:00:00 -0800 2015</td>\n",
       "      <td>0</td>\n",
       "      <td>...</td>\n",
       "      <td>https://www.goodreads.com/book/show/18304322-d...</td>\n",
       "      <td>https://images.gr-assets.com/books/1424189465m...</td>\n",
       "      <td>23974</td>\n",
       "      <td>25795642</td>\n",
       "      <td>Dumplin' (Dumplin', #1)</td>\n",
       "      <td>Dumplin' (Dumplin', #1)</td>\n",
       "      <td>{'young-adult': 1763, 'romance': 438, 'fiction...</td>\n",
       "      <td>ya</td>\n",
       "      <td>6433278</td>\n",
       "      <td>Julie   Murphy</td>\n",
       "    </tr>\n",
       "  </tbody>\n",
       "</table>\n",
       "<p>5 rows × 43 columns</p>\n",
       "</div>"
      ],
      "text/plain": [
       "                            user_id   book_id  \\\n",
       "0  8a707cebc4bb349da13cc93d3a7120ef  18285437   \n",
       "3  480564a6be18fc8d0046963a1b2f10dd  18304322   \n",
       "4  1d3c12ce945da5c32311673d55e79cad  18304322   \n",
       "5  38cd566a20de003104fa993af6f90f12  18304322   \n",
       "6  207fc123d33d8e8c50e498352717254a  18304322   \n",
       "\n",
       "                          review_id  rating  \\\n",
       "0  a2b510e8be50f772785286edf170a6d3       5   \n",
       "3  7cdca14c7507c7da3f67415b1324e310       5   \n",
       "4  6b3a195d88bf98ff02f3478a7ee33f76       2   \n",
       "5  860c6ad4a8d09e902e1698641b1db6a8       5   \n",
       "6  dedfdb558c4a735f68790afb0a6691cc       3   \n",
       "\n",
       "                                         review_text  \\\n",
       "0  I don't even know how to begin to describe how...   \n",
       "3  I was having a hard time coming up with how to...   \n",
       "4  I had a previous notion in my head that as a g...   \n",
       "5  Three cheers for Julie Murphy. I enjoyed this ...   \n",
       "6  This was a great quick read.... \\n I felt a co...   \n",
       "\n",
       "                       date_added                    date_updated  \\\n",
       "0  Thu Jul 09 11:33:37 -0700 2015  Sun Dec 20 12:31:17 -0800 2015   \n",
       "3  Sun Oct 11 18:09:53 -0700 2015  Sun Feb 19 21:17:58 -0800 2017   \n",
       "4  Mon Oct 19 18:04:17 -0700 2015  Thu Dec 03 10:38:55 -0800 2015   \n",
       "5  Sat Sep 05 08:20:46 -0700 2015  Thu Dec 31 15:06:07 -0800 2015   \n",
       "6  Wed Nov 04 10:42:47 -0800 2015  Thu Jan 07 20:02:49 -0800 2016   \n",
       "\n",
       "                          read_at                      started_at  n_votes  \\\n",
       "0  Sun Dec 20 12:33:30 -0800 2015  Sat Dec 19 00:00:00 -0800 2015        1   \n",
       "3  Sat Nov 21 14:12:08 -0800 2015  Wed Nov 18 00:00:00 -0800 2015        1   \n",
       "4  Sat Oct 24 00:00:00 -0700 2015  Mon Oct 19 00:00:00 -0700 2015        0   \n",
       "5  Sun Sep 20 10:25:22 -0700 2015  Sat Sep 19 21:38:47 -0700 2015        0   \n",
       "6  Thu Jan 07 00:00:00 -0800 2016  Sat Dec 26 00:00:00 -0800 2015        0   \n",
       "\n",
       "   ...                                                url  \\\n",
       "0  ...  https://www.goodreads.com/book/show/18285437-r...   \n",
       "3  ...  https://www.goodreads.com/book/show/18304322-d...   \n",
       "4  ...  https://www.goodreads.com/book/show/18304322-d...   \n",
       "5  ...  https://www.goodreads.com/book/show/18304322-d...   \n",
       "6  ...  https://www.goodreads.com/book/show/18304322-d...   \n",
       "\n",
       "                                           image_url  ratings_count   work_id  \\\n",
       "0  https://images.gr-assets.com/books/1392856339m...           4423  25764412   \n",
       "3  https://images.gr-assets.com/books/1424189465m...          23974  25795642   \n",
       "4  https://images.gr-assets.com/books/1424189465m...          23974  25795642   \n",
       "5  https://images.gr-assets.com/books/1424189465m...          23974  25795642   \n",
       "6  https://images.gr-assets.com/books/1424189465m...          23974  25795642   \n",
       "\n",
       "                     title     title_without_series  \\\n",
       "0         Rites of Passage         Rites of Passage   \n",
       "3  Dumplin' (Dumplin', #1)  Dumplin' (Dumplin', #1)   \n",
       "4  Dumplin' (Dumplin', #1)  Dumplin' (Dumplin', #1)   \n",
       "5  Dumplin' (Dumplin', #1)  Dumplin' (Dumplin', #1)   \n",
       "6  Dumplin' (Dumplin', #1)  Dumplin' (Dumplin', #1)   \n",
       "\n",
       "                                              genres Genre_Tag author_id  \\\n",
       "0  {'young-adult': 332, 'romance': 108, 'fiction'...        ya   7536047   \n",
       "3  {'young-adult': 1763, 'romance': 438, 'fiction...        ya   6433278   \n",
       "4  {'young-adult': 1763, 'romance': 438, 'fiction...        ya   6433278   \n",
       "5  {'young-adult': 1763, 'romance': 438, 'fiction...        ya   6433278   \n",
       "6  {'young-adult': 1763, 'romance': 438, 'fiction...        ya   6433278   \n",
       "\n",
       "             name  \n",
       "0  Joy N. Hensley  \n",
       "3  Julie   Murphy  \n",
       "4  Julie   Murphy  \n",
       "5  Julie   Murphy  \n",
       "6  Julie   Murphy  \n",
       "\n",
       "[5 rows x 43 columns]"
      ]
     },
     "execution_count": 17,
     "metadata": {},
     "output_type": "execute_result"
    }
   ],
   "source": [
    "ya_df.head()"
   ]
  },
  {
   "cell_type": "markdown",
   "id": "930e4224",
   "metadata": {},
   "source": [
    "## Formatting"
   ]
  },
  {
   "cell_type": "code",
   "execution_count": 18,
   "id": "e8cc136e",
   "metadata": {},
   "outputs": [
    {
     "data": {
      "text/plain": [
       "(4336, 12)"
      ]
     },
     "execution_count": 18,
     "metadata": {},
     "output_type": "execute_result"
    }
   ],
   "source": [
    "ya_short = ya_df[['user_id', 'rating', 'review_text', 'language_code', 'average_rating', 'num_pages', 'publication_year', 'ratings_count', 'title', 'genres', 'Genre_Tag', 'name']]\n",
    "ya_short.columns = ['User_ID', 'Rating', 'Text', 'Language', 'Avg_Rating', 'Pages', 'Pub_Year', 'Ratings_Count', 'Title', 'Genres', 'Category', 'Author']\n",
    "ya_short = ya_short[[ 'Text', 'Rating', 'Title', 'Author', 'Category', 'Genres', 'Language', 'Pages', 'Pub_Year', 'Avg_Rating', 'Ratings_Count', 'User_ID']]\n",
    "ya_short.shape"
   ]
  },
  {
   "cell_type": "code",
   "execution_count": 19,
   "id": "a2e50a81",
   "metadata": {},
   "outputs": [
    {
     "name": "stdout",
     "output_type": "stream",
     "text": [
      "(4336, 12)\n",
      "(4334, 12)\n",
      "<class 'pandas.core.frame.DataFrame'>\n",
      "Int64Index: 4334 entries, 0 to 4999\n",
      "Data columns (total 12 columns):\n",
      " #   Column         Non-Null Count  Dtype  \n",
      "---  ------         --------------  -----  \n",
      " 0   Text           4334 non-null   object \n",
      " 1   Rating         4334 non-null   int64  \n",
      " 2   Title          4334 non-null   object \n",
      " 3   Author         4334 non-null   object \n",
      " 4   Category       4334 non-null   object \n",
      " 5   Genres         4334 non-null   object \n",
      " 6   Language       4334 non-null   object \n",
      " 7   Pages          4334 non-null   object \n",
      " 8   Pub_Year       4334 non-null   object \n",
      " 9   Avg_Rating     4334 non-null   float64\n",
      " 10  Ratings_Count  4334 non-null   int64  \n",
      " 11  User_ID        4334 non-null   object \n",
      "dtypes: float64(1), int64(2), object(9)\n",
      "memory usage: 440.2+ KB\n",
      "None\n"
     ]
    }
   ],
   "source": [
    "empty = (ya_short.Text != '') & (ya_short.Text != ' ') & (ya_short.Rating != '') & (ya_short.Rating != ' ')\n",
    "print(ya_short.shape)\n",
    "print(ya_short[empty].shape)\n",
    "ya_short = ya_short[empty]\n",
    "print(ya_short.info())"
   ]
  },
  {
   "cell_type": "markdown",
   "id": "06d1cd09",
   "metadata": {},
   "source": [
    "## Saving Info"
   ]
  },
  {
   "cell_type": "code",
   "execution_count": 20,
   "id": "7208e231",
   "metadata": {},
   "outputs": [],
   "source": [
    "f2 = open('data/genre_pkls/ya_short.pkl', 'wb')\n",
    "pickle.dump(ya_short, f2)\n",
    "f2.close() "
   ]
  },
  {
   "cell_type": "markdown",
   "id": "f830f60f",
   "metadata": {},
   "source": [
    "# Mystery\n",
    "## Reviews"
   ]
  },
  {
   "cell_type": "code",
   "execution_count": 21,
   "id": "2d517b64",
   "metadata": {},
   "outputs": [
    {
     "data": {
      "text/html": [
       "<div>\n",
       "<style scoped>\n",
       "    .dataframe tbody tr th:only-of-type {\n",
       "        vertical-align: middle;\n",
       "    }\n",
       "\n",
       "    .dataframe tbody tr th {\n",
       "        vertical-align: top;\n",
       "    }\n",
       "\n",
       "    .dataframe thead th {\n",
       "        text-align: right;\n",
       "    }\n",
       "</style>\n",
       "<table border=\"1\" class=\"dataframe\">\n",
       "  <thead>\n",
       "    <tr style=\"text-align: right;\">\n",
       "      <th></th>\n",
       "      <th>user_id</th>\n",
       "      <th>book_id</th>\n",
       "      <th>review_id</th>\n",
       "      <th>rating</th>\n",
       "      <th>review_text</th>\n",
       "      <th>date_added</th>\n",
       "      <th>date_updated</th>\n",
       "      <th>read_at</th>\n",
       "      <th>started_at</th>\n",
       "      <th>n_votes</th>\n",
       "      <th>n_comments</th>\n",
       "    </tr>\n",
       "  </thead>\n",
       "  <tbody>\n",
       "    <tr>\n",
       "      <th>0</th>\n",
       "      <td>de733e4b8fce178a2442a5953acc6e9e</td>\n",
       "      <td>16070876</td>\n",
       "      <td>14158358d4eef4bf5ae0ab83c4f57767</td>\n",
       "      <td>5</td>\n",
       "      <td>5 stars are not even enough for me - that is w...</td>\n",
       "      <td>Wed Jun 17 05:33:07 -0700 2015</td>\n",
       "      <td>Wed Jun 24 05:14:37 -0700 2015</td>\n",
       "      <td>Wed Jun 24 05:14:37 -0700 2015</td>\n",
       "      <td>Fri Jun 19 00:00:00 -0700 2015</td>\n",
       "      <td>1</td>\n",
       "      <td>1</td>\n",
       "    </tr>\n",
       "    <tr>\n",
       "      <th>1</th>\n",
       "      <td>1c5bf71fdef3d22404808c819cff96d6</td>\n",
       "      <td>32508</td>\n",
       "      <td>155fbafad2b04ce8e13b499c2c5f34bf</td>\n",
       "      <td>4</td>\n",
       "      <td>Connelly can really write and this is a great ...</td>\n",
       "      <td>Sat Jun 15 10:54:18 -0700 2013</td>\n",
       "      <td>Sat Jun 15 10:55:39 -0700 2013</td>\n",
       "      <td>Sat Jun 15 10:55:39 -0700 2013</td>\n",
       "      <td></td>\n",
       "      <td>2</td>\n",
       "      <td>0</td>\n",
       "    </tr>\n",
       "    <tr>\n",
       "      <th>2</th>\n",
       "      <td>812d3d72d606503f08be328de50e1fac</td>\n",
       "      <td>15796713</td>\n",
       "      <td>6efafdd6b8f7e460465196a6d7021634</td>\n",
       "      <td>2</td>\n",
       "      <td>It just got so confusing. The mystery was a si...</td>\n",
       "      <td>Wed Aug 15 17:52:10 -0700 2012</td>\n",
       "      <td>Fri Oct 14 22:00:15 -0700 2016</td>\n",
       "      <td>Sat Oct 15 22:00:15 -0700 2016</td>\n",
       "      <td></td>\n",
       "      <td>0</td>\n",
       "      <td>0</td>\n",
       "    </tr>\n",
       "    <tr>\n",
       "      <th>3</th>\n",
       "      <td>08aa11ad088f6c71787b0bf07d28edf3</td>\n",
       "      <td>15904</td>\n",
       "      <td>c3d8a61ce526d352cf6c351ec3edf0de</td>\n",
       "      <td>2</td>\n",
       "      <td>I hate giving a nice book two stars, especiall...</td>\n",
       "      <td>Tue Jan 17 20:39:35 -0800 2017</td>\n",
       "      <td>Sat Feb 18 18:15:46 -0800 2017</td>\n",
       "      <td>Sat Feb 18 00:00:00 -0800 2017</td>\n",
       "      <td></td>\n",
       "      <td>0</td>\n",
       "      <td>0</td>\n",
       "    </tr>\n",
       "    <tr>\n",
       "      <th>4</th>\n",
       "      <td>546b3f555107500845c2de58bd174e7d</td>\n",
       "      <td>33987337</td>\n",
       "      <td>3d758ae15105001f04a0db3243b2daa7</td>\n",
       "      <td>5</td>\n",
       "      <td>*I received an e-ARC from NetGalley in exchang...</td>\n",
       "      <td>Wed May 24 07:18:46 -0700 2017</td>\n",
       "      <td>Fri Jun 02 12:09:13 -0700 2017</td>\n",
       "      <td>Sun May 28 16:39:29 -0700 2017</td>\n",
       "      <td>Fri May 26 07:59:19 -0700 2017</td>\n",
       "      <td>3</td>\n",
       "      <td>0</td>\n",
       "    </tr>\n",
       "  </tbody>\n",
       "</table>\n",
       "</div>"
      ],
      "text/plain": [
       "                            user_id   book_id  \\\n",
       "0  de733e4b8fce178a2442a5953acc6e9e  16070876   \n",
       "1  1c5bf71fdef3d22404808c819cff96d6     32508   \n",
       "2  812d3d72d606503f08be328de50e1fac  15796713   \n",
       "3  08aa11ad088f6c71787b0bf07d28edf3     15904   \n",
       "4  546b3f555107500845c2de58bd174e7d  33987337   \n",
       "\n",
       "                          review_id  rating  \\\n",
       "0  14158358d4eef4bf5ae0ab83c4f57767       5   \n",
       "1  155fbafad2b04ce8e13b499c2c5f34bf       4   \n",
       "2  6efafdd6b8f7e460465196a6d7021634       2   \n",
       "3  c3d8a61ce526d352cf6c351ec3edf0de       2   \n",
       "4  3d758ae15105001f04a0db3243b2daa7       5   \n",
       "\n",
       "                                         review_text  \\\n",
       "0  5 stars are not even enough for me - that is w...   \n",
       "1  Connelly can really write and this is a great ...   \n",
       "2  It just got so confusing. The mystery was a si...   \n",
       "3  I hate giving a nice book two stars, especiall...   \n",
       "4  *I received an e-ARC from NetGalley in exchang...   \n",
       "\n",
       "                       date_added                    date_updated  \\\n",
       "0  Wed Jun 17 05:33:07 -0700 2015  Wed Jun 24 05:14:37 -0700 2015   \n",
       "1  Sat Jun 15 10:54:18 -0700 2013  Sat Jun 15 10:55:39 -0700 2013   \n",
       "2  Wed Aug 15 17:52:10 -0700 2012  Fri Oct 14 22:00:15 -0700 2016   \n",
       "3  Tue Jan 17 20:39:35 -0800 2017  Sat Feb 18 18:15:46 -0800 2017   \n",
       "4  Wed May 24 07:18:46 -0700 2017  Fri Jun 02 12:09:13 -0700 2017   \n",
       "\n",
       "                          read_at                      started_at  n_votes  \\\n",
       "0  Wed Jun 24 05:14:37 -0700 2015  Fri Jun 19 00:00:00 -0700 2015        1   \n",
       "1  Sat Jun 15 10:55:39 -0700 2013                                        2   \n",
       "2  Sat Oct 15 22:00:15 -0700 2016                                        0   \n",
       "3  Sat Feb 18 00:00:00 -0800 2017                                        0   \n",
       "4  Sun May 28 16:39:29 -0700 2017  Fri May 26 07:59:19 -0700 2017        3   \n",
       "\n",
       "   n_comments  \n",
       "0           1  \n",
       "1           0  \n",
       "2           0  \n",
       "3           0  \n",
       "4           0  "
      ]
     },
     "execution_count": 21,
     "metadata": {},
     "output_type": "execute_result"
    }
   ],
   "source": [
    "mystery_reviews = pd.read_json('data/Reviews/excerpts_shuf/goodreads_reviews_mystery_thriller_crime_shuf.json', lines=True)\n",
    "mystery_reviews.head()"
   ]
  },
  {
   "cell_type": "code",
   "execution_count": 22,
   "id": "f580ea85",
   "metadata": {},
   "outputs": [],
   "source": [
    "mystery_share = mystery_reviews.head()"
   ]
  },
  {
   "cell_type": "code",
   "execution_count": 23,
   "id": "d0c13d67",
   "metadata": {},
   "outputs": [],
   "source": [
    "f3 = open('data/genre_share/mystery_share.pkl', 'wb')\n",
    "pickle.dump(mystery_share, f3)\n",
    "f3.close() "
   ]
  },
  {
   "cell_type": "code",
   "execution_count": 24,
   "id": "81993b35",
   "metadata": {},
   "outputs": [
    {
     "name": "stdout",
     "output_type": "stream",
     "text": [
      "(5000, 11)\n",
      "<class 'pandas.core.frame.DataFrame'>\n",
      "RangeIndex: 5000 entries, 0 to 4999\n",
      "Data columns (total 11 columns):\n",
      " #   Column        Non-Null Count  Dtype \n",
      "---  ------        --------------  ----- \n",
      " 0   user_id       5000 non-null   object\n",
      " 1   book_id       5000 non-null   int64 \n",
      " 2   review_id     5000 non-null   object\n",
      " 3   rating        5000 non-null   int64 \n",
      " 4   review_text   5000 non-null   object\n",
      " 5   date_added    5000 non-null   object\n",
      " 6   date_updated  5000 non-null   object\n",
      " 7   read_at       5000 non-null   object\n",
      " 8   started_at    5000 non-null   object\n",
      " 9   n_votes       5000 non-null   int64 \n",
      " 10  n_comments    5000 non-null   int64 \n",
      "dtypes: int64(4), object(7)\n",
      "memory usage: 429.8+ KB\n",
      "None\n"
     ]
    }
   ],
   "source": [
    "print(mystery_reviews.shape)\n",
    "print(mystery_reviews.info())"
   ]
  },
  {
   "cell_type": "markdown",
   "id": "93288e47",
   "metadata": {},
   "source": [
    "## Book Info"
   ]
  },
  {
   "cell_type": "code",
   "execution_count": 25,
   "id": "c0dae994",
   "metadata": {},
   "outputs": [
    {
     "data": {
      "text/html": [
       "<div>\n",
       "<style scoped>\n",
       "    .dataframe tbody tr th:only-of-type {\n",
       "        vertical-align: middle;\n",
       "    }\n",
       "\n",
       "    .dataframe tbody tr th {\n",
       "        vertical-align: top;\n",
       "    }\n",
       "\n",
       "    .dataframe thead th {\n",
       "        text-align: right;\n",
       "    }\n",
       "</style>\n",
       "<table border=\"1\" class=\"dataframe\">\n",
       "  <thead>\n",
       "    <tr style=\"text-align: right;\">\n",
       "      <th></th>\n",
       "      <th>isbn</th>\n",
       "      <th>text_reviews_count</th>\n",
       "      <th>series</th>\n",
       "      <th>country_code</th>\n",
       "      <th>language_code</th>\n",
       "      <th>popular_shelves</th>\n",
       "      <th>asin</th>\n",
       "      <th>is_ebook</th>\n",
       "      <th>average_rating</th>\n",
       "      <th>kindle_asin</th>\n",
       "      <th>...</th>\n",
       "      <th>publication_month</th>\n",
       "      <th>edition_information</th>\n",
       "      <th>publication_year</th>\n",
       "      <th>url</th>\n",
       "      <th>image_url</th>\n",
       "      <th>book_id</th>\n",
       "      <th>ratings_count</th>\n",
       "      <th>work_id</th>\n",
       "      <th>title</th>\n",
       "      <th>title_without_series</th>\n",
       "    </tr>\n",
       "  </thead>\n",
       "  <tbody>\n",
       "    <tr>\n",
       "      <th>0</th>\n",
       "      <td>184737297X</td>\n",
       "      <td>15</td>\n",
       "      <td>[169353]</td>\n",
       "      <td>US</td>\n",
       "      <td></td>\n",
       "      <td>[{'count': '159', 'name': 'to-read'}, {'count'...</td>\n",
       "      <td></td>\n",
       "      <td>false</td>\n",
       "      <td>3.93</td>\n",
       "      <td>B007YLTG5I</td>\n",
       "      <td>...</td>\n",
       "      <td>4</td>\n",
       "      <td></td>\n",
       "      <td>2009</td>\n",
       "      <td>https://www.goodreads.com/book/show/6066814-cr...</td>\n",
       "      <td>https://images.gr-assets.com/books/1328724803m...</td>\n",
       "      <td>6066814</td>\n",
       "      <td>186</td>\n",
       "      <td>6243149</td>\n",
       "      <td>Crowner Royal (Crowner John Mystery, #13)</td>\n",
       "      <td>Crowner Royal (Crowner John Mystery, #13)</td>\n",
       "    </tr>\n",
       "    <tr>\n",
       "      <th>1</th>\n",
       "      <td></td>\n",
       "      <td>60</td>\n",
       "      <td>[1052227]</td>\n",
       "      <td>US</td>\n",
       "      <td>eng</td>\n",
       "      <td>[{'count': '54', 'name': 'currently-reading'},...</td>\n",
       "      <td>B01NCIKAQX</td>\n",
       "      <td>true</td>\n",
       "      <td>4.33</td>\n",
       "      <td>B01NCIKAQX</td>\n",
       "      <td>...</td>\n",
       "      <td></td>\n",
       "      <td></td>\n",
       "      <td></td>\n",
       "      <td>https://www.goodreads.com/book/show/33394837-t...</td>\n",
       "      <td>https://images.gr-assets.com/books/1493114742m...</td>\n",
       "      <td>33394837</td>\n",
       "      <td>269</td>\n",
       "      <td>54143148</td>\n",
       "      <td>The House of Memory (Pluto's Snitch #2)</td>\n",
       "      <td>The House of Memory (Pluto's Snitch #2)</td>\n",
       "    </tr>\n",
       "    <tr>\n",
       "      <th>2</th>\n",
       "      <td></td>\n",
       "      <td>23</td>\n",
       "      <td>[953679]</td>\n",
       "      <td>US</td>\n",
       "      <td>eng</td>\n",
       "      <td>[{'count': '90', 'name': 'to-read'}, {'count':...</td>\n",
       "      <td>B01ALOWJN0</td>\n",
       "      <td>true</td>\n",
       "      <td>3.49</td>\n",
       "      <td>B01ALOWJN0</td>\n",
       "      <td>...</td>\n",
       "      <td></td>\n",
       "      <td></td>\n",
       "      <td></td>\n",
       "      <td>https://www.goodreads.com/book/show/29074697-t...</td>\n",
       "      <td>https://s.gr-assets.com/assets/nophoto/book/11...</td>\n",
       "      <td>29074697</td>\n",
       "      <td>192</td>\n",
       "      <td>49305010</td>\n",
       "      <td>The Slaughtered Virgin of Zenopolis (Inspector...</td>\n",
       "      <td>The Slaughtered Virgin of Zenopolis (Inspector...</td>\n",
       "    </tr>\n",
       "    <tr>\n",
       "      <th>3</th>\n",
       "      <td>0854563903</td>\n",
       "      <td>8</td>\n",
       "      <td>[408775]</td>\n",
       "      <td>US</td>\n",
       "      <td></td>\n",
       "      <td>[{'count': '51', 'name': 'to-read'}, {'count':...</td>\n",
       "      <td></td>\n",
       "      <td>false</td>\n",
       "      <td>3.30</td>\n",
       "      <td></td>\n",
       "      <td>...</td>\n",
       "      <td>12</td>\n",
       "      <td>Large Print</td>\n",
       "      <td>1975</td>\n",
       "      <td>https://www.goodreads.com/book/show/1902202.De...</td>\n",
       "      <td>https://s.gr-assets.com/assets/nophoto/book/11...</td>\n",
       "      <td>1902202</td>\n",
       "      <td>52</td>\n",
       "      <td>1903897</td>\n",
       "      <td>Dead in the Morning (Patrick Grant, #1)</td>\n",
       "      <td>Dead in the Morning (Patrick Grant, #1)</td>\n",
       "    </tr>\n",
       "    <tr>\n",
       "      <th>4</th>\n",
       "      <td>8838920931</td>\n",
       "      <td>3</td>\n",
       "      <td>[274410]</td>\n",
       "      <td>US</td>\n",
       "      <td>ita</td>\n",
       "      <td>[{'count': '48', 'name': 'to-read'}, {'count':...</td>\n",
       "      <td></td>\n",
       "      <td>false</td>\n",
       "      <td>3.54</td>\n",
       "      <td></td>\n",
       "      <td>...</td>\n",
       "      <td></td>\n",
       "      <td></td>\n",
       "      <td>2006</td>\n",
       "      <td>https://www.goodreads.com/book/show/9671977-ar...</td>\n",
       "      <td>https://images.gr-assets.com/books/1474788304m...</td>\n",
       "      <td>9671977</td>\n",
       "      <td>22</td>\n",
       "      <td>2152906</td>\n",
       "      <td>Aristotele e i misteri di Eleusi</td>\n",
       "      <td>Aristotele e i misteri di Eleusi</td>\n",
       "    </tr>\n",
       "  </tbody>\n",
       "</table>\n",
       "<p>5 rows × 29 columns</p>\n",
       "</div>"
      ],
      "text/plain": [
       "         isbn  text_reviews_count     series country_code language_code  \\\n",
       "0  184737297X                  15   [169353]           US                 \n",
       "1                              60  [1052227]           US           eng   \n",
       "2                              23   [953679]           US           eng   \n",
       "3  0854563903                   8   [408775]           US                 \n",
       "4  8838920931                   3   [274410]           US           ita   \n",
       "\n",
       "                                     popular_shelves        asin is_ebook  \\\n",
       "0  [{'count': '159', 'name': 'to-read'}, {'count'...                false   \n",
       "1  [{'count': '54', 'name': 'currently-reading'},...  B01NCIKAQX     true   \n",
       "2  [{'count': '90', 'name': 'to-read'}, {'count':...  B01ALOWJN0     true   \n",
       "3  [{'count': '51', 'name': 'to-read'}, {'count':...                false   \n",
       "4  [{'count': '48', 'name': 'to-read'}, {'count':...                false   \n",
       "\n",
       "   average_rating kindle_asin  ... publication_month edition_information  \\\n",
       "0            3.93  B007YLTG5I  ...                 4                       \n",
       "1            4.33  B01NCIKAQX  ...                                         \n",
       "2            3.49  B01ALOWJN0  ...                                         \n",
       "3            3.30              ...                12         Large Print   \n",
       "4            3.54              ...                                         \n",
       "\n",
       "  publication_year                                                url  \\\n",
       "0             2009  https://www.goodreads.com/book/show/6066814-cr...   \n",
       "1                   https://www.goodreads.com/book/show/33394837-t...   \n",
       "2                   https://www.goodreads.com/book/show/29074697-t...   \n",
       "3             1975  https://www.goodreads.com/book/show/1902202.De...   \n",
       "4             2006  https://www.goodreads.com/book/show/9671977-ar...   \n",
       "\n",
       "                                           image_url   book_id ratings_count  \\\n",
       "0  https://images.gr-assets.com/books/1328724803m...   6066814           186   \n",
       "1  https://images.gr-assets.com/books/1493114742m...  33394837           269   \n",
       "2  https://s.gr-assets.com/assets/nophoto/book/11...  29074697           192   \n",
       "3  https://s.gr-assets.com/assets/nophoto/book/11...   1902202            52   \n",
       "4  https://images.gr-assets.com/books/1474788304m...   9671977            22   \n",
       "\n",
       "    work_id                                              title  \\\n",
       "0   6243149          Crowner Royal (Crowner John Mystery, #13)   \n",
       "1  54143148            The House of Memory (Pluto's Snitch #2)   \n",
       "2  49305010  The Slaughtered Virgin of Zenopolis (Inspector...   \n",
       "3   1903897            Dead in the Morning (Patrick Grant, #1)   \n",
       "4   2152906                   Aristotele e i misteri di Eleusi   \n",
       "\n",
       "                                title_without_series  \n",
       "0          Crowner Royal (Crowner John Mystery, #13)  \n",
       "1            The House of Memory (Pluto's Snitch #2)  \n",
       "2  The Slaughtered Virgin of Zenopolis (Inspector...  \n",
       "3            Dead in the Morning (Patrick Grant, #1)  \n",
       "4                   Aristotele e i misteri di Eleusi  \n",
       "\n",
       "[5 rows x 29 columns]"
      ]
     },
     "execution_count": 25,
     "metadata": {},
     "output_type": "execute_result"
    }
   ],
   "source": [
    "mystery_books = pd.read_json('data/Books/goodreads_books_mystery_thriller_crime.json', lines=True)\n",
    "mystery_books.head()"
   ]
  },
  {
   "cell_type": "code",
   "execution_count": 26,
   "id": "e1c28824",
   "metadata": {},
   "outputs": [
    {
     "data": {
      "text/plain": [
       "US    219235\n",
       "Name: country_code, dtype: int64"
      ]
     },
     "execution_count": 26,
     "metadata": {},
     "output_type": "execute_result"
    }
   ],
   "source": [
    "mystery_books.country_code.value_counts()"
   ]
  },
  {
   "cell_type": "code",
   "execution_count": 27,
   "id": "2da878a0",
   "metadata": {},
   "outputs": [
    {
     "name": "stdout",
     "output_type": "stream",
     "text": [
      "(5000, 39)\n",
      "Index(['user_id', 'book_id', 'review_id', 'rating', 'review_text',\n",
      "       'date_added', 'date_updated', 'read_at', 'started_at', 'n_votes',\n",
      "       'n_comments', 'isbn', 'text_reviews_count', 'series', 'country_code',\n",
      "       'language_code', 'popular_shelves', 'asin', 'is_ebook',\n",
      "       'average_rating', 'kindle_asin', 'similar_books', 'description',\n",
      "       'format', 'link', 'authors', 'publisher', 'num_pages',\n",
      "       'publication_day', 'isbn13', 'publication_month', 'edition_information',\n",
      "       'publication_year', 'url', 'image_url', 'ratings_count', 'work_id',\n",
      "       'title', 'title_without_series'],\n",
      "      dtype='object')\n"
     ]
    }
   ],
   "source": [
    "mystery_df = pd.merge(mystery_reviews, mystery_books, on='book_id')\n",
    "print(mystery_df.shape)\n",
    "print(mystery_df.columns)"
   ]
  },
  {
   "cell_type": "markdown",
   "id": "ef1df311",
   "metadata": {},
   "source": [
    "## Genre Info"
   ]
  },
  {
   "cell_type": "code",
   "execution_count": 28,
   "id": "a1a3cdd7",
   "metadata": {
    "scrolled": true
   },
   "outputs": [
    {
     "data": {
      "text/plain": [
       "(5000, 41)"
      ]
     },
     "execution_count": 28,
     "metadata": {},
     "output_type": "execute_result"
    }
   ],
   "source": [
    "mystery_df = pd.merge(mystery_df, genres_df)\n",
    "mystery_df['Genre_Tag'] = 'mystery_thriller_crime'\n",
    "mystery_df.shape"
   ]
  },
  {
   "cell_type": "markdown",
   "id": "a5c886db",
   "metadata": {},
   "source": [
    "## Author Info"
   ]
  },
  {
   "cell_type": "code",
   "execution_count": 29,
   "id": "1de0520a",
   "metadata": {},
   "outputs": [
    {
     "data": {
      "text/plain": [
       "'3443298'"
      ]
     },
     "execution_count": 29,
     "metadata": {},
     "output_type": "execute_result"
    }
   ],
   "source": [
    "mystery_authors = list(mystery_df.index.map(lambda x: mystery_df.authors.iloc[x][0]))\n",
    "list(mystery_authors[0].values())[0]"
   ]
  },
  {
   "cell_type": "code",
   "execution_count": 30,
   "id": "a52fbf74",
   "metadata": {},
   "outputs": [],
   "source": [
    "mystery_df['author_id'] = mystery_df.index.map(lambda x: int(list(mystery_authors[x].values())[0]))"
   ]
  },
  {
   "cell_type": "code",
   "execution_count": 31,
   "id": "eaeeeddd",
   "metadata": {},
   "outputs": [
    {
     "name": "stdout",
     "output_type": "stream",
     "text": [
      "(5000, 43)\n"
     ]
    }
   ],
   "source": [
    "mystery_df = pd.merge(mystery_df, authors_df, on='author_id')\n",
    "print(mystery_df.shape)"
   ]
  },
  {
   "cell_type": "markdown",
   "id": "35ed07f4",
   "metadata": {},
   "source": [
    "## Langauge Filtering"
   ]
  },
  {
   "cell_type": "code",
   "execution_count": 32,
   "id": "8385fead",
   "metadata": {},
   "outputs": [
    {
     "data": {
      "text/plain": [
       "(3790, 43)"
      ]
     },
     "execution_count": 32,
     "metadata": {},
     "output_type": "execute_result"
    }
   ],
   "source": [
    "english = (mystery_df.language_code == 'eng') | (mystery_df.language_code == 'en-GB') | (mystery_df.language_code == 'en-US') | (mystery_df.language_code == 'en-CA')\n",
    "mystery_df = mystery_df[english]\n",
    "mystery_df.shape"
   ]
  },
  {
   "cell_type": "markdown",
   "id": "0942034d",
   "metadata": {},
   "source": [
    "## Formatting"
   ]
  },
  {
   "cell_type": "code",
   "execution_count": 33,
   "id": "8d987120",
   "metadata": {},
   "outputs": [
    {
     "data": {
      "text/plain": [
       "(3790, 12)"
      ]
     },
     "execution_count": 33,
     "metadata": {},
     "output_type": "execute_result"
    }
   ],
   "source": [
    "mystery_short = mystery_df[['user_id', 'rating', 'review_text', 'language_code', 'average_rating', 'num_pages', 'publication_year', 'ratings_count', 'title', 'genres', 'Genre_Tag', 'name']]\n",
    "mystery_short.columns = ['User_ID', 'Rating', 'Text', 'Language', 'Avg_Rating', 'Pages', 'Pub_Year', 'Ratings_Count', 'Title', 'Genres', 'Category', 'Author']\n",
    "mystery_short = mystery_short[[ 'Text', 'Rating', 'Title', 'Author', 'Category', 'Genres', 'Language', 'Pages', 'Pub_Year', 'Avg_Rating', 'Ratings_Count', 'User_ID']]\n",
    "mystery_short.shape"
   ]
  },
  {
   "cell_type": "code",
   "execution_count": 34,
   "id": "f5deee84",
   "metadata": {},
   "outputs": [
    {
     "name": "stdout",
     "output_type": "stream",
     "text": [
      "(3790, 12)\n",
      "(3789, 12)\n",
      "<class 'pandas.core.frame.DataFrame'>\n",
      "Int64Index: 3789 entries, 1 to 4999\n",
      "Data columns (total 12 columns):\n",
      " #   Column         Non-Null Count  Dtype  \n",
      "---  ------         --------------  -----  \n",
      " 0   Text           3789 non-null   object \n",
      " 1   Rating         3789 non-null   int64  \n",
      " 2   Title          3789 non-null   object \n",
      " 3   Author         3789 non-null   object \n",
      " 4   Category       3789 non-null   object \n",
      " 5   Genres         3789 non-null   object \n",
      " 6   Language       3789 non-null   object \n",
      " 7   Pages          3789 non-null   object \n",
      " 8   Pub_Year       3789 non-null   object \n",
      " 9   Avg_Rating     3789 non-null   float64\n",
      " 10  Ratings_Count  3789 non-null   int64  \n",
      " 11  User_ID        3789 non-null   object \n",
      "dtypes: float64(1), int64(2), object(9)\n",
      "memory usage: 384.8+ KB\n",
      "None\n"
     ]
    }
   ],
   "source": [
    "empty = (mystery_short.Text != '') & (mystery_short.Text != ' ') & (mystery_short.Rating != '') & (mystery_short.Rating != ' ')\n",
    "print(mystery_short.shape)\n",
    "print(mystery_short[empty].shape)\n",
    "mystery_short = mystery_short[empty]\n",
    "print(mystery_short.info())"
   ]
  },
  {
   "cell_type": "markdown",
   "id": "408043b9",
   "metadata": {},
   "source": [
    "## Saving Info"
   ]
  },
  {
   "cell_type": "code",
   "execution_count": 35,
   "id": "1c2a30e5",
   "metadata": {},
   "outputs": [],
   "source": [
    "f4 = open('data/genre_pkls/mystery_short.pkl', 'wb')\n",
    "pickle.dump(mystery_short, f4)\n",
    "f4.close() "
   ]
  }
 ],
 "metadata": {
  "kernelspec": {
   "display_name": "Python 3 (ipykernel)",
   "language": "python",
   "name": "python3"
  },
  "language_info": {
   "codemirror_mode": {
    "name": "ipython",
    "version": 3
   },
   "file_extension": ".py",
   "mimetype": "text/x-python",
   "name": "python",
   "nbconvert_exporter": "python",
   "pygments_lexer": "ipython3",
   "version": "3.9.13"
  }
 },
 "nbformat": 4,
 "nbformat_minor": 5
}
